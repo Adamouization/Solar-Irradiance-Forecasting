{
 "cells": [
  {
   "cell_type": "markdown",
   "id": "b8d68ec2-1aed-4bfc-84c9-a5cd2fcc3876",
   "metadata": {},
   "source": [
    "# 1. Notebook Setup"
   ]
  },
  {
   "cell_type": "markdown",
   "id": "b2aa6fef-76ae-4a81-b0ce-79531af0d766",
   "metadata": {
    "execution": {
     "iopub.execute_input": "2023-08-30T16:37:47.625064Z",
     "iopub.status.busy": "2023-08-30T16:37:47.624652Z",
     "iopub.status.idle": "2023-08-30T16:37:47.630450Z",
     "shell.execute_reply": "2023-08-30T16:37:47.629365Z",
     "shell.execute_reply.started": "2023-08-30T16:37:47.625035Z"
    }
   },
   "source": [
    "https://machinelearningmastery.com/arima-for-time-series-forecasting-with-python/"
   ]
  },
  {
   "cell_type": "markdown",
   "id": "2c467eb5-9aed-47ff-846d-5cfe08bb89bf",
   "metadata": {},
   "source": [
    "Import libraries"
   ]
  },
  {
   "cell_type": "code",
   "execution_count": 7,
   "id": "bdb237cd-329c-4dde-a487-58fcabd32e5c",
   "metadata": {
    "execution": {
     "iopub.execute_input": "2023-08-30T16:34:14.461628Z",
     "iopub.status.busy": "2023-08-30T16:34:14.461200Z",
     "iopub.status.idle": "2023-08-30T16:34:14.466281Z",
     "shell.execute_reply": "2023-08-30T16:34:14.465572Z",
     "shell.execute_reply.started": "2023-08-30T16:34:14.461603Z"
    },
    "tags": []
   },
   "outputs": [],
   "source": [
    "from math import sqrt\n",
    "\n",
    "import matplotlib.pyplot as plt\n",
    "import numpy as np\n",
    "import pandas as pd\n",
    "import pmdarima as pm\n",
    "from pmdarima.arima.stationarity import ADFTest\n",
    "from pmdarima.utils import tsdisplay\n",
    "from sklearn.metrics import mean_absolute_error, mean_squared_error, r2_score\n",
    "from statsmodels.tsa.arima.model import ARIMA\n",
    "from statsmodels.tsa.stattools import adfuller\n",
    "\n",
    "import eda as eda"
   ]
  },
  {
   "cell_type": "markdown",
   "id": "93096682-d3d2-4405-8d9d-ba4a1747f02c",
   "metadata": {
    "tags": []
   },
   "source": [
    "# 2. Loading and Prepare data"
   ]
  },
  {
   "cell_type": "markdown",
   "id": "673dc6a0-cc30-4d46-8993-3f7eeee99af5",
   "metadata": {},
   "source": [
    "Load CSV"
   ]
  },
  {
   "cell_type": "code",
   "execution_count": 8,
   "id": "b6fa2f2a-bdb9-4425-9a73-8ca6e71406c6",
   "metadata": {
    "execution": {
     "iopub.execute_input": "2023-08-30T16:34:14.954657Z",
     "iopub.status.busy": "2023-08-30T16:34:14.954243Z",
     "iopub.status.idle": "2023-08-30T16:34:16.296881Z",
     "shell.execute_reply": "2023-08-30T16:34:16.296037Z",
     "shell.execute_reply.started": "2023-08-30T16:34:14.954630Z"
    },
    "tags": []
   },
   "outputs": [
    {
     "data": {
      "text/html": [
       "<div>\n",
       "<style scoped>\n",
       "    .dataframe tbody tr th:only-of-type {\n",
       "        vertical-align: middle;\n",
       "    }\n",
       "\n",
       "    .dataframe tbody tr th {\n",
       "        vertical-align: top;\n",
       "    }\n",
       "\n",
       "    .dataframe thead th {\n",
       "        text-align: right;\n",
       "    }\n",
       "</style>\n",
       "<table border=\"1\" class=\"dataframe\">\n",
       "  <thead>\n",
       "    <tr style=\"text-align: right;\">\n",
       "      <th></th>\n",
       "      <th>timeStamp</th>\n",
       "      <th>ghi</th>\n",
       "      <th>dni</th>\n",
       "      <th>dhi</th>\n",
       "    </tr>\n",
       "  </thead>\n",
       "  <tbody>\n",
       "    <tr>\n",
       "      <th>0</th>\n",
       "      <td>2014-01-02 08:00:00</td>\n",
       "      <td>0.0</td>\n",
       "      <td>0.0</td>\n",
       "      <td>0.0</td>\n",
       "    </tr>\n",
       "    <tr>\n",
       "      <th>1</th>\n",
       "      <td>2014-01-02 08:01:00</td>\n",
       "      <td>0.0</td>\n",
       "      <td>0.0</td>\n",
       "      <td>0.0</td>\n",
       "    </tr>\n",
       "    <tr>\n",
       "      <th>2</th>\n",
       "      <td>2014-01-02 08:02:00</td>\n",
       "      <td>0.0</td>\n",
       "      <td>0.0</td>\n",
       "      <td>0.0</td>\n",
       "    </tr>\n",
       "    <tr>\n",
       "      <th>3</th>\n",
       "      <td>2014-01-02 08:03:00</td>\n",
       "      <td>0.0</td>\n",
       "      <td>0.0</td>\n",
       "      <td>0.0</td>\n",
       "    </tr>\n",
       "    <tr>\n",
       "      <th>4</th>\n",
       "      <td>2014-01-02 08:04:00</td>\n",
       "      <td>0.0</td>\n",
       "      <td>0.0</td>\n",
       "      <td>0.0</td>\n",
       "    </tr>\n",
       "    <tr>\n",
       "      <th>...</th>\n",
       "      <td>...</td>\n",
       "      <td>...</td>\n",
       "      <td>...</td>\n",
       "      <td>...</td>\n",
       "    </tr>\n",
       "    <tr>\n",
       "      <th>1552315</th>\n",
       "      <td>2016-12-31 07:55:00</td>\n",
       "      <td>0.0</td>\n",
       "      <td>0.0</td>\n",
       "      <td>0.0</td>\n",
       "    </tr>\n",
       "    <tr>\n",
       "      <th>1552316</th>\n",
       "      <td>2016-12-31 07:56:00</td>\n",
       "      <td>0.0</td>\n",
       "      <td>0.0</td>\n",
       "      <td>0.0</td>\n",
       "    </tr>\n",
       "    <tr>\n",
       "      <th>1552317</th>\n",
       "      <td>2016-12-31 07:57:00</td>\n",
       "      <td>0.0</td>\n",
       "      <td>0.0</td>\n",
       "      <td>0.0</td>\n",
       "    </tr>\n",
       "    <tr>\n",
       "      <th>1552318</th>\n",
       "      <td>2016-12-31 07:58:00</td>\n",
       "      <td>0.0</td>\n",
       "      <td>0.0</td>\n",
       "      <td>0.0</td>\n",
       "    </tr>\n",
       "    <tr>\n",
       "      <th>1552319</th>\n",
       "      <td>2016-12-31 07:59:00</td>\n",
       "      <td>0.0</td>\n",
       "      <td>0.0</td>\n",
       "      <td>0.0</td>\n",
       "    </tr>\n",
       "  </tbody>\n",
       "</table>\n",
       "<p>1552320 rows × 4 columns</p>\n",
       "</div>"
      ],
      "text/plain": [
       "                   timeStamp  ghi  dni  dhi\n",
       "0        2014-01-02 08:00:00  0.0  0.0  0.0\n",
       "1        2014-01-02 08:01:00  0.0  0.0  0.0\n",
       "2        2014-01-02 08:02:00  0.0  0.0  0.0\n",
       "3        2014-01-02 08:03:00  0.0  0.0  0.0\n",
       "4        2014-01-02 08:04:00  0.0  0.0  0.0\n",
       "...                      ...  ...  ...  ...\n",
       "1552315  2016-12-31 07:55:00  0.0  0.0  0.0\n",
       "1552316  2016-12-31 07:56:00  0.0  0.0  0.0\n",
       "1552317  2016-12-31 07:57:00  0.0  0.0  0.0\n",
       "1552318  2016-12-31 07:58:00  0.0  0.0  0.0\n",
       "1552319  2016-12-31 07:59:00  0.0  0.0  0.0\n",
       "\n",
       "[1552320 rows x 4 columns]"
      ]
     },
     "execution_count": 8,
     "metadata": {},
     "output_type": "execute_result"
    }
   ],
   "source": [
    "df = pd.read_csv(\"../data/Folsom_irradiance.csv\", infer_datetime_format=True)\n",
    "df"
   ]
  },
  {
   "cell_type": "markdown",
   "id": "af25ef26-bc57-4bd7-ae47-a41240dad188",
   "metadata": {},
   "source": [
    "Convert `timeStamp` to a datetime and set as index"
   ]
  },
  {
   "cell_type": "code",
   "execution_count": 9,
   "id": "c579ead4-3896-4ffe-9983-353f3d7bc6ff",
   "metadata": {
    "execution": {
     "iopub.execute_input": "2023-08-30T16:34:16.298540Z",
     "iopub.status.busy": "2023-08-30T16:34:16.298154Z",
     "iopub.status.idle": "2023-08-30T16:34:16.609117Z",
     "shell.execute_reply": "2023-08-30T16:34:16.608341Z",
     "shell.execute_reply.started": "2023-08-30T16:34:16.298512Z"
    },
    "tags": []
   },
   "outputs": [],
   "source": [
    "df[\"timeStamp\"] = pd.to_datetime(df[\"timeStamp\"])\n",
    "df = df.set_index('timeStamp')"
   ]
  },
  {
   "cell_type": "markdown",
   "id": "f3decfb0-6c06-4f96-a657-0f7be008b14b",
   "metadata": {},
   "source": [
    "Drop other columns (only GHI needed for ARIMA)"
   ]
  },
  {
   "cell_type": "code",
   "execution_count": 10,
   "id": "0442ff51-6a8c-491d-a747-72c4412a1db2",
   "metadata": {
    "execution": {
     "iopub.execute_input": "2023-08-30T16:34:16.610792Z",
     "iopub.status.busy": "2023-08-30T16:34:16.610345Z",
     "iopub.status.idle": "2023-08-30T16:34:16.615362Z",
     "shell.execute_reply": "2023-08-30T16:34:16.614571Z",
     "shell.execute_reply.started": "2023-08-30T16:34:16.610757Z"
    },
    "tags": []
   },
   "outputs": [],
   "source": [
    "df = df[\"ghi\"]"
   ]
  },
  {
   "cell_type": "markdown",
   "id": "cdf75fcb-1b2f-41e2-a9ae-ac096bf8ae71",
   "metadata": {},
   "source": [
    "Split train/test"
   ]
  },
  {
   "cell_type": "code",
   "execution_count": 11,
   "id": "8c9064ac-8b85-4595-8805-9b4299f09846",
   "metadata": {
    "execution": {
     "iopub.execute_input": "2023-08-30T16:34:16.752245Z",
     "iopub.status.busy": "2023-08-30T16:34:16.751643Z",
     "iopub.status.idle": "2023-08-30T16:34:16.788871Z",
     "shell.execute_reply": "2023-08-30T16:34:16.788165Z",
     "shell.execute_reply.started": "2023-08-30T16:34:16.752197Z"
    },
    "tags": []
   },
   "outputs": [],
   "source": [
    "# Split data into train and test based on the years\n",
    "train_start = \"2014-01-01\"\n",
    "validation_start = \"2015-01-01\"\n",
    "test_start = \"2016-01-01\"\n",
    "\n",
    "train_data = df.loc[df.index < validation_start]\n",
    "validation_data = df.loc[(validation_start <= df.index) & (df.index < test_start)]\n",
    "test_data = df.loc[df.index >= test_start]"
   ]
  },
  {
   "cell_type": "markdown",
   "id": "ce176912-c69c-430f-b6d2-90f4254325d2",
   "metadata": {},
   "source": [
    "Ensure no data leakage by checking date range of each sample created"
   ]
  },
  {
   "cell_type": "code",
   "execution_count": 12,
   "id": "1e343818-de49-4d5c-b70f-55b17a1bad70",
   "metadata": {
    "execution": {
     "iopub.execute_input": "2023-08-30T16:34:19.209358Z",
     "iopub.status.busy": "2023-08-30T16:34:19.208950Z",
     "iopub.status.idle": "2023-08-30T16:34:24.271126Z",
     "shell.execute_reply": "2023-08-30T16:34:24.270327Z",
     "shell.execute_reply.started": "2023-08-30T16:34:19.209332Z"
    },
    "tags": []
   },
   "outputs": [
    {
     "name": "stdout",
     "output_type": "stream",
     "text": [
      "Train dataset date ranges = 2014-01-02 08:00:00 to 2014-12-31 23:59:00\n",
      "\n",
      "Validation dataset date ranges = 2015-01-01 00:00:00 to 2015-12-31 07:59:00\n",
      "\n",
      "Test dataset date ranges = 2016-01-01 08:00:00 to 2016-12-31 07:59:00\n",
      "\n"
     ]
    }
   ],
   "source": [
    "eda.print_df_index_date_range(train_data, \"Train\")\n",
    "eda.print_df_index_date_range(validation_data, \"Validation\")\n",
    "eda.print_df_index_date_range(test_data, \"Test\")"
   ]
  },
  {
   "cell_type": "markdown",
   "id": "b63e4eda-816a-42ab-a463-06129e8e8618",
   "metadata": {},
   "source": [
    "Check for missing values in ghi"
   ]
  },
  {
   "cell_type": "code",
   "execution_count": 13,
   "id": "20cb6537-d5a5-437a-bff2-d7359da86589",
   "metadata": {
    "execution": {
     "iopub.execute_input": "2023-08-30T16:34:24.273165Z",
     "iopub.status.busy": "2023-08-30T16:34:24.272716Z",
     "iopub.status.idle": "2023-08-30T16:34:24.278758Z",
     "shell.execute_reply": "2023-08-30T16:34:24.278057Z",
     "shell.execute_reply.started": "2023-08-30T16:34:24.273130Z"
    },
    "tags": []
   },
   "outputs": [],
   "source": [
    "assert df.isnull().any() == False\n",
    "\n",
    "# for c in [\"ghi\", \"dni\", \"dhi\"]:\n",
    "#     df[c]=df[c].fillna(method='ffill')"
   ]
  },
  {
   "cell_type": "markdown",
   "id": "854b6974-0e42-4d84-b4d3-c00bd60ac238",
   "metadata": {},
   "source": [
    "Quickly visualise data"
   ]
  },
  {
   "cell_type": "code",
   "execution_count": 14,
   "id": "a86ac0c8-4572-40a0-bf1b-d2ff0624d871",
   "metadata": {
    "execution": {
     "iopub.execute_input": "2023-08-30T16:34:24.281625Z",
     "iopub.status.busy": "2023-08-30T16:34:24.281330Z",
     "iopub.status.idle": "2023-08-30T16:34:25.970014Z",
     "shell.execute_reply": "2023-08-30T16:34:25.969243Z",
     "shell.execute_reply.started": "2023-08-30T16:34:24.281604Z"
    },
    "tags": []
   },
   "outputs": [
    {
     "name": "stderr",
     "output_type": "stream",
     "text": [
      "/opt/saturncloud/envs/saturn/lib/python3.9/site-packages/pmdarima/utils/visualization.py:220: FutureWarning: the 'unbiased'' keyword is deprecated, use 'adjusted' instead.\n",
      "  res = tsaplots.plot_acf(\n"
     ]
    },
    {
     "data": {
      "image/png": "[encoded data removed]",
      "text/plain": [
       "<Figure size 800x600 with 3 Axes>"
      ]
     },
     "metadata": {},
     "output_type": "display_data"
    }
   ],
   "source": [
    "tsdisplay(train_data, lag_max=100)"
   ]
  },
  {
   "cell_type": "markdown",
   "id": "870bf972-364c-4873-ba34-830f12af71d7",
   "metadata": {},
   "source": [
    "Select data for a single day"
   ]
  },
  {
   "cell_type": "code",
   "execution_count": 31,
   "id": "a29aaeb1-5c1b-4d0d-8c6e-ecee8b3051a4",
   "metadata": {
    "execution": {
     "iopub.execute_input": "2023-08-30T16:37:21.525162Z",
     "iopub.status.busy": "2023-08-30T16:37:21.524729Z",
     "iopub.status.idle": "2023-08-30T16:37:21.533152Z",
     "shell.execute_reply": "2023-08-30T16:37:21.532351Z",
     "shell.execute_reply.started": "2023-08-30T16:37:21.525135Z"
    },
    "tags": []
   },
   "outputs": [
    {
     "data": {
      "text/plain": [
       "timeStamp\n",
       "2014-01-02 08:00:00      0.0\n",
       "2014-01-02 08:01:00      0.0\n",
       "2014-01-02 08:02:00      0.0\n",
       "2014-01-02 08:03:00      0.0\n",
       "2014-01-02 08:04:00      0.0\n",
       "                       ...  \n",
       "2014-01-02 23:55:00    158.8\n",
       "2014-01-02 23:56:00    150.5\n",
       "2014-01-02 23:57:00    137.1\n",
       "2014-01-02 23:58:00    119.0\n",
       "2014-01-02 23:59:00    100.1\n",
       "Name: ghi, Length: 960, dtype: float64"
      ]
     },
     "execution_count": 31,
     "metadata": {},
     "output_type": "execute_result"
    }
   ],
   "source": [
    "train_day = train_data.loc[train_data.index < \"2014-01-03\"]\n",
    "train_day"
   ]
  },
  {
   "cell_type": "code",
   "execution_count": 32,
   "id": "124df10d-cd5e-44c5-8d39-0c7d1b4d1498",
   "metadata": {
    "execution": {
     "iopub.execute_input": "2023-08-30T16:37:30.754658Z",
     "iopub.status.busy": "2023-08-30T16:37:30.754229Z",
     "iopub.status.idle": "2023-08-30T16:37:31.104484Z",
     "shell.execute_reply": "2023-08-30T16:37:31.103655Z",
     "shell.execute_reply.started": "2023-08-30T16:37:30.754630Z"
    },
    "tags": []
   },
   "outputs": [
    {
     "name": "stderr",
     "output_type": "stream",
     "text": [
      "/opt/saturncloud/envs/saturn/lib/python3.9/site-packages/pmdarima/utils/visualization.py:220: FutureWarning: the 'unbiased'' keyword is deprecated, use 'adjusted' instead.\n",
      "  res = tsaplots.plot_acf(\n"
     ]
    },
    {
     "data": {
      "image/png": "[encoded data removed]",
      "text/plain": [
       "<Figure size 800x600 with 3 Axes>"
      ]
     },
     "metadata": {},
     "output_type": "display_data"
    }
   ],
   "source": [
    "tsdisplay(train_day, lag_max=100)"
   ]
  },
  {
   "cell_type": "markdown",
   "id": "2bc2f718-61e5-4bba-836e-4897b8308112",
   "metadata": {},
   "source": [
    "Check if data is stationary over a day: **non-stationary**, will need to use at least a difference order of 1"
   ]
  },
  {
   "cell_type": "markdown",
   "id": "537fbe72-3792-471d-8595-7c7d22e2e6a8",
   "metadata": {},
   "source": [
    "Test for stationarity: Test whether we should difference at the alpha=0.05 significance level"
   ]
  },
  {
   "cell_type": "code",
   "execution_count": 33,
   "id": "91f41fb6-e351-48d0-b6f0-10e643fc7ffe",
   "metadata": {
    "execution": {
     "iopub.execute_input": "2023-08-30T16:37:39.373381Z",
     "iopub.status.busy": "2023-08-30T16:37:39.372965Z",
     "iopub.status.idle": "2023-08-30T16:37:39.406071Z",
     "shell.execute_reply": "2023-08-30T16:37:39.405219Z",
     "shell.execute_reply.started": "2023-08-30T16:37:39.373355Z"
    },
    "tags": []
   },
   "outputs": [
    {
     "name": "stdout",
     "output_type": "stream",
     "text": [
      "Results of Dickey-Fuller Test:\n",
      "Test Statistic                  -0.913091\n",
      "p-value                          0.783631\n",
      "#Lags Used                      15.000000\n",
      "Number of Observations Used    944.000000\n",
      "Critical Value (1%)             -3.437296\n",
      "Critical Value (5%)             -2.864607\n",
      "Critical Value (10%)            -2.568403\n",
      "dtype: float64\n"
     ]
    }
   ],
   "source": [
    "def adf_test(timeseries):\n",
    "    \"\"\"https://www.analyticsvidhya.com/blog/2021/06/statistical-tests-to-check-stationarity-in-time-series-part-1/\"\"\"\n",
    "    print ('Results of Dickey-Fuller Test:')\n",
    "    dftest = adfuller(timeseries, autolag='AIC')\n",
    "    dfoutput = pd.Series(dftest[0:4], index=['Test Statistic','p-value','#Lags Used','Number of Observations Used'])\n",
    "    for key,value in dftest[4].items():\n",
    "        dfoutput['Critical Value (%s)'%key] = value\n",
    "    print (dfoutput)\n",
    "\n",
    "adf_test(train_day)"
   ]
  },
  {
   "cell_type": "code",
   "execution_count": 35,
   "id": "692f6181-c046-446f-af79-83674a753625",
   "metadata": {
    "execution": {
     "iopub.execute_input": "2023-08-30T16:41:09.053212Z",
     "iopub.status.busy": "2023-08-30T16:41:09.052764Z",
     "iopub.status.idle": "2023-08-30T16:41:09.071156Z",
     "shell.execute_reply": "2023-08-30T16:41:09.070140Z",
     "shell.execute_reply.started": "2023-08-30T16:41:09.053183Z"
    },
    "tags": []
   },
   "outputs": [
    {
     "name": "stdout",
     "output_type": "stream",
     "text": [
      "p_val = 0.99 (Should differentiate: True)\n"
     ]
    }
   ],
   "source": [
    "adf_test = ADFTest(alpha=0.05)\n",
    "p_val, should_diff = adf_test.should_diff(train_day)  # (0.01, False)\n",
    "\n",
    "print(f\"p_val = {p_val} (Should differentiate: {should_diff})\")"
   ]
  },
  {
   "cell_type": "markdown",
   "id": "578f269c-5730-4378-aa64-0e76dd0f8350",
   "metadata": {},
   "source": [
    "Check autocorrelation"
   ]
  },
  {
   "cell_type": "code",
   "execution_count": 37,
   "id": "7f997ea3-58a1-4ac3-9878-97ed7d89bcc7",
   "metadata": {
    "execution": {
     "iopub.execute_input": "2023-08-30T16:44:46.824429Z",
     "iopub.status.busy": "2023-08-30T16:44:46.824043Z",
     "iopub.status.idle": "2023-08-30T16:44:46.947326Z",
     "shell.execute_reply": "2023-08-30T16:44:46.946551Z",
     "shell.execute_reply.started": "2023-08-30T16:44:46.824405Z"
    },
    "tags": []
   },
   "outputs": [
    {
     "data": {
      "image/png": "[encoded data removed]",
      "text/plain": [
       "<Figure size 640x480 with 1 Axes>"
      ]
     },
     "metadata": {},
     "output_type": "display_data"
    }
   ],
   "source": [
    "pd.plotting.autocorrelation_plot(train_day)\n",
    "plt.show()"
   ]
  },
  {
   "cell_type": "markdown",
   "id": "4c411f3c-4203-476f-93e5-dc687b667574",
   "metadata": {},
   "source": [
    "# 3. Train ARIMA Model"
   ]
  },
  {
   "cell_type": "markdown",
   "id": "db7b30bd-2dc7-43de-9d19-adb3fb9fbfc1",
   "metadata": {},
   "source": [
    "Set the frequency correctly by creating a new date range with a frequency of 'T' and then reindexing your data"
   ]
  },
  {
   "cell_type": "code",
   "execution_count": 38,
   "id": "323c8bb7-0f7a-4643-a704-dcfd7c478b54",
   "metadata": {
    "execution": {
     "iopub.execute_input": "2023-08-30T16:46:09.378322Z",
     "iopub.status.busy": "2023-08-30T16:46:09.377932Z",
     "iopub.status.idle": "2023-08-30T16:46:09.382770Z",
     "shell.execute_reply": "2023-08-30T16:46:09.382093Z",
     "shell.execute_reply.started": "2023-08-30T16:46:09.378298Z"
    },
    "tags": []
   },
   "outputs": [],
   "source": [
    "# Create a new date range with frequency 'T'\n",
    "date_range_train = pd.date_range(start=train_day.index[0], periods=len(train_data), freq='T')\n",
    "# date_range_test = pd.date_range(start=test_data.index[0], periods=len(test_data), freq='T')\n",
    "\n",
    "# Set the new date range as the index for the data\n",
    "train_data.index = date_range_train\n",
    "# test_data.index = date_range_test"
   ]
  },
  {
   "cell_type": "markdown",
   "id": "f7ab9c40-aefa-4f37-b91d-88a2ea2b9ee7",
   "metadata": {},
   "source": [
    "Fit ARIMA model (takes ~30 seconds)"
   ]
  },
  {
   "cell_type": "code",
   "execution_count": 40,
   "id": "83352a8b-f596-4440-9589-b5af95a46fd0",
   "metadata": {
    "execution": {
     "iopub.execute_input": "2023-08-30T16:46:34.990671Z",
     "iopub.status.busy": "2023-08-30T16:46:34.990279Z",
     "iopub.status.idle": "2023-08-30T16:46:35.152866Z",
     "shell.execute_reply": "2023-08-30T16:46:35.151822Z",
     "shell.execute_reply.started": "2023-08-30T16:46:34.990645Z"
    },
    "tags": []
   },
   "outputs": [
    {
     "name": "stderr",
     "output_type": "stream",
     "text": [
      "/opt/saturncloud/envs/saturn/lib/python3.9/site-packages/statsmodels/tsa/base/tsa_model.py:473: ValueWarning: No frequency information was provided, so inferred frequency T will be used.\n",
      "  self._init_dates(dates, freq)\n",
      "/opt/saturncloud/envs/saturn/lib/python3.9/site-packages/statsmodels/tsa/base/tsa_model.py:473: ValueWarning: No frequency information was provided, so inferred frequency T will be used.\n",
      "  self._init_dates(dates, freq)\n",
      "/opt/saturncloud/envs/saturn/lib/python3.9/site-packages/statsmodels/tsa/base/tsa_model.py:473: ValueWarning: No frequency information was provided, so inferred frequency T will be used.\n",
      "  self._init_dates(dates, freq)\n"
     ]
    }
   ],
   "source": [
    "model = ARIMA(train_day, order=(5, 1, 0))  # ARIMA print_df_index_date_range order\n",
    "model_fit = model.fit()"
   ]
  },
  {
   "cell_type": "code",
   "execution_count": 42,
   "id": "c6074932-e562-4b77-bf31-02d2fcd62a0b",
   "metadata": {
    "execution": {
     "iopub.execute_input": "2023-08-30T16:46:50.668936Z",
     "iopub.status.busy": "2023-08-30T16:46:50.668511Z",
     "iopub.status.idle": "2023-08-30T16:46:50.694975Z",
     "shell.execute_reply": "2023-08-30T16:46:50.694277Z",
     "shell.execute_reply.started": "2023-08-30T16:46:50.668911Z"
    },
    "tags": []
   },
   "outputs": [
    {
     "name": "stderr",
     "output_type": "stream",
     "text": [
      "/opt/saturncloud/envs/saturn/lib/python3.9/site-packages/statsmodels/tsa/stattools.py:1363: RuntimeWarning: divide by zero encountered in true_divide\n",
      "  test_statistic = numer_squared_sum / denom_squared_sum\n"
     ]
    },
    {
     "data": {
      "text/html": [
       "<table class=\"simpletable\">\n",
       "<caption>SARIMAX Results</caption>\n",
       "<tr>\n",
       "  <th>Dep. Variable:</th>          <td>ghi</td>       <th>  No. Observations:  </th>    <td>960</td>   \n",
       "</tr>\n",
       "<tr>\n",
       "  <th>Model:</th>            <td>ARIMA(5, 1, 0)</td>  <th>  Log Likelihood     </th> <td>-3261.025</td>\n",
       "</tr>\n",
       "<tr>\n",
       "  <th>Date:</th>            <td>Wed, 30 Aug 2023</td> <th>  AIC                </th> <td>6534.051</td> \n",
       "</tr>\n",
       "<tr>\n",
       "  <th>Time:</th>                <td>16:46:50</td>     <th>  BIC                </th> <td>6563.246</td> \n",
       "</tr>\n",
       "<tr>\n",
       "  <th>Sample:</th>             <td>01-02-2014</td>    <th>  HQIC               </th> <td>6545.170</td> \n",
       "</tr>\n",
       "<tr>\n",
       "  <th></th>                   <td>- 01-02-2014</td>   <th>                     </th>     <td> </td>    \n",
       "</tr>\n",
       "<tr>\n",
       "  <th>Covariance Type:</th>        <td>opg</td>       <th>                     </th>     <td> </td>    \n",
       "</tr>\n",
       "</table>\n",
       "<table class=\"simpletable\">\n",
       "<tr>\n",
       "     <td></td>       <th>coef</th>     <th>std err</th>      <th>z</th>      <th>P>|z|</th>  <th>[0.025</th>    <th>0.975]</th>  \n",
       "</tr>\n",
       "<tr>\n",
       "  <th>ar.L1</th>  <td>    0.3580</td> <td>    0.013</td> <td>   27.708</td> <td> 0.000</td> <td>    0.333</td> <td>    0.383</td>\n",
       "</tr>\n",
       "<tr>\n",
       "  <th>ar.L2</th>  <td>   -0.3433</td> <td>    0.017</td> <td>  -20.575</td> <td> 0.000</td> <td>   -0.376</td> <td>   -0.311</td>\n",
       "</tr>\n",
       "<tr>\n",
       "  <th>ar.L3</th>  <td>    0.0077</td> <td>    0.017</td> <td>    0.452</td> <td> 0.652</td> <td>   -0.026</td> <td>    0.041</td>\n",
       "</tr>\n",
       "<tr>\n",
       "  <th>ar.L4</th>  <td>    0.0272</td> <td>    0.025</td> <td>    1.090</td> <td> 0.276</td> <td>   -0.022</td> <td>    0.076</td>\n",
       "</tr>\n",
       "<tr>\n",
       "  <th>ar.L5</th>  <td>    0.0064</td> <td>    0.022</td> <td>    0.289</td> <td> 0.772</td> <td>   -0.037</td> <td>    0.049</td>\n",
       "</tr>\n",
       "<tr>\n",
       "  <th>sigma2</th> <td>   52.5974</td> <td>    0.856</td> <td>   61.440</td> <td> 0.000</td> <td>   50.919</td> <td>   54.275</td>\n",
       "</tr>\n",
       "</table>\n",
       "<table class=\"simpletable\">\n",
       "<tr>\n",
       "  <th>Ljung-Box (L1) (Q):</th>     <td>0.00</td> <th>  Jarque-Bera (JB):  </th> <td>14952.12</td>\n",
       "</tr>\n",
       "<tr>\n",
       "  <th>Prob(Q):</th>                <td>0.99</td> <th>  Prob(JB):          </th>   <td>0.00</td>  \n",
       "</tr>\n",
       "<tr>\n",
       "  <th>Heteroskedasticity (H):</th>  <td>inf</td> <th>  Skew:              </th>   <td>0.04</td>  \n",
       "</tr>\n",
       "<tr>\n",
       "  <th>Prob(H) (two-sided):</th>    <td>0.00</td> <th>  Kurtosis:          </th>   <td>22.34</td> \n",
       "</tr>\n",
       "</table><br/><br/>Warnings:<br/>[1] Covariance matrix calculated using the outer product of gradients (complex-step)."
      ],
      "text/latex": [
       "\\begin{center}\n",
       "\\begin{tabular}{lclc}\n",
       "\\toprule\n",
       "\\textbf{Dep. Variable:}          &       ghi        & \\textbf{  No. Observations:  } &    960      \\\\\n",
       "\\textbf{Model:}                  &  ARIMA(5, 1, 0)  & \\textbf{  Log Likelihood     } & -3261.025   \\\\\n",
       "\\textbf{Date:}                   & Wed, 30 Aug 2023 & \\textbf{  AIC                } &  6534.051   \\\\\n",
       "\\textbf{Time:}                   &     16:46:50     & \\textbf{  BIC                } &  6563.246   \\\\\n",
       "\\textbf{Sample:}                 &    01-02-2014    & \\textbf{  HQIC               } &  6545.170   \\\\\n",
       "\\textbf{}                        &   - 01-02-2014   & \\textbf{                     } &             \\\\\n",
       "\\textbf{Covariance Type:}        &       opg        & \\textbf{                     } &             \\\\\n",
       "\\bottomrule\n",
       "\\end{tabular}\n",
       "\\begin{tabular}{lcccccc}\n",
       "                & \\textbf{coef} & \\textbf{std err} & \\textbf{z} & \\textbf{P$> |$z$|$} & \\textbf{[0.025} & \\textbf{0.975]}  \\\\\n",
       "\\midrule\n",
       "\\textbf{ar.L1}  &       0.3580  &        0.013     &    27.708  &         0.000        &        0.333    &        0.383     \\\\\n",
       "\\textbf{ar.L2}  &      -0.3433  &        0.017     &   -20.575  &         0.000        &       -0.376    &       -0.311     \\\\\n",
       "\\textbf{ar.L3}  &       0.0077  &        0.017     &     0.452  &         0.652        &       -0.026    &        0.041     \\\\\n",
       "\\textbf{ar.L4}  &       0.0272  &        0.025     &     1.090  &         0.276        &       -0.022    &        0.076     \\\\\n",
       "\\textbf{ar.L5}  &       0.0064  &        0.022     &     0.289  &         0.772        &       -0.037    &        0.049     \\\\\n",
       "\\textbf{sigma2} &      52.5974  &        0.856     &    61.440  &         0.000        &       50.919    &       54.275     \\\\\n",
       "\\bottomrule\n",
       "\\end{tabular}\n",
       "\\begin{tabular}{lclc}\n",
       "\\textbf{Ljung-Box (L1) (Q):}     & 0.00 & \\textbf{  Jarque-Bera (JB):  } & 14952.12  \\\\\n",
       "\\textbf{Prob(Q):}                & 0.99 & \\textbf{  Prob(JB):          } &   0.00    \\\\\n",
       "\\textbf{Heteroskedasticity (H):} & inf  & \\textbf{  Skew:              } &   0.04    \\\\\n",
       "\\textbf{Prob(H) (two-sided):}    & 0.00 & \\textbf{  Kurtosis:          } &  22.34    \\\\\n",
       "\\bottomrule\n",
       "\\end{tabular}\n",
       "%\\caption{SARIMAX Results}\n",
       "\\end{center}\n",
       "\n",
       "Warnings: \\newline\n",
       " [1] Covariance matrix calculated using the outer product of gradients (complex-step)."
      ],
      "text/plain": [
       "<class 'statsmodels.iolib.summary.Summary'>\n",
       "\"\"\"\n",
       "                               SARIMAX Results                                \n",
       "==============================================================================\n",
       "Dep. Variable:                    ghi   No. Observations:                  960\n",
       "Model:                 ARIMA(5, 1, 0)   Log Likelihood               -3261.025\n",
       "Date:                Wed, 30 Aug 2023   AIC                           6534.051\n",
       "Time:                        16:46:50   BIC                           6563.246\n",
       "Sample:                    01-02-2014   HQIC                          6545.170\n",
       "                         - 01-02-2014                                         \n",
       "Covariance Type:                  opg                                         \n",
       "==============================================================================\n",
       "                 coef    std err          z      P>|z|      [0.025      0.975]\n",
       "------------------------------------------------------------------------------\n",
       "ar.L1          0.3580      0.013     27.708      0.000       0.333       0.383\n",
       "ar.L2         -0.3433      0.017    -20.575      0.000      -0.376      -0.311\n",
       "ar.L3          0.0077      0.017      0.452      0.652      -0.026       0.041\n",
       "ar.L4          0.0272      0.025      1.090      0.276      -0.022       0.076\n",
       "ar.L5          0.0064      0.022      0.289      0.772      -0.037       0.049\n",
       "sigma2        52.5974      0.856     61.440      0.000      50.919      54.275\n",
       "===================================================================================\n",
       "Ljung-Box (L1) (Q):                   0.00   Jarque-Bera (JB):             14952.12\n",
       "Prob(Q):                              0.99   Prob(JB):                         0.00\n",
       "Heteroskedasticity (H):                inf   Skew:                             0.04\n",
       "Prob(H) (two-sided):                  0.00   Kurtosis:                        22.34\n",
       "===================================================================================\n",
       "\n",
       "Warnings:\n",
       "[1] Covariance matrix calculated using the outer product of gradients (complex-step).\n",
       "\"\"\""
      ]
     },
     "execution_count": 42,
     "metadata": {},
     "output_type": "execute_result"
    }
   ],
   "source": [
    "model_fit.summary()"
   ]
  },
  {
   "cell_type": "code",
   "execution_count": 45,
   "id": "ff76f346-0d16-43c6-8612-a6032823e35f",
   "metadata": {
    "execution": {
     "iopub.execute_input": "2023-08-30T16:47:50.971511Z",
     "iopub.status.busy": "2023-08-30T16:47:50.971124Z",
     "iopub.status.idle": "2023-08-30T16:47:51.222584Z",
     "shell.execute_reply": "2023-08-30T16:47:51.221773Z",
     "shell.execute_reply.started": "2023-08-30T16:47:50.971486Z"
    },
    "tags": []
   },
   "outputs": [
    {
     "data": {
      "image/png": "[encoded data removed]",
      "text/plain": [
       "<Figure size 640x480 with 1 Axes>"
      ]
     },
     "metadata": {},
     "output_type": "display_data"
    },
    {
     "data": {
      "image/png": "[encoded data removed]",
      "text/plain": [
       "<Figure size 640x480 with 1 Axes>"
      ]
     },
     "metadata": {},
     "output_type": "display_data"
    },
    {
     "name": "stdout",
     "output_type": "stream",
     "text": [
      "                0\n",
      "count  960.000000\n",
      "mean     0.102160\n",
      "std      7.251670\n",
      "min    -66.233742\n",
      "25%      0.000000\n",
      "50%      0.000000\n",
      "75%      0.687368\n",
      "max     53.771448\n"
     ]
    }
   ],
   "source": [
    "residuals = pd.DataFrame(model_fit.resid)\n",
    "residuals.plot()\n",
    "plt.show()\n",
    "\n",
    "residuals.plot(kind='kde')\n",
    "plt.show()\n",
    "\n",
    "print(residuals.describe())"
   ]
  },
  {
   "cell_type": "code",
   "execution_count": 10,
   "id": "67edb363-20a8-4e42-b8bd-86da103e0c76",
   "metadata": {
    "execution": {
     "iopub.execute_input": "2023-08-24T07:05:36.884450Z",
     "iopub.status.busy": "2023-08-24T07:05:36.884166Z",
     "iopub.status.idle": "2023-08-24T07:05:36.887704Z",
     "shell.execute_reply": "2023-08-24T07:05:36.887001Z",
     "shell.execute_reply.started": "2023-08-24T07:05:36.884429Z"
    },
    "tags": []
   },
   "outputs": [],
   "source": [
    "# model = pm.auto_arima(train_data['ghi'], \n",
    "#                       m=12, \n",
    "#                       seasonal=True,\n",
    "#                       start_p=0, \n",
    "#                       start_q=0, \n",
    "#                       max_order=4, \n",
    "#                       test='adf',\n",
    "#                       error_action='ignore',  \n",
    "#                       suppress_warnings=True,\n",
    "#                       stepwise=True, \n",
    "#                       trace=True)"
   ]
  },
  {
   "cell_type": "markdown",
   "id": "1354799c-c21a-4b96-a56f-906af46db38f",
   "metadata": {},
   "source": [
    "Auto ARIMA"
   ]
  },
  {
   "cell_type": "code",
   "execution_count": null,
   "id": "e3f21519-3bf0-4c64-a626-fcd02e1d9665",
   "metadata": {
    "execution": {
     "iopub.execute_input": "2023-08-24T21:33:25.227488Z",
     "iopub.status.busy": "2023-08-24T21:33:25.227073Z"
    },
    "tags": []
   },
   "outputs": [
    {
     "name": "stderr",
     "output_type": "stream",
     "text": [
      "/opt/saturncloud/envs/saturn/lib/python3.9/site-packages/pmdarima/arima/_validation.py:76: UserWarning: stepwise model cannot be fit in parallel (n_jobs=1). Falling back to stepwise parameter search.\n",
      "  warnings.warn('stepwise model cannot be fit in parallel (n_jobs=%i). '\n"
     ]
    }
   ],
   "source": [
    "# Find the best (p, d, q) values using auto_arima\n",
    "MAX_ITER = 1\n",
    "with pm.arima.StepwiseContext(max_dur=MAX_ITER):\n",
    "    best_model = pm.auto_arima(train_data, \n",
    "                               m=1440, # 24x60x365.25 for daily data with annual seasonality\n",
    "                               seasonal=True, \n",
    "                               suppress_warnings=True, \n",
    "                               stepwise=True,\n",
    "                               # n_jobs=-1,\n",
    "                               maxiter=MAX_ITER,\n",
    "                               error_action='ignore',\n",
    "                               random_state=42,\n",
    "                               D=0)\n",
    "    best_p, best_d, best_q = best_model.order\n",
    "\n",
    "# # Fit the ARIMA model with the best (p, d, q) values\n",
    "# model = ARIMA(train_data, order=(best_p, best_d, best_q))\n",
    "# model_fit = model.fit()\n",
    "\n",
    "# # Make predictions and plot\n",
    "# forecast = model_fit.forecast(steps=len(test_data))\n",
    "# prediction_df = pd.DataFrame(data=forecast, index=test_data.index, columns=['Prediction'])\n",
    "\n",
    "# plt.figure(figsize=(12, 6))\n",
    "# plt.plot(prediction_df['Prediction'], label='Prediction')\n",
    "# plt.plot(test_data, label='Actual')\n",
    "# plt.xlabel('Time')\n",
    "# plt.ylabel('Solar Irradiance')\n",
    "# plt.title('ARIMA Model Predictions vs Actual')\n",
    "# plt.legend()\n",
    "# plt.show()"
   ]
  },
  {
   "cell_type": "markdown",
   "id": "6b295ff1-648b-4728-a4ac-a9c050e080e8",
   "metadata": {},
   "source": [
    "Grid Search"
   ]
  },
  {
   "cell_type": "code",
   "execution_count": 22,
   "id": "d0623bdd-a36a-40c6-87e8-07cb98b078c7",
   "metadata": {
    "execution": {
     "iopub.execute_input": "2023-08-24T21:48:24.735664Z",
     "iopub.status.busy": "2023-08-24T21:48:24.735275Z",
     "iopub.status.idle": "2023-08-24T21:48:24.744168Z",
     "shell.execute_reply": "2023-08-24T21:48:24.743344Z",
     "shell.execute_reply.started": "2023-08-24T21:48:24.735640Z"
    },
    "tags": []
   },
   "outputs": [
    {
     "data": {
      "text/html": [
       "<div>\n",
       "<style scoped>\n",
       "    .dataframe tbody tr th:only-of-type {\n",
       "        vertical-align: middle;\n",
       "    }\n",
       "\n",
       "    .dataframe tbody tr th {\n",
       "        vertical-align: top;\n",
       "    }\n",
       "\n",
       "    .dataframe thead th {\n",
       "        text-align: right;\n",
       "    }\n",
       "</style>\n",
       "<table border=\"1\" class=\"dataframe\">\n",
       "  <thead>\n",
       "    <tr style=\"text-align: right;\">\n",
       "      <th></th>\n",
       "      <th>Params (p, d, q)</th>\n",
       "      <th>MAE</th>\n",
       "      <th>RMSE</th>\n",
       "      <th>R2</th>\n",
       "    </tr>\n",
       "  </thead>\n",
       "  <tbody>\n",
       "  </tbody>\n",
       "</table>\n",
       "</div>"
      ],
      "text/plain": [
       "Empty DataFrame\n",
       "Columns: [Params (p, d, q), MAE, RMSE, R2]\n",
       "Index: []"
      ]
     },
     "execution_count": 22,
     "metadata": {},
     "output_type": "execute_result"
    }
   ],
   "source": []
  },
  {
   "cell_type": "code",
   "execution_count": 25,
   "id": "b383c3e7-1738-4110-bdbf-3085c480fc56",
   "metadata": {
    "execution": {
     "iopub.execute_input": "2023-08-24T21:49:07.101173Z",
     "iopub.status.busy": "2023-08-24T21:49:07.100763Z",
     "iopub.status.idle": "2023-08-24T21:49:07.122107Z",
     "shell.execute_reply": "2023-08-24T21:49:07.121295Z",
     "shell.execute_reply.started": "2023-08-24T21:49:07.101143Z"
    },
    "tags": []
   },
   "outputs": [
    {
     "name": "stderr",
     "output_type": "stream",
     "text": [
      "/tmp/ipykernel_27541/2462260793.py:1: FutureWarning: The frame.append method is deprecated and will be removed from pandas in a future version. Use pandas.concat instead.\n",
      "  df_gs.append({\n"
     ]
    },
    {
     "data": {
      "text/html": [
       "<div>\n",
       "<style scoped>\n",
       "    .dataframe tbody tr th:only-of-type {\n",
       "        vertical-align: middle;\n",
       "    }\n",
       "\n",
       "    .dataframe tbody tr th {\n",
       "        vertical-align: top;\n",
       "    }\n",
       "\n",
       "    .dataframe thead th {\n",
       "        text-align: right;\n",
       "    }\n",
       "</style>\n",
       "<table border=\"1\" class=\"dataframe\">\n",
       "  <thead>\n",
       "    <tr style=\"text-align: right;\">\n",
       "      <th></th>\n",
       "      <th>Params (p, d, q)</th>\n",
       "      <th>MAE</th>\n",
       "      <th>RMSE</th>\n",
       "      <th>R2</th>\n",
       "    </tr>\n",
       "  </thead>\n",
       "  <tbody>\n",
       "    <tr>\n",
       "      <th>0</th>\n",
       "      <td>0</td>\n",
       "      <td>0</td>\n",
       "      <td>0</td>\n",
       "      <td>0</td>\n",
       "    </tr>\n",
       "  </tbody>\n",
       "</table>\n",
       "</div>"
      ],
      "text/plain": [
       "  Params (p, d, q) MAE RMSE R2\n",
       "0                0   0    0  0"
      ]
     },
     "execution_count": 25,
     "metadata": {},
     "output_type": "execute_result"
    }
   ],
   "source": []
  },
  {
   "cell_type": "code",
   "execution_count": 29,
   "id": "23ba31f2-8e40-46d8-a949-8524b4758926",
   "metadata": {
    "execution": {
     "iopub.execute_input": "2023-08-24T21:56:48.433397Z",
     "iopub.status.busy": "2023-08-24T21:56:48.433017Z",
     "iopub.status.idle": "2023-08-25T02:54:24.854232Z",
     "shell.execute_reply": "2023-08-25T02:54:24.853657Z",
     "shell.execute_reply.started": "2023-08-24T21:56:48.433368Z"
    },
    "tags": []
   },
   "outputs": [
    {
     "name": "stdout",
     "output_type": "stream",
     "text": [
      "Trying: (0, 0, 0)\n",
      "{'Params (p, d, q)': (0, 0, 0), 'MAE': 246.97520390922034, 'RMSE': 293.36623938238824, 'R2': -0.00010237767331955361}\n",
      "Trying: (0, 0, 1)\n"
     ]
    },
    {
     "name": "stderr",
     "output_type": "stream",
     "text": [
      "/tmp/ipykernel_27541/576037720.py:26: FutureWarning: The frame.append method is deprecated and will be removed from pandas in a future version. Use pandas.concat instead.\n",
      "  df_gs.append(iter_results_dict, ignore_index=True)\n",
      "/opt/saturncloud/envs/saturn/lib/python3.9/site-packages/statsmodels/tsa/statespace/sarimax.py:978: UserWarning: Non-invertible starting MA parameters found. Using zeros as starting parameters.\n",
      "  warn('Non-invertible starting MA parameters found.'\n"
     ]
    },
    {
     "name": "stdout",
     "output_type": "stream",
     "text": [
      "{'Params (p, d, q)': (0, 0, 1), 'MAE': 246.97511621894193, 'RMSE': 293.3662223159979, 'R2': -0.00010226131271129368}\n",
      "Trying: (0, 0, 2)\n"
     ]
    },
    {
     "name": "stderr",
     "output_type": "stream",
     "text": [
      "/tmp/ipykernel_27541/576037720.py:26: FutureWarning: The frame.append method is deprecated and will be removed from pandas in a future version. Use pandas.concat instead.\n",
      "  df_gs.append(iter_results_dict, ignore_index=True)\n"
     ]
    },
    {
     "name": "stdout",
     "output_type": "stream",
     "text": [
      "{'Params (p, d, q)': (0, 0, 2), 'MAE': 246.9750318820293, 'RMSE': 293.3662044347482, 'R2': -0.00010213939630565605}\n",
      "Trying: (0, 0, 3)\n"
     ]
    },
    {
     "name": "stderr",
     "output_type": "stream",
     "text": [
      "/tmp/ipykernel_27541/576037720.py:26: FutureWarning: The frame.append method is deprecated and will be removed from pandas in a future version. Use pandas.concat instead.\n",
      "  df_gs.append(iter_results_dict, ignore_index=True)\n"
     ]
    },
    {
     "name": "stdout",
     "output_type": "stream",
     "text": [
      "{'Params (p, d, q)': (0, 0, 3), 'MAE': 246.97504083222353, 'RMSE': 293.36620620652724, 'R2': -0.00010215147649716982}\n",
      "Trying: (0, 0, 4)\n"
     ]
    },
    {
     "name": "stderr",
     "output_type": "stream",
     "text": [
      "/tmp/ipykernel_27541/576037720.py:26: FutureWarning: The frame.append method is deprecated and will be removed from pandas in a future version. Use pandas.concat instead.\n",
      "  df_gs.append(iter_results_dict, ignore_index=True)\n"
     ]
    },
    {
     "name": "stdout",
     "output_type": "stream",
     "text": [
      "{'Params (p, d, q)': (0, 0, 4), 'MAE': 246.97484512102363, 'RMSE': 293.36617373749016, 'R2': -0.00010193009890580029}\n",
      "Trying: (0, 0, 5)\n"
     ]
    },
    {
     "name": "stderr",
     "output_type": "stream",
     "text": [
      "/tmp/ipykernel_27541/576037720.py:26: FutureWarning: The frame.append method is deprecated and will be removed from pandas in a future version. Use pandas.concat instead.\n",
      "  df_gs.append(iter_results_dict, ignore_index=True)\n"
     ]
    },
    {
     "name": "stdout",
     "output_type": "stream",
     "text": [
      "{'Params (p, d, q)': (0, 0, 5), 'MAE': 246.97489072963236, 'RMSE': 293.366177445155, 'R2': -0.00010195537818580291}\n",
      "Trying: (0, 1, 0)\n"
     ]
    },
    {
     "name": "stderr",
     "output_type": "stream",
     "text": [
      "/tmp/ipykernel_27541/576037720.py:26: FutureWarning: The frame.append method is deprecated and will be removed from pandas in a future version. Use pandas.concat instead.\n",
      "  df_gs.append(iter_results_dict, ignore_index=True)\n"
     ]
    },
    {
     "name": "stdout",
     "output_type": "stream",
     "text": [
      "{'Params (p, d, q)': (0, 1, 0), 'MAE': 223.88958522553511, 'RMSE': 304.79576077132856, 'R2': -0.07954819857091433}\n",
      "Trying: (0, 1, 1)\n"
     ]
    },
    {
     "name": "stderr",
     "output_type": "stream",
     "text": [
      "/tmp/ipykernel_27541/576037720.py:26: FutureWarning: The frame.append method is deprecated and will be removed from pandas in a future version. Use pandas.concat instead.\n",
      "  df_gs.append(iter_results_dict, ignore_index=True)\n"
     ]
    },
    {
     "name": "stdout",
     "output_type": "stream",
     "text": [
      "{'Params (p, d, q)': (0, 1, 1), 'MAE': 223.87543510837622, 'RMSE': 304.8136564298194, 'R2': -0.07967497062960605}\n",
      "Trying: (0, 1, 2)\n"
     ]
    },
    {
     "name": "stderr",
     "output_type": "stream",
     "text": [
      "/tmp/ipykernel_27541/576037720.py:26: FutureWarning: The frame.append method is deprecated and will be removed from pandas in a future version. Use pandas.concat instead.\n",
      "  df_gs.append(iter_results_dict, ignore_index=True)\n"
     ]
    },
    {
     "name": "stdout",
     "output_type": "stream",
     "text": [
      "{'Params (p, d, q)': (0, 1, 2), 'MAE': 224.83842039715907, 'RMSE': 303.6426428026891, 'R2': -0.07139525286568826}\n",
      "Trying: (0, 1, 3)\n"
     ]
    },
    {
     "name": "stderr",
     "output_type": "stream",
     "text": [
      "/tmp/ipykernel_27541/576037720.py:26: FutureWarning: The frame.append method is deprecated and will be removed from pandas in a future version. Use pandas.concat instead.\n",
      "  df_gs.append(iter_results_dict, ignore_index=True)\n"
     ]
    },
    {
     "name": "stdout",
     "output_type": "stream",
     "text": [
      "{'Params (p, d, q)': (0, 1, 3), 'MAE': 225.9937812483241, 'RMSE': 302.35375795387415, 'R2': -0.06231896303729356}\n",
      "Trying: (0, 1, 4)\n"
     ]
    },
    {
     "name": "stderr",
     "output_type": "stream",
     "text": [
      "/tmp/ipykernel_27541/576037720.py:26: FutureWarning: The frame.append method is deprecated and will be removed from pandas in a future version. Use pandas.concat instead.\n",
      "  df_gs.append(iter_results_dict, ignore_index=True)\n"
     ]
    },
    {
     "name": "stdout",
     "output_type": "stream",
     "text": [
      "{'Params (p, d, q)': (0, 1, 4), 'MAE': 226.75355492644903, 'RMSE': 301.57011026742407, 'R2': -0.0568194119313683}\n",
      "Trying: (0, 1, 5)\n"
     ]
    },
    {
     "name": "stderr",
     "output_type": "stream",
     "text": [
      "/tmp/ipykernel_27541/576037720.py:26: FutureWarning: The frame.append method is deprecated and will be removed from pandas in a future version. Use pandas.concat instead.\n",
      "  df_gs.append(iter_results_dict, ignore_index=True)\n"
     ]
    },
    {
     "name": "stdout",
     "output_type": "stream",
     "text": [
      "{'Params (p, d, q)': (0, 1, 5), 'MAE': 227.4629951440564, 'RMSE': 300.8815141711326, 'R2': -0.051998702796907104}\n",
      "Trying: (1, 0, 0)\n"
     ]
    },
    {
     "name": "stderr",
     "output_type": "stream",
     "text": [
      "/tmp/ipykernel_27541/576037720.py:26: FutureWarning: The frame.append method is deprecated and will be removed from pandas in a future version. Use pandas.concat instead.\n",
      "  df_gs.append(iter_results_dict, ignore_index=True)\n"
     ]
    },
    {
     "name": "stdout",
     "output_type": "stream",
     "text": [
      "{'Params (p, d, q)': (1, 0, 0), 'MAE': 246.93512289732325, 'RMSE': 293.3413119225779, 'R2': 6.757339344953817e-05}\n",
      "Trying: (1, 0, 1)\n"
     ]
    },
    {
     "name": "stderr",
     "output_type": "stream",
     "text": [
      "/tmp/ipykernel_27541/576037720.py:26: FutureWarning: The frame.append method is deprecated and will be removed from pandas in a future version. Use pandas.concat instead.\n",
      "  df_gs.append(iter_results_dict, ignore_index=True)\n"
     ]
    },
    {
     "name": "stdout",
     "output_type": "stream",
     "text": [
      "{'Params (p, d, q)': (1, 0, 1), 'MAE': 246.93587235246352, 'RMSE': 293.34178830312607, 'R2': 6.432564944014452e-05}\n",
      "Trying: (1, 0, 2)\n"
     ]
    },
    {
     "name": "stderr",
     "output_type": "stream",
     "text": [
      "/tmp/ipykernel_27541/576037720.py:26: FutureWarning: The frame.append method is deprecated and will be removed from pandas in a future version. Use pandas.concat instead.\n",
      "  df_gs.append(iter_results_dict, ignore_index=True)\n"
     ]
    },
    {
     "name": "stdout",
     "output_type": "stream",
     "text": [
      "{'Params (p, d, q)': (1, 0, 2), 'MAE': 246.9158688796584, 'RMSE': 293.32924990563015, 'R2': 0.00014980493337590772}\n",
      "Trying: (1, 0, 3)\n"
     ]
    },
    {
     "name": "stderr",
     "output_type": "stream",
     "text": [
      "/tmp/ipykernel_27541/576037720.py:26: FutureWarning: The frame.append method is deprecated and will be removed from pandas in a future version. Use pandas.concat instead.\n",
      "  df_gs.append(iter_results_dict, ignore_index=True)\n"
     ]
    },
    {
     "name": "stdout",
     "output_type": "stream",
     "text": [
      "{'Params (p, d, q)': (1, 0, 3), 'MAE': 246.90799214079308, 'RMSE': 293.3242708095755, 'R2': 0.00018374841436707978}\n",
      "Trying: (1, 0, 4)\n"
     ]
    },
    {
     "name": "stderr",
     "output_type": "stream",
     "text": [
      "/tmp/ipykernel_27541/576037720.py:26: FutureWarning: The frame.append method is deprecated and will be removed from pandas in a future version. Use pandas.concat instead.\n",
      "  df_gs.append(iter_results_dict, ignore_index=True)\n"
     ]
    },
    {
     "name": "stdout",
     "output_type": "stream",
     "text": [
      "{'Params (p, d, q)': (1, 0, 4), 'MAE': 246.90169622367355, 'RMSE': 293.3203478410554, 'R2': 0.0002104916595926376}\n",
      "Trying: (1, 0, 5)\n"
     ]
    },
    {
     "name": "stderr",
     "output_type": "stream",
     "text": [
      "/tmp/ipykernel_27541/576037720.py:26: FutureWarning: The frame.append method is deprecated and will be removed from pandas in a future version. Use pandas.concat instead.\n",
      "  df_gs.append(iter_results_dict, ignore_index=True)\n"
     ]
    },
    {
     "name": "stdout",
     "output_type": "stream",
     "text": [
      "{'Params (p, d, q)': (1, 0, 5), 'MAE': 246.89510920780523, 'RMSE': 293.31623782287386, 'R2': 0.00023850965628779974}\n",
      "Trying: (1, 1, 0)\n"
     ]
    },
    {
     "name": "stderr",
     "output_type": "stream",
     "text": [
      "/tmp/ipykernel_27541/576037720.py:26: FutureWarning: The frame.append method is deprecated and will be removed from pandas in a future version. Use pandas.concat instead.\n",
      "  df_gs.append(iter_results_dict, ignore_index=True)\n"
     ]
    },
    {
     "name": "stdout",
     "output_type": "stream",
     "text": [
      "{'Params (p, d, q)': (1, 1, 0), 'MAE': 223.87960665272183, 'RMSE': 304.808379305127, 'R2': -0.07963758693627687}\n",
      "Trying: (1, 1, 1)\n"
     ]
    },
    {
     "name": "stderr",
     "output_type": "stream",
     "text": [
      "/tmp/ipykernel_27541/576037720.py:26: FutureWarning: The frame.append method is deprecated and will be removed from pandas in a future version. Use pandas.concat instead.\n",
      "  df_gs.append(iter_results_dict, ignore_index=True)\n"
     ]
    },
    {
     "name": "stdout",
     "output_type": "stream",
     "text": [
      "{'Params (p, d, q)': (1, 1, 1), 'MAE': 229.15298925151913, 'RMSE': 299.3981096345715, 'R2': -0.04165115605520153}\n",
      "Trying: (1, 1, 2)\n"
     ]
    },
    {
     "name": "stderr",
     "output_type": "stream",
     "text": [
      "/tmp/ipykernel_27541/576037720.py:26: FutureWarning: The frame.append method is deprecated and will be removed from pandas in a future version. Use pandas.concat instead.\n",
      "  df_gs.append(iter_results_dict, ignore_index=True)\n"
     ]
    },
    {
     "name": "stdout",
     "output_type": "stream",
     "text": [
      "{'Params (p, d, q)': (1, 1, 2), 'MAE': 228.54605794757396, 'RMSE': 299.9064328780909, 'R2': -0.045191225083510034}\n",
      "Trying: (1, 1, 3)\n"
     ]
    },
    {
     "name": "stderr",
     "output_type": "stream",
     "text": [
      "/tmp/ipykernel_27541/576037720.py:26: FutureWarning: The frame.append method is deprecated and will be removed from pandas in a future version. Use pandas.concat instead.\n",
      "  df_gs.append(iter_results_dict, ignore_index=True)\n"
     ]
    },
    {
     "name": "stdout",
     "output_type": "stream",
     "text": [
      "{'Params (p, d, q)': (1, 1, 3), 'MAE': 228.60049627696506, 'RMSE': 299.8597402871497, 'R2': -0.04486579767068788}\n",
      "Trying: (1, 1, 4)\n"
     ]
    },
    {
     "name": "stderr",
     "output_type": "stream",
     "text": [
      "/tmp/ipykernel_27541/576037720.py:26: FutureWarning: The frame.append method is deprecated and will be removed from pandas in a future version. Use pandas.concat instead.\n",
      "  df_gs.append(iter_results_dict, ignore_index=True)\n"
     ]
    },
    {
     "name": "stdout",
     "output_type": "stream",
     "text": [
      "{'Params (p, d, q)': (1, 1, 4), 'MAE': 228.7050828354139, 'RMSE': 299.7706499055505, 'R2': -0.04424501634085898}\n",
      "Trying: (1, 1, 5)\n"
     ]
    },
    {
     "name": "stderr",
     "output_type": "stream",
     "text": [
      "/tmp/ipykernel_27541/576037720.py:26: FutureWarning: The frame.append method is deprecated and will be removed from pandas in a future version. Use pandas.concat instead.\n",
      "  df_gs.append(iter_results_dict, ignore_index=True)\n"
     ]
    },
    {
     "name": "stdout",
     "output_type": "stream",
     "text": [
      "{'Params (p, d, q)': (1, 1, 5), 'MAE': 228.6920052720265, 'RMSE': 299.78174799900916, 'R2': -0.04432233774183558}\n",
      "Trying: (2, 0, 0)\n"
     ]
    },
    {
     "name": "stderr",
     "output_type": "stream",
     "text": [
      "/tmp/ipykernel_27541/576037720.py:26: FutureWarning: The frame.append method is deprecated and will be removed from pandas in a future version. Use pandas.concat instead.\n",
      "  df_gs.append(iter_results_dict, ignore_index=True)\n"
     ]
    },
    {
     "name": "stdout",
     "output_type": "stream",
     "text": [
      "{'Params (p, d, q)': (2, 0, 0), 'MAE': 246.9357834840207, 'RMSE': 293.34173137168455, 'R2': 6.47137821652155e-05}\n",
      "Trying: (2, 0, 1)\n"
     ]
    },
    {
     "name": "stderr",
     "output_type": "stream",
     "text": [
      "/tmp/ipykernel_27541/576037720.py:26: FutureWarning: The frame.append method is deprecated and will be removed from pandas in a future version. Use pandas.concat instead.\n",
      "  df_gs.append(iter_results_dict, ignore_index=True)\n",
      "/opt/saturncloud/envs/saturn/lib/python3.9/site-packages/statsmodels/tsa/statespace/sarimax.py:966: UserWarning: Non-stationary starting autoregressive parameters found. Using zeros as starting parameters.\n",
      "  warn('Non-stationary starting autoregressive parameters'\n",
      "/opt/saturncloud/envs/saturn/lib/python3.9/site-packages/statsmodels/tsa/statespace/sarimax.py:978: UserWarning: Non-invertible starting MA parameters found. Using zeros as starting parameters.\n",
      "  warn('Non-invertible starting MA parameters found.'\n"
     ]
    },
    {
     "name": "stdout",
     "output_type": "stream",
     "text": [
      "{'Params (p, d, q)': (2, 0, 1), 'MAE': 246.93748574198, 'RMSE': 293.3428153063903, 'R2': 5.732399444058345e-05}\n",
      "Trying: (2, 0, 2)\n"
     ]
    },
    {
     "name": "stderr",
     "output_type": "stream",
     "text": [
      "/tmp/ipykernel_27541/576037720.py:26: FutureWarning: The frame.append method is deprecated and will be removed from pandas in a future version. Use pandas.concat instead.\n",
      "  df_gs.append(iter_results_dict, ignore_index=True)\n"
     ]
    },
    {
     "name": "stdout",
     "output_type": "stream",
     "text": [
      "{'Params (p, d, q)': (2, 0, 2), 'MAE': 246.8781596242099, 'RMSE': 293.30609908668134, 'R2': 0.00030762374895354494}\n",
      "Trying: (2, 0, 3)\n"
     ]
    },
    {
     "name": "stderr",
     "output_type": "stream",
     "text": [
      "/tmp/ipykernel_27541/576037720.py:26: FutureWarning: The frame.append method is deprecated and will be removed from pandas in a future version. Use pandas.concat instead.\n",
      "  df_gs.append(iter_results_dict, ignore_index=True)\n"
     ]
    },
    {
     "name": "stdout",
     "output_type": "stream",
     "text": [
      "{'Params (p, d, q)': (2, 0, 3), 'MAE': 246.8778203608302, 'RMSE': 293.30578046439416, 'R2': 0.0003097957058226797}\n",
      "Trying: (2, 0, 4)\n"
     ]
    },
    {
     "name": "stderr",
     "output_type": "stream",
     "text": [
      "/tmp/ipykernel_27541/576037720.py:26: FutureWarning: The frame.append method is deprecated and will be removed from pandas in a future version. Use pandas.concat instead.\n",
      "  df_gs.append(iter_results_dict, ignore_index=True)\n"
     ]
    },
    {
     "name": "stdout",
     "output_type": "stream",
     "text": [
      "{'Params (p, d, q)': (2, 0, 4), 'MAE': 246.87722123570026, 'RMSE': 293.3055166322408, 'R2': 0.00031159417225790076}\n",
      "Trying: (2, 0, 5)\n"
     ]
    },
    {
     "name": "stderr",
     "output_type": "stream",
     "text": [
      "/tmp/ipykernel_27541/576037720.py:26: FutureWarning: The frame.append method is deprecated and will be removed from pandas in a future version. Use pandas.concat instead.\n",
      "  df_gs.append(iter_results_dict, ignore_index=True)\n"
     ]
    },
    {
     "name": "stdout",
     "output_type": "stream",
     "text": [
      "{'Params (p, d, q)': (2, 0, 5), 'MAE': 246.8928965367716, 'RMSE': 293.3146154608456, 'R2': 0.00024956919125007637}\n",
      "Trying: (2, 1, 0)\n"
     ]
    },
    {
     "name": "stderr",
     "output_type": "stream",
     "text": [
      "/tmp/ipykernel_27541/576037720.py:26: FutureWarning: The frame.append method is deprecated and will be removed from pandas in a future version. Use pandas.concat instead.\n",
      "  df_gs.append(iter_results_dict, ignore_index=True)\n"
     ]
    },
    {
     "name": "stdout",
     "output_type": "stream",
     "text": [
      "{'Params (p, d, q)': (2, 1, 0), 'MAE': 224.4536729715472, 'RMSE': 304.09942934970303, 'R2': -0.07462119668286249}\n",
      "Trying: (2, 1, 1)\n"
     ]
    },
    {
     "name": "stderr",
     "output_type": "stream",
     "text": [
      "/tmp/ipykernel_27541/576037720.py:26: FutureWarning: The frame.append method is deprecated and will be removed from pandas in a future version. Use pandas.concat instead.\n",
      "  df_gs.append(iter_results_dict, ignore_index=True)\n"
     ]
    },
    {
     "name": "stdout",
     "output_type": "stream",
     "text": [
      "{'Params (p, d, q)': (2, 1, 1), 'MAE': 228.35696172137628, 'RMSE': 300.07027983127387, 'R2': -0.046333569218663495}\n",
      "Trying: (2, 1, 2)\n"
     ]
    },
    {
     "name": "stderr",
     "output_type": "stream",
     "text": [
      "/tmp/ipykernel_27541/576037720.py:26: FutureWarning: The frame.append method is deprecated and will be removed from pandas in a future version. Use pandas.concat instead.\n",
      "  df_gs.append(iter_results_dict, ignore_index=True)\n"
     ]
    },
    {
     "name": "stdout",
     "output_type": "stream",
     "text": [
      "{'Params (p, d, q)': (2, 1, 2), 'MAE': 228.58360989576332, 'RMSE': 299.8742008488087, 'R2': -0.044966576191991514}\n",
      "Trying: (2, 1, 3)\n"
     ]
    },
    {
     "name": "stderr",
     "output_type": "stream",
     "text": [
      "/tmp/ipykernel_27541/576037720.py:26: FutureWarning: The frame.append method is deprecated and will be removed from pandas in a future version. Use pandas.concat instead.\n",
      "  df_gs.append(iter_results_dict, ignore_index=True)\n"
     ]
    },
    {
     "name": "stdout",
     "output_type": "stream",
     "text": [
      "{'Params (p, d, q)': (2, 1, 3), 'MAE': 228.49991337067328, 'RMSE': 299.94618295573486, 'R2': -0.045468306073513265}\n",
      "Trying: (2, 1, 4)\n"
     ]
    },
    {
     "name": "stderr",
     "output_type": "stream",
     "text": [
      "/tmp/ipykernel_27541/576037720.py:26: FutureWarning: The frame.append method is deprecated and will be removed from pandas in a future version. Use pandas.concat instead.\n",
      "  df_gs.append(iter_results_dict, ignore_index=True)\n",
      "/opt/saturncloud/envs/saturn/lib/python3.9/site-packages/statsmodels/tsa/statespace/sarimax.py:966: UserWarning: Non-stationary starting autoregressive parameters found. Using zeros as starting parameters.\n",
      "  warn('Non-stationary starting autoregressive parameters'\n",
      "/opt/saturncloud/envs/saturn/lib/python3.9/site-packages/statsmodels/tsa/statespace/sarimax.py:978: UserWarning: Non-invertible starting MA parameters found. Using zeros as starting parameters.\n",
      "  warn('Non-invertible starting MA parameters found.'\n"
     ]
    },
    {
     "name": "stdout",
     "output_type": "stream",
     "text": [
      "{'Params (p, d, q)': (2, 1, 4), 'MAE': 228.6940024096951, 'RMSE': 299.78005109190514, 'R2': -0.04431051505422934}\n",
      "Trying: (2, 1, 5)\n"
     ]
    },
    {
     "name": "stderr",
     "output_type": "stream",
     "text": [
      "/tmp/ipykernel_27541/576037720.py:26: FutureWarning: The frame.append method is deprecated and will be removed from pandas in a future version. Use pandas.concat instead.\n",
      "  df_gs.append(iter_results_dict, ignore_index=True)\n"
     ]
    },
    {
     "name": "stdout",
     "output_type": "stream",
     "text": [
      "{'Params (p, d, q)': (2, 1, 5), 'MAE': 228.6888472565049, 'RMSE': 299.7844288541995, 'R2': -0.04434101592685891}\n",
      "Trying: (3, 0, 0)\n"
     ]
    },
    {
     "name": "stderr",
     "output_type": "stream",
     "text": [
      "/tmp/ipykernel_27541/576037720.py:26: FutureWarning: The frame.append method is deprecated and will be removed from pandas in a future version. Use pandas.concat instead.\n",
      "  df_gs.append(iter_results_dict, ignore_index=True)\n"
     ]
    },
    {
     "name": "stdout",
     "output_type": "stream",
     "text": [
      "{'Params (p, d, q)': (3, 0, 0), 'MAE': 246.92485434490993, 'RMSE': 293.3348012304568, 'R2': 0.00011195977654465672}\n",
      "Trying: (3, 0, 1)\n"
     ]
    },
    {
     "name": "stderr",
     "output_type": "stream",
     "text": [
      "/tmp/ipykernel_27541/576037720.py:26: FutureWarning: The frame.append method is deprecated and will be removed from pandas in a future version. Use pandas.concat instead.\n",
      "  df_gs.append(iter_results_dict, ignore_index=True)\n",
      "/opt/saturncloud/envs/saturn/lib/python3.9/site-packages/statsmodels/tsa/statespace/sarimax.py:966: UserWarning: Non-stationary starting autoregressive parameters found. Using zeros as starting parameters.\n",
      "  warn('Non-stationary starting autoregressive parameters'\n",
      "/opt/saturncloud/envs/saturn/lib/python3.9/site-packages/statsmodels/tsa/statespace/sarimax.py:978: UserWarning: Non-invertible starting MA parameters found. Using zeros as starting parameters.\n",
      "  warn('Non-invertible starting MA parameters found.'\n",
      "/opt/saturncloud/envs/saturn/lib/python3.9/site-packages/statsmodels/base/model.py:607: ConvergenceWarning: Maximum Likelihood optimization failed to converge. Check mle_retvals\n",
      "  warnings.warn(\"Maximum Likelihood optimization failed to \"\n"
     ]
    },
    {
     "name": "stdout",
     "output_type": "stream",
     "text": [
      "{'Params (p, d, q)': (3, 0, 1), 'MAE': 246.91833980259685, 'RMSE': 293.33025749505157, 'R2': 0.00014293592723224613}\n",
      "Trying: (3, 0, 2)\n"
     ]
    },
    {
     "name": "stderr",
     "output_type": "stream",
     "text": [
      "/tmp/ipykernel_27541/576037720.py:26: FutureWarning: The frame.append method is deprecated and will be removed from pandas in a future version. Use pandas.concat instead.\n",
      "  df_gs.append(iter_results_dict, ignore_index=True)\n"
     ]
    },
    {
     "name": "stdout",
     "output_type": "stream",
     "text": [
      "{'Params (p, d, q)': (3, 0, 2), 'MAE': 246.9010945770564, 'RMSE': 293.3196262237115, 'R2': 0.00021541095392285659}\n",
      "Trying: (3, 0, 3)\n"
     ]
    },
    {
     "name": "stderr",
     "output_type": "stream",
     "text": [
      "/tmp/ipykernel_27541/576037720.py:26: FutureWarning: The frame.append method is deprecated and will be removed from pandas in a future version. Use pandas.concat instead.\n",
      "  df_gs.append(iter_results_dict, ignore_index=True)\n"
     ]
    },
    {
     "name": "stdout",
     "output_type": "stream",
     "text": [
      "{'Params (p, d, q)': (3, 0, 3), 'MAE': 246.87917052336496, 'RMSE': 293.3063069027843, 'R2': 0.000306207124832536}\n",
      "Trying: (3, 0, 4)\n"
     ]
    },
    {
     "name": "stderr",
     "output_type": "stream",
     "text": [
      "/tmp/ipykernel_27541/576037720.py:26: FutureWarning: The frame.append method is deprecated and will be removed from pandas in a future version. Use pandas.concat instead.\n",
      "  df_gs.append(iter_results_dict, ignore_index=True)\n"
     ]
    },
    {
     "name": "stdout",
     "output_type": "stream",
     "text": [
      "{'Params (p, d, q)': (3, 0, 4), 'MAE': 246.89392889989864, 'RMSE': 293.3152635788945, 'R2': 0.00024515102058730864}\n",
      "Trying: (3, 0, 5)\n"
     ]
    },
    {
     "name": "stderr",
     "output_type": "stream",
     "text": [
      "/tmp/ipykernel_27541/576037720.py:26: FutureWarning: The frame.append method is deprecated and will be removed from pandas in a future version. Use pandas.concat instead.\n",
      "  df_gs.append(iter_results_dict, ignore_index=True)\n"
     ]
    },
    {
     "name": "stdout",
     "output_type": "stream",
     "text": [
      "{'Params (p, d, q)': (3, 0, 5), 'MAE': 246.82868468698877, 'RMSE': 293.2752948625121, 'R2': 0.0005175964093108165}\n",
      "Trying: (3, 1, 0)\n"
     ]
    },
    {
     "name": "stderr",
     "output_type": "stream",
     "text": [
      "/tmp/ipykernel_27541/576037720.py:26: FutureWarning: The frame.append method is deprecated and will be removed from pandas in a future version. Use pandas.concat instead.\n",
      "  df_gs.append(iter_results_dict, ignore_index=True)\n"
     ]
    },
    {
     "name": "stdout",
     "output_type": "stream",
     "text": [
      "{'Params (p, d, q)': (3, 1, 0), 'MAE': 224.75535396958594, 'RMSE': 303.7400510051009, 'R2': -0.07208276779708278}\n",
      "Trying: (3, 1, 1)\n"
     ]
    },
    {
     "name": "stderr",
     "output_type": "stream",
     "text": [
      "/tmp/ipykernel_27541/576037720.py:26: FutureWarning: The frame.append method is deprecated and will be removed from pandas in a future version. Use pandas.concat instead.\n",
      "  df_gs.append(iter_results_dict, ignore_index=True)\n",
      "/opt/saturncloud/envs/saturn/lib/python3.9/site-packages/statsmodels/tsa/statespace/sarimax.py:966: UserWarning: Non-stationary starting autoregressive parameters found. Using zeros as starting parameters.\n",
      "  warn('Non-stationary starting autoregressive parameters'\n",
      "/opt/saturncloud/envs/saturn/lib/python3.9/site-packages/statsmodels/tsa/statespace/sarimax.py:978: UserWarning: Non-invertible starting MA parameters found. Using zeros as starting parameters.\n",
      "  warn('Non-invertible starting MA parameters found.'\n"
     ]
    },
    {
     "name": "stdout",
     "output_type": "stream",
     "text": [
      "{'Params (p, d, q)': (3, 1, 1), 'MAE': 228.69143508062143, 'RMSE': 299.7822307301607, 'R2': -0.04432570103752598}\n",
      "Trying: (3, 1, 2)\n"
     ]
    },
    {
     "name": "stderr",
     "output_type": "stream",
     "text": [
      "/tmp/ipykernel_27541/576037720.py:26: FutureWarning: The frame.append method is deprecated and will be removed from pandas in a future version. Use pandas.concat instead.\n",
      "  df_gs.append(iter_results_dict, ignore_index=True)\n",
      "/opt/saturncloud/envs/saturn/lib/python3.9/site-packages/statsmodels/tsa/statespace/sarimax.py:966: UserWarning: Non-stationary starting autoregressive parameters found. Using zeros as starting parameters.\n",
      "  warn('Non-stationary starting autoregressive parameters'\n",
      "/opt/saturncloud/envs/saturn/lib/python3.9/site-packages/statsmodels/tsa/statespace/sarimax.py:978: UserWarning: Non-invertible starting MA parameters found. Using zeros as starting parameters.\n",
      "  warn('Non-invertible starting MA parameters found.'\n"
     ]
    },
    {
     "name": "stdout",
     "output_type": "stream",
     "text": [
      "{'Params (p, d, q)': (3, 1, 2), 'MAE': 228.70576601169282, 'RMSE': 299.77007094011975, 'R2': -0.044240982715939126}\n",
      "Trying: (3, 1, 3)\n"
     ]
    },
    {
     "name": "stderr",
     "output_type": "stream",
     "text": [
      "/tmp/ipykernel_27541/576037720.py:26: FutureWarning: The frame.append method is deprecated and will be removed from pandas in a future version. Use pandas.concat instead.\n",
      "  df_gs.append(iter_results_dict, ignore_index=True)\n"
     ]
    },
    {
     "name": "stdout",
     "output_type": "stream",
     "text": [
      "{'Params (p, d, q)': (3, 1, 3), 'MAE': 228.67760997967105, 'RMSE': 299.79397605965084, 'R2': -0.0444075350389006}\n",
      "Trying: (3, 1, 4)\n"
     ]
    },
    {
     "name": "stderr",
     "output_type": "stream",
     "text": [
      "/tmp/ipykernel_27541/576037720.py:26: FutureWarning: The frame.append method is deprecated and will be removed from pandas in a future version. Use pandas.concat instead.\n",
      "  df_gs.append(iter_results_dict, ignore_index=True)\n"
     ]
    },
    {
     "name": "stdout",
     "output_type": "stream",
     "text": [
      "{'Params (p, d, q)': (3, 1, 4), 'MAE': 228.5905284033008, 'RMSE': 299.86827418178814, 'R2': -0.044925271486706775}\n",
      "Trying: (3, 1, 5)\n"
     ]
    },
    {
     "name": "stderr",
     "output_type": "stream",
     "text": [
      "/tmp/ipykernel_27541/576037720.py:26: FutureWarning: The frame.append method is deprecated and will be removed from pandas in a future version. Use pandas.concat instead.\n",
      "  df_gs.append(iter_results_dict, ignore_index=True)\n",
      "/opt/saturncloud/envs/saturn/lib/python3.9/site-packages/statsmodels/base/model.py:607: ConvergenceWarning: Maximum Likelihood optimization failed to converge. Check mle_retvals\n",
      "  warnings.warn(\"Maximum Likelihood optimization failed to \"\n"
     ]
    },
    {
     "name": "stdout",
     "output_type": "stream",
     "text": [
      "{'Params (p, d, q)': (3, 1, 5), 'MAE': 225.63770943542298, 'RMSE': 302.73854785416745, 'R2': -0.06502459977581743}\n",
      "Trying: (4, 0, 0)\n"
     ]
    },
    {
     "name": "stderr",
     "output_type": "stream",
     "text": [
      "/tmp/ipykernel_27541/576037720.py:26: FutureWarning: The frame.append method is deprecated and will be removed from pandas in a future version. Use pandas.concat instead.\n",
      "  df_gs.append(iter_results_dict, ignore_index=True)\n"
     ]
    },
    {
     "name": "stdout",
     "output_type": "stream",
     "text": [
      "{'Params (p, d, q)': (4, 0, 0), 'MAE': 246.91761454229604, 'RMSE': 293.33030037312, 'R2': 0.00014264361546667548}\n",
      "Trying: (4, 0, 1)\n"
     ]
    },
    {
     "name": "stderr",
     "output_type": "stream",
     "text": [
      "/tmp/ipykernel_27541/576037720.py:26: FutureWarning: The frame.append method is deprecated and will be removed from pandas in a future version. Use pandas.concat instead.\n",
      "  df_gs.append(iter_results_dict, ignore_index=True)\n"
     ]
    },
    {
     "name": "stdout",
     "output_type": "stream",
     "text": [
      "{'Params (p, d, q)': (4, 0, 1), 'MAE': 246.87805592661294, 'RMSE': 293.30565756997885, 'R2': 0.00031063344122128633}\n",
      "Trying: (4, 0, 2)\n"
     ]
    },
    {
     "name": "stderr",
     "output_type": "stream",
     "text": [
      "/tmp/ipykernel_27541/576037720.py:26: FutureWarning: The frame.append method is deprecated and will be removed from pandas in a future version. Use pandas.concat instead.\n",
      "  df_gs.append(iter_results_dict, ignore_index=True)\n",
      "/opt/saturncloud/envs/saturn/lib/python3.9/site-packages/statsmodels/tsa/statespace/sarimax.py:966: UserWarning: Non-stationary starting autoregressive parameters found. Using zeros as starting parameters.\n",
      "  warn('Non-stationary starting autoregressive parameters'\n",
      "/opt/saturncloud/envs/saturn/lib/python3.9/site-packages/statsmodels/tsa/statespace/sarimax.py:978: UserWarning: Non-invertible starting MA parameters found. Using zeros as starting parameters.\n",
      "  warn('Non-invertible starting MA parameters found.'\n"
     ]
    },
    {
     "name": "stdout",
     "output_type": "stream",
     "text": [
      "{'Params (p, d, q)': (4, 0, 2), 'MAE': 246.87922482248675, 'RMSE': 293.30640383784106, 'R2': 0.0003055463453791596}\n",
      "Trying: (4, 0, 3)\n"
     ]
    },
    {
     "name": "stderr",
     "output_type": "stream",
     "text": [
      "/tmp/ipykernel_27541/576037720.py:26: FutureWarning: The frame.append method is deprecated and will be removed from pandas in a future version. Use pandas.concat instead.\n",
      "  df_gs.append(iter_results_dict, ignore_index=True)\n"
     ]
    },
    {
     "name": "stdout",
     "output_type": "stream",
     "text": [
      "{'Params (p, d, q)': (4, 0, 3), 'MAE': 246.8965242421757, 'RMSE': 293.3168326386133, 'R2': 0.00023445482129114126}\n",
      "Trying: (4, 0, 4)\n"
     ]
    },
    {
     "name": "stderr",
     "output_type": "stream",
     "text": [
      "/tmp/ipykernel_27541/576037720.py:26: FutureWarning: The frame.append method is deprecated and will be removed from pandas in a future version. Use pandas.concat instead.\n",
      "  df_gs.append(iter_results_dict, ignore_index=True)\n"
     ]
    },
    {
     "name": "stdout",
     "output_type": "stream",
     "text": [
      "{'Params (p, d, q)': (4, 0, 4), 'MAE': 246.8690081124377, 'RMSE': 293.3001036462481, 'R2': 0.0003484925536239025}\n",
      "Trying: (4, 0, 5)\n"
     ]
    },
    {
     "name": "stderr",
     "output_type": "stream",
     "text": [
      "/tmp/ipykernel_27541/576037720.py:26: FutureWarning: The frame.append method is deprecated and will be removed from pandas in a future version. Use pandas.concat instead.\n",
      "  df_gs.append(iter_results_dict, ignore_index=True)\n"
     ]
    },
    {
     "name": "stdout",
     "output_type": "stream",
     "text": [
      "{'Params (p, d, q)': (4, 0, 5), 'MAE': 246.8854942644782, 'RMSE': 293.31010631894037, 'R2': 0.00028030739298756657}\n",
      "Trying: (4, 1, 0)\n"
     ]
    },
    {
     "name": "stderr",
     "output_type": "stream",
     "text": [
      "/tmp/ipykernel_27541/576037720.py:26: FutureWarning: The frame.append method is deprecated and will be removed from pandas in a future version. Use pandas.concat instead.\n",
      "  df_gs.append(iter_results_dict, ignore_index=True)\n"
     ]
    },
    {
     "name": "stdout",
     "output_type": "stream",
     "text": [
      "{'Params (p, d, q)': (4, 1, 0), 'MAE': 224.96991377927782, 'RMSE': 303.48977464713465, 'R2': -0.07031674171334568}\n",
      "Trying: (4, 1, 1)\n"
     ]
    },
    {
     "name": "stderr",
     "output_type": "stream",
     "text": [
      "/tmp/ipykernel_27541/576037720.py:26: FutureWarning: The frame.append method is deprecated and will be removed from pandas in a future version. Use pandas.concat instead.\n",
      "  df_gs.append(iter_results_dict, ignore_index=True)\n",
      "/opt/saturncloud/envs/saturn/lib/python3.9/site-packages/statsmodels/tsa/statespace/sarimax.py:966: UserWarning: Non-stationary starting autoregressive parameters found. Using zeros as starting parameters.\n",
      "  warn('Non-stationary starting autoregressive parameters'\n",
      "/opt/saturncloud/envs/saturn/lib/python3.9/site-packages/statsmodels/tsa/statespace/sarimax.py:978: UserWarning: Non-invertible starting MA parameters found. Using zeros as starting parameters.\n",
      "  warn('Non-invertible starting MA parameters found.'\n"
     ]
    },
    {
     "name": "stdout",
     "output_type": "stream",
     "text": [
      "{'Params (p, d, q)': (4, 1, 2), 'MAE': 228.7224067767716, 'RMSE': 299.7559692838396, 'R2': -0.04414273954570036}\n",
      "Trying: (4, 1, 3)\n"
     ]
    },
    {
     "name": "stderr",
     "output_type": "stream",
     "text": [
      "/tmp/ipykernel_27541/576037720.py:26: FutureWarning: The frame.append method is deprecated and will be removed from pandas in a future version. Use pandas.concat instead.\n",
      "  df_gs.append(iter_results_dict, ignore_index=True)\n"
     ]
    },
    {
     "name": "stdout",
     "output_type": "stream",
     "text": [
      "{'Params (p, d, q)': (4, 1, 3), 'MAE': 228.72101818707588, 'RMSE': 299.757145718704, 'R2': -0.04415093533466563}\n",
      "Trying: (4, 1, 4)\n"
     ]
    },
    {
     "name": "stderr",
     "output_type": "stream",
     "text": [
      "/tmp/ipykernel_27541/576037720.py:26: FutureWarning: The frame.append method is deprecated and will be removed from pandas in a future version. Use pandas.concat instead.\n",
      "  df_gs.append(iter_results_dict, ignore_index=True)\n",
      "/opt/saturncloud/envs/saturn/lib/python3.9/site-packages/statsmodels/tsa/statespace/sarimax.py:966: UserWarning: Non-stationary starting autoregressive parameters found. Using zeros as starting parameters.\n",
      "  warn('Non-stationary starting autoregressive parameters'\n",
      "/opt/saturncloud/envs/saturn/lib/python3.9/site-packages/statsmodels/tsa/statespace/sarimax.py:978: UserWarning: Non-invertible starting MA parameters found. Using zeros as starting parameters.\n",
      "  warn('Non-invertible starting MA parameters found.'\n"
     ]
    },
    {
     "name": "stdout",
     "output_type": "stream",
     "text": [
      "{'Params (p, d, q)': (4, 1, 4), 'MAE': 228.71388751450377, 'RMSE': 299.76318714291943, 'R2': -0.04419302422164595}\n",
      "Trying: (4, 1, 5)\n"
     ]
    },
    {
     "name": "stderr",
     "output_type": "stream",
     "text": [
      "/tmp/ipykernel_27541/576037720.py:26: FutureWarning: The frame.append method is deprecated and will be removed from pandas in a future version. Use pandas.concat instead.\n",
      "  df_gs.append(iter_results_dict, ignore_index=True)\n"
     ]
    },
    {
     "name": "stdout",
     "output_type": "stream",
     "text": [
      "{'Params (p, d, q)': (4, 1, 5), 'MAE': 228.65924054904116, 'RMSE': 299.8096032065587, 'R2': -0.044516420051039285}\n",
      "Trying: (5, 0, 0)\n"
     ]
    },
    {
     "name": "stderr",
     "output_type": "stream",
     "text": [
      "/tmp/ipykernel_27541/576037720.py:26: FutureWarning: The frame.append method is deprecated and will be removed from pandas in a future version. Use pandas.concat instead.\n",
      "  df_gs.append(iter_results_dict, ignore_index=True)\n"
     ]
    },
    {
     "name": "stdout",
     "output_type": "stream",
     "text": [
      "{'Params (p, d, q)': (5, 0, 0), 'MAE': 246.91288067010643, 'RMSE': 293.32738929339075, 'R2': 0.00016248916183903006}\n",
      "Trying: (5, 0, 1)\n"
     ]
    },
    {
     "name": "stderr",
     "output_type": "stream",
     "text": [
      "/tmp/ipykernel_27541/576037720.py:26: FutureWarning: The frame.append method is deprecated and will be removed from pandas in a future version. Use pandas.concat instead.\n",
      "  df_gs.append(iter_results_dict, ignore_index=True)\n",
      "/opt/saturncloud/envs/saturn/lib/python3.9/site-packages/statsmodels/tsa/statespace/sarimax.py:966: UserWarning: Non-stationary starting autoregressive parameters found. Using zeros as starting parameters.\n",
      "  warn('Non-stationary starting autoregressive parameters'\n",
      "/opt/saturncloud/envs/saturn/lib/python3.9/site-packages/statsmodels/tsa/statespace/sarimax.py:978: UserWarning: Non-invertible starting MA parameters found. Using zeros as starting parameters.\n",
      "  warn('Non-invertible starting MA parameters found.'\n"
     ]
    },
    {
     "name": "stdout",
     "output_type": "stream",
     "text": [
      "{'Params (p, d, q)': (5, 0, 1), 'MAE': 242.6795152691587, 'RMSE': 291.6522947934302, 'R2': 0.011549357224635015}\n",
      "Trying: (5, 0, 2)\n"
     ]
    },
    {
     "name": "stderr",
     "output_type": "stream",
     "text": [
      "/tmp/ipykernel_27541/576037720.py:26: FutureWarning: The frame.append method is deprecated and will be removed from pandas in a future version. Use pandas.concat instead.\n",
      "  df_gs.append(iter_results_dict, ignore_index=True)\n",
      "/opt/saturncloud/envs/saturn/lib/python3.9/site-packages/statsmodels/tsa/statespace/sarimax.py:966: UserWarning: Non-stationary starting autoregressive parameters found. Using zeros as starting parameters.\n",
      "  warn('Non-stationary starting autoregressive parameters'\n",
      "/opt/saturncloud/envs/saturn/lib/python3.9/site-packages/statsmodels/tsa/statespace/sarimax.py:978: UserWarning: Non-invertible starting MA parameters found. Using zeros as starting parameters.\n",
      "  warn('Non-invertible starting MA parameters found.'\n",
      "/opt/saturncloud/envs/saturn/lib/python3.9/site-packages/statsmodels/base/model.py:607: ConvergenceWarning: Maximum Likelihood optimization failed to converge. Check mle_retvals\n",
      "  warnings.warn(\"Maximum Likelihood optimization failed to \"\n"
     ]
    },
    {
     "name": "stdout",
     "output_type": "stream",
     "text": [
      "{'Params (p, d, q)': (5, 0, 2), 'MAE': 246.86599763240352, 'RMSE': 293.29843870754894, 'R2': 0.0003598417058119363}\n",
      "Trying: (5, 0, 3)\n"
     ]
    },
    {
     "name": "stderr",
     "output_type": "stream",
     "text": [
      "/tmp/ipykernel_27541/576037720.py:26: FutureWarning: The frame.append method is deprecated and will be removed from pandas in a future version. Use pandas.concat instead.\n",
      "  df_gs.append(iter_results_dict, ignore_index=True)\n"
     ]
    },
    {
     "name": "stdout",
     "output_type": "stream",
     "text": [
      "{'Params (p, d, q)': (5, 0, 3), 'MAE': 246.89236910783208, 'RMSE': 293.3143258832569, 'R2': 0.00025154321614262454}\n",
      "Trying: (5, 0, 4)\n"
     ]
    },
    {
     "name": "stderr",
     "output_type": "stream",
     "text": [
      "/tmp/ipykernel_27541/576037720.py:26: FutureWarning: The frame.append method is deprecated and will be removed from pandas in a future version. Use pandas.concat instead.\n",
      "  df_gs.append(iter_results_dict, ignore_index=True)\n",
      "/opt/saturncloud/envs/saturn/lib/python3.9/site-packages/statsmodels/base/model.py:607: ConvergenceWarning: Maximum Likelihood optimization failed to converge. Check mle_retvals\n",
      "  warnings.warn(\"Maximum Likelihood optimization failed to \"\n"
     ]
    },
    {
     "name": "stdout",
     "output_type": "stream",
     "text": [
      "{'Params (p, d, q)': (5, 0, 4), 'MAE': 246.86038127745118, 'RMSE': 293.29479947580893, 'R2': 0.0003846485178704562}\n",
      "Trying: (5, 0, 5)\n"
     ]
    },
    {
     "name": "stderr",
     "output_type": "stream",
     "text": [
      "/tmp/ipykernel_27541/576037720.py:26: FutureWarning: The frame.append method is deprecated and will be removed from pandas in a future version. Use pandas.concat instead.\n",
      "  df_gs.append(iter_results_dict, ignore_index=True)\n"
     ]
    },
    {
     "name": "stdout",
     "output_type": "stream",
     "text": [
      "{'Params (p, d, q)': (5, 0, 5), 'MAE': 246.86536462860917, 'RMSE': 293.2978417551181, 'R2': 0.00036391085134013235}\n",
      "Trying: (5, 1, 0)\n"
     ]
    },
    {
     "name": "stderr",
     "output_type": "stream",
     "text": [
      "/tmp/ipykernel_27541/576037720.py:26: FutureWarning: The frame.append method is deprecated and will be removed from pandas in a future version. Use pandas.concat instead.\n",
      "  df_gs.append(iter_results_dict, ignore_index=True)\n"
     ]
    },
    {
     "name": "stdout",
     "output_type": "stream",
     "text": [
      "{'Params (p, d, q)': (5, 1, 0), 'MAE': 225.2830722670567, 'RMSE': 303.132169631129, 'R2': -0.0677958980601554}\n",
      "Trying: (5, 1, 1)\n"
     ]
    },
    {
     "name": "stderr",
     "output_type": "stream",
     "text": [
      "/tmp/ipykernel_27541/576037720.py:26: FutureWarning: The frame.append method is deprecated and will be removed from pandas in a future version. Use pandas.concat instead.\n",
      "  df_gs.append(iter_results_dict, ignore_index=True)\n",
      "/opt/saturncloud/envs/saturn/lib/python3.9/site-packages/statsmodels/tsa/statespace/sarimax.py:966: UserWarning: Non-stationary starting autoregressive parameters found. Using zeros as starting parameters.\n",
      "  warn('Non-stationary starting autoregressive parameters'\n",
      "/opt/saturncloud/envs/saturn/lib/python3.9/site-packages/statsmodels/tsa/statespace/sarimax.py:978: UserWarning: Non-invertible starting MA parameters found. Using zeros as starting parameters.\n",
      "  warn('Non-invertible starting MA parameters found.'\n"
     ]
    },
    {
     "name": "stdout",
     "output_type": "stream",
     "text": [
      "{'Params (p, d, q)': (5, 1, 1), 'MAE': 228.66992263240994, 'RMSE': 299.8005146729777, 'R2': -0.04445309333588998}\n",
      "Trying: (5, 1, 2)\n"
     ]
    },
    {
     "name": "stderr",
     "output_type": "stream",
     "text": [
      "/tmp/ipykernel_27541/576037720.py:26: FutureWarning: The frame.append method is deprecated and will be removed from pandas in a future version. Use pandas.concat instead.\n",
      "  df_gs.append(iter_results_dict, ignore_index=True)\n"
     ]
    },
    {
     "name": "stdout",
     "output_type": "stream",
     "text": [
      "{'Params (p, d, q)': (5, 1, 2), 'MAE': 228.71088187930252, 'RMSE': 299.7657338443093, 'R2': -0.044210766621221476}\n",
      "Trying: (5, 1, 3)\n"
     ]
    },
    {
     "name": "stderr",
     "output_type": "stream",
     "text": [
      "/tmp/ipykernel_27541/576037720.py:26: FutureWarning: The frame.append method is deprecated and will be removed from pandas in a future version. Use pandas.concat instead.\n",
      "  df_gs.append(iter_results_dict, ignore_index=True)\n"
     ]
    },
    {
     "name": "stdout",
     "output_type": "stream",
     "text": [
      "{'Params (p, d, q)': (5, 1, 3), 'MAE': 228.68669886905843, 'RMSE': 299.7862534154554, 'R2': -0.04435372819454697}\n",
      "Trying: (5, 1, 4)\n"
     ]
    },
    {
     "name": "stderr",
     "output_type": "stream",
     "text": [
      "/tmp/ipykernel_27541/576037720.py:26: FutureWarning: The frame.append method is deprecated and will be removed from pandas in a future version. Use pandas.concat instead.\n",
      "  df_gs.append(iter_results_dict, ignore_index=True)\n",
      "/opt/saturncloud/envs/saturn/lib/python3.9/site-packages/statsmodels/tsa/statespace/sarimax.py:966: UserWarning: Non-stationary starting autoregressive parameters found. Using zeros as starting parameters.\n",
      "  warn('Non-stationary starting autoregressive parameters'\n",
      "/opt/saturncloud/envs/saturn/lib/python3.9/site-packages/statsmodels/tsa/statespace/sarimax.py:978: UserWarning: Non-invertible starting MA parameters found. Using zeros as starting parameters.\n",
      "  warn('Non-invertible starting MA parameters found.'\n",
      "/opt/saturncloud/envs/saturn/lib/python3.9/site-packages/statsmodels/base/model.py:607: ConvergenceWarning: Maximum Likelihood optimization failed to converge. Check mle_retvals\n",
      "  warnings.warn(\"Maximum Likelihood optimization failed to \"\n"
     ]
    },
    {
     "name": "stdout",
     "output_type": "stream",
     "text": [
      "{'Params (p, d, q)': (5, 1, 4), 'MAE': 228.6308267663966, 'RMSE': 299.8338229295237, 'R2': -0.0446851866274538}\n",
      "Trying: (5, 1, 5)\n"
     ]
    },
    {
     "name": "stderr",
     "output_type": "stream",
     "text": [
      "/tmp/ipykernel_27541/576037720.py:26: FutureWarning: The frame.append method is deprecated and will be removed from pandas in a future version. Use pandas.concat instead.\n",
      "  df_gs.append(iter_results_dict, ignore_index=True)\n"
     ]
    },
    {
     "name": "stdout",
     "output_type": "stream",
     "text": [
      "{'Params (p, d, q)': (5, 1, 5), 'MAE': 228.71344999048492, 'RMSE': 299.763557560028, 'R2': -0.04419560484005669}\n"
     ]
    },
    {
     "name": "stderr",
     "output_type": "stream",
     "text": [
      "/tmp/ipykernel_27541/576037720.py:26: FutureWarning: The frame.append method is deprecated and will be removed from pandas in a future version. Use pandas.concat instead.\n",
      "  df_gs.append(iter_results_dict, ignore_index=True)\n"
     ]
    }
   ],
   "source": [
    "\n",
    "df_gs = pd.DataFrame(columns=[\"Params (p, d, q)\", \"MAE\", \"RMSE\", \"R2\"])\n",
    "\n",
    "# Grid search for best (p, d, q) combination\n",
    "best_mae = float('inf')\n",
    "best_rmse = float('inf')\n",
    "best_r2 = float('inf')\n",
    "\n",
    "p_range = range(0, 6)\n",
    "d_range = range(0, 2)\n",
    "q_range = range(0, 6)\n",
    "\n",
    "for p in p_range:\n",
    "    for d in d_range:\n",
    "        for q in q_range:\n",
    "            print(f\"Trying: {(p, d, q)}\")\n",
    "            model = ARIMA(train_data, order=(p, d, q))\n",
    "            model_fit = model.fit()\n",
    "            forecast = model_fit.forecast(steps=len(validation_data))\n",
    "            \n",
    "            mae = mean_absolute_error(validation_data, forecast)\n",
    "            rmse = sqrt(mean_squared_error(validation_data, forecast))\n",
    "            r2 = r2_score(validation_data, forecast)\n",
    "            \n",
    "            iter_results_dict = {\"Params (p, d, q)\": (p, d, q), \"MAE\": mae, \"RMSE\": rmse, \"R2\": r2}\n",
    "            print(iter_results_dict)\n",
    "            df_gs.append(iter_results_dict, ignore_index=True)"
   ]
  },
  {
   "cell_type": "markdown",
   "id": "8d180111-73d7-4814-8de3-8b44f5e35165",
   "metadata": {},
   "source": [
    "# 4. Make Forecasting Predictions"
   ]
  },
  {
   "cell_type": "markdown",
   "id": "ae6a57aa-da60-4deb-8d11-b599ce302bc9",
   "metadata": {},
   "source": [
    "Loop through each minute prediction from 1 to 20, forecasts the next minute step using the ARIMA model, stores the forecasted values in a DataFrame, calculates the errors at each minute prediction, and plots the mean absolute error at each forecast horizon."
   ]
  },
  {
   "cell_type": "code",
   "execution_count": 22,
   "id": "205b54c5-ce2d-41d9-aed2-9c4a3d600a9a",
   "metadata": {
    "execution": {
     "iopub.execute_input": "2023-08-24T21:18:48.601842Z",
     "iopub.status.busy": "2023-08-24T21:18:48.601523Z",
     "iopub.status.idle": "2023-08-24T21:18:48.604968Z",
     "shell.execute_reply": "2023-08-24T21:18:48.604370Z",
     "shell.execute_reply.started": "2023-08-24T21:18:48.601819Z"
    },
    "tags": []
   },
   "outputs": [],
   "source": [
    "forecast_horizon = 20"
   ]
  },
  {
   "cell_type": "code",
   "execution_count": 21,
   "id": "08942f2a-059c-4d5e-902b-76c9f8f2d743",
   "metadata": {
    "execution": {
     "iopub.execute_input": "2023-08-24T21:14:59.656528Z",
     "iopub.status.busy": "2023-08-24T21:14:59.656125Z",
     "iopub.status.idle": "2023-08-24T21:18:48.600341Z",
     "shell.execute_reply": "2023-08-24T21:18:48.599545Z",
     "shell.execute_reply.started": "2023-08-24T21:14:59.656502Z"
    },
    "tags": []
   },
   "outputs": [
    {
     "data": {
      "image/png": "[encoded data removed]",
      "text/plain": [
       "<Figure size 1200x600 with 1 Axes>"
      ]
     },
     "metadata": {},
     "output_type": "display_data"
    }
   ],
   "source": [
    "# Initialize an empty array to store forecasted values\n",
    "forecast_values = []\n",
    "\n",
    "# Break down the predictions into smaller chunks to manage memory\n",
    "chunk_size = 10000\n",
    "num_chunks = len(test_data) // chunk_size + 1\n",
    "\n",
    "for chunk_idx in range(num_chunks):\n",
    "    start_idx = chunk_idx * chunk_size\n",
    "    end_idx = min((chunk_idx + 1) * chunk_size, len(test_data))\n",
    "    chunk_forecast_series = model_fit.forecast(steps=(end_idx - start_idx) * forecast_horizon)\n",
    "    chunk_forecast_array = np.array(chunk_forecast_series).reshape(-1, forecast_horizon)\n",
    "    forecast_values.append(chunk_forecast_array)\n",
    "\n",
    "# Concatenate the chunks to get the complete forecast values\n",
    "forecast_values = np.concatenate(forecast_values)\n",
    "\n",
    "# Create a DataFrame to store predictions\n",
    "prediction_index = pd.date_range(start=test_data.index[0], periods=len(test_data), freq='T')\n",
    "prediction_df = pd.DataFrame(data=forecast_values, index=prediction_index)"
   ]
  },
  {
   "cell_type": "code",
   "execution_count": 23,
   "id": "911bc4d7-0866-4c13-908d-94efbee16427",
   "metadata": {
    "execution": {
     "iopub.execute_input": "2023-08-24T21:20:59.786382Z",
     "iopub.status.busy": "2023-08-24T21:20:59.786013Z",
     "iopub.status.idle": "2023-08-24T21:20:59.807683Z",
     "shell.execute_reply": "2023-08-24T21:20:59.807002Z",
     "shell.execute_reply.started": "2023-08-24T21:20:59.786358Z"
    },
    "tags": []
   },
   "outputs": [
    {
     "data": {
      "text/html": [
       "<div>\n",
       "<style scoped>\n",
       "    .dataframe tbody tr th:only-of-type {\n",
       "        vertical-align: middle;\n",
       "    }\n",
       "\n",
       "    .dataframe tbody tr th {\n",
       "        vertical-align: top;\n",
       "    }\n",
       "\n",
       "    .dataframe thead th {\n",
       "        text-align: right;\n",
       "    }\n",
       "</style>\n",
       "<table border=\"1\" class=\"dataframe\">\n",
       "  <thead>\n",
       "    <tr style=\"text-align: right;\">\n",
       "      <th></th>\n",
       "      <th>0</th>\n",
       "      <th>1</th>\n",
       "      <th>2</th>\n",
       "      <th>3</th>\n",
       "      <th>4</th>\n",
       "      <th>5</th>\n",
       "      <th>6</th>\n",
       "      <th>7</th>\n",
       "      <th>8</th>\n",
       "      <th>9</th>\n",
       "      <th>10</th>\n",
       "      <th>11</th>\n",
       "      <th>12</th>\n",
       "      <th>13</th>\n",
       "      <th>14</th>\n",
       "      <th>15</th>\n",
       "      <th>16</th>\n",
       "      <th>17</th>\n",
       "      <th>18</th>\n",
       "      <th>19</th>\n",
       "    </tr>\n",
       "  </thead>\n",
       "  <tbody>\n",
       "    <tr>\n",
       "      <th>2016-01-01 08:00:00</th>\n",
       "      <td>125.653878</td>\n",
       "      <td>125.653530</td>\n",
       "      <td>125.653527</td>\n",
       "      <td>125.653527</td>\n",
       "      <td>125.653527</td>\n",
       "      <td>125.653527</td>\n",
       "      <td>125.653527</td>\n",
       "      <td>125.653527</td>\n",
       "      <td>125.653527</td>\n",
       "      <td>125.653527</td>\n",
       "      <td>125.653527</td>\n",
       "      <td>125.653527</td>\n",
       "      <td>125.653527</td>\n",
       "      <td>125.653527</td>\n",
       "      <td>125.653527</td>\n",
       "      <td>125.653527</td>\n",
       "      <td>125.653527</td>\n",
       "      <td>125.653527</td>\n",
       "      <td>125.653527</td>\n",
       "      <td>125.653527</td>\n",
       "    </tr>\n",
       "    <tr>\n",
       "      <th>2016-01-01 08:01:00</th>\n",
       "      <td>125.653527</td>\n",
       "      <td>125.653527</td>\n",
       "      <td>125.653527</td>\n",
       "      <td>125.653527</td>\n",
       "      <td>125.653527</td>\n",
       "      <td>125.653527</td>\n",
       "      <td>125.653527</td>\n",
       "      <td>125.653527</td>\n",
       "      <td>125.653527</td>\n",
       "      <td>125.653527</td>\n",
       "      <td>125.653527</td>\n",
       "      <td>125.653527</td>\n",
       "      <td>125.653527</td>\n",
       "      <td>125.653527</td>\n",
       "      <td>125.653527</td>\n",
       "      <td>125.653527</td>\n",
       "      <td>125.653527</td>\n",
       "      <td>125.653527</td>\n",
       "      <td>125.653527</td>\n",
       "      <td>125.653527</td>\n",
       "    </tr>\n",
       "    <tr>\n",
       "      <th>2016-01-01 08:02:00</th>\n",
       "      <td>125.653527</td>\n",
       "      <td>125.653527</td>\n",
       "      <td>125.653527</td>\n",
       "      <td>125.653527</td>\n",
       "      <td>125.653527</td>\n",
       "      <td>125.653527</td>\n",
       "      <td>125.653527</td>\n",
       "      <td>125.653527</td>\n",
       "      <td>125.653527</td>\n",
       "      <td>125.653527</td>\n",
       "      <td>125.653527</td>\n",
       "      <td>125.653527</td>\n",
       "      <td>125.653527</td>\n",
       "      <td>125.653527</td>\n",
       "      <td>125.653527</td>\n",
       "      <td>125.653527</td>\n",
       "      <td>125.653527</td>\n",
       "      <td>125.653527</td>\n",
       "      <td>125.653527</td>\n",
       "      <td>125.653527</td>\n",
       "    </tr>\n",
       "    <tr>\n",
       "      <th>2016-01-01 08:03:00</th>\n",
       "      <td>125.653527</td>\n",
       "      <td>125.653527</td>\n",
       "      <td>125.653527</td>\n",
       "      <td>125.653527</td>\n",
       "      <td>125.653527</td>\n",
       "      <td>125.653527</td>\n",
       "      <td>125.653527</td>\n",
       "      <td>125.653527</td>\n",
       "      <td>125.653527</td>\n",
       "      <td>125.653527</td>\n",
       "      <td>125.653527</td>\n",
       "      <td>125.653527</td>\n",
       "      <td>125.653527</td>\n",
       "      <td>125.653527</td>\n",
       "      <td>125.653527</td>\n",
       "      <td>125.653527</td>\n",
       "      <td>125.653527</td>\n",
       "      <td>125.653527</td>\n",
       "      <td>125.653527</td>\n",
       "      <td>125.653527</td>\n",
       "    </tr>\n",
       "    <tr>\n",
       "      <th>2016-01-01 08:04:00</th>\n",
       "      <td>125.653527</td>\n",
       "      <td>125.653527</td>\n",
       "      <td>125.653527</td>\n",
       "      <td>125.653527</td>\n",
       "      <td>125.653527</td>\n",
       "      <td>125.653527</td>\n",
       "      <td>125.653527</td>\n",
       "      <td>125.653527</td>\n",
       "      <td>125.653527</td>\n",
       "      <td>125.653527</td>\n",
       "      <td>125.653527</td>\n",
       "      <td>125.653527</td>\n",
       "      <td>125.653527</td>\n",
       "      <td>125.653527</td>\n",
       "      <td>125.653527</td>\n",
       "      <td>125.653527</td>\n",
       "      <td>125.653527</td>\n",
       "      <td>125.653527</td>\n",
       "      <td>125.653527</td>\n",
       "      <td>125.653527</td>\n",
       "    </tr>\n",
       "    <tr>\n",
       "      <th>...</th>\n",
       "      <td>...</td>\n",
       "      <td>...</td>\n",
       "      <td>...</td>\n",
       "      <td>...</td>\n",
       "      <td>...</td>\n",
       "      <td>...</td>\n",
       "      <td>...</td>\n",
       "      <td>...</td>\n",
       "      <td>...</td>\n",
       "      <td>...</td>\n",
       "      <td>...</td>\n",
       "      <td>...</td>\n",
       "      <td>...</td>\n",
       "      <td>...</td>\n",
       "      <td>...</td>\n",
       "      <td>...</td>\n",
       "      <td>...</td>\n",
       "      <td>...</td>\n",
       "      <td>...</td>\n",
       "      <td>...</td>\n",
       "    </tr>\n",
       "    <tr>\n",
       "      <th>2016-12-29 07:55:00</th>\n",
       "      <td>125.653527</td>\n",
       "      <td>125.653527</td>\n",
       "      <td>125.653527</td>\n",
       "      <td>125.653527</td>\n",
       "      <td>125.653527</td>\n",
       "      <td>125.653527</td>\n",
       "      <td>125.653527</td>\n",
       "      <td>125.653527</td>\n",
       "      <td>125.653527</td>\n",
       "      <td>125.653527</td>\n",
       "      <td>125.653527</td>\n",
       "      <td>125.653527</td>\n",
       "      <td>125.653527</td>\n",
       "      <td>125.653527</td>\n",
       "      <td>125.653527</td>\n",
       "      <td>125.653527</td>\n",
       "      <td>125.653527</td>\n",
       "      <td>125.653527</td>\n",
       "      <td>125.653527</td>\n",
       "      <td>125.653527</td>\n",
       "    </tr>\n",
       "    <tr>\n",
       "      <th>2016-12-29 07:56:00</th>\n",
       "      <td>125.653527</td>\n",
       "      <td>125.653527</td>\n",
       "      <td>125.653527</td>\n",
       "      <td>125.653527</td>\n",
       "      <td>125.653527</td>\n",
       "      <td>125.653527</td>\n",
       "      <td>125.653527</td>\n",
       "      <td>125.653527</td>\n",
       "      <td>125.653527</td>\n",
       "      <td>125.653527</td>\n",
       "      <td>125.653527</td>\n",
       "      <td>125.653527</td>\n",
       "      <td>125.653527</td>\n",
       "      <td>125.653527</td>\n",
       "      <td>125.653527</td>\n",
       "      <td>125.653527</td>\n",
       "      <td>125.653527</td>\n",
       "      <td>125.653527</td>\n",
       "      <td>125.653527</td>\n",
       "      <td>125.653527</td>\n",
       "    </tr>\n",
       "    <tr>\n",
       "      <th>2016-12-29 07:57:00</th>\n",
       "      <td>125.653527</td>\n",
       "      <td>125.653527</td>\n",
       "      <td>125.653527</td>\n",
       "      <td>125.653527</td>\n",
       "      <td>125.653527</td>\n",
       "      <td>125.653527</td>\n",
       "      <td>125.653527</td>\n",
       "      <td>125.653527</td>\n",
       "      <td>125.653527</td>\n",
       "      <td>125.653527</td>\n",
       "      <td>125.653527</td>\n",
       "      <td>125.653527</td>\n",
       "      <td>125.653527</td>\n",
       "      <td>125.653527</td>\n",
       "      <td>125.653527</td>\n",
       "      <td>125.653527</td>\n",
       "      <td>125.653527</td>\n",
       "      <td>125.653527</td>\n",
       "      <td>125.653527</td>\n",
       "      <td>125.653527</td>\n",
       "    </tr>\n",
       "    <tr>\n",
       "      <th>2016-12-29 07:58:00</th>\n",
       "      <td>125.653527</td>\n",
       "      <td>125.653527</td>\n",
       "      <td>125.653527</td>\n",
       "      <td>125.653527</td>\n",
       "      <td>125.653527</td>\n",
       "      <td>125.653527</td>\n",
       "      <td>125.653527</td>\n",
       "      <td>125.653527</td>\n",
       "      <td>125.653527</td>\n",
       "      <td>125.653527</td>\n",
       "      <td>125.653527</td>\n",
       "      <td>125.653527</td>\n",
       "      <td>125.653527</td>\n",
       "      <td>125.653527</td>\n",
       "      <td>125.653527</td>\n",
       "      <td>125.653527</td>\n",
       "      <td>125.653527</td>\n",
       "      <td>125.653527</td>\n",
       "      <td>125.653527</td>\n",
       "      <td>125.653527</td>\n",
       "    </tr>\n",
       "    <tr>\n",
       "      <th>2016-12-29 07:59:00</th>\n",
       "      <td>125.653527</td>\n",
       "      <td>125.653527</td>\n",
       "      <td>125.653527</td>\n",
       "      <td>125.653527</td>\n",
       "      <td>125.653527</td>\n",
       "      <td>125.653527</td>\n",
       "      <td>125.653527</td>\n",
       "      <td>125.653527</td>\n",
       "      <td>125.653527</td>\n",
       "      <td>125.653527</td>\n",
       "      <td>125.653527</td>\n",
       "      <td>125.653527</td>\n",
       "      <td>125.653527</td>\n",
       "      <td>125.653527</td>\n",
       "      <td>125.653527</td>\n",
       "      <td>125.653527</td>\n",
       "      <td>125.653527</td>\n",
       "      <td>125.653527</td>\n",
       "      <td>125.653527</td>\n",
       "      <td>125.653527</td>\n",
       "    </tr>\n",
       "  </tbody>\n",
       "</table>\n",
       "<p>522720 rows × 20 columns</p>\n",
       "</div>"
      ],
      "text/plain": [
       "                             0           1           2           3   \\\n",
       "2016-01-01 08:00:00  125.653878  125.653530  125.653527  125.653527   \n",
       "2016-01-01 08:01:00  125.653527  125.653527  125.653527  125.653527   \n",
       "2016-01-01 08:02:00  125.653527  125.653527  125.653527  125.653527   \n",
       "2016-01-01 08:03:00  125.653527  125.653527  125.653527  125.653527   \n",
       "2016-01-01 08:04:00  125.653527  125.653527  125.653527  125.653527   \n",
       "...                         ...         ...         ...         ...   \n",
       "2016-12-29 07:55:00  125.653527  125.653527  125.653527  125.653527   \n",
       "2016-12-29 07:56:00  125.653527  125.653527  125.653527  125.653527   \n",
       "2016-12-29 07:57:00  125.653527  125.653527  125.653527  125.653527   \n",
       "2016-12-29 07:58:00  125.653527  125.653527  125.653527  125.653527   \n",
       "2016-12-29 07:59:00  125.653527  125.653527  125.653527  125.653527   \n",
       "\n",
       "                             4           5           6           7   \\\n",
       "2016-01-01 08:00:00  125.653527  125.653527  125.653527  125.653527   \n",
       "2016-01-01 08:01:00  125.653527  125.653527  125.653527  125.653527   \n",
       "2016-01-01 08:02:00  125.653527  125.653527  125.653527  125.653527   \n",
       "2016-01-01 08:03:00  125.653527  125.653527  125.653527  125.653527   \n",
       "2016-01-01 08:04:00  125.653527  125.653527  125.653527  125.653527   \n",
       "...                         ...         ...         ...         ...   \n",
       "2016-12-29 07:55:00  125.653527  125.653527  125.653527  125.653527   \n",
       "2016-12-29 07:56:00  125.653527  125.653527  125.653527  125.653527   \n",
       "2016-12-29 07:57:00  125.653527  125.653527  125.653527  125.653527   \n",
       "2016-12-29 07:58:00  125.653527  125.653527  125.653527  125.653527   \n",
       "2016-12-29 07:59:00  125.653527  125.653527  125.653527  125.653527   \n",
       "\n",
       "                             8           9           10          11  \\\n",
       "2016-01-01 08:00:00  125.653527  125.653527  125.653527  125.653527   \n",
       "2016-01-01 08:01:00  125.653527  125.653527  125.653527  125.653527   \n",
       "2016-01-01 08:02:00  125.653527  125.653527  125.653527  125.653527   \n",
       "2016-01-01 08:03:00  125.653527  125.653527  125.653527  125.653527   \n",
       "2016-01-01 08:04:00  125.653527  125.653527  125.653527  125.653527   \n",
       "...                         ...         ...         ...         ...   \n",
       "2016-12-29 07:55:00  125.653527  125.653527  125.653527  125.653527   \n",
       "2016-12-29 07:56:00  125.653527  125.653527  125.653527  125.653527   \n",
       "2016-12-29 07:57:00  125.653527  125.653527  125.653527  125.653527   \n",
       "2016-12-29 07:58:00  125.653527  125.653527  125.653527  125.653527   \n",
       "2016-12-29 07:59:00  125.653527  125.653527  125.653527  125.653527   \n",
       "\n",
       "                             12          13          14          15  \\\n",
       "2016-01-01 08:00:00  125.653527  125.653527  125.653527  125.653527   \n",
       "2016-01-01 08:01:00  125.653527  125.653527  125.653527  125.653527   \n",
       "2016-01-01 08:02:00  125.653527  125.653527  125.653527  125.653527   \n",
       "2016-01-01 08:03:00  125.653527  125.653527  125.653527  125.653527   \n",
       "2016-01-01 08:04:00  125.653527  125.653527  125.653527  125.653527   \n",
       "...                         ...         ...         ...         ...   \n",
       "2016-12-29 07:55:00  125.653527  125.653527  125.653527  125.653527   \n",
       "2016-12-29 07:56:00  125.653527  125.653527  125.653527  125.653527   \n",
       "2016-12-29 07:57:00  125.653527  125.653527  125.653527  125.653527   \n",
       "2016-12-29 07:58:00  125.653527  125.653527  125.653527  125.653527   \n",
       "2016-12-29 07:59:00  125.653527  125.653527  125.653527  125.653527   \n",
       "\n",
       "                             16          17          18          19  \n",
       "2016-01-01 08:00:00  125.653527  125.653527  125.653527  125.653527  \n",
       "2016-01-01 08:01:00  125.653527  125.653527  125.653527  125.653527  \n",
       "2016-01-01 08:02:00  125.653527  125.653527  125.653527  125.653527  \n",
       "2016-01-01 08:03:00  125.653527  125.653527  125.653527  125.653527  \n",
       "2016-01-01 08:04:00  125.653527  125.653527  125.653527  125.653527  \n",
       "...                         ...         ...         ...         ...  \n",
       "2016-12-29 07:55:00  125.653527  125.653527  125.653527  125.653527  \n",
       "2016-12-29 07:56:00  125.653527  125.653527  125.653527  125.653527  \n",
       "2016-12-29 07:57:00  125.653527  125.653527  125.653527  125.653527  \n",
       "2016-12-29 07:58:00  125.653527  125.653527  125.653527  125.653527  \n",
       "2016-12-29 07:59:00  125.653527  125.653527  125.653527  125.653527  \n",
       "\n",
       "[522720 rows x 20 columns]"
      ]
     },
     "execution_count": 23,
     "metadata": {},
     "output_type": "execute_result"
    }
   ],
   "source": [
    "prediction_df"
   ]
  },
  {
   "cell_type": "code",
   "execution_count": 37,
   "id": "87f28ec3-eadb-47b8-9021-90f517293715",
   "metadata": {
    "execution": {
     "iopub.execute_input": "2023-08-24T21:25:01.491079Z",
     "iopub.status.busy": "2023-08-24T21:25:01.490685Z",
     "iopub.status.idle": "2023-08-24T21:25:02.541219Z",
     "shell.execute_reply": "2023-08-24T21:25:02.540431Z",
     "shell.execute_reply.started": "2023-08-24T21:25:01.491052Z"
    },
    "tags": []
   },
   "outputs": [
    {
     "data": {
      "text/html": [
       "<div>\n",
       "<style scoped>\n",
       "    .dataframe tbody tr th:only-of-type {\n",
       "        vertical-align: middle;\n",
       "    }\n",
       "\n",
       "    .dataframe tbody tr th {\n",
       "        vertical-align: top;\n",
       "    }\n",
       "\n",
       "    .dataframe thead th {\n",
       "        text-align: right;\n",
       "    }\n",
       "</style>\n",
       "<table border=\"1\" class=\"dataframe\">\n",
       "  <thead>\n",
       "    <tr style=\"text-align: right;\">\n",
       "      <th></th>\n",
       "      <th>0</th>\n",
       "      <th>1</th>\n",
       "      <th>2</th>\n",
       "      <th>3</th>\n",
       "      <th>4</th>\n",
       "      <th>5</th>\n",
       "      <th>6</th>\n",
       "      <th>7</th>\n",
       "      <th>8</th>\n",
       "      <th>9</th>\n",
       "      <th>10</th>\n",
       "      <th>11</th>\n",
       "      <th>12</th>\n",
       "      <th>13</th>\n",
       "      <th>14</th>\n",
       "      <th>15</th>\n",
       "      <th>16</th>\n",
       "      <th>17</th>\n",
       "      <th>18</th>\n",
       "      <th>19</th>\n",
       "    </tr>\n",
       "  </thead>\n",
       "  <tbody>\n",
       "    <tr>\n",
       "      <th>count</th>\n",
       "      <td>522720.000000</td>\n",
       "      <td>5.227200e+05</td>\n",
       "      <td>5.227200e+05</td>\n",
       "      <td>5.227200e+05</td>\n",
       "      <td>5.227200e+05</td>\n",
       "      <td>5.227200e+05</td>\n",
       "      <td>5.227200e+05</td>\n",
       "      <td>5.227200e+05</td>\n",
       "      <td>5.227200e+05</td>\n",
       "      <td>5.227200e+05</td>\n",
       "      <td>5.227200e+05</td>\n",
       "      <td>5.227200e+05</td>\n",
       "      <td>5.227200e+05</td>\n",
       "      <td>5.227200e+05</td>\n",
       "      <td>5.227200e+05</td>\n",
       "      <td>5.227200e+05</td>\n",
       "      <td>5.227200e+05</td>\n",
       "      <td>5.227200e+05</td>\n",
       "      <td>5.227200e+05</td>\n",
       "      <td>5.227200e+05</td>\n",
       "    </tr>\n",
       "    <tr>\n",
       "      <th>mean</th>\n",
       "      <td>125.653527</td>\n",
       "      <td>1.256535e+02</td>\n",
       "      <td>1.256535e+02</td>\n",
       "      <td>1.256535e+02</td>\n",
       "      <td>1.256535e+02</td>\n",
       "      <td>1.256535e+02</td>\n",
       "      <td>1.256535e+02</td>\n",
       "      <td>1.256535e+02</td>\n",
       "      <td>1.256535e+02</td>\n",
       "      <td>1.256535e+02</td>\n",
       "      <td>1.256535e+02</td>\n",
       "      <td>1.256535e+02</td>\n",
       "      <td>1.256535e+02</td>\n",
       "      <td>1.256535e+02</td>\n",
       "      <td>1.256535e+02</td>\n",
       "      <td>1.256535e+02</td>\n",
       "      <td>1.256535e+02</td>\n",
       "      <td>1.256535e+02</td>\n",
       "      <td>1.256535e+02</td>\n",
       "      <td>1.256535e+02</td>\n",
       "    </tr>\n",
       "    <tr>\n",
       "      <th>std</th>\n",
       "      <td>0.000004</td>\n",
       "      <td>2.675070e-08</td>\n",
       "      <td>2.022605e-10</td>\n",
       "      <td>1.532630e-12</td>\n",
       "      <td>8.616497e-14</td>\n",
       "      <td>8.526677e-14</td>\n",
       "      <td>8.526521e-14</td>\n",
       "      <td>8.526521e-14</td>\n",
       "      <td>8.526521e-14</td>\n",
       "      <td>8.526521e-14</td>\n",
       "      <td>8.526521e-14</td>\n",
       "      <td>8.526521e-14</td>\n",
       "      <td>8.526521e-14</td>\n",
       "      <td>8.526521e-14</td>\n",
       "      <td>8.526521e-14</td>\n",
       "      <td>8.526521e-14</td>\n",
       "      <td>8.526521e-14</td>\n",
       "      <td>8.526521e-14</td>\n",
       "      <td>8.526521e-14</td>\n",
       "      <td>8.526521e-14</td>\n",
       "    </tr>\n",
       "    <tr>\n",
       "      <th>min</th>\n",
       "      <td>125.653527</td>\n",
       "      <td>1.256535e+02</td>\n",
       "      <td>1.256535e+02</td>\n",
       "      <td>1.256535e+02</td>\n",
       "      <td>1.256535e+02</td>\n",
       "      <td>1.256535e+02</td>\n",
       "      <td>1.256535e+02</td>\n",
       "      <td>1.256535e+02</td>\n",
       "      <td>1.256535e+02</td>\n",
       "      <td>1.256535e+02</td>\n",
       "      <td>1.256535e+02</td>\n",
       "      <td>1.256535e+02</td>\n",
       "      <td>1.256535e+02</td>\n",
       "      <td>1.256535e+02</td>\n",
       "      <td>1.256535e+02</td>\n",
       "      <td>1.256535e+02</td>\n",
       "      <td>1.256535e+02</td>\n",
       "      <td>1.256535e+02</td>\n",
       "      <td>1.256535e+02</td>\n",
       "      <td>1.256535e+02</td>\n",
       "    </tr>\n",
       "    <tr>\n",
       "      <th>25%</th>\n",
       "      <td>125.653527</td>\n",
       "      <td>1.256535e+02</td>\n",
       "      <td>1.256535e+02</td>\n",
       "      <td>1.256535e+02</td>\n",
       "      <td>1.256535e+02</td>\n",
       "      <td>1.256535e+02</td>\n",
       "      <td>1.256535e+02</td>\n",
       "      <td>1.256535e+02</td>\n",
       "      <td>1.256535e+02</td>\n",
       "      <td>1.256535e+02</td>\n",
       "      <td>1.256535e+02</td>\n",
       "      <td>1.256535e+02</td>\n",
       "      <td>1.256535e+02</td>\n",
       "      <td>1.256535e+02</td>\n",
       "      <td>1.256535e+02</td>\n",
       "      <td>1.256535e+02</td>\n",
       "      <td>1.256535e+02</td>\n",
       "      <td>1.256535e+02</td>\n",
       "      <td>1.256535e+02</td>\n",
       "      <td>1.256535e+02</td>\n",
       "    </tr>\n",
       "    <tr>\n",
       "      <th>50%</th>\n",
       "      <td>125.653527</td>\n",
       "      <td>1.256535e+02</td>\n",
       "      <td>1.256535e+02</td>\n",
       "      <td>1.256535e+02</td>\n",
       "      <td>1.256535e+02</td>\n",
       "      <td>1.256535e+02</td>\n",
       "      <td>1.256535e+02</td>\n",
       "      <td>1.256535e+02</td>\n",
       "      <td>1.256535e+02</td>\n",
       "      <td>1.256535e+02</td>\n",
       "      <td>1.256535e+02</td>\n",
       "      <td>1.256535e+02</td>\n",
       "      <td>1.256535e+02</td>\n",
       "      <td>1.256535e+02</td>\n",
       "      <td>1.256535e+02</td>\n",
       "      <td>1.256535e+02</td>\n",
       "      <td>1.256535e+02</td>\n",
       "      <td>1.256535e+02</td>\n",
       "      <td>1.256535e+02</td>\n",
       "      <td>1.256535e+02</td>\n",
       "    </tr>\n",
       "    <tr>\n",
       "      <th>75%</th>\n",
       "      <td>125.653527</td>\n",
       "      <td>1.256535e+02</td>\n",
       "      <td>1.256535e+02</td>\n",
       "      <td>1.256535e+02</td>\n",
       "      <td>1.256535e+02</td>\n",
       "      <td>1.256535e+02</td>\n",
       "      <td>1.256535e+02</td>\n",
       "      <td>1.256535e+02</td>\n",
       "      <td>1.256535e+02</td>\n",
       "      <td>1.256535e+02</td>\n",
       "      <td>1.256535e+02</td>\n",
       "      <td>1.256535e+02</td>\n",
       "      <td>1.256535e+02</td>\n",
       "      <td>1.256535e+02</td>\n",
       "      <td>1.256535e+02</td>\n",
       "      <td>1.256535e+02</td>\n",
       "      <td>1.256535e+02</td>\n",
       "      <td>1.256535e+02</td>\n",
       "      <td>1.256535e+02</td>\n",
       "      <td>1.256535e+02</td>\n",
       "    </tr>\n",
       "    <tr>\n",
       "      <th>max</th>\n",
       "      <td>125.653878</td>\n",
       "      <td>1.256535e+02</td>\n",
       "      <td>1.256535e+02</td>\n",
       "      <td>1.256535e+02</td>\n",
       "      <td>1.256535e+02</td>\n",
       "      <td>1.256535e+02</td>\n",
       "      <td>1.256535e+02</td>\n",
       "      <td>1.256535e+02</td>\n",
       "      <td>1.256535e+02</td>\n",
       "      <td>1.256535e+02</td>\n",
       "      <td>1.256535e+02</td>\n",
       "      <td>1.256535e+02</td>\n",
       "      <td>1.256535e+02</td>\n",
       "      <td>1.256535e+02</td>\n",
       "      <td>1.256535e+02</td>\n",
       "      <td>1.256535e+02</td>\n",
       "      <td>1.256535e+02</td>\n",
       "      <td>1.256535e+02</td>\n",
       "      <td>1.256535e+02</td>\n",
       "      <td>1.256535e+02</td>\n",
       "    </tr>\n",
       "  </tbody>\n",
       "</table>\n",
       "</div>"
      ],
      "text/plain": [
       "                  0             1             2             3             4   \\\n",
       "count  522720.000000  5.227200e+05  5.227200e+05  5.227200e+05  5.227200e+05   \n",
       "mean      125.653527  1.256535e+02  1.256535e+02  1.256535e+02  1.256535e+02   \n",
       "std         0.000004  2.675070e-08  2.022605e-10  1.532630e-12  8.616497e-14   \n",
       "min       125.653527  1.256535e+02  1.256535e+02  1.256535e+02  1.256535e+02   \n",
       "25%       125.653527  1.256535e+02  1.256535e+02  1.256535e+02  1.256535e+02   \n",
       "50%       125.653527  1.256535e+02  1.256535e+02  1.256535e+02  1.256535e+02   \n",
       "75%       125.653527  1.256535e+02  1.256535e+02  1.256535e+02  1.256535e+02   \n",
       "max       125.653878  1.256535e+02  1.256535e+02  1.256535e+02  1.256535e+02   \n",
       "\n",
       "                 5             6             7             8             9   \\\n",
       "count  5.227200e+05  5.227200e+05  5.227200e+05  5.227200e+05  5.227200e+05   \n",
       "mean   1.256535e+02  1.256535e+02  1.256535e+02  1.256535e+02  1.256535e+02   \n",
       "std    8.526677e-14  8.526521e-14  8.526521e-14  8.526521e-14  8.526521e-14   \n",
       "min    1.256535e+02  1.256535e+02  1.256535e+02  1.256535e+02  1.256535e+02   \n",
       "25%    1.256535e+02  1.256535e+02  1.256535e+02  1.256535e+02  1.256535e+02   \n",
       "50%    1.256535e+02  1.256535e+02  1.256535e+02  1.256535e+02  1.256535e+02   \n",
       "75%    1.256535e+02  1.256535e+02  1.256535e+02  1.256535e+02  1.256535e+02   \n",
       "max    1.256535e+02  1.256535e+02  1.256535e+02  1.256535e+02  1.256535e+02   \n",
       "\n",
       "                 10            11            12            13            14  \\\n",
       "count  5.227200e+05  5.227200e+05  5.227200e+05  5.227200e+05  5.227200e+05   \n",
       "mean   1.256535e+02  1.256535e+02  1.256535e+02  1.256535e+02  1.256535e+02   \n",
       "std    8.526521e-14  8.526521e-14  8.526521e-14  8.526521e-14  8.526521e-14   \n",
       "min    1.256535e+02  1.256535e+02  1.256535e+02  1.256535e+02  1.256535e+02   \n",
       "25%    1.256535e+02  1.256535e+02  1.256535e+02  1.256535e+02  1.256535e+02   \n",
       "50%    1.256535e+02  1.256535e+02  1.256535e+02  1.256535e+02  1.256535e+02   \n",
       "75%    1.256535e+02  1.256535e+02  1.256535e+02  1.256535e+02  1.256535e+02   \n",
       "max    1.256535e+02  1.256535e+02  1.256535e+02  1.256535e+02  1.256535e+02   \n",
       "\n",
       "                 15            16            17            18            19  \n",
       "count  5.227200e+05  5.227200e+05  5.227200e+05  5.227200e+05  5.227200e+05  \n",
       "mean   1.256535e+02  1.256535e+02  1.256535e+02  1.256535e+02  1.256535e+02  \n",
       "std    8.526521e-14  8.526521e-14  8.526521e-14  8.526521e-14  8.526521e-14  \n",
       "min    1.256535e+02  1.256535e+02  1.256535e+02  1.256535e+02  1.256535e+02  \n",
       "25%    1.256535e+02  1.256535e+02  1.256535e+02  1.256535e+02  1.256535e+02  \n",
       "50%    1.256535e+02  1.256535e+02  1.256535e+02  1.256535e+02  1.256535e+02  \n",
       "75%    1.256535e+02  1.256535e+02  1.256535e+02  1.256535e+02  1.256535e+02  \n",
       "max    1.256535e+02  1.256535e+02  1.256535e+02  1.256535e+02  1.256535e+02  "
      ]
     },
     "execution_count": 37,
     "metadata": {},
     "output_type": "execute_result"
    }
   ],
   "source": [
    "prediction_df.describe()"
   ]
  },
  {
   "cell_type": "code",
   "execution_count": 35,
   "id": "1b22eda7-d679-4cb6-9ee0-a5a9308a726e",
   "metadata": {
    "execution": {
     "iopub.execute_input": "2023-08-24T21:24:41.519297Z",
     "iopub.status.busy": "2023-08-24T21:24:41.518897Z",
     "iopub.status.idle": "2023-08-24T21:24:41.662974Z",
     "shell.execute_reply": "2023-08-24T21:24:41.662275Z",
     "shell.execute_reply.started": "2023-08-24T21:24:41.519270Z"
    },
    "tags": []
   },
   "outputs": [
    {
     "data": {
      "image/png": "[encoded data removed]",
      "text/plain": [
       "<Figure size 1200x600 with 1 Axes>"
      ]
     },
     "metadata": {},
     "output_type": "display_data"
    }
   ],
   "source": [
    "# Plot the predicted values for the first instance\n",
    "plt.figure(figsize=(12, 6))\n",
    "plt.plot(prediction_df.iloc[0], label='Prediction')\n",
    "# plt.plot(test_data.iloc[0], label='Actual')\n",
    "plt.xlabel('Time')\n",
    "plt.ylabel('Solar Irradiance')\n",
    "plt.title('ARIMA Model Predictions vs Actual')\n",
    "plt.legend()\n",
    "plt.show()"
   ]
  },
  {
   "cell_type": "markdown",
   "id": "b5346f42-6d26-4a01-b4e0-af2a214c2bcb",
   "metadata": {},
   "source": [
    "___"
   ]
  },
  {
   "cell_type": "code",
   "execution_count": null,
   "id": "5d1b0ea9-e243-46a8-8939-6cc4a4eb0f0d",
   "metadata": {
    "execution": {
     "iopub.execute_input": "2023-08-24T07:03:18.652250Z",
     "iopub.status.busy": "2023-08-24T07:03:18.651879Z"
    }
   },
   "outputs": [],
   "source": [
    "forecast_values = model_fit.forecast(steps=len(test_data) * FORECASTING_HORIZON).reshape(-1, FORECASTING_HORIZON)"
   ]
  },
  {
   "cell_type": "code",
   "execution_count": null,
   "id": "9d3b14b2-1c83-4124-8267-f44f59f0a355",
   "metadata": {
    "execution": {
     "iopub.execute_input": "2023-08-24T06:47:15.596856Z",
     "iopub.status.busy": "2023-08-24T06:47:15.596473Z"
    },
    "tags": []
   },
   "outputs": [],
   "source": [
    "# Predict the entire forecast horizon for all instances\n",
    "forecast_values = model_fit.forecast(steps=len(test_data) * FORECASTING_HORIZON).reshape(-1, FORECASTING_HORIZON)\n",
    "\n",
    "# Create a DataFrame to store predictions\n",
    "prediction_index = pd.date_range(start=test_data.index[0], periods=len(test_data), freq='T')\n",
    "prediction_df = pd.DataFrame(data=forecast_values, index=prediction_index)\n",
    "\n",
    "# Plot the predicted values for the first instance\n",
    "plt.figure(figsize=(12, 6))\n",
    "plt.plot(prediction_df.iloc[0], label='Prediction')\n",
    "plt.plot(test_data.iloc[0], label='Actual')\n",
    "plt.xlabel('Time')\n",
    "plt.ylabel('Solar Irradiance')\n",
    "plt.title('ARIMA Model Predictions vs Actual')\n",
    "plt.legend()\n",
    "plt.show()"
   ]
  },
  {
   "cell_type": "markdown",
   "id": "e5ac16b1-f49f-4398-a059-22e661e4898f",
   "metadata": {},
   "source": [
    "Loop through each minute prediction from 1 to 20"
   ]
  },
  {
   "cell_type": "code",
   "execution_count": 22,
   "id": "029ac039-ce89-45e6-bb32-6fae1a0e258f",
   "metadata": {
    "execution": {
     "iopub.execute_input": "2023-08-24T06:46:21.361373Z",
     "iopub.status.busy": "2023-08-24T06:46:21.360997Z",
     "iopub.status.idle": "2023-08-24T06:46:21.365735Z",
     "shell.execute_reply": "2023-08-24T06:46:21.365135Z",
     "shell.execute_reply.started": "2023-08-24T06:46:21.361351Z"
    }
   },
   "outputs": [
    {
     "data": {
      "text/plain": [
       "522720"
      ]
     },
     "execution_count": 22,
     "metadata": {},
     "output_type": "execute_result"
    }
   ],
   "source": [
    "len(test_data)"
   ]
  },
  {
   "cell_type": "code",
   "execution_count": null,
   "id": "a69d9b1f-9358-4271-b2b7-7d07cc18df6f",
   "metadata": {
    "execution": {
     "iopub.execute_input": "2023-08-23T22:15:04.194893Z",
     "iopub.status.busy": "2023-08-23T22:15:04.194490Z"
    },
    "tags": []
   },
   "outputs": [],
   "source": [
    "# Initialize an empty DataFrame to store forecasted values\n",
    "forecast_values = np.empty((len(test_data), FORECASTING_HORIZON))\n",
    "\n",
    "# Loop through each minute prediction from 1 to 20\n",
    "for idx in range(len(test_data)):\n",
    "    forecast = model_fit.forecast(steps=FORECASTING_HORIZON)\n",
    "    forecast_values[idx, :] = forecast"
   ]
  },
  {
   "cell_type": "markdown",
   "id": "a9c2f9ff-644e-4671-8cd2-26bc1bdef3f2",
   "metadata": {},
   "source": [
    "Calculate and plot the errors at each minute prediction"
   ]
  },
  {
   "cell_type": "code",
   "execution_count": 27,
   "id": "7e3f5ce6-2120-4e4c-82ee-536b233fa05b",
   "metadata": {
    "execution": {
     "iopub.execute_input": "2023-08-23T21:56:31.720878Z",
     "iopub.status.busy": "2023-08-23T21:56:31.720425Z",
     "iopub.status.idle": "2023-08-23T21:56:31.772151Z",
     "shell.execute_reply": "2023-08-23T21:56:31.771025Z",
     "shell.execute_reply.started": "2023-08-23T21:56:31.720846Z"
    },
    "tags": []
   },
   "outputs": [
    {
     "ename": "ValueError",
     "evalue": "Unable to coerce to DataFrame, shape must be (522720, 20): given (1568160, 1)",
     "output_type": "error",
     "traceback": [
      "\u001b[0;31m---------------------------------------------------------------------------\u001b[0m",
      "\u001b[0;31mValueError\u001b[0m                                Traceback (most recent call last)",
      "Cell \u001b[0;32mIn [27], line 1\u001b[0m\n\u001b[0;32m----> 1\u001b[0m errors \u001b[38;5;241m=\u001b[39m np\u001b[38;5;241m.\u001b[39mabs(forecast_df \u001b[38;5;241m-\u001b[39m test_data\u001b[38;5;241m.\u001b[39mvalues\u001b[38;5;241m.\u001b[39mreshape(\u001b[38;5;241m-\u001b[39m\u001b[38;5;241m1\u001b[39m, \u001b[38;5;241m1\u001b[39m))\n\u001b[1;32m      2\u001b[0m mean_errors \u001b[38;5;241m=\u001b[39m errors\u001b[38;5;241m.\u001b[39mmean(axis\u001b[38;5;241m=\u001b[39m\u001b[38;5;241m0\u001b[39m)\n",
      "File \u001b[0;32m/opt/saturncloud/envs/saturn/lib/python3.9/site-packages/pandas/core/ops/common.py:70\u001b[0m, in \u001b[0;36m_unpack_zerodim_and_defer.<locals>.new_method\u001b[0;34m(self, other)\u001b[0m\n\u001b[1;32m     66\u001b[0m             \u001b[38;5;28;01mreturn\u001b[39;00m \u001b[38;5;28mNotImplemented\u001b[39m\n\u001b[1;32m     68\u001b[0m other \u001b[38;5;241m=\u001b[39m item_from_zerodim(other)\n\u001b[0;32m---> 70\u001b[0m \u001b[38;5;28;01mreturn\u001b[39;00m \u001b[43mmethod\u001b[49m\u001b[43m(\u001b[49m\u001b[38;5;28;43mself\u001b[39;49m\u001b[43m,\u001b[49m\u001b[43m \u001b[49m\u001b[43mother\u001b[49m\u001b[43m)\u001b[49m\n",
      "File \u001b[0;32m/opt/saturncloud/envs/saturn/lib/python3.9/site-packages/pandas/core/arraylike.py:108\u001b[0m, in \u001b[0;36mOpsMixin.__sub__\u001b[0;34m(self, other)\u001b[0m\n\u001b[1;32m    106\u001b[0m \u001b[38;5;129m@unpack_zerodim_and_defer\u001b[39m(\u001b[38;5;124m\"\u001b[39m\u001b[38;5;124m__sub__\u001b[39m\u001b[38;5;124m\"\u001b[39m)\n\u001b[1;32m    107\u001b[0m \u001b[38;5;28;01mdef\u001b[39;00m \u001b[38;5;21m__sub__\u001b[39m(\u001b[38;5;28mself\u001b[39m, other):\n\u001b[0;32m--> 108\u001b[0m     \u001b[38;5;28;01mreturn\u001b[39;00m \u001b[38;5;28;43mself\u001b[39;49m\u001b[38;5;241;43m.\u001b[39;49m\u001b[43m_arith_method\u001b[49m\u001b[43m(\u001b[49m\u001b[43mother\u001b[49m\u001b[43m,\u001b[49m\u001b[43m \u001b[49m\u001b[43moperator\u001b[49m\u001b[38;5;241;43m.\u001b[39;49m\u001b[43msub\u001b[49m\u001b[43m)\u001b[49m\n",
      "File \u001b[0;32m/opt/saturncloud/envs/saturn/lib/python3.9/site-packages/pandas/core/frame.py:6944\u001b[0m, in \u001b[0;36mDataFrame._arith_method\u001b[0;34m(self, other, op)\u001b[0m\n\u001b[1;32m   6941\u001b[0m axis \u001b[38;5;241m=\u001b[39m \u001b[38;5;241m1\u001b[39m  \u001b[38;5;66;03m# only relevant for Series other case\u001b[39;00m\n\u001b[1;32m   6942\u001b[0m other \u001b[38;5;241m=\u001b[39m ops\u001b[38;5;241m.\u001b[39mmaybe_prepare_scalar_for_op(other, (\u001b[38;5;28mself\u001b[39m\u001b[38;5;241m.\u001b[39mshape[axis],))\n\u001b[0;32m-> 6944\u001b[0m \u001b[38;5;28mself\u001b[39m, other \u001b[38;5;241m=\u001b[39m \u001b[43mops\u001b[49m\u001b[38;5;241;43m.\u001b[39;49m\u001b[43malign_method_FRAME\u001b[49m\u001b[43m(\u001b[49m\u001b[38;5;28;43mself\u001b[39;49m\u001b[43m,\u001b[49m\u001b[43m \u001b[49m\u001b[43mother\u001b[49m\u001b[43m,\u001b[49m\u001b[43m \u001b[49m\u001b[43maxis\u001b[49m\u001b[43m,\u001b[49m\u001b[43m \u001b[49m\u001b[43mflex\u001b[49m\u001b[38;5;241;43m=\u001b[39;49m\u001b[38;5;28;43;01mTrue\u001b[39;49;00m\u001b[43m,\u001b[49m\u001b[43m \u001b[49m\u001b[43mlevel\u001b[49m\u001b[38;5;241;43m=\u001b[39;49m\u001b[38;5;28;43;01mNone\u001b[39;49;00m\u001b[43m)\u001b[49m\n\u001b[1;32m   6946\u001b[0m new_data \u001b[38;5;241m=\u001b[39m \u001b[38;5;28mself\u001b[39m\u001b[38;5;241m.\u001b[39m_dispatch_frame_op(other, op, axis\u001b[38;5;241m=\u001b[39maxis)\n\u001b[1;32m   6947\u001b[0m \u001b[38;5;28;01mreturn\u001b[39;00m \u001b[38;5;28mself\u001b[39m\u001b[38;5;241m.\u001b[39m_construct_result(new_data)\n",
      "File \u001b[0;32m/opt/saturncloud/envs/saturn/lib/python3.9/site-packages/pandas/core/ops/__init__.py:264\u001b[0m, in \u001b[0;36malign_method_FRAME\u001b[0;34m(left, right, axis, flex, level)\u001b[0m\n\u001b[1;32m    261\u001b[0m         right \u001b[38;5;241m=\u001b[39m to_series(right[\u001b[38;5;241m0\u001b[39m, :])\n\u001b[1;32m    263\u001b[0m     \u001b[38;5;28;01melse\u001b[39;00m:\n\u001b[0;32m--> 264\u001b[0m         \u001b[38;5;28;01mraise\u001b[39;00m \u001b[38;5;167;01mValueError\u001b[39;00m(\n\u001b[1;32m    265\u001b[0m             \u001b[38;5;124m\"\u001b[39m\u001b[38;5;124mUnable to coerce to DataFrame, shape \u001b[39m\u001b[38;5;124m\"\u001b[39m\n\u001b[1;32m    266\u001b[0m             \u001b[38;5;124mf\u001b[39m\u001b[38;5;124m\"\u001b[39m\u001b[38;5;124mmust be \u001b[39m\u001b[38;5;132;01m{\u001b[39;00mleft\u001b[38;5;241m.\u001b[39mshape\u001b[38;5;132;01m}\u001b[39;00m\u001b[38;5;124m: given \u001b[39m\u001b[38;5;132;01m{\u001b[39;00mright\u001b[38;5;241m.\u001b[39mshape\u001b[38;5;132;01m}\u001b[39;00m\u001b[38;5;124m\"\u001b[39m\n\u001b[1;32m    267\u001b[0m         )\n\u001b[1;32m    269\u001b[0m \u001b[38;5;28;01melif\u001b[39;00m right\u001b[38;5;241m.\u001b[39mndim \u001b[38;5;241m>\u001b[39m \u001b[38;5;241m2\u001b[39m:\n\u001b[1;32m    270\u001b[0m     \u001b[38;5;28;01mraise\u001b[39;00m \u001b[38;5;167;01mValueError\u001b[39;00m(\n\u001b[1;32m    271\u001b[0m         \u001b[38;5;124m\"\u001b[39m\u001b[38;5;124mUnable to coerce to Series/DataFrame, \u001b[39m\u001b[38;5;124m\"\u001b[39m\n\u001b[1;32m    272\u001b[0m         \u001b[38;5;124mf\u001b[39m\u001b[38;5;124m\"\u001b[39m\u001b[38;5;124mdimension must be <= 2: \u001b[39m\u001b[38;5;132;01m{\u001b[39;00mright\u001b[38;5;241m.\u001b[39mshape\u001b[38;5;132;01m}\u001b[39;00m\u001b[38;5;124m\"\u001b[39m\n\u001b[1;32m    273\u001b[0m     )\n",
      "\u001b[0;31mValueError\u001b[0m: Unable to coerce to DataFrame, shape must be (522720, 20): given (1568160, 1)"
     ]
    }
   ],
   "source": [
    "errors = np.abs(forecast_values - test_data.values.reshape(-1, 1))\n",
    "mean_errors = errors.mean(axis=0)"
   ]
  },
  {
   "cell_type": "code",
   "execution_count": null,
   "id": "fc212f9a-8234-4b82-9115-456a48525a30",
   "metadata": {},
   "outputs": [],
   "source": [
    "\n",
    "\n",
    "plt.figure(figsize=(10, 6))\n",
    "plt.plot(mean_errors, marker='o')\n",
    "plt.xlabel('Forecast Horizon (Minutes)')\n",
    "plt.ylabel('Mean Absolute Error')\n",
    "plt.title('Mean Absolute Error at Each Forecast Horizon')\n",
    "plt.xticks(range(1, FORECASTING_HORIZON + 1))\n",
    "plt.grid(True)\n",
    "plt.show()"
   ]
  }
 ],
 "metadata": {
  "kernelspec": {
   "display_name": "saturn (Python 3)",
   "language": "python",
   "name": "python3"
  },
  "language_info": {
   "codemirror_mode": {
    "name": "ipython",
    "version": 3
   },
   "file_extension": ".py",
   "mimetype": "text/x-python",
   "name": "python",
   "nbconvert_exporter": "python",
   "pygments_lexer": "ipython3",
   "version": "3.9.13"
  }
 },
 "nbformat": 4,
 "nbformat_minor": 5
}
