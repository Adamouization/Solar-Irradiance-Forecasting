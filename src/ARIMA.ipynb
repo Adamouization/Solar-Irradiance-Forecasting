{
 "cells": [
  {
   "cell_type": "markdown",
   "id": "b8d68ec2-1aed-4bfc-84c9-a5cd2fcc3876",
   "metadata": {},
   "source": [
    "# 1. Notebook Setup"
   ]
  },
  {
   "cell_type": "markdown",
   "id": "2c467eb5-9aed-47ff-846d-5cfe08bb89bf",
   "metadata": {},
   "source": [
    "Import libraries"
   ]
  },
  {
   "cell_type": "code",
   "execution_count": 1,
   "id": "bdb237cd-329c-4dde-a487-58fcabd32e5c",
   "metadata": {
    "execution": {
     "iopub.execute_input": "2023-08-24T07:05:00.186219Z",
     "iopub.status.busy": "2023-08-24T07:05:00.185791Z",
     "iopub.status.idle": "2023-08-24T07:05:02.284552Z",
     "shell.execute_reply": "2023-08-24T07:05:02.283978Z",
     "shell.execute_reply.started": "2023-08-24T07:05:00.186153Z"
    },
    "tags": []
   },
   "outputs": [],
   "source": [
    "import matplotlib.pyplot as plt\n",
    "import numpy as np\n",
    "import pandas as pd\n",
    "# import pmdarima as pm\n",
    "from statsmodels.tsa.arima.model import ARIMA\n",
    "\n",
    "import eda as eda"
   ]
  },
  {
   "cell_type": "markdown",
   "id": "93096682-d3d2-4405-8d9d-ba4a1747f02c",
   "metadata": {
    "tags": []
   },
   "source": [
    "# 2. Loading and Prepare data"
   ]
  },
  {
   "cell_type": "markdown",
   "id": "673dc6a0-cc30-4d46-8993-3f7eeee99af5",
   "metadata": {},
   "source": [
    "Load CSV"
   ]
  },
  {
   "cell_type": "code",
   "execution_count": 2,
   "id": "b6fa2f2a-bdb9-4425-9a73-8ca6e71406c6",
   "metadata": {
    "execution": {
     "iopub.execute_input": "2023-08-24T07:05:02.286459Z",
     "iopub.status.busy": "2023-08-24T07:05:02.285986Z",
     "iopub.status.idle": "2023-08-24T07:05:03.667923Z",
     "shell.execute_reply": "2023-08-24T07:05:03.667361Z",
     "shell.execute_reply.started": "2023-08-24T07:05:02.286425Z"
    },
    "tags": []
   },
   "outputs": [
    {
     "data": {
      "text/html": [
       "<div>\n",
       "<style scoped>\n",
       "    .dataframe tbody tr th:only-of-type {\n",
       "        vertical-align: middle;\n",
       "    }\n",
       "\n",
       "    .dataframe tbody tr th {\n",
       "        vertical-align: top;\n",
       "    }\n",
       "\n",
       "    .dataframe thead th {\n",
       "        text-align: right;\n",
       "    }\n",
       "</style>\n",
       "<table border=\"1\" class=\"dataframe\">\n",
       "  <thead>\n",
       "    <tr style=\"text-align: right;\">\n",
       "      <th></th>\n",
       "      <th>timeStamp</th>\n",
       "      <th>ghi</th>\n",
       "      <th>dni</th>\n",
       "      <th>dhi</th>\n",
       "    </tr>\n",
       "  </thead>\n",
       "  <tbody>\n",
       "    <tr>\n",
       "      <th>0</th>\n",
       "      <td>2014-01-02 08:00:00</td>\n",
       "      <td>0.0</td>\n",
       "      <td>0.0</td>\n",
       "      <td>0.0</td>\n",
       "    </tr>\n",
       "    <tr>\n",
       "      <th>1</th>\n",
       "      <td>2014-01-02 08:01:00</td>\n",
       "      <td>0.0</td>\n",
       "      <td>0.0</td>\n",
       "      <td>0.0</td>\n",
       "    </tr>\n",
       "    <tr>\n",
       "      <th>2</th>\n",
       "      <td>2014-01-02 08:02:00</td>\n",
       "      <td>0.0</td>\n",
       "      <td>0.0</td>\n",
       "      <td>0.0</td>\n",
       "    </tr>\n",
       "    <tr>\n",
       "      <th>3</th>\n",
       "      <td>2014-01-02 08:03:00</td>\n",
       "      <td>0.0</td>\n",
       "      <td>0.0</td>\n",
       "      <td>0.0</td>\n",
       "    </tr>\n",
       "    <tr>\n",
       "      <th>4</th>\n",
       "      <td>2014-01-02 08:04:00</td>\n",
       "      <td>0.0</td>\n",
       "      <td>0.0</td>\n",
       "      <td>0.0</td>\n",
       "    </tr>\n",
       "    <tr>\n",
       "      <th>...</th>\n",
       "      <td>...</td>\n",
       "      <td>...</td>\n",
       "      <td>...</td>\n",
       "      <td>...</td>\n",
       "    </tr>\n",
       "    <tr>\n",
       "      <th>1552315</th>\n",
       "      <td>2016-12-31 07:55:00</td>\n",
       "      <td>0.0</td>\n",
       "      <td>0.0</td>\n",
       "      <td>0.0</td>\n",
       "    </tr>\n",
       "    <tr>\n",
       "      <th>1552316</th>\n",
       "      <td>2016-12-31 07:56:00</td>\n",
       "      <td>0.0</td>\n",
       "      <td>0.0</td>\n",
       "      <td>0.0</td>\n",
       "    </tr>\n",
       "    <tr>\n",
       "      <th>1552317</th>\n",
       "      <td>2016-12-31 07:57:00</td>\n",
       "      <td>0.0</td>\n",
       "      <td>0.0</td>\n",
       "      <td>0.0</td>\n",
       "    </tr>\n",
       "    <tr>\n",
       "      <th>1552318</th>\n",
       "      <td>2016-12-31 07:58:00</td>\n",
       "      <td>0.0</td>\n",
       "      <td>0.0</td>\n",
       "      <td>0.0</td>\n",
       "    </tr>\n",
       "    <tr>\n",
       "      <th>1552319</th>\n",
       "      <td>2016-12-31 07:59:00</td>\n",
       "      <td>0.0</td>\n",
       "      <td>0.0</td>\n",
       "      <td>0.0</td>\n",
       "    </tr>\n",
       "  </tbody>\n",
       "</table>\n",
       "<p>1552320 rows × 4 columns</p>\n",
       "</div>"
      ],
      "text/plain": [
       "                   timeStamp  ghi  dni  dhi\n",
       "0        2014-01-02 08:00:00  0.0  0.0  0.0\n",
       "1        2014-01-02 08:01:00  0.0  0.0  0.0\n",
       "2        2014-01-02 08:02:00  0.0  0.0  0.0\n",
       "3        2014-01-02 08:03:00  0.0  0.0  0.0\n",
       "4        2014-01-02 08:04:00  0.0  0.0  0.0\n",
       "...                      ...  ...  ...  ...\n",
       "1552315  2016-12-31 07:55:00  0.0  0.0  0.0\n",
       "1552316  2016-12-31 07:56:00  0.0  0.0  0.0\n",
       "1552317  2016-12-31 07:57:00  0.0  0.0  0.0\n",
       "1552318  2016-12-31 07:58:00  0.0  0.0  0.0\n",
       "1552319  2016-12-31 07:59:00  0.0  0.0  0.0\n",
       "\n",
       "[1552320 rows x 4 columns]"
      ]
     },
     "execution_count": 2,
     "metadata": {},
     "output_type": "execute_result"
    }
   ],
   "source": [
    "df = pd.read_csv(\"../data/Folsom_irradiance.csv\", infer_datetime_format=True)\n",
    "df"
   ]
  },
  {
   "cell_type": "markdown",
   "id": "af25ef26-bc57-4bd7-ae47-a41240dad188",
   "metadata": {},
   "source": [
    "Convert `timeStamp` to a datetime and set as index"
   ]
  },
  {
   "cell_type": "code",
   "execution_count": 3,
   "id": "c579ead4-3896-4ffe-9983-353f3d7bc6ff",
   "metadata": {
    "execution": {
     "iopub.execute_input": "2023-08-24T07:05:03.669095Z",
     "iopub.status.busy": "2023-08-24T07:05:03.668859Z",
     "iopub.status.idle": "2023-08-24T07:05:03.980708Z",
     "shell.execute_reply": "2023-08-24T07:05:03.980050Z",
     "shell.execute_reply.started": "2023-08-24T07:05:03.669075Z"
    },
    "tags": []
   },
   "outputs": [],
   "source": [
    "df[\"timeStamp\"] = pd.to_datetime(df[\"timeStamp\"])\n",
    "df = df.set_index('timeStamp')"
   ]
  },
  {
   "cell_type": "markdown",
   "id": "f3decfb0-6c06-4f96-a657-0f7be008b14b",
   "metadata": {},
   "source": [
    "Drop other columns (only GHI needed for ARIMA)"
   ]
  },
  {
   "cell_type": "code",
   "execution_count": 4,
   "id": "0442ff51-6a8c-491d-a747-72c4412a1db2",
   "metadata": {
    "execution": {
     "iopub.execute_input": "2023-08-24T07:05:03.982388Z",
     "iopub.status.busy": "2023-08-24T07:05:03.982078Z",
     "iopub.status.idle": "2023-08-24T07:05:03.985961Z",
     "shell.execute_reply": "2023-08-24T07:05:03.985224Z",
     "shell.execute_reply.started": "2023-08-24T07:05:03.982368Z"
    },
    "tags": []
   },
   "outputs": [],
   "source": [
    "df = df[\"ghi\"]"
   ]
  },
  {
   "cell_type": "markdown",
   "id": "cdf75fcb-1b2f-41e2-a9ae-ac096bf8ae71",
   "metadata": {},
   "source": [
    "Split train/test"
   ]
  },
  {
   "cell_type": "code",
   "execution_count": 5,
   "id": "8c9064ac-8b85-4595-8805-9b4299f09846",
   "metadata": {
    "execution": {
     "iopub.execute_input": "2023-08-24T07:05:03.986973Z",
     "iopub.status.busy": "2023-08-24T07:05:03.986782Z",
     "iopub.status.idle": "2023-08-24T07:05:04.018929Z",
     "shell.execute_reply": "2023-08-24T07:05:04.018321Z",
     "shell.execute_reply.started": "2023-08-24T07:05:03.986956Z"
    },
    "tags": []
   },
   "outputs": [],
   "source": [
    "# Split data into train and test based on the years\n",
    "train_start = \"2014-01-01\"\n",
    "test_start = \"2016-01-01\"\n",
    "\n",
    "train_data = df.loc[df.index < test_start]\n",
    "test_data = df.loc[df.index >= test_start]"
   ]
  },
  {
   "cell_type": "markdown",
   "id": "ce176912-c69c-430f-b6d2-90f4254325d2",
   "metadata": {},
   "source": [
    "Ensure no data leakage"
   ]
  },
  {
   "cell_type": "code",
   "execution_count": 6,
   "id": "1e343818-de49-4d5c-b70f-55b17a1bad70",
   "metadata": {
    "execution": {
     "iopub.execute_input": "2023-08-24T07:05:04.020578Z",
     "iopub.status.busy": "2023-08-24T07:05:04.019928Z",
     "iopub.status.idle": "2023-08-24T07:05:07.349982Z",
     "shell.execute_reply": "2023-08-24T07:05:07.349252Z",
     "shell.execute_reply.started": "2023-08-24T07:05:04.020545Z"
    },
    "tags": []
   },
   "outputs": [
    {
     "name": "stdout",
     "output_type": "stream",
     "text": [
      "Train dataset date ranges = 2014-01-02 08:00:00 to 2015-12-31 07:59:00\n",
      "\n",
      "Test dataset date ranges = 2016-01-01 08:00:00 to 2016-12-31 07:59:00\n",
      "\n"
     ]
    }
   ],
   "source": [
    "eda.print_df_index_date_range(train_data, \"Train\")\n",
    "eda.print_df_index_date_range(test_data, \"Test\")"
   ]
  },
  {
   "cell_type": "markdown",
   "id": "b63e4eda-816a-42ab-a463-06129e8e8618",
   "metadata": {},
   "source": [
    "Check for missing values in ghi"
   ]
  },
  {
   "cell_type": "code",
   "execution_count": 7,
   "id": "20cb6537-d5a5-437a-bff2-d7359da86589",
   "metadata": {
    "execution": {
     "iopub.execute_input": "2023-08-24T07:05:07.351856Z",
     "iopub.status.busy": "2023-08-24T07:05:07.351167Z",
     "iopub.status.idle": "2023-08-24T07:05:07.356388Z",
     "shell.execute_reply": "2023-08-24T07:05:07.355773Z",
     "shell.execute_reply.started": "2023-08-24T07:05:07.351821Z"
    },
    "tags": []
   },
   "outputs": [],
   "source": [
    "assert df.isnull().any() == False\n",
    "\n",
    "# for c in [\"ghi\", \"dni\", \"dhi\"]:\n",
    "#     df[c]=df[c].fillna(method='ffill')"
   ]
  },
  {
   "cell_type": "markdown",
   "id": "4c411f3c-4203-476f-93e5-dc687b667574",
   "metadata": {},
   "source": [
    "# 3. Train ARIMA Model"
   ]
  },
  {
   "cell_type": "markdown",
   "id": "db7b30bd-2dc7-43de-9d19-adb3fb9fbfc1",
   "metadata": {},
   "source": [
    "Set the frequency correctly by creating a new date range with a frequency of 'T' and then reindexing your data"
   ]
  },
  {
   "cell_type": "code",
   "execution_count": 8,
   "id": "323c8bb7-0f7a-4643-a704-dcfd7c478b54",
   "metadata": {
    "execution": {
     "iopub.execute_input": "2023-08-24T07:05:07.358337Z",
     "iopub.status.busy": "2023-08-24T07:05:07.357876Z",
     "iopub.status.idle": "2023-08-24T07:05:07.363605Z",
     "shell.execute_reply": "2023-08-24T07:05:07.362996Z",
     "shell.execute_reply.started": "2023-08-24T07:05:07.358316Z"
    },
    "tags": []
   },
   "outputs": [],
   "source": [
    "# Create a new date range with frequency 'T'\n",
    "date_range_train = pd.date_range(start=train_data.index[0], periods=len(train_data), freq='T')\n",
    "date_range_test = pd.date_range(start=test_data.index[0], periods=len(test_data), freq='T')\n",
    "\n",
    "# Set the new date range as the index for the data\n",
    "train_data.index = date_range_train\n",
    "test_data.index = date_range_test"
   ]
  },
  {
   "cell_type": "markdown",
   "id": "f7ab9c40-aefa-4f37-b91d-88a2ea2b9ee7",
   "metadata": {},
   "source": [
    "Fit ARIMA model (takes ~30 seconds)"
   ]
  },
  {
   "cell_type": "code",
   "execution_count": 9,
   "id": "83352a8b-f596-4440-9589-b5af95a46fd0",
   "metadata": {
    "execution": {
     "iopub.execute_input": "2023-08-24T07:05:07.364502Z",
     "iopub.status.busy": "2023-08-24T07:05:07.364309Z",
     "iopub.status.idle": "2023-08-24T07:05:36.883270Z",
     "shell.execute_reply": "2023-08-24T07:05:36.882652Z",
     "shell.execute_reply.started": "2023-08-24T07:05:07.364483Z"
    },
    "tags": []
   },
   "outputs": [],
   "source": [
    "model = ARIMA(train_data, order=(5, 1, 0))  # ARIMA print_df_index_date_range order\n",
    "model_fit = model.fit()"
   ]
  },
  {
   "cell_type": "code",
   "execution_count": 10,
   "id": "67edb363-20a8-4e42-b8bd-86da103e0c76",
   "metadata": {
    "execution": {
     "iopub.execute_input": "2023-08-24T07:05:36.884450Z",
     "iopub.status.busy": "2023-08-24T07:05:36.884166Z",
     "iopub.status.idle": "2023-08-24T07:05:36.887704Z",
     "shell.execute_reply": "2023-08-24T07:05:36.887001Z",
     "shell.execute_reply.started": "2023-08-24T07:05:36.884429Z"
    },
    "tags": []
   },
   "outputs": [],
   "source": [
    "# model = pm.auto_arima(train_data['ghi'], \n",
    "#                       m=12, \n",
    "#                       seasonal=True,\n",
    "#                       start_p=0, \n",
    "#                       start_q=0, \n",
    "#                       max_order=4, \n",
    "#                       test='adf',\n",
    "#                       error_action='ignore',  \n",
    "#                       suppress_warnings=True,\n",
    "#                       stepwise=True, \n",
    "#                       trace=True)"
   ]
  },
  {
   "cell_type": "markdown",
   "id": "b74c3e4c-a9cd-41a8-b3ef-79d0f1fd9794",
   "metadata": {},
   "source": [
    "TODO: grid search to find best parameters"
   ]
  },
  {
   "cell_type": "markdown",
   "id": "8d180111-73d7-4814-8de3-8b44f5e35165",
   "metadata": {},
   "source": [
    "# 4. Make Forecasting Predictions"
   ]
  },
  {
   "cell_type": "markdown",
   "id": "ae6a57aa-da60-4deb-8d11-b599ce302bc9",
   "metadata": {},
   "source": [
    "Loop through each minute prediction from 1 to 20, forecasts the next minute step using the ARIMA model, stores the forecasted values in a DataFrame, calculates the errors at each minute prediction, and plots the mean absolute error at each forecast horizon."
   ]
  },
  {
   "cell_type": "code",
   "execution_count": 12,
   "id": "205b54c5-ce2d-41d9-aed2-9c4a3d600a9a",
   "metadata": {
    "execution": {
     "iopub.execute_input": "2023-08-24T07:05:36.893998Z",
     "iopub.status.busy": "2023-08-24T07:05:36.893783Z",
     "iopub.status.idle": "2023-08-24T07:05:36.897943Z",
     "shell.execute_reply": "2023-08-24T07:05:36.897260Z",
     "shell.execute_reply.started": "2023-08-24T07:05:36.893979Z"
    },
    "tags": []
   },
   "outputs": [],
   "source": [
    "forecast_horizon = 20"
   ]
  },
  {
   "cell_type": "code",
   "execution_count": 14,
   "id": "08942f2a-059c-4d5e-902b-76c9f8f2d743",
   "metadata": {
    "execution": {
     "iopub.execute_input": "2023-08-24T07:27:03.120836Z",
     "iopub.status.busy": "2023-08-24T07:27:03.120445Z",
     "iopub.status.idle": "2023-08-24T07:30:14.188604Z",
     "shell.execute_reply": "2023-08-24T07:30:14.187878Z",
     "shell.execute_reply.started": "2023-08-24T07:27:03.120809Z"
    },
    "tags": []
   },
   "outputs": [
    {
     "data": {
      "image/png": "[encoded data removed]",
      "text/plain": [
       "<Figure size 1200x600 with 1 Axes>"
      ]
     },
     "metadata": {},
     "output_type": "display_data"
    }
   ],
   "source": [
    "# Initialize an empty array to store forecasted values\n",
    "forecast_values = []\n",
    "\n",
    "# Break down the predictions into smaller chunks to manage memory\n",
    "chunk_size = 10000\n",
    "num_chunks = len(test_data) // chunk_size + 1\n",
    "\n",
    "for chunk_idx in range(num_chunks):\n",
    "    start_idx = chunk_idx * chunk_size\n",
    "    end_idx = min((chunk_idx + 1) * chunk_size, len(test_data))\n",
    "    chunk_forecast_series = model_fit.forecast(steps=(end_idx - start_idx) * forecast_horizon)\n",
    "    chunk_forecast_array = np.array(chunk_forecast_series).reshape(-1, forecast_horizon)\n",
    "    forecast_values.append(chunk_forecast_array)\n",
    "\n",
    "# Concatenate the chunks to get the complete forecast values\n",
    "forecast_values = np.concatenate(forecast_values)\n",
    "\n",
    "# Create a DataFrame to store predictions\n",
    "prediction_index = pd.date_range(start=test_data.index[0], periods=len(test_data), freq='T')\n",
    "prediction_df = pd.DataFrame(data=forecast_values, index=prediction_index)\n",
    "\n",
    "# Plot the predicted values for the first instance\n",
    "plt.figure(figsize=(12, 6))\n",
    "plt.plot(prediction_df.iloc[0], label='Prediction')\n",
    "plt.plot(test_data.iloc[0], label='Actual')\n",
    "plt.xlabel('Time')\n",
    "plt.ylabel('Solar Irradiance')\n",
    "plt.title('ARIMA Model Predictions vs Actual')\n",
    "plt.legend()\n",
    "plt.show()"
   ]
  },
  {
   "cell_type": "code",
   "execution_count": 15,
   "id": "911bc4d7-0866-4c13-908d-94efbee16427",
   "metadata": {
    "execution": {
     "iopub.execute_input": "2023-08-24T08:25:05.559590Z",
     "iopub.status.busy": "2023-08-24T08:25:05.559200Z",
     "iopub.status.idle": "2023-08-24T08:25:05.590018Z",
     "shell.execute_reply": "2023-08-24T08:25:05.589452Z",
     "shell.execute_reply.started": "2023-08-24T08:25:05.559566Z"
    }
   },
   "outputs": [
    {
     "data": {
      "text/html": [
       "<div>\n",
       "<style scoped>\n",
       "    .dataframe tbody tr th:only-of-type {\n",
       "        vertical-align: middle;\n",
       "    }\n",
       "\n",
       "    .dataframe tbody tr th {\n",
       "        vertical-align: top;\n",
       "    }\n",
       "\n",
       "    .dataframe thead th {\n",
       "        text-align: right;\n",
       "    }\n",
       "</style>\n",
       "<table border=\"1\" class=\"dataframe\">\n",
       "  <thead>\n",
       "    <tr style=\"text-align: right;\">\n",
       "      <th></th>\n",
       "      <th>0</th>\n",
       "      <th>1</th>\n",
       "      <th>2</th>\n",
       "      <th>3</th>\n",
       "      <th>4</th>\n",
       "      <th>5</th>\n",
       "      <th>6</th>\n",
       "      <th>7</th>\n",
       "      <th>8</th>\n",
       "      <th>9</th>\n",
       "      <th>10</th>\n",
       "      <th>11</th>\n",
       "      <th>12</th>\n",
       "      <th>13</th>\n",
       "      <th>14</th>\n",
       "      <th>15</th>\n",
       "      <th>16</th>\n",
       "      <th>17</th>\n",
       "      <th>18</th>\n",
       "      <th>19</th>\n",
       "    </tr>\n",
       "  </thead>\n",
       "  <tbody>\n",
       "    <tr>\n",
       "      <th>2016-01-01 08:00:00</th>\n",
       "      <td>-7.509798e-322</td>\n",
       "      <td>-7.509798e-322</td>\n",
       "      <td>-7.509798e-322</td>\n",
       "      <td>-7.509798e-322</td>\n",
       "      <td>-7.509798e-322</td>\n",
       "      <td>-7.509798e-322</td>\n",
       "      <td>-7.509798e-322</td>\n",
       "      <td>-7.509798e-322</td>\n",
       "      <td>-7.509798e-322</td>\n",
       "      <td>-7.509798e-322</td>\n",
       "      <td>-7.509798e-322</td>\n",
       "      <td>-7.509798e-322</td>\n",
       "      <td>-7.509798e-322</td>\n",
       "      <td>-7.509798e-322</td>\n",
       "      <td>-7.509798e-322</td>\n",
       "      <td>-7.509798e-322</td>\n",
       "      <td>-7.509798e-322</td>\n",
       "      <td>-7.509798e-322</td>\n",
       "      <td>-7.509798e-322</td>\n",
       "      <td>-7.509798e-322</td>\n",
       "    </tr>\n",
       "    <tr>\n",
       "      <th>2016-01-01 08:01:00</th>\n",
       "      <td>-7.509798e-322</td>\n",
       "      <td>-7.509798e-322</td>\n",
       "      <td>-7.509798e-322</td>\n",
       "      <td>-7.509798e-322</td>\n",
       "      <td>-7.509798e-322</td>\n",
       "      <td>-7.509798e-322</td>\n",
       "      <td>-7.509798e-322</td>\n",
       "      <td>-7.509798e-322</td>\n",
       "      <td>-7.509798e-322</td>\n",
       "      <td>-7.509798e-322</td>\n",
       "      <td>-7.509798e-322</td>\n",
       "      <td>-7.509798e-322</td>\n",
       "      <td>-7.509798e-322</td>\n",
       "      <td>-7.509798e-322</td>\n",
       "      <td>-7.509798e-322</td>\n",
       "      <td>-7.509798e-322</td>\n",
       "      <td>-7.509798e-322</td>\n",
       "      <td>-7.509798e-322</td>\n",
       "      <td>-7.509798e-322</td>\n",
       "      <td>-7.509798e-322</td>\n",
       "    </tr>\n",
       "    <tr>\n",
       "      <th>2016-01-01 08:02:00</th>\n",
       "      <td>-7.509798e-322</td>\n",
       "      <td>-7.509798e-322</td>\n",
       "      <td>-7.509798e-322</td>\n",
       "      <td>-7.509798e-322</td>\n",
       "      <td>-7.509798e-322</td>\n",
       "      <td>-7.509798e-322</td>\n",
       "      <td>-7.509798e-322</td>\n",
       "      <td>-7.509798e-322</td>\n",
       "      <td>-7.509798e-322</td>\n",
       "      <td>-7.509798e-322</td>\n",
       "      <td>-7.509798e-322</td>\n",
       "      <td>-7.509798e-322</td>\n",
       "      <td>-7.509798e-322</td>\n",
       "      <td>-7.509798e-322</td>\n",
       "      <td>-7.509798e-322</td>\n",
       "      <td>-7.509798e-322</td>\n",
       "      <td>-7.509798e-322</td>\n",
       "      <td>-7.509798e-322</td>\n",
       "      <td>-7.509798e-322</td>\n",
       "      <td>-7.509798e-322</td>\n",
       "    </tr>\n",
       "    <tr>\n",
       "      <th>2016-01-01 08:03:00</th>\n",
       "      <td>-7.509798e-322</td>\n",
       "      <td>-7.509798e-322</td>\n",
       "      <td>-7.509798e-322</td>\n",
       "      <td>-7.509798e-322</td>\n",
       "      <td>-7.509798e-322</td>\n",
       "      <td>-7.509798e-322</td>\n",
       "      <td>-7.509798e-322</td>\n",
       "      <td>-7.509798e-322</td>\n",
       "      <td>-7.509798e-322</td>\n",
       "      <td>-7.509798e-322</td>\n",
       "      <td>-7.509798e-322</td>\n",
       "      <td>-7.509798e-322</td>\n",
       "      <td>-7.509798e-322</td>\n",
       "      <td>-7.509798e-322</td>\n",
       "      <td>-7.509798e-322</td>\n",
       "      <td>-7.509798e-322</td>\n",
       "      <td>-7.509798e-322</td>\n",
       "      <td>-7.509798e-322</td>\n",
       "      <td>-7.509798e-322</td>\n",
       "      <td>-7.509798e-322</td>\n",
       "    </tr>\n",
       "    <tr>\n",
       "      <th>2016-01-01 08:04:00</th>\n",
       "      <td>-7.509798e-322</td>\n",
       "      <td>-7.509798e-322</td>\n",
       "      <td>-7.509798e-322</td>\n",
       "      <td>-7.509798e-322</td>\n",
       "      <td>-7.509798e-322</td>\n",
       "      <td>-7.509798e-322</td>\n",
       "      <td>-7.509798e-322</td>\n",
       "      <td>-7.509798e-322</td>\n",
       "      <td>-7.509798e-322</td>\n",
       "      <td>-7.509798e-322</td>\n",
       "      <td>-7.509798e-322</td>\n",
       "      <td>-7.509798e-322</td>\n",
       "      <td>-7.509798e-322</td>\n",
       "      <td>-7.509798e-322</td>\n",
       "      <td>-7.509798e-322</td>\n",
       "      <td>-7.509798e-322</td>\n",
       "      <td>-7.509798e-322</td>\n",
       "      <td>-7.509798e-322</td>\n",
       "      <td>-7.509798e-322</td>\n",
       "      <td>-7.509798e-322</td>\n",
       "    </tr>\n",
       "    <tr>\n",
       "      <th>...</th>\n",
       "      <td>...</td>\n",
       "      <td>...</td>\n",
       "      <td>...</td>\n",
       "      <td>...</td>\n",
       "      <td>...</td>\n",
       "      <td>...</td>\n",
       "      <td>...</td>\n",
       "      <td>...</td>\n",
       "      <td>...</td>\n",
       "      <td>...</td>\n",
       "      <td>...</td>\n",
       "      <td>...</td>\n",
       "      <td>...</td>\n",
       "      <td>...</td>\n",
       "      <td>...</td>\n",
       "      <td>...</td>\n",
       "      <td>...</td>\n",
       "      <td>...</td>\n",
       "      <td>...</td>\n",
       "      <td>...</td>\n",
       "    </tr>\n",
       "    <tr>\n",
       "      <th>2016-12-29 07:55:00</th>\n",
       "      <td>-7.509798e-322</td>\n",
       "      <td>-7.509798e-322</td>\n",
       "      <td>-7.509798e-322</td>\n",
       "      <td>-7.509798e-322</td>\n",
       "      <td>-7.509798e-322</td>\n",
       "      <td>-7.509798e-322</td>\n",
       "      <td>-7.509798e-322</td>\n",
       "      <td>-7.509798e-322</td>\n",
       "      <td>-7.509798e-322</td>\n",
       "      <td>-7.509798e-322</td>\n",
       "      <td>-7.509798e-322</td>\n",
       "      <td>-7.509798e-322</td>\n",
       "      <td>-7.509798e-322</td>\n",
       "      <td>-7.509798e-322</td>\n",
       "      <td>-7.509798e-322</td>\n",
       "      <td>-7.509798e-322</td>\n",
       "      <td>-7.509798e-322</td>\n",
       "      <td>-7.509798e-322</td>\n",
       "      <td>-7.509798e-322</td>\n",
       "      <td>-7.509798e-322</td>\n",
       "    </tr>\n",
       "    <tr>\n",
       "      <th>2016-12-29 07:56:00</th>\n",
       "      <td>-7.509798e-322</td>\n",
       "      <td>-7.509798e-322</td>\n",
       "      <td>-7.509798e-322</td>\n",
       "      <td>-7.509798e-322</td>\n",
       "      <td>-7.509798e-322</td>\n",
       "      <td>-7.509798e-322</td>\n",
       "      <td>-7.509798e-322</td>\n",
       "      <td>-7.509798e-322</td>\n",
       "      <td>-7.509798e-322</td>\n",
       "      <td>-7.509798e-322</td>\n",
       "      <td>-7.509798e-322</td>\n",
       "      <td>-7.509798e-322</td>\n",
       "      <td>-7.509798e-322</td>\n",
       "      <td>-7.509798e-322</td>\n",
       "      <td>-7.509798e-322</td>\n",
       "      <td>-7.509798e-322</td>\n",
       "      <td>-7.509798e-322</td>\n",
       "      <td>-7.509798e-322</td>\n",
       "      <td>-7.509798e-322</td>\n",
       "      <td>-7.509798e-322</td>\n",
       "    </tr>\n",
       "    <tr>\n",
       "      <th>2016-12-29 07:57:00</th>\n",
       "      <td>-7.509798e-322</td>\n",
       "      <td>-7.509798e-322</td>\n",
       "      <td>-7.509798e-322</td>\n",
       "      <td>-7.509798e-322</td>\n",
       "      <td>-7.509798e-322</td>\n",
       "      <td>-7.509798e-322</td>\n",
       "      <td>-7.509798e-322</td>\n",
       "      <td>-7.509798e-322</td>\n",
       "      <td>-7.509798e-322</td>\n",
       "      <td>-7.509798e-322</td>\n",
       "      <td>-7.509798e-322</td>\n",
       "      <td>-7.509798e-322</td>\n",
       "      <td>-7.509798e-322</td>\n",
       "      <td>-7.509798e-322</td>\n",
       "      <td>-7.509798e-322</td>\n",
       "      <td>-7.509798e-322</td>\n",
       "      <td>-7.509798e-322</td>\n",
       "      <td>-7.509798e-322</td>\n",
       "      <td>-7.509798e-322</td>\n",
       "      <td>-7.509798e-322</td>\n",
       "    </tr>\n",
       "    <tr>\n",
       "      <th>2016-12-29 07:58:00</th>\n",
       "      <td>-7.509798e-322</td>\n",
       "      <td>-7.509798e-322</td>\n",
       "      <td>-7.509798e-322</td>\n",
       "      <td>-7.509798e-322</td>\n",
       "      <td>-7.509798e-322</td>\n",
       "      <td>-7.509798e-322</td>\n",
       "      <td>-7.509798e-322</td>\n",
       "      <td>-7.509798e-322</td>\n",
       "      <td>-7.509798e-322</td>\n",
       "      <td>-7.509798e-322</td>\n",
       "      <td>-7.509798e-322</td>\n",
       "      <td>-7.509798e-322</td>\n",
       "      <td>-7.509798e-322</td>\n",
       "      <td>-7.509798e-322</td>\n",
       "      <td>-7.509798e-322</td>\n",
       "      <td>-7.509798e-322</td>\n",
       "      <td>-7.509798e-322</td>\n",
       "      <td>-7.509798e-322</td>\n",
       "      <td>-7.509798e-322</td>\n",
       "      <td>-7.509798e-322</td>\n",
       "    </tr>\n",
       "    <tr>\n",
       "      <th>2016-12-29 07:59:00</th>\n",
       "      <td>-7.509798e-322</td>\n",
       "      <td>-7.509798e-322</td>\n",
       "      <td>-7.509798e-322</td>\n",
       "      <td>-7.509798e-322</td>\n",
       "      <td>-7.509798e-322</td>\n",
       "      <td>-7.509798e-322</td>\n",
       "      <td>-7.509798e-322</td>\n",
       "      <td>-7.509798e-322</td>\n",
       "      <td>-7.509798e-322</td>\n",
       "      <td>-7.509798e-322</td>\n",
       "      <td>-7.509798e-322</td>\n",
       "      <td>-7.509798e-322</td>\n",
       "      <td>-7.509798e-322</td>\n",
       "      <td>-7.509798e-322</td>\n",
       "      <td>-7.509798e-322</td>\n",
       "      <td>-7.509798e-322</td>\n",
       "      <td>-7.509798e-322</td>\n",
       "      <td>-7.509798e-322</td>\n",
       "      <td>-7.509798e-322</td>\n",
       "      <td>-7.509798e-322</td>\n",
       "    </tr>\n",
       "  </tbody>\n",
       "</table>\n",
       "<p>522720 rows × 20 columns</p>\n",
       "</div>"
      ],
      "text/plain": [
       "                                0              1              2   \\\n",
       "2016-01-01 08:00:00 -7.509798e-322 -7.509798e-322 -7.509798e-322   \n",
       "2016-01-01 08:01:00 -7.509798e-322 -7.509798e-322 -7.509798e-322   \n",
       "2016-01-01 08:02:00 -7.509798e-322 -7.509798e-322 -7.509798e-322   \n",
       "2016-01-01 08:03:00 -7.509798e-322 -7.509798e-322 -7.509798e-322   \n",
       "2016-01-01 08:04:00 -7.509798e-322 -7.509798e-322 -7.509798e-322   \n",
       "...                            ...            ...            ...   \n",
       "2016-12-29 07:55:00 -7.509798e-322 -7.509798e-322 -7.509798e-322   \n",
       "2016-12-29 07:56:00 -7.509798e-322 -7.509798e-322 -7.509798e-322   \n",
       "2016-12-29 07:57:00 -7.509798e-322 -7.509798e-322 -7.509798e-322   \n",
       "2016-12-29 07:58:00 -7.509798e-322 -7.509798e-322 -7.509798e-322   \n",
       "2016-12-29 07:59:00 -7.509798e-322 -7.509798e-322 -7.509798e-322   \n",
       "\n",
       "                                3              4              5   \\\n",
       "2016-01-01 08:00:00 -7.509798e-322 -7.509798e-322 -7.509798e-322   \n",
       "2016-01-01 08:01:00 -7.509798e-322 -7.509798e-322 -7.509798e-322   \n",
       "2016-01-01 08:02:00 -7.509798e-322 -7.509798e-322 -7.509798e-322   \n",
       "2016-01-01 08:03:00 -7.509798e-322 -7.509798e-322 -7.509798e-322   \n",
       "2016-01-01 08:04:00 -7.509798e-322 -7.509798e-322 -7.509798e-322   \n",
       "...                            ...            ...            ...   \n",
       "2016-12-29 07:55:00 -7.509798e-322 -7.509798e-322 -7.509798e-322   \n",
       "2016-12-29 07:56:00 -7.509798e-322 -7.509798e-322 -7.509798e-322   \n",
       "2016-12-29 07:57:00 -7.509798e-322 -7.509798e-322 -7.509798e-322   \n",
       "2016-12-29 07:58:00 -7.509798e-322 -7.509798e-322 -7.509798e-322   \n",
       "2016-12-29 07:59:00 -7.509798e-322 -7.509798e-322 -7.509798e-322   \n",
       "\n",
       "                                6              7              8   \\\n",
       "2016-01-01 08:00:00 -7.509798e-322 -7.509798e-322 -7.509798e-322   \n",
       "2016-01-01 08:01:00 -7.509798e-322 -7.509798e-322 -7.509798e-322   \n",
       "2016-01-01 08:02:00 -7.509798e-322 -7.509798e-322 -7.509798e-322   \n",
       "2016-01-01 08:03:00 -7.509798e-322 -7.509798e-322 -7.509798e-322   \n",
       "2016-01-01 08:04:00 -7.509798e-322 -7.509798e-322 -7.509798e-322   \n",
       "...                            ...            ...            ...   \n",
       "2016-12-29 07:55:00 -7.509798e-322 -7.509798e-322 -7.509798e-322   \n",
       "2016-12-29 07:56:00 -7.509798e-322 -7.509798e-322 -7.509798e-322   \n",
       "2016-12-29 07:57:00 -7.509798e-322 -7.509798e-322 -7.509798e-322   \n",
       "2016-12-29 07:58:00 -7.509798e-322 -7.509798e-322 -7.509798e-322   \n",
       "2016-12-29 07:59:00 -7.509798e-322 -7.509798e-322 -7.509798e-322   \n",
       "\n",
       "                                9              10             11  \\\n",
       "2016-01-01 08:00:00 -7.509798e-322 -7.509798e-322 -7.509798e-322   \n",
       "2016-01-01 08:01:00 -7.509798e-322 -7.509798e-322 -7.509798e-322   \n",
       "2016-01-01 08:02:00 -7.509798e-322 -7.509798e-322 -7.509798e-322   \n",
       "2016-01-01 08:03:00 -7.509798e-322 -7.509798e-322 -7.509798e-322   \n",
       "2016-01-01 08:04:00 -7.509798e-322 -7.509798e-322 -7.509798e-322   \n",
       "...                            ...            ...            ...   \n",
       "2016-12-29 07:55:00 -7.509798e-322 -7.509798e-322 -7.509798e-322   \n",
       "2016-12-29 07:56:00 -7.509798e-322 -7.509798e-322 -7.509798e-322   \n",
       "2016-12-29 07:57:00 -7.509798e-322 -7.509798e-322 -7.509798e-322   \n",
       "2016-12-29 07:58:00 -7.509798e-322 -7.509798e-322 -7.509798e-322   \n",
       "2016-12-29 07:59:00 -7.509798e-322 -7.509798e-322 -7.509798e-322   \n",
       "\n",
       "                                12             13             14  \\\n",
       "2016-01-01 08:00:00 -7.509798e-322 -7.509798e-322 -7.509798e-322   \n",
       "2016-01-01 08:01:00 -7.509798e-322 -7.509798e-322 -7.509798e-322   \n",
       "2016-01-01 08:02:00 -7.509798e-322 -7.509798e-322 -7.509798e-322   \n",
       "2016-01-01 08:03:00 -7.509798e-322 -7.509798e-322 -7.509798e-322   \n",
       "2016-01-01 08:04:00 -7.509798e-322 -7.509798e-322 -7.509798e-322   \n",
       "...                            ...            ...            ...   \n",
       "2016-12-29 07:55:00 -7.509798e-322 -7.509798e-322 -7.509798e-322   \n",
       "2016-12-29 07:56:00 -7.509798e-322 -7.509798e-322 -7.509798e-322   \n",
       "2016-12-29 07:57:00 -7.509798e-322 -7.509798e-322 -7.509798e-322   \n",
       "2016-12-29 07:58:00 -7.509798e-322 -7.509798e-322 -7.509798e-322   \n",
       "2016-12-29 07:59:00 -7.509798e-322 -7.509798e-322 -7.509798e-322   \n",
       "\n",
       "                                15             16             17  \\\n",
       "2016-01-01 08:00:00 -7.509798e-322 -7.509798e-322 -7.509798e-322   \n",
       "2016-01-01 08:01:00 -7.509798e-322 -7.509798e-322 -7.509798e-322   \n",
       "2016-01-01 08:02:00 -7.509798e-322 -7.509798e-322 -7.509798e-322   \n",
       "2016-01-01 08:03:00 -7.509798e-322 -7.509798e-322 -7.509798e-322   \n",
       "2016-01-01 08:04:00 -7.509798e-322 -7.509798e-322 -7.509798e-322   \n",
       "...                            ...            ...            ...   \n",
       "2016-12-29 07:55:00 -7.509798e-322 -7.509798e-322 -7.509798e-322   \n",
       "2016-12-29 07:56:00 -7.509798e-322 -7.509798e-322 -7.509798e-322   \n",
       "2016-12-29 07:57:00 -7.509798e-322 -7.509798e-322 -7.509798e-322   \n",
       "2016-12-29 07:58:00 -7.509798e-322 -7.509798e-322 -7.509798e-322   \n",
       "2016-12-29 07:59:00 -7.509798e-322 -7.509798e-322 -7.509798e-322   \n",
       "\n",
       "                                18             19  \n",
       "2016-01-01 08:00:00 -7.509798e-322 -7.509798e-322  \n",
       "2016-01-01 08:01:00 -7.509798e-322 -7.509798e-322  \n",
       "2016-01-01 08:02:00 -7.509798e-322 -7.509798e-322  \n",
       "2016-01-01 08:03:00 -7.509798e-322 -7.509798e-322  \n",
       "2016-01-01 08:04:00 -7.509798e-322 -7.509798e-322  \n",
       "...                            ...            ...  \n",
       "2016-12-29 07:55:00 -7.509798e-322 -7.509798e-322  \n",
       "2016-12-29 07:56:00 -7.509798e-322 -7.509798e-322  \n",
       "2016-12-29 07:57:00 -7.509798e-322 -7.509798e-322  \n",
       "2016-12-29 07:58:00 -7.509798e-322 -7.509798e-322  \n",
       "2016-12-29 07:59:00 -7.509798e-322 -7.509798e-322  \n",
       "\n",
       "[522720 rows x 20 columns]"
      ]
     },
     "execution_count": 15,
     "metadata": {},
     "output_type": "execute_result"
    }
   ],
   "source": [
    "prediction_df"
   ]
  },
  {
   "cell_type": "markdown",
   "id": "b5346f42-6d26-4a01-b4e0-af2a214c2bcb",
   "metadata": {},
   "source": [
    "___"
   ]
  },
  {
   "cell_type": "code",
   "execution_count": null,
   "id": "5d1b0ea9-e243-46a8-8939-6cc4a4eb0f0d",
   "metadata": {
    "execution": {
     "iopub.execute_input": "2023-08-24T07:03:18.652250Z",
     "iopub.status.busy": "2023-08-24T07:03:18.651879Z"
    }
   },
   "outputs": [],
   "source": [
    "forecast_values = model_fit.forecast(steps=len(test_data) * FORECASTING_HORIZON).reshape(-1, FORECASTING_HORIZON)"
   ]
  },
  {
   "cell_type": "code",
   "execution_count": null,
   "id": "9d3b14b2-1c83-4124-8267-f44f59f0a355",
   "metadata": {
    "execution": {
     "iopub.execute_input": "2023-08-24T06:47:15.596856Z",
     "iopub.status.busy": "2023-08-24T06:47:15.596473Z"
    },
    "tags": []
   },
   "outputs": [],
   "source": [
    "# Predict the entire forecast horizon for all instances\n",
    "forecast_values = model_fit.forecast(steps=len(test_data) * FORECASTING_HORIZON).reshape(-1, FORECASTING_HORIZON)\n",
    "\n",
    "# Create a DataFrame to store predictions\n",
    "prediction_index = pd.date_range(start=test_data.index[0], periods=len(test_data), freq='T')\n",
    "prediction_df = pd.DataFrame(data=forecast_values, index=prediction_index)\n",
    "\n",
    "# Plot the predicted values for the first instance\n",
    "plt.figure(figsize=(12, 6))\n",
    "plt.plot(prediction_df.iloc[0], label='Prediction')\n",
    "plt.plot(test_data.iloc[0], label='Actual')\n",
    "plt.xlabel('Time')\n",
    "plt.ylabel('Solar Irradiance')\n",
    "plt.title('ARIMA Model Predictions vs Actual')\n",
    "plt.legend()\n",
    "plt.show()"
   ]
  },
  {
   "cell_type": "markdown",
   "id": "e5ac16b1-f49f-4398-a059-22e661e4898f",
   "metadata": {},
   "source": [
    "Loop through each minute prediction from 1 to 20"
   ]
  },
  {
   "cell_type": "code",
   "execution_count": 22,
   "id": "029ac039-ce89-45e6-bb32-6fae1a0e258f",
   "metadata": {
    "execution": {
     "iopub.execute_input": "2023-08-24T06:46:21.361373Z",
     "iopub.status.busy": "2023-08-24T06:46:21.360997Z",
     "iopub.status.idle": "2023-08-24T06:46:21.365735Z",
     "shell.execute_reply": "2023-08-24T06:46:21.365135Z",
     "shell.execute_reply.started": "2023-08-24T06:46:21.361351Z"
    }
   },
   "outputs": [
    {
     "data": {
      "text/plain": [
       "522720"
      ]
     },
     "execution_count": 22,
     "metadata": {},
     "output_type": "execute_result"
    }
   ],
   "source": [
    "len(test_data)"
   ]
  },
  {
   "cell_type": "code",
   "execution_count": null,
   "id": "a69d9b1f-9358-4271-b2b7-7d07cc18df6f",
   "metadata": {
    "execution": {
     "iopub.execute_input": "2023-08-23T22:15:04.194893Z",
     "iopub.status.busy": "2023-08-23T22:15:04.194490Z"
    },
    "tags": []
   },
   "outputs": [],
   "source": [
    "# Initialize an empty DataFrame to store forecasted values\n",
    "forecast_values = np.empty((len(test_data), FORECASTING_HORIZON))\n",
    "\n",
    "# Loop through each minute prediction from 1 to 20\n",
    "for idx in range(len(test_data)):\n",
    "    forecast = model_fit.forecast(steps=FORECASTING_HORIZON)\n",
    "    forecast_values[idx, :] = forecast"
   ]
  },
  {
   "cell_type": "markdown",
   "id": "a9c2f9ff-644e-4671-8cd2-26bc1bdef3f2",
   "metadata": {},
   "source": [
    "Calculate and plot the errors at each minute prediction"
   ]
  },
  {
   "cell_type": "code",
   "execution_count": 27,
   "id": "7e3f5ce6-2120-4e4c-82ee-536b233fa05b",
   "metadata": {
    "execution": {
     "iopub.execute_input": "2023-08-23T21:56:31.720878Z",
     "iopub.status.busy": "2023-08-23T21:56:31.720425Z",
     "iopub.status.idle": "2023-08-23T21:56:31.772151Z",
     "shell.execute_reply": "2023-08-23T21:56:31.771025Z",
     "shell.execute_reply.started": "2023-08-23T21:56:31.720846Z"
    },
    "tags": []
   },
   "outputs": [
    {
     "ename": "ValueError",
     "evalue": "Unable to coerce to DataFrame, shape must be (522720, 20): given (1568160, 1)",
     "output_type": "error",
     "traceback": [
      "\u001b[0;31m---------------------------------------------------------------------------\u001b[0m",
      "\u001b[0;31mValueError\u001b[0m                                Traceback (most recent call last)",
      "Cell \u001b[0;32mIn [27], line 1\u001b[0m\n\u001b[0;32m----> 1\u001b[0m errors \u001b[38;5;241m=\u001b[39m np\u001b[38;5;241m.\u001b[39mabs(forecast_df \u001b[38;5;241m-\u001b[39m test_data\u001b[38;5;241m.\u001b[39mvalues\u001b[38;5;241m.\u001b[39mreshape(\u001b[38;5;241m-\u001b[39m\u001b[38;5;241m1\u001b[39m, \u001b[38;5;241m1\u001b[39m))\n\u001b[1;32m      2\u001b[0m mean_errors \u001b[38;5;241m=\u001b[39m errors\u001b[38;5;241m.\u001b[39mmean(axis\u001b[38;5;241m=\u001b[39m\u001b[38;5;241m0\u001b[39m)\n",
      "File \u001b[0;32m/opt/saturncloud/envs/saturn/lib/python3.9/site-packages/pandas/core/ops/common.py:70\u001b[0m, in \u001b[0;36m_unpack_zerodim_and_defer.<locals>.new_method\u001b[0;34m(self, other)\u001b[0m\n\u001b[1;32m     66\u001b[0m             \u001b[38;5;28;01mreturn\u001b[39;00m \u001b[38;5;28mNotImplemented\u001b[39m\n\u001b[1;32m     68\u001b[0m other \u001b[38;5;241m=\u001b[39m item_from_zerodim(other)\n\u001b[0;32m---> 70\u001b[0m \u001b[38;5;28;01mreturn\u001b[39;00m \u001b[43mmethod\u001b[49m\u001b[43m(\u001b[49m\u001b[38;5;28;43mself\u001b[39;49m\u001b[43m,\u001b[49m\u001b[43m \u001b[49m\u001b[43mother\u001b[49m\u001b[43m)\u001b[49m\n",
      "File \u001b[0;32m/opt/saturncloud/envs/saturn/lib/python3.9/site-packages/pandas/core/arraylike.py:108\u001b[0m, in \u001b[0;36mOpsMixin.__sub__\u001b[0;34m(self, other)\u001b[0m\n\u001b[1;32m    106\u001b[0m \u001b[38;5;129m@unpack_zerodim_and_defer\u001b[39m(\u001b[38;5;124m\"\u001b[39m\u001b[38;5;124m__sub__\u001b[39m\u001b[38;5;124m\"\u001b[39m)\n\u001b[1;32m    107\u001b[0m \u001b[38;5;28;01mdef\u001b[39;00m \u001b[38;5;21m__sub__\u001b[39m(\u001b[38;5;28mself\u001b[39m, other):\n\u001b[0;32m--> 108\u001b[0m     \u001b[38;5;28;01mreturn\u001b[39;00m \u001b[38;5;28;43mself\u001b[39;49m\u001b[38;5;241;43m.\u001b[39;49m\u001b[43m_arith_method\u001b[49m\u001b[43m(\u001b[49m\u001b[43mother\u001b[49m\u001b[43m,\u001b[49m\u001b[43m \u001b[49m\u001b[43moperator\u001b[49m\u001b[38;5;241;43m.\u001b[39;49m\u001b[43msub\u001b[49m\u001b[43m)\u001b[49m\n",
      "File \u001b[0;32m/opt/saturncloud/envs/saturn/lib/python3.9/site-packages/pandas/core/frame.py:6944\u001b[0m, in \u001b[0;36mDataFrame._arith_method\u001b[0;34m(self, other, op)\u001b[0m\n\u001b[1;32m   6941\u001b[0m axis \u001b[38;5;241m=\u001b[39m \u001b[38;5;241m1\u001b[39m  \u001b[38;5;66;03m# only relevant for Series other case\u001b[39;00m\n\u001b[1;32m   6942\u001b[0m other \u001b[38;5;241m=\u001b[39m ops\u001b[38;5;241m.\u001b[39mmaybe_prepare_scalar_for_op(other, (\u001b[38;5;28mself\u001b[39m\u001b[38;5;241m.\u001b[39mshape[axis],))\n\u001b[0;32m-> 6944\u001b[0m \u001b[38;5;28mself\u001b[39m, other \u001b[38;5;241m=\u001b[39m \u001b[43mops\u001b[49m\u001b[38;5;241;43m.\u001b[39;49m\u001b[43malign_method_FRAME\u001b[49m\u001b[43m(\u001b[49m\u001b[38;5;28;43mself\u001b[39;49m\u001b[43m,\u001b[49m\u001b[43m \u001b[49m\u001b[43mother\u001b[49m\u001b[43m,\u001b[49m\u001b[43m \u001b[49m\u001b[43maxis\u001b[49m\u001b[43m,\u001b[49m\u001b[43m \u001b[49m\u001b[43mflex\u001b[49m\u001b[38;5;241;43m=\u001b[39;49m\u001b[38;5;28;43;01mTrue\u001b[39;49;00m\u001b[43m,\u001b[49m\u001b[43m \u001b[49m\u001b[43mlevel\u001b[49m\u001b[38;5;241;43m=\u001b[39;49m\u001b[38;5;28;43;01mNone\u001b[39;49;00m\u001b[43m)\u001b[49m\n\u001b[1;32m   6946\u001b[0m new_data \u001b[38;5;241m=\u001b[39m \u001b[38;5;28mself\u001b[39m\u001b[38;5;241m.\u001b[39m_dispatch_frame_op(other, op, axis\u001b[38;5;241m=\u001b[39maxis)\n\u001b[1;32m   6947\u001b[0m \u001b[38;5;28;01mreturn\u001b[39;00m \u001b[38;5;28mself\u001b[39m\u001b[38;5;241m.\u001b[39m_construct_result(new_data)\n",
      "File \u001b[0;32m/opt/saturncloud/envs/saturn/lib/python3.9/site-packages/pandas/core/ops/__init__.py:264\u001b[0m, in \u001b[0;36malign_method_FRAME\u001b[0;34m(left, right, axis, flex, level)\u001b[0m\n\u001b[1;32m    261\u001b[0m         right \u001b[38;5;241m=\u001b[39m to_series(right[\u001b[38;5;241m0\u001b[39m, :])\n\u001b[1;32m    263\u001b[0m     \u001b[38;5;28;01melse\u001b[39;00m:\n\u001b[0;32m--> 264\u001b[0m         \u001b[38;5;28;01mraise\u001b[39;00m \u001b[38;5;167;01mValueError\u001b[39;00m(\n\u001b[1;32m    265\u001b[0m             \u001b[38;5;124m\"\u001b[39m\u001b[38;5;124mUnable to coerce to DataFrame, shape \u001b[39m\u001b[38;5;124m\"\u001b[39m\n\u001b[1;32m    266\u001b[0m             \u001b[38;5;124mf\u001b[39m\u001b[38;5;124m\"\u001b[39m\u001b[38;5;124mmust be \u001b[39m\u001b[38;5;132;01m{\u001b[39;00mleft\u001b[38;5;241m.\u001b[39mshape\u001b[38;5;132;01m}\u001b[39;00m\u001b[38;5;124m: given \u001b[39m\u001b[38;5;132;01m{\u001b[39;00mright\u001b[38;5;241m.\u001b[39mshape\u001b[38;5;132;01m}\u001b[39;00m\u001b[38;5;124m\"\u001b[39m\n\u001b[1;32m    267\u001b[0m         )\n\u001b[1;32m    269\u001b[0m \u001b[38;5;28;01melif\u001b[39;00m right\u001b[38;5;241m.\u001b[39mndim \u001b[38;5;241m>\u001b[39m \u001b[38;5;241m2\u001b[39m:\n\u001b[1;32m    270\u001b[0m     \u001b[38;5;28;01mraise\u001b[39;00m \u001b[38;5;167;01mValueError\u001b[39;00m(\n\u001b[1;32m    271\u001b[0m         \u001b[38;5;124m\"\u001b[39m\u001b[38;5;124mUnable to coerce to Series/DataFrame, \u001b[39m\u001b[38;5;124m\"\u001b[39m\n\u001b[1;32m    272\u001b[0m         \u001b[38;5;124mf\u001b[39m\u001b[38;5;124m\"\u001b[39m\u001b[38;5;124mdimension must be <= 2: \u001b[39m\u001b[38;5;132;01m{\u001b[39;00mright\u001b[38;5;241m.\u001b[39mshape\u001b[38;5;132;01m}\u001b[39;00m\u001b[38;5;124m\"\u001b[39m\n\u001b[1;32m    273\u001b[0m     )\n",
      "\u001b[0;31mValueError\u001b[0m: Unable to coerce to DataFrame, shape must be (522720, 20): given (1568160, 1)"
     ]
    }
   ],
   "source": [
    "errors = np.abs(forecast_values - test_data.values.reshape(-1, 1))\n",
    "mean_errors = errors.mean(axis=0)"
   ]
  },
  {
   "cell_type": "code",
   "execution_count": null,
   "id": "fc212f9a-8234-4b82-9115-456a48525a30",
   "metadata": {},
   "outputs": [],
   "source": [
    "\n",
    "\n",
    "plt.figure(figsize=(10, 6))\n",
    "plt.plot(mean_errors, marker='o')\n",
    "plt.xlabel('Forecast Horizon (Minutes)')\n",
    "plt.ylabel('Mean Absolute Error')\n",
    "plt.title('Mean Absolute Error at Each Forecast Horizon')\n",
    "plt.xticks(range(1, FORECASTING_HORIZON + 1))\n",
    "plt.grid(True)\n",
    "plt.show()"
   ]
  }
 ],
 "metadata": {
  "kernelspec": {
   "display_name": "saturn (Python 3)",
   "language": "python",
   "name": "python3"
  },
  "language_info": {
   "codemirror_mode": {
    "name": "ipython",
    "version": 3
   },
   "file_extension": ".py",
   "mimetype": "text/x-python",
   "name": "python",
   "nbconvert_exporter": "python",
   "pygments_lexer": "ipython3",
   "version": "3.9.13"
  }
 },
 "nbformat": 4,
 "nbformat_minor": 5
}
