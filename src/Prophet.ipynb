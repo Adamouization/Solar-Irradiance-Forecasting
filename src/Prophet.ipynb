{
 "cells": [
  {
   "cell_type": "markdown",
   "id": "b8d68ec2-1aed-4bfc-84c9-a5cd2fcc3876",
   "metadata": {},
   "source": [
    "# 1. Notebook Setup"
   ]
  },
  {
   "cell_type": "markdown",
   "id": "b2aa6fef-76ae-4a81-b0ce-79531af0d766",
   "metadata": {
    "execution": {
     "iopub.execute_input": "2023-08-30T16:37:47.625064Z",
     "iopub.status.busy": "2023-08-30T16:37:47.624652Z",
     "iopub.status.idle": "2023-08-30T16:37:47.630450Z",
     "shell.execute_reply": "2023-08-30T16:37:47.629365Z",
     "shell.execute_reply.started": "2023-08-30T16:37:47.625035Z"
    }
   },
   "source": [
    "https://machinelearningmastery.com/arima-for-time-series-forecasting-with-python/"
   ]
  },
  {
   "cell_type": "markdown",
   "id": "2c467eb5-9aed-47ff-846d-5cfe08bb89bf",
   "metadata": {},
   "source": [
    "Import libraries"
   ]
  },
  {
   "cell_type": "code",
   "execution_count": 2,
   "id": "bdb237cd-329c-4dde-a487-58fcabd32e5c",
   "metadata": {
    "execution": {
     "iopub.execute_input": "2023-09-01T22:23:23.227724Z",
     "iopub.status.busy": "2023-09-01T22:23:23.227346Z",
     "iopub.status.idle": "2023-09-01T22:23:25.346165Z",
     "shell.execute_reply": "2023-09-01T22:23:25.345544Z",
     "shell.execute_reply.started": "2023-09-01T22:23:23.227695Z"
    },
    "tags": []
   },
   "outputs": [
    {
     "name": "stderr",
     "output_type": "stream",
     "text": [
      "Importing plotly failed. Interactive plots will not work.\n"
     ]
    }
   ],
   "source": [
    "from math import sqrt\n",
    "\n",
    "import matplotlib.pyplot as plt\n",
    "import numpy as np\n",
    "import pandas as pd\n",
    "from prophet import Prophet\n",
    "from prophet.serialize import model_from_json, model_to_json\n",
    "from sklearn.metrics import mean_absolute_error, mean_squared_error, r2_score\n",
    "\n",
    "import eda as eda"
   ]
  },
  {
   "cell_type": "markdown",
   "id": "93096682-d3d2-4405-8d9d-ba4a1747f02c",
   "metadata": {
    "tags": []
   },
   "source": [
    "# 2. Loading and Prepare data"
   ]
  },
  {
   "cell_type": "markdown",
   "id": "673dc6a0-cc30-4d46-8993-3f7eeee99af5",
   "metadata": {},
   "source": [
    "Load CSV"
   ]
  },
  {
   "cell_type": "code",
   "execution_count": 3,
   "id": "b6fa2f2a-bdb9-4425-9a73-8ca6e71406c6",
   "metadata": {
    "execution": {
     "iopub.execute_input": "2023-09-01T22:23:25.347818Z",
     "iopub.status.busy": "2023-09-01T22:23:25.347404Z",
     "iopub.status.idle": "2023-09-01T22:23:26.743625Z",
     "shell.execute_reply": "2023-09-01T22:23:26.742836Z",
     "shell.execute_reply.started": "2023-09-01T22:23:25.347793Z"
    },
    "tags": []
   },
   "outputs": [
    {
     "data": {
      "text/html": [
       "<div>\n",
       "<style scoped>\n",
       "    .dataframe tbody tr th:only-of-type {\n",
       "        vertical-align: middle;\n",
       "    }\n",
       "\n",
       "    .dataframe tbody tr th {\n",
       "        vertical-align: top;\n",
       "    }\n",
       "\n",
       "    .dataframe thead th {\n",
       "        text-align: right;\n",
       "    }\n",
       "</style>\n",
       "<table border=\"1\" class=\"dataframe\">\n",
       "  <thead>\n",
       "    <tr style=\"text-align: right;\">\n",
       "      <th></th>\n",
       "      <th>timeStamp</th>\n",
       "      <th>ghi</th>\n",
       "      <th>dni</th>\n",
       "      <th>dhi</th>\n",
       "    </tr>\n",
       "  </thead>\n",
       "  <tbody>\n",
       "    <tr>\n",
       "      <th>0</th>\n",
       "      <td>2014-01-02 08:00:00</td>\n",
       "      <td>0.0</td>\n",
       "      <td>0.0</td>\n",
       "      <td>0.0</td>\n",
       "    </tr>\n",
       "    <tr>\n",
       "      <th>1</th>\n",
       "      <td>2014-01-02 08:01:00</td>\n",
       "      <td>0.0</td>\n",
       "      <td>0.0</td>\n",
       "      <td>0.0</td>\n",
       "    </tr>\n",
       "    <tr>\n",
       "      <th>2</th>\n",
       "      <td>2014-01-02 08:02:00</td>\n",
       "      <td>0.0</td>\n",
       "      <td>0.0</td>\n",
       "      <td>0.0</td>\n",
       "    </tr>\n",
       "    <tr>\n",
       "      <th>3</th>\n",
       "      <td>2014-01-02 08:03:00</td>\n",
       "      <td>0.0</td>\n",
       "      <td>0.0</td>\n",
       "      <td>0.0</td>\n",
       "    </tr>\n",
       "    <tr>\n",
       "      <th>4</th>\n",
       "      <td>2014-01-02 08:04:00</td>\n",
       "      <td>0.0</td>\n",
       "      <td>0.0</td>\n",
       "      <td>0.0</td>\n",
       "    </tr>\n",
       "    <tr>\n",
       "      <th>...</th>\n",
       "      <td>...</td>\n",
       "      <td>...</td>\n",
       "      <td>...</td>\n",
       "      <td>...</td>\n",
       "    </tr>\n",
       "    <tr>\n",
       "      <th>1552315</th>\n",
       "      <td>2016-12-31 07:55:00</td>\n",
       "      <td>0.0</td>\n",
       "      <td>0.0</td>\n",
       "      <td>0.0</td>\n",
       "    </tr>\n",
       "    <tr>\n",
       "      <th>1552316</th>\n",
       "      <td>2016-12-31 07:56:00</td>\n",
       "      <td>0.0</td>\n",
       "      <td>0.0</td>\n",
       "      <td>0.0</td>\n",
       "    </tr>\n",
       "    <tr>\n",
       "      <th>1552317</th>\n",
       "      <td>2016-12-31 07:57:00</td>\n",
       "      <td>0.0</td>\n",
       "      <td>0.0</td>\n",
       "      <td>0.0</td>\n",
       "    </tr>\n",
       "    <tr>\n",
       "      <th>1552318</th>\n",
       "      <td>2016-12-31 07:58:00</td>\n",
       "      <td>0.0</td>\n",
       "      <td>0.0</td>\n",
       "      <td>0.0</td>\n",
       "    </tr>\n",
       "    <tr>\n",
       "      <th>1552319</th>\n",
       "      <td>2016-12-31 07:59:00</td>\n",
       "      <td>0.0</td>\n",
       "      <td>0.0</td>\n",
       "      <td>0.0</td>\n",
       "    </tr>\n",
       "  </tbody>\n",
       "</table>\n",
       "<p>1552320 rows × 4 columns</p>\n",
       "</div>"
      ],
      "text/plain": [
       "                   timeStamp  ghi  dni  dhi\n",
       "0        2014-01-02 08:00:00  0.0  0.0  0.0\n",
       "1        2014-01-02 08:01:00  0.0  0.0  0.0\n",
       "2        2014-01-02 08:02:00  0.0  0.0  0.0\n",
       "3        2014-01-02 08:03:00  0.0  0.0  0.0\n",
       "4        2014-01-02 08:04:00  0.0  0.0  0.0\n",
       "...                      ...  ...  ...  ...\n",
       "1552315  2016-12-31 07:55:00  0.0  0.0  0.0\n",
       "1552316  2016-12-31 07:56:00  0.0  0.0  0.0\n",
       "1552317  2016-12-31 07:57:00  0.0  0.0  0.0\n",
       "1552318  2016-12-31 07:58:00  0.0  0.0  0.0\n",
       "1552319  2016-12-31 07:59:00  0.0  0.0  0.0\n",
       "\n",
       "[1552320 rows x 4 columns]"
      ]
     },
     "execution_count": 3,
     "metadata": {},
     "output_type": "execute_result"
    }
   ],
   "source": [
    "df = pd.read_csv(\"../data/Folsom_irradiance.csv\", infer_datetime_format=True)\n",
    "df"
   ]
  },
  {
   "cell_type": "markdown",
   "id": "af25ef26-bc57-4bd7-ae47-a41240dad188",
   "metadata": {},
   "source": [
    "Convert `timeStamp` to a datetime and set as index"
   ]
  },
  {
   "cell_type": "code",
   "execution_count": 4,
   "id": "c579ead4-3896-4ffe-9983-353f3d7bc6ff",
   "metadata": {
    "execution": {
     "iopub.execute_input": "2023-09-01T22:23:26.745336Z",
     "iopub.status.busy": "2023-09-01T22:23:26.744724Z",
     "iopub.status.idle": "2023-09-01T22:23:27.009255Z",
     "shell.execute_reply": "2023-09-01T22:23:27.008547Z",
     "shell.execute_reply.started": "2023-09-01T22:23:26.745303Z"
    },
    "tags": []
   },
   "outputs": [],
   "source": [
    "df[\"ds\"] = pd.to_datetime(df[\"timeStamp\"])\n",
    "# df = df.set_index('DS')"
   ]
  },
  {
   "cell_type": "markdown",
   "id": "f3decfb0-6c06-4f96-a657-0f7be008b14b",
   "metadata": {},
   "source": [
    "Drop other columns (only GHI needed for ARIMA)"
   ]
  },
  {
   "cell_type": "code",
   "execution_count": 5,
   "id": "0442ff51-6a8c-491d-a747-72c4412a1db2",
   "metadata": {
    "execution": {
     "iopub.execute_input": "2023-09-01T22:23:27.011040Z",
     "iopub.status.busy": "2023-09-01T22:23:27.010719Z",
     "iopub.status.idle": "2023-09-01T22:23:27.063561Z",
     "shell.execute_reply": "2023-09-01T22:23:27.062837Z",
     "shell.execute_reply.started": "2023-09-01T22:23:27.011019Z"
    },
    "tags": []
   },
   "outputs": [],
   "source": [
    "df[\"y\"] = df[\"ghi\"]\n",
    "df = df[[\"ds\", \"y\"]]"
   ]
  },
  {
   "cell_type": "code",
   "execution_count": 6,
   "id": "fbf614aa-0952-4bf0-b720-0dc8344ffb5b",
   "metadata": {
    "execution": {
     "iopub.execute_input": "2023-09-01T22:23:27.064694Z",
     "iopub.status.busy": "2023-09-01T22:23:27.064447Z",
     "iopub.status.idle": "2023-09-01T22:23:27.074610Z",
     "shell.execute_reply": "2023-09-01T22:23:27.074005Z",
     "shell.execute_reply.started": "2023-09-01T22:23:27.064673Z"
    },
    "tags": []
   },
   "outputs": [
    {
     "data": {
      "text/html": [
       "<div>\n",
       "<style scoped>\n",
       "    .dataframe tbody tr th:only-of-type {\n",
       "        vertical-align: middle;\n",
       "    }\n",
       "\n",
       "    .dataframe tbody tr th {\n",
       "        vertical-align: top;\n",
       "    }\n",
       "\n",
       "    .dataframe thead th {\n",
       "        text-align: right;\n",
       "    }\n",
       "</style>\n",
       "<table border=\"1\" class=\"dataframe\">\n",
       "  <thead>\n",
       "    <tr style=\"text-align: right;\">\n",
       "      <th></th>\n",
       "      <th>ds</th>\n",
       "      <th>y</th>\n",
       "    </tr>\n",
       "  </thead>\n",
       "  <tbody>\n",
       "    <tr>\n",
       "      <th>0</th>\n",
       "      <td>2014-01-02 08:00:00</td>\n",
       "      <td>0.0</td>\n",
       "    </tr>\n",
       "    <tr>\n",
       "      <th>1</th>\n",
       "      <td>2014-01-02 08:01:00</td>\n",
       "      <td>0.0</td>\n",
       "    </tr>\n",
       "    <tr>\n",
       "      <th>2</th>\n",
       "      <td>2014-01-02 08:02:00</td>\n",
       "      <td>0.0</td>\n",
       "    </tr>\n",
       "    <tr>\n",
       "      <th>3</th>\n",
       "      <td>2014-01-02 08:03:00</td>\n",
       "      <td>0.0</td>\n",
       "    </tr>\n",
       "    <tr>\n",
       "      <th>4</th>\n",
       "      <td>2014-01-02 08:04:00</td>\n",
       "      <td>0.0</td>\n",
       "    </tr>\n",
       "    <tr>\n",
       "      <th>...</th>\n",
       "      <td>...</td>\n",
       "      <td>...</td>\n",
       "    </tr>\n",
       "    <tr>\n",
       "      <th>1552315</th>\n",
       "      <td>2016-12-31 07:55:00</td>\n",
       "      <td>0.0</td>\n",
       "    </tr>\n",
       "    <tr>\n",
       "      <th>1552316</th>\n",
       "      <td>2016-12-31 07:56:00</td>\n",
       "      <td>0.0</td>\n",
       "    </tr>\n",
       "    <tr>\n",
       "      <th>1552317</th>\n",
       "      <td>2016-12-31 07:57:00</td>\n",
       "      <td>0.0</td>\n",
       "    </tr>\n",
       "    <tr>\n",
       "      <th>1552318</th>\n",
       "      <td>2016-12-31 07:58:00</td>\n",
       "      <td>0.0</td>\n",
       "    </tr>\n",
       "    <tr>\n",
       "      <th>1552319</th>\n",
       "      <td>2016-12-31 07:59:00</td>\n",
       "      <td>0.0</td>\n",
       "    </tr>\n",
       "  </tbody>\n",
       "</table>\n",
       "<p>1552320 rows × 2 columns</p>\n",
       "</div>"
      ],
      "text/plain": [
       "                         ds    y\n",
       "0       2014-01-02 08:00:00  0.0\n",
       "1       2014-01-02 08:01:00  0.0\n",
       "2       2014-01-02 08:02:00  0.0\n",
       "3       2014-01-02 08:03:00  0.0\n",
       "4       2014-01-02 08:04:00  0.0\n",
       "...                     ...  ...\n",
       "1552315 2016-12-31 07:55:00  0.0\n",
       "1552316 2016-12-31 07:56:00  0.0\n",
       "1552317 2016-12-31 07:57:00  0.0\n",
       "1552318 2016-12-31 07:58:00  0.0\n",
       "1552319 2016-12-31 07:59:00  0.0\n",
       "\n",
       "[1552320 rows x 2 columns]"
      ]
     },
     "execution_count": 6,
     "metadata": {},
     "output_type": "execute_result"
    }
   ],
   "source": [
    "df"
   ]
  },
  {
   "cell_type": "markdown",
   "id": "cdf75fcb-1b2f-41e2-a9ae-ac096bf8ae71",
   "metadata": {},
   "source": [
    "Split train/test"
   ]
  },
  {
   "cell_type": "code",
   "execution_count": 7,
   "id": "8c9064ac-8b85-4595-8805-9b4299f09846",
   "metadata": {
    "execution": {
     "iopub.execute_input": "2023-09-01T22:23:27.076158Z",
     "iopub.status.busy": "2023-09-01T22:23:27.075541Z",
     "iopub.status.idle": "2023-09-01T22:23:27.129756Z",
     "shell.execute_reply": "2023-09-01T22:23:27.129123Z",
     "shell.execute_reply.started": "2023-09-01T22:23:27.076126Z"
    },
    "tags": []
   },
   "outputs": [],
   "source": [
    "# Split data into train and test based on the years\n",
    "train_start = \"2014-01-01\"\n",
    "# validation_start = \"2015-01-01\"\n",
    "test_start = \"2016-01-01\"\n",
    "\n",
    "train_data = df.loc[df[\"ds\"] < test_start]\n",
    "# validation_data = df.loc[(validation_start <= df.index) & (df.index < test_start)]\n",
    "test_data = df.loc[df[\"ds\"] >= test_start]"
   ]
  },
  {
   "cell_type": "markdown",
   "id": "ce176912-c69c-430f-b6d2-90f4254325d2",
   "metadata": {},
   "source": [
    "Ensure no data leakage by checking date range of each sample created"
   ]
  },
  {
   "cell_type": "code",
   "execution_count": 8,
   "id": "1e343818-de49-4d5c-b70f-55b17a1bad70",
   "metadata": {
    "execution": {
     "iopub.execute_input": "2023-09-01T22:23:27.130942Z",
     "iopub.status.busy": "2023-09-01T22:23:27.130644Z",
     "iopub.status.idle": "2023-09-01T22:23:27.134425Z",
     "shell.execute_reply": "2023-09-01T22:23:27.133668Z",
     "shell.execute_reply.started": "2023-09-01T22:23:27.130919Z"
    },
    "tags": []
   },
   "outputs": [],
   "source": [
    "# eda.print_df_index_date_range(train_data, \"Train\")\n",
    "# # eda.print_df_index_date_range(validation_data, \"Validation\")\n",
    "# eda.print_df_index_date_range(test_data, \"Test\")"
   ]
  },
  {
   "cell_type": "markdown",
   "id": "b63e4eda-816a-42ab-a463-06129e8e8618",
   "metadata": {},
   "source": [
    "Check for missing values in ghi"
   ]
  },
  {
   "cell_type": "code",
   "execution_count": 9,
   "id": "20cb6537-d5a5-437a-bff2-d7359da86589",
   "metadata": {
    "execution": {
     "iopub.execute_input": "2023-09-01T22:23:27.135438Z",
     "iopub.status.busy": "2023-09-01T22:23:27.135237Z",
     "iopub.status.idle": "2023-09-01T22:23:27.138518Z",
     "shell.execute_reply": "2023-09-01T22:23:27.137947Z",
     "shell.execute_reply.started": "2023-09-01T22:23:27.135420Z"
    },
    "tags": []
   },
   "outputs": [],
   "source": [
    "# assert df.isnull().any() == False\n",
    "\n",
    "# # for c in [\"ghi\", \"dni\", \"dhi\"]:\n",
    "# #     df[c]=df[c].fillna(method='ffill')"
   ]
  },
  {
   "cell_type": "markdown",
   "id": "2bc2f718-61e5-4bba-836e-4897b8308112",
   "metadata": {},
   "source": [
    "Check if data is stationary over a day: **non-stationary**, will need to use at least a difference order of 1"
   ]
  },
  {
   "cell_type": "markdown",
   "id": "4c411f3c-4203-476f-93e5-dc687b667574",
   "metadata": {
    "tags": []
   },
   "source": [
    "# 3. Train Prophet Model"
   ]
  },
  {
   "cell_type": "markdown",
   "id": "d986c245-863f-450e-bee3-55ac723931fe",
   "metadata": {},
   "source": [
    "Takes ~ 15 minutes on full train test (all 2014 and 2015)"
   ]
  },
  {
   "cell_type": "code",
   "execution_count": 10,
   "id": "82f7a702-b678-46b8-aebe-1660a0a7b8a6",
   "metadata": {
    "execution": {
     "iopub.execute_input": "2023-09-01T22:23:27.139614Z",
     "iopub.status.busy": "2023-09-01T22:23:27.139243Z",
     "iopub.status.idle": "2023-09-01T22:23:27.143047Z",
     "shell.execute_reply": "2023-09-01T22:23:27.142409Z",
     "shell.execute_reply.started": "2023-09-01T22:23:27.139594Z"
    },
    "tags": []
   },
   "outputs": [],
   "source": [
    "# # Create a Prophet model instance\n",
    "# model = Prophet()\n",
    "\n",
    "# model.fit(df)\n",
    "\n",
    "# with open('../output/prophet_univariate_serialized_model.json', 'w') as fout:\n",
    "#     fout.write(model_to_json(model))  # Save model"
   ]
  },
  {
   "cell_type": "markdown",
   "id": "3ae1db00-73cf-43e5-ba4f-72fb8173640a",
   "metadata": {},
   "source": [
    "Takes ~10 seconds"
   ]
  },
  {
   "cell_type": "code",
   "execution_count": 11,
   "id": "1c90f036-ee6f-4276-9c02-eec5ec113c25",
   "metadata": {
    "execution": {
     "iopub.execute_input": "2023-09-01T22:23:27.144737Z",
     "iopub.status.busy": "2023-09-01T22:23:27.144470Z",
     "iopub.status.idle": "2023-09-01T22:23:35.592606Z",
     "shell.execute_reply": "2023-09-01T22:23:35.591991Z",
     "shell.execute_reply.started": "2023-09-01T22:23:27.144719Z"
    },
    "tags": []
   },
   "outputs": [
    {
     "name": "stderr",
     "output_type": "stream",
     "text": [
      "/opt/saturncloud/envs/saturn/lib/python3.9/site-packages/prophet/serialize.py:160: FutureWarning: The behavior of Timestamp.utcfromtimestamp is deprecated, in a future version will return a timezone-aware Timestamp with UTC timezone. To keep the old behavior, use Timestamp.utcfromtimestamp(ts).tz_localize(None). To get the future behavior, use Timestamp.fromtimestamp(ts, 'UTC')\n",
      "  setattr(model, attribute, pd.Timestamp.utcfromtimestamp(model_dict[attribute]).tz_localize(None))\n"
     ]
    }
   ],
   "source": [
    "with open('../output/prophet_univariate_serialized_model.json', 'r') as fin:\n",
    "    model = model_from_json(fin.read())  # Load model"
   ]
  },
  {
   "cell_type": "markdown",
   "id": "8d180111-73d7-4814-8de3-8b44f5e35165",
   "metadata": {
    "tags": []
   },
   "source": [
    "# 4. Make Forecasting Predictions"
   ]
  },
  {
   "cell_type": "markdown",
   "id": "ae6a57aa-da60-4deb-8d11-b599ce302bc9",
   "metadata": {},
   "source": [
    "Loop through each minute prediction from 1 to 20, forecasts the next minute step using the ARIMA model, stores the forecasted values in a DataFrame, calculates the errors at each minute prediction, and plots the mean absolute error at each forecast horizon."
   ]
  },
  {
   "cell_type": "code",
   "execution_count": 15,
   "id": "f34cb770-a389-42d0-8f47-027d73e3aa87",
   "metadata": {
    "execution": {
     "iopub.execute_input": "2023-09-01T22:13:33.911701Z",
     "iopub.status.busy": "2023-09-01T22:13:33.911316Z",
     "iopub.status.idle": "2023-09-01T22:13:33.915261Z",
     "shell.execute_reply": "2023-09-01T22:13:33.914386Z",
     "shell.execute_reply.started": "2023-09-01T22:13:33.911673Z"
    }
   },
   "outputs": [],
   "source": [
    "# future = model.make_future_dataframe(periods=20, freq='min')  # 20 minutes with 1-minute intervals\n",
    "# future\n",
    "\n"
   ]
  },
  {
   "cell_type": "code",
   "execution_count": 13,
   "id": "51d91f2c-2443-4ffa-82f8-0e36bfd40e7f",
   "metadata": {
    "execution": {
     "iopub.execute_input": "2023-09-01T22:16:10.433020Z",
     "iopub.status.busy": "2023-09-01T22:16:10.432617Z",
     "iopub.status.idle": "2023-09-01T22:16:10.444253Z",
     "shell.execute_reply": "2023-09-01T22:16:10.443602Z",
     "shell.execute_reply.started": "2023-09-01T22:16:10.432994Z"
    },
    "tags": []
   },
   "outputs": [
    {
     "data": {
      "text/html": [
       "<div>\n",
       "<style scoped>\n",
       "    .dataframe tbody tr th:only-of-type {\n",
       "        vertical-align: middle;\n",
       "    }\n",
       "\n",
       "    .dataframe tbody tr th {\n",
       "        vertical-align: top;\n",
       "    }\n",
       "\n",
       "    .dataframe thead th {\n",
       "        text-align: right;\n",
       "    }\n",
       "</style>\n",
       "<table border=\"1\" class=\"dataframe\">\n",
       "  <thead>\n",
       "    <tr style=\"text-align: right;\">\n",
       "      <th></th>\n",
       "      <th>ds</th>\n",
       "    </tr>\n",
       "  </thead>\n",
       "  <tbody>\n",
       "    <tr>\n",
       "      <th>1029600</th>\n",
       "      <td>2016-01-01 08:00:00</td>\n",
       "    </tr>\n",
       "    <tr>\n",
       "      <th>1029601</th>\n",
       "      <td>2016-01-01 08:01:00</td>\n",
       "    </tr>\n",
       "    <tr>\n",
       "      <th>1029602</th>\n",
       "      <td>2016-01-01 08:02:00</td>\n",
       "    </tr>\n",
       "    <tr>\n",
       "      <th>1029603</th>\n",
       "      <td>2016-01-01 08:03:00</td>\n",
       "    </tr>\n",
       "    <tr>\n",
       "      <th>1029604</th>\n",
       "      <td>2016-01-01 08:04:00</td>\n",
       "    </tr>\n",
       "    <tr>\n",
       "      <th>...</th>\n",
       "      <td>...</td>\n",
       "    </tr>\n",
       "    <tr>\n",
       "      <th>1030555</th>\n",
       "      <td>2016-01-01 23:55:00</td>\n",
       "    </tr>\n",
       "    <tr>\n",
       "      <th>1030556</th>\n",
       "      <td>2016-01-01 23:56:00</td>\n",
       "    </tr>\n",
       "    <tr>\n",
       "      <th>1030557</th>\n",
       "      <td>2016-01-01 23:57:00</td>\n",
       "    </tr>\n",
       "    <tr>\n",
       "      <th>1030558</th>\n",
       "      <td>2016-01-01 23:58:00</td>\n",
       "    </tr>\n",
       "    <tr>\n",
       "      <th>1030559</th>\n",
       "      <td>2016-01-01 23:59:00</td>\n",
       "    </tr>\n",
       "  </tbody>\n",
       "</table>\n",
       "<p>960 rows × 1 columns</p>\n",
       "</div>"
      ],
      "text/plain": [
       "                         ds\n",
       "1029600 2016-01-01 08:00:00\n",
       "1029601 2016-01-01 08:01:00\n",
       "1029602 2016-01-01 08:02:00\n",
       "1029603 2016-01-01 08:03:00\n",
       "1029604 2016-01-01 08:04:00\n",
       "...                     ...\n",
       "1030555 2016-01-01 23:55:00\n",
       "1030556 2016-01-01 23:56:00\n",
       "1030557 2016-01-01 23:57:00\n",
       "1030558 2016-01-01 23:58:00\n",
       "1030559 2016-01-01 23:59:00\n",
       "\n",
       "[960 rows x 1 columns]"
      ]
     },
     "execution_count": 13,
     "metadata": {},
     "output_type": "execute_result"
    }
   ],
   "source": [
    "future = test_data[[\"ds\"]]\n",
    "future = future.loc[future[\"ds\"] < '2016-01-02']\n",
    "\n",
    "future"
   ]
  },
  {
   "cell_type": "code",
   "execution_count": 16,
   "id": "8b3e3394-921e-41d3-bb4a-1a3c9918954e",
   "metadata": {
    "execution": {
     "iopub.execute_input": "2023-09-01T22:16:45.621702Z",
     "iopub.status.busy": "2023-09-01T22:16:45.621318Z",
     "iopub.status.idle": "2023-09-01T22:16:45.931597Z",
     "shell.execute_reply": "2023-09-01T22:16:45.930960Z",
     "shell.execute_reply.started": "2023-09-01T22:16:45.621678Z"
    },
    "tags": []
   },
   "outputs": [
    {
     "data": {
      "image/png": "[encoded data removed]",
      "text/plain": [
       "<Figure size 640x480 with 1 Axes>"
      ]
     },
     "metadata": {},
     "output_type": "display_data"
    }
   ],
   "source": [
    "# Make predictions for the future\n",
    "forecast = model.predict(future)\n",
    "\n",
    "# Extract the forecasted values for the test set (the last 20 minutes)\n",
    "forecast_test = forecast.iloc[-20:]\n",
    "\n",
    "# Initialize lists to store MAE for each minute of the horizon\n",
    "mae_per_minute = []\n",
    "\n",
    "# Iterate over each minute of the horizon (from 1 to 20)\n",
    "for minute in range(1, 21):\n",
    "    # Filter the forecasted values up to the current minute\n",
    "    forecast_until_minute = forecast.iloc[:minute]\n",
    "    \n",
    "    # Filter the actual values up to the current minute\n",
    "    actual_until_minute = test_data.iloc[:minute]\n",
    "    \n",
    "    # Calculate MAE for this minute and append it to the list\n",
    "    mae = mean_absolute_error(actual_until_minute['y'], forecast_until_minute['yhat'])\n",
    "    mae_per_minute.append(mae)\n",
    "\n",
    "# Plot the average error for each minute of the horizon\n",
    "plt.plot(range(1, 21), mae_per_minute, marker='o')\n",
    "plt.xlabel('Horizon Minutes')\n",
    "plt.ylabel('Average MAE')\n",
    "plt.title('Average MAE for Each Minute of the Horizon')\n",
    "plt.show()"
   ]
  },
  {
   "cell_type": "code",
   "execution_count": null,
   "id": "ade9562f-3d57-4b0e-8da8-51c1491cd00f",
   "metadata": {},
   "outputs": [],
   "source": []
  },
  {
   "cell_type": "code",
   "execution_count": null,
   "id": "51949650-7c3d-431d-bcc5-744e393b66d2",
   "metadata": {},
   "outputs": [],
   "source": []
  },
  {
   "cell_type": "code",
   "execution_count": null,
   "id": "70b382c9-7fde-4636-9885-b5bcad2f6495",
   "metadata": {},
   "outputs": [],
   "source": []
  },
  {
   "cell_type": "code",
   "execution_count": 12,
   "id": "b7548561-c7b6-4ffa-9a21-a83e8199f770",
   "metadata": {
    "execution": {
     "iopub.execute_input": "2023-09-01T22:23:35.594144Z",
     "iopub.status.busy": "2023-09-01T22:23:35.593776Z",
     "iopub.status.idle": "2023-09-01T22:23:35.625078Z",
     "shell.execute_reply": "2023-09-01T22:23:35.624372Z",
     "shell.execute_reply.started": "2023-09-01T22:23:35.594121Z"
    },
    "tags": []
   },
   "outputs": [],
   "source": [
    "future = model.make_future_dataframe(periods=len(test_data), freq='min')"
   ]
  },
  {
   "cell_type": "code",
   "execution_count": 17,
   "id": "de2219de-fc5a-4184-9025-1e7372a27178",
   "metadata": {
    "execution": {
     "iopub.execute_input": "2023-09-01T22:25:18.935132Z",
     "iopub.status.busy": "2023-09-01T22:25:18.934758Z",
     "iopub.status.idle": "2023-09-01T22:25:18.945132Z",
     "shell.execute_reply": "2023-09-01T22:25:18.944458Z",
     "shell.execute_reply.started": "2023-09-01T22:25:18.935105Z"
    },
    "tags": []
   },
   "outputs": [
    {
     "data": {
      "text/html": [
       "<div>\n",
       "<style scoped>\n",
       "    .dataframe tbody tr th:only-of-type {\n",
       "        vertical-align: middle;\n",
       "    }\n",
       "\n",
       "    .dataframe tbody tr th {\n",
       "        vertical-align: top;\n",
       "    }\n",
       "\n",
       "    .dataframe thead th {\n",
       "        text-align: right;\n",
       "    }\n",
       "</style>\n",
       "<table border=\"1\" class=\"dataframe\">\n",
       "  <thead>\n",
       "    <tr style=\"text-align: right;\">\n",
       "      <th></th>\n",
       "      <th>ds</th>\n",
       "      <th>y</th>\n",
       "    </tr>\n",
       "  </thead>\n",
       "  <tbody>\n",
       "    <tr>\n",
       "      <th>1029600</th>\n",
       "      <td>2016-01-01 08:00:00</td>\n",
       "      <td>0.0</td>\n",
       "    </tr>\n",
       "    <tr>\n",
       "      <th>1029601</th>\n",
       "      <td>2016-01-01 08:01:00</td>\n",
       "      <td>0.0</td>\n",
       "    </tr>\n",
       "    <tr>\n",
       "      <th>1029602</th>\n",
       "      <td>2016-01-01 08:02:00</td>\n",
       "      <td>0.0</td>\n",
       "    </tr>\n",
       "    <tr>\n",
       "      <th>1029603</th>\n",
       "      <td>2016-01-01 08:03:00</td>\n",
       "      <td>0.0</td>\n",
       "    </tr>\n",
       "    <tr>\n",
       "      <th>1029604</th>\n",
       "      <td>2016-01-01 08:04:00</td>\n",
       "      <td>0.0</td>\n",
       "    </tr>\n",
       "    <tr>\n",
       "      <th>...</th>\n",
       "      <td>...</td>\n",
       "      <td>...</td>\n",
       "    </tr>\n",
       "    <tr>\n",
       "      <th>1039595</th>\n",
       "      <td>2016-01-08 06:35:00</td>\n",
       "      <td>0.0</td>\n",
       "    </tr>\n",
       "    <tr>\n",
       "      <th>1039596</th>\n",
       "      <td>2016-01-08 06:36:00</td>\n",
       "      <td>0.0</td>\n",
       "    </tr>\n",
       "    <tr>\n",
       "      <th>1039597</th>\n",
       "      <td>2016-01-08 06:37:00</td>\n",
       "      <td>0.0</td>\n",
       "    </tr>\n",
       "    <tr>\n",
       "      <th>1039598</th>\n",
       "      <td>2016-01-08 06:38:00</td>\n",
       "      <td>0.0</td>\n",
       "    </tr>\n",
       "    <tr>\n",
       "      <th>1039599</th>\n",
       "      <td>2016-01-08 06:39:00</td>\n",
       "      <td>0.0</td>\n",
       "    </tr>\n",
       "  </tbody>\n",
       "</table>\n",
       "<p>10000 rows × 2 columns</p>\n",
       "</div>"
      ],
      "text/plain": [
       "                         ds    y\n",
       "1029600 2016-01-01 08:00:00  0.0\n",
       "1029601 2016-01-01 08:01:00  0.0\n",
       "1029602 2016-01-01 08:02:00  0.0\n",
       "1029603 2016-01-01 08:03:00  0.0\n",
       "1029604 2016-01-01 08:04:00  0.0\n",
       "...                     ...  ...\n",
       "1039595 2016-01-08 06:35:00  0.0\n",
       "1039596 2016-01-08 06:36:00  0.0\n",
       "1039597 2016-01-08 06:37:00  0.0\n",
       "1039598 2016-01-08 06:38:00  0.0\n",
       "1039599 2016-01-08 06:39:00  0.0\n",
       "\n",
       "[10000 rows x 2 columns]"
      ]
     },
     "execution_count": 17,
     "metadata": {},
     "output_type": "execute_result"
    }
   ],
   "source": []
  },
  {
   "cell_type": "code",
   "execution_count": 18,
   "id": "628c9fd2-711e-48a6-96e7-061f47cb3016",
   "metadata": {
    "execution": {
     "iopub.execute_input": "2023-09-01T22:25:30.037340Z",
     "iopub.status.busy": "2023-09-01T22:25:30.036930Z",
     "iopub.status.idle": "2023-09-01T22:25:31.747611Z",
     "shell.execute_reply": "2023-09-01T22:25:31.746890Z",
     "shell.execute_reply.started": "2023-09-01T22:25:30.037314Z"
    },
    "tags": []
   },
   "outputs": [
    {
     "name": "stderr",
     "output_type": "stream",
     "text": [
      "/tmp/ipykernel_20532/2799380640.py:14: FutureWarning: The frame.append method is deprecated and will be removed from pandas in a future version. Use pandas.concat instead.\n",
      "  future = future.append(test_batch[['ds']], ignore_index=True)\n"
     ]
    },
    {
     "data": {
      "image/png": "[encoded data removed]",
      "text/plain": [
       "<Figure size 1200x600 with 1 Axes>"
      ]
     },
     "metadata": {},
     "output_type": "display_data"
    },
    {
     "name": "stdout",
     "output_type": "stream",
     "text": [
      "Mean Absolute Error (MAE) for the entire test set: 153.35554065656933\n"
     ]
    }
   ],
   "source": [
    "# Set the batch size for making predictions\n",
    "batch_size = 10000  # Adjust as needed based on your available memory\n",
    "\n",
    "# Initialize lists to store forecasted values and actual values\n",
    "forecast_values = []\n",
    "actual_values = []\n",
    "\n",
    "# Loop through the test dataset in batches\n",
    "for i in range(0, len(test_data), batch_size):\n",
    "    # Extract a batch of test data\n",
    "    test_batch = test_data.iloc[i:i + batch_size]\n",
    "    \n",
    "    # Update the future DataFrame with the current batch of test data\n",
    "    future = future.append(test_batch[['ds']], ignore_index=True)\n",
    "    \n",
    "    # Make predictions for the current batch\n",
    "    forecast = model.predict(future[-len(test_batch):])\n",
    "    \n",
    "    # Append the forecasted values to the list\n",
    "    forecast_values.extend(forecast['yhat'].values)\n",
    "    \n",
    "    # Append the actual values to the list\n",
    "    actual_values.extend(test_batch['y'].values)\n",
    "    break\n",
    "\n",
    "# Calculate the mean absolute error (MAE) for the entire test set\n",
    "mae = mean_absolute_error(actual_values, forecast_values)\n",
    "\n",
    "# Plot the forecasted vs. actual values for the test set\n",
    "plt.figure(figsize=(12, 6))\n",
    "plt.plot(test_data[:10000]['ds'], actual_values, label='Actual', color='b')\n",
    "plt.plot(test_data[:10000]['ds'], forecast_values, label='Forecast', color='r')\n",
    "plt.xlabel('Time')\n",
    "plt.ylabel('Solar Power Generation')\n",
    "plt.title('Solar Power Generation Forecast vs. Actual')\n",
    "plt.legend()\n",
    "plt.show()\n",
    "\n",
    "print(f'Mean Absolute Error (MAE) for the entire test set: {mae}')"
   ]
  },
  {
   "cell_type": "code",
   "execution_count": null,
   "id": "57b3d6c7-647e-4389-9905-b175e87d42ae",
   "metadata": {},
   "outputs": [],
   "source": []
  }
 ],
 "metadata": {
  "kernelspec": {
   "display_name": "saturn (Python 3)",
   "language": "python",
   "name": "python3"
  },
  "language_info": {
   "codemirror_mode": {
    "name": "ipython",
    "version": 3
   },
   "file_extension": ".py",
   "mimetype": "text/x-python",
   "name": "python",
   "nbconvert_exporter": "python",
   "pygments_lexer": "ipython3",
   "version": "3.9.13"
  }
 },
 "nbformat": 4,
 "nbformat_minor": 5
}
