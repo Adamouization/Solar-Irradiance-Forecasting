{
 "cells": [
  {
   "cell_type": "markdown",
   "id": "b8d68ec2-1aed-4bfc-84c9-a5cd2fcc3876",
   "metadata": {},
   "source": [
    "# 1. Notebook Setup"
   ]
  },
  {
   "cell_type": "markdown",
   "id": "2c467eb5-9aed-47ff-846d-5cfe08bb89bf",
   "metadata": {},
   "source": [
    "Import libraries"
   ]
  },
  {
   "cell_type": "code",
   "execution_count": 4,
   "id": "bdb237cd-329c-4dde-a487-58fcabd32e5c",
   "metadata": {
    "execution": {
     "iopub.execute_input": "2023-09-05T22:32:20.712363Z",
     "iopub.status.busy": "2023-09-05T22:32:20.711993Z",
     "iopub.status.idle": "2023-09-05T22:32:20.823899Z",
     "shell.execute_reply": "2023-09-05T22:32:20.823158Z",
     "shell.execute_reply.started": "2023-09-05T22:32:20.712337Z"
    },
    "tags": []
   },
   "outputs": [
    {
     "name": "stderr",
     "output_type": "stream",
     "text": [
      "Importing plotly failed. Interactive plots will not work.\n"
     ]
    },
    {
     "name": "stdout",
     "output_type": "stream",
     "text": [
      "The autoreload extension is already loaded. To reload it, use:\n",
      "  %reload_ext autoreload\n"
     ]
    }
   ],
   "source": [
    "%load_ext autoreload\n",
    "%autoreload 2\n",
    "%reload_ext autoreload\n",
    "\n",
    "from math import sqrt\n",
    "import sys\n",
    "\n",
    "import matplotlib.pyplot as plt\n",
    "import numpy as np\n",
    "import pandas as pd\n",
    "from sklearn.metrics import mean_absolute_error, mean_squared_error, r2_score\n",
    "\n",
    "sys.path.append(\"/home/jovyan/Solar-Irradiance-Forecasting/src/\")\n",
    "import eda as eda\n",
    "import helpers as hlp"
   ]
  },
  {
   "cell_type": "markdown",
   "id": "93096682-d3d2-4405-8d9d-ba4a1747f02c",
   "metadata": {
    "tags": []
   },
   "source": [
    "# 2. Loading and Prepare data"
   ]
  },
  {
   "cell_type": "markdown",
   "id": "673dc6a0-cc30-4d46-8993-3f7eeee99af5",
   "metadata": {},
   "source": [
    "Load CSV file that contains GHI"
   ]
  },
  {
   "cell_type": "code",
   "execution_count": 5,
   "id": "b6fa2f2a-bdb9-4425-9a73-8ca6e71406c6",
   "metadata": {
    "execution": {
     "iopub.execute_input": "2023-09-05T22:32:23.732381Z",
     "iopub.status.busy": "2023-09-05T22:32:23.731997Z",
     "iopub.status.idle": "2023-09-05T22:32:24.936614Z",
     "shell.execute_reply": "2023-09-05T22:32:24.935895Z",
     "shell.execute_reply.started": "2023-09-05T22:32:23.732356Z"
    },
    "tags": []
   },
   "outputs": [
    {
     "data": {
      "text/html": [
       "<div>\n",
       "<style scoped>\n",
       "    .dataframe tbody tr th:only-of-type {\n",
       "        vertical-align: middle;\n",
       "    }\n",
       "\n",
       "    .dataframe tbody tr th {\n",
       "        vertical-align: top;\n",
       "    }\n",
       "\n",
       "    .dataframe thead th {\n",
       "        text-align: right;\n",
       "    }\n",
       "</style>\n",
       "<table border=\"1\" class=\"dataframe\">\n",
       "  <thead>\n",
       "    <tr style=\"text-align: right;\">\n",
       "      <th></th>\n",
       "      <th>timeStamp</th>\n",
       "      <th>ghi</th>\n",
       "      <th>dni</th>\n",
       "      <th>dhi</th>\n",
       "    </tr>\n",
       "  </thead>\n",
       "  <tbody>\n",
       "    <tr>\n",
       "      <th>0</th>\n",
       "      <td>2014-01-02 08:00:00</td>\n",
       "      <td>0.0</td>\n",
       "      <td>0.0</td>\n",
       "      <td>0.0</td>\n",
       "    </tr>\n",
       "    <tr>\n",
       "      <th>1</th>\n",
       "      <td>2014-01-02 08:01:00</td>\n",
       "      <td>0.0</td>\n",
       "      <td>0.0</td>\n",
       "      <td>0.0</td>\n",
       "    </tr>\n",
       "    <tr>\n",
       "      <th>2</th>\n",
       "      <td>2014-01-02 08:02:00</td>\n",
       "      <td>0.0</td>\n",
       "      <td>0.0</td>\n",
       "      <td>0.0</td>\n",
       "    </tr>\n",
       "    <tr>\n",
       "      <th>3</th>\n",
       "      <td>2014-01-02 08:03:00</td>\n",
       "      <td>0.0</td>\n",
       "      <td>0.0</td>\n",
       "      <td>0.0</td>\n",
       "    </tr>\n",
       "    <tr>\n",
       "      <th>4</th>\n",
       "      <td>2014-01-02 08:04:00</td>\n",
       "      <td>0.0</td>\n",
       "      <td>0.0</td>\n",
       "      <td>0.0</td>\n",
       "    </tr>\n",
       "    <tr>\n",
       "      <th>...</th>\n",
       "      <td>...</td>\n",
       "      <td>...</td>\n",
       "      <td>...</td>\n",
       "      <td>...</td>\n",
       "    </tr>\n",
       "    <tr>\n",
       "      <th>1552315</th>\n",
       "      <td>2016-12-31 07:55:00</td>\n",
       "      <td>0.0</td>\n",
       "      <td>0.0</td>\n",
       "      <td>0.0</td>\n",
       "    </tr>\n",
       "    <tr>\n",
       "      <th>1552316</th>\n",
       "      <td>2016-12-31 07:56:00</td>\n",
       "      <td>0.0</td>\n",
       "      <td>0.0</td>\n",
       "      <td>0.0</td>\n",
       "    </tr>\n",
       "    <tr>\n",
       "      <th>1552317</th>\n",
       "      <td>2016-12-31 07:57:00</td>\n",
       "      <td>0.0</td>\n",
       "      <td>0.0</td>\n",
       "      <td>0.0</td>\n",
       "    </tr>\n",
       "    <tr>\n",
       "      <th>1552318</th>\n",
       "      <td>2016-12-31 07:58:00</td>\n",
       "      <td>0.0</td>\n",
       "      <td>0.0</td>\n",
       "      <td>0.0</td>\n",
       "    </tr>\n",
       "    <tr>\n",
       "      <th>1552319</th>\n",
       "      <td>2016-12-31 07:59:00</td>\n",
       "      <td>0.0</td>\n",
       "      <td>0.0</td>\n",
       "      <td>0.0</td>\n",
       "    </tr>\n",
       "  </tbody>\n",
       "</table>\n",
       "<p>1552320 rows × 4 columns</p>\n",
       "</div>"
      ],
      "text/plain": [
       "                   timeStamp  ghi  dni  dhi\n",
       "0        2014-01-02 08:00:00  0.0  0.0  0.0\n",
       "1        2014-01-02 08:01:00  0.0  0.0  0.0\n",
       "2        2014-01-02 08:02:00  0.0  0.0  0.0\n",
       "3        2014-01-02 08:03:00  0.0  0.0  0.0\n",
       "4        2014-01-02 08:04:00  0.0  0.0  0.0\n",
       "...                      ...  ...  ...  ...\n",
       "1552315  2016-12-31 07:55:00  0.0  0.0  0.0\n",
       "1552316  2016-12-31 07:56:00  0.0  0.0  0.0\n",
       "1552317  2016-12-31 07:57:00  0.0  0.0  0.0\n",
       "1552318  2016-12-31 07:58:00  0.0  0.0  0.0\n",
       "1552319  2016-12-31 07:59:00  0.0  0.0  0.0\n",
       "\n",
       "[1552320 rows x 4 columns]"
      ]
     },
     "execution_count": 5,
     "metadata": {},
     "output_type": "execute_result"
    }
   ],
   "source": [
    "df = pd.read_csv(\"../../data/Folsom_irradiance.csv\", infer_datetime_format=True)\n",
    "df"
   ]
  },
  {
   "cell_type": "code",
   "execution_count": 6,
   "id": "daaf8ee8-ef16-4aa8-8418-02b5302c2322",
   "metadata": {
    "execution": {
     "iopub.execute_input": "2023-09-05T22:33:10.678152Z",
     "iopub.status.busy": "2023-09-05T22:33:10.677780Z",
     "iopub.status.idle": "2023-09-05T22:33:10.749024Z",
     "shell.execute_reply": "2023-09-05T22:33:10.748379Z",
     "shell.execute_reply.started": "2023-09-05T22:33:10.678126Z"
    }
   },
   "outputs": [],
   "source": [
    "df = df[[\"timeStamp\", \"ghi\"]]"
   ]
  },
  {
   "cell_type": "code",
   "execution_count": 9,
   "id": "f80a9d1e-6563-4052-b998-f019938151d7",
   "metadata": {
    "execution": {
     "iopub.execute_input": "2023-09-05T22:35:07.056107Z",
     "iopub.status.busy": "2023-09-05T22:35:07.055706Z",
     "iopub.status.idle": "2023-09-05T22:35:07.212369Z",
     "shell.execute_reply": "2023-09-05T22:35:07.211666Z",
     "shell.execute_reply.started": "2023-09-05T22:35:07.056081Z"
    }
   },
   "outputs": [],
   "source": [
    "# Split data into train and test based on the years\n",
    "test_start = \"2016-01-01\"\n",
    "\n",
    "df_test = df.loc[df[\"timeStamp\"] >= test_start]"
   ]
  },
  {
   "cell_type": "markdown",
   "id": "cc6d2e51-fdf2-41f3-9991-c7572bc9f174",
   "metadata": {},
   "source": [
    "Calculate the persistence forecast by shifting the irradiance values by one time step\n"
   ]
  },
  {
   "cell_type": "code",
   "execution_count": 21,
   "id": "bc3dbe09-9863-427a-b0e0-c9dec91412c0",
   "metadata": {
    "execution": {
     "iopub.execute_input": "2023-09-05T22:39:00.639787Z",
     "iopub.status.busy": "2023-09-05T22:39:00.639408Z",
     "iopub.status.idle": "2023-09-05T22:39:00.763375Z",
     "shell.execute_reply": "2023-09-05T22:39:00.762724Z",
     "shell.execute_reply.started": "2023-09-05T22:39:00.639758Z"
    },
    "tags": []
   },
   "outputs": [
    {
     "data": {
      "text/html": [
       "<div>\n",
       "<style scoped>\n",
       "    .dataframe tbody tr th:only-of-type {\n",
       "        vertical-align: middle;\n",
       "    }\n",
       "\n",
       "    .dataframe tbody tr th {\n",
       "        vertical-align: top;\n",
       "    }\n",
       "\n",
       "    .dataframe thead th {\n",
       "        text-align: right;\n",
       "    }\n",
       "</style>\n",
       "<table border=\"1\" class=\"dataframe\">\n",
       "  <thead>\n",
       "    <tr style=\"text-align: right;\">\n",
       "      <th></th>\n",
       "      <th>timeStamp</th>\n",
       "      <th>ghi</th>\n",
       "      <th>persistence_forecast</th>\n",
       "    </tr>\n",
       "  </thead>\n",
       "  <tbody>\n",
       "    <tr>\n",
       "      <th>1029600</th>\n",
       "      <td>2016-01-01 08:00:00</td>\n",
       "      <td>0.0</td>\n",
       "      <td>0.0</td>\n",
       "    </tr>\n",
       "    <tr>\n",
       "      <th>1029601</th>\n",
       "      <td>2016-01-01 08:01:00</td>\n",
       "      <td>0.0</td>\n",
       "      <td>0.0</td>\n",
       "    </tr>\n",
       "    <tr>\n",
       "      <th>1029602</th>\n",
       "      <td>2016-01-01 08:02:00</td>\n",
       "      <td>0.0</td>\n",
       "      <td>0.0</td>\n",
       "    </tr>\n",
       "    <tr>\n",
       "      <th>1029603</th>\n",
       "      <td>2016-01-01 08:03:00</td>\n",
       "      <td>0.0</td>\n",
       "      <td>0.0</td>\n",
       "    </tr>\n",
       "    <tr>\n",
       "      <th>1029604</th>\n",
       "      <td>2016-01-01 08:04:00</td>\n",
       "      <td>0.0</td>\n",
       "      <td>0.0</td>\n",
       "    </tr>\n",
       "    <tr>\n",
       "      <th>...</th>\n",
       "      <td>...</td>\n",
       "      <td>...</td>\n",
       "      <td>...</td>\n",
       "    </tr>\n",
       "    <tr>\n",
       "      <th>1552315</th>\n",
       "      <td>2016-12-31 07:55:00</td>\n",
       "      <td>0.0</td>\n",
       "      <td>0.0</td>\n",
       "    </tr>\n",
       "    <tr>\n",
       "      <th>1552316</th>\n",
       "      <td>2016-12-31 07:56:00</td>\n",
       "      <td>0.0</td>\n",
       "      <td>0.0</td>\n",
       "    </tr>\n",
       "    <tr>\n",
       "      <th>1552317</th>\n",
       "      <td>2016-12-31 07:57:00</td>\n",
       "      <td>0.0</td>\n",
       "      <td>0.0</td>\n",
       "    </tr>\n",
       "    <tr>\n",
       "      <th>1552318</th>\n",
       "      <td>2016-12-31 07:58:00</td>\n",
       "      <td>0.0</td>\n",
       "      <td>0.0</td>\n",
       "    </tr>\n",
       "    <tr>\n",
       "      <th>1552319</th>\n",
       "      <td>2016-12-31 07:59:00</td>\n",
       "      <td>0.0</td>\n",
       "      <td>0.0</td>\n",
       "    </tr>\n",
       "  </tbody>\n",
       "</table>\n",
       "<p>522720 rows × 3 columns</p>\n",
       "</div>"
      ],
      "text/plain": [
       "                   timeStamp  ghi  persistence_forecast\n",
       "1029600  2016-01-01 08:00:00  0.0                   0.0\n",
       "1029601  2016-01-01 08:01:00  0.0                   0.0\n",
       "1029602  2016-01-01 08:02:00  0.0                   0.0\n",
       "1029603  2016-01-01 08:03:00  0.0                   0.0\n",
       "1029604  2016-01-01 08:04:00  0.0                   0.0\n",
       "...                      ...  ...                   ...\n",
       "1552315  2016-12-31 07:55:00  0.0                   0.0\n",
       "1552316  2016-12-31 07:56:00  0.0                   0.0\n",
       "1552317  2016-12-31 07:57:00  0.0                   0.0\n",
       "1552318  2016-12-31 07:58:00  0.0                   0.0\n",
       "1552319  2016-12-31 07:59:00  0.0                   0.0\n",
       "\n",
       "[522720 rows x 3 columns]"
      ]
     },
     "execution_count": 21,
     "metadata": {},
     "output_type": "execute_result"
    }
   ],
   "source": [
    "df_test['persistence_forecast'] = df_test['ghi'].shift(20)\n",
    "df_test = df_test.fillna(0.0)\n",
    "df_test"
   ]
  },
  {
   "cell_type": "code",
   "execution_count": 70,
   "id": "169bdf6c-e99e-4969-9fcd-eb4e278ce690",
   "metadata": {
    "execution": {
     "iopub.execute_input": "2023-09-06T13:38:21.121328Z",
     "iopub.status.busy": "2023-09-06T13:38:21.120907Z",
     "iopub.status.idle": "2023-09-06T13:38:21.244435Z",
     "shell.execute_reply": "2023-09-06T13:38:21.243824Z",
     "shell.execute_reply.started": "2023-09-06T13:38:21.121303Z"
    },
    "tags": []
   },
   "outputs": [],
   "source": [
    "prediction_horizon = 20\n",
    "rmse_values = []\n",
    "\n",
    "# Iterate through the data to calculate RMSE for each horizon\n",
    "for horizon in range(1, prediction_horizon + 1):\n",
    "    # Shift the actual values by the horizon to simulate a persistence forecast\n",
    "    df_test['persistence_forecast'] = df_test['ghi'].shift(horizon)\n",
    "    \n",
    "    # Calculate RMSE for this horizon\n",
    "    rmse = np.sqrt(np.mean((df_test['ghi'] - df_test['persistence_forecast'])**2))\n",
    "    rmse_values.append(rmse)"
   ]
  },
  {
   "cell_type": "markdown",
   "id": "e85f07c2-245c-4257-8d83-d6557e7fd674",
   "metadata": {},
   "source": [
    "Plot RMSE values against the prediction horizon"
   ]
  },
  {
   "cell_type": "code",
   "execution_count": 79,
   "id": "cb2577d5-22bd-4e1c-9804-1153a65d4dfb",
   "metadata": {
    "execution": {
     "iopub.execute_input": "2023-09-06T20:22:43.809201Z",
     "iopub.status.busy": "2023-09-06T20:22:43.808816Z",
     "iopub.status.idle": "2023-09-06T20:22:44.102811Z",
     "shell.execute_reply": "2023-09-06T20:22:44.102033Z",
     "shell.execute_reply.started": "2023-09-06T20:22:43.809173Z"
    },
    "tags": []
   },
   "outputs": [
    {
     "name": "stderr",
     "output_type": "stream",
     "text": [
      "/tmp/ipykernel_28294/2717219537.py:8: MatplotlibDeprecationWarning: savefig() got unexpected keyword argument \"box_inches\" which is no longer supported as of 3.3 and will become an error in 3.6\n",
      "  plt.savefig(\"../../output/model_validation/persistence-20m-horizon.png\", box_inches='tight')\n"
     ]
    },
    {
     "data": {
      "image/png": "[encoded data removed]",
      "text/plain": [
       "<Figure size 1400x800 with 1 Axes>"
      ]
     },
     "metadata": {},
     "output_type": "display_data"
    }
   ],
   "source": [
    "plt.figure(figsize=(14, 8))\n",
    "plt.plot(range(1, prediction_horizon + 1), rmse_values, label='Persistence', \n",
    "         color='black', linestyle=\"dotted\", marker='o', markerfacecolor='none', markersize=8)\n",
    "plt.xlabel('Forecast Horizon (min.)')\n",
    "plt.ylabel('RMSE (W/m^2)')\n",
    "plt.title('Solar Irradiance Forecast Horizon vs Accuracy')\n",
    "plt.grid(True)\n",
    "plt.savefig(\"../../output/model_validation/persistence-20m-horizon.png\", box_inches='tight')\n",
    "plt.show()"
   ]
  },
  {
   "cell_type": "code",
   "execution_count": null,
   "id": "038d7fa7-a067-4d28-8704-205abdc9a5b2",
   "metadata": {},
   "outputs": [],
   "source": []
  }
 ],
 "metadata": {
  "kernelspec": {
   "display_name": "saturn (Python 3)",
   "language": "python",
   "name": "python3"
  },
  "language_info": {
   "codemirror_mode": {
    "name": "ipython",
    "version": 3
   },
   "file_extension": ".py",
   "mimetype": "text/x-python",
   "name": "python",
   "nbconvert_exporter": "python",
   "pygments_lexer": "ipython3",
   "version": "3.9.13"
  }
 },
 "nbformat": 4,
 "nbformat_minor": 5
}
