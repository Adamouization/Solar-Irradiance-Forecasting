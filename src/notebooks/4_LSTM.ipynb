{
 "cells": [
  {
   "cell_type": "markdown",
   "id": "87dcaf4c-0863-495d-a6c9-91ce0a71d5da",
   "metadata": {},
   "source": [
    "# 1. Notebook Setup"
   ]
  },
  {
   "cell_type": "markdown",
   "id": "0435d177-7ce6-40d6-b07a-6d1fda54d60e",
   "metadata": {},
   "source": [
    "Import libraries"
   ]
  },
  {
   "cell_type": "code",
   "execution_count": 1,
   "id": "b03652d3-47b1-46b4-ae67-efcee07abfd3",
   "metadata": {
    "execution": {
     "iopub.execute_input": "2023-09-05T16:02:52.668639Z",
     "iopub.status.busy": "2023-09-05T16:02:52.668317Z",
     "iopub.status.idle": "2023-09-05T16:02:55.593751Z",
     "shell.execute_reply": "2023-09-05T16:02:55.592997Z",
     "shell.execute_reply.started": "2023-09-05T16:02:52.668569Z"
    },
    "tags": []
   },
   "outputs": [
    {
     "name": "stderr",
     "output_type": "stream",
     "text": [
      "Importing plotly failed. Interactive plots will not work.\n"
     ]
    }
   ],
   "source": [
    "%load_ext autoreload\n",
    "%autoreload 2\n",
    "%reload_ext autoreload\n",
    "\n",
    "import gc\n",
    "from math import sqrt\n",
    "import pickle\n",
    "import sys\n",
    "\n",
    "from keras_tuner import RandomSearch\n",
    "import matplotlib.pyplot as plt\n",
    "import numpy as np\n",
    "import pandas as pd\n",
    "from sklearn.metrics import mean_absolute_error, mean_squared_error, r2_score\n",
    "from sklearn.preprocessing import MinMaxScaler\n",
    "import tensorflow as tf\n",
    "from tensorflow.keras.callbacks import CSVLogger, EarlyStopping\n",
    "from tensorflow.keras.layers import LSTM, Dense, Dropout\n",
    "from tensorflow.keras.models import Sequential\n",
    "from tensorflow.keras.optimizers import Adam\n",
    "from tensorflow.keras.regularizers import l2\n",
    "\n",
    "\n",
    "sys.path.append(\"/home/jovyan/Solar-Irradiance-Forecasting/src/\")\n",
    "import eda as eda\n",
    "import helpers as hlp"
   ]
  },
  {
   "cell_type": "markdown",
   "id": "54de9f96-ff45-4837-bdd3-247f41be16d1",
   "metadata": {},
   "source": [
    "Setup notebook"
   ]
  },
  {
   "cell_type": "code",
   "execution_count": 2,
   "id": "57cfd807-90a4-4040-bfd8-0113dbfbe55e",
   "metadata": {
    "execution": {
     "iopub.execute_input": "2023-09-05T16:02:55.595704Z",
     "iopub.status.busy": "2023-09-05T16:02:55.595051Z",
     "iopub.status.idle": "2023-09-05T16:02:55.648580Z",
     "shell.execute_reply": "2023-09-05T16:02:55.647923Z",
     "shell.execute_reply.started": "2023-09-05T16:02:55.595679Z"
    },
    "tags": []
   },
   "outputs": [],
   "source": [
    "# Random seed generators\n",
    "RANDOM_SEED = 42\n",
    "np.random.seed(RANDOM_SEED)\n",
    "\n",
    "# Matplotlib\n",
    "%matplotlib inline\n",
    "%config InlineBackend.figure_format =\"retina\"  # High quality plots\n",
    "\n",
    "# Pandas df display\n",
    "pd.options.display.float_format = '{:,.2f}'.format  # Choose how many decimals to show for floats in df tables\n",
    "pd.options.mode.chained_assignment = None  # default=\"warn\"\n",
    "pd.set_option(\"display.max_rows\", 1000, \"display.max_columns\", 1000)  # Print more rows & columns\n",
    "pd.set_option(\"display.float_format\", lambda x: \"%.3f\" % x)  # Avoid scientific notation"
   ]
  },
  {
   "cell_type": "markdown",
   "id": "03ccd3ab-b2eb-4307-a2ee-f0c68e73750f",
   "metadata": {},
   "source": [
    "Use GPU"
   ]
  },
  {
   "cell_type": "code",
   "execution_count": 3,
   "id": "843e0fb7-c0d5-4c8f-b752-795791ea8d89",
   "metadata": {
    "execution": {
     "iopub.execute_input": "2023-09-05T16:02:55.657497Z",
     "iopub.status.busy": "2023-09-05T16:02:55.657290Z",
     "iopub.status.idle": "2023-09-05T16:02:55.753819Z",
     "shell.execute_reply": "2023-09-05T16:02:55.753159Z",
     "shell.execute_reply.started": "2023-09-05T16:02:55.657477Z"
    },
    "tags": []
   },
   "outputs": [
    {
     "name": "stdout",
     "output_type": "stream",
     "text": [
      "Available devices:  [PhysicalDevice(name='/physical_device:CPU:0', device_type='CPU'), PhysicalDevice(name='/physical_device:GPU:0', device_type='GPU')]\n",
      "Num GPUs Available:  1\n",
      "Device details:  {'compute_capability': (7, 5), 'device_name': 'Tesla T4'}\n"
     ]
    },
    {
     "name": "stderr",
     "output_type": "stream",
     "text": [
      "2023-09-05 16:02:55.739915: I tensorflow/stream_executor/cuda/cuda_gpu_executor.cc:975] successful NUMA node read from SysFS had negative value (-1), but there must be at least one NUMA node, so returning NUMA node zero\n",
      "2023-09-05 16:02:55.747296: I tensorflow/stream_executor/cuda/cuda_gpu_executor.cc:975] successful NUMA node read from SysFS had negative value (-1), but there must be at least one NUMA node, so returning NUMA node zero\n",
      "2023-09-05 16:02:55.747903: I tensorflow/stream_executor/cuda/cuda_gpu_executor.cc:975] successful NUMA node read from SysFS had negative value (-1), but there must be at least one NUMA node, so returning NUMA node zero\n",
      "2023-09-05 16:02:55.749247: I tensorflow/stream_executor/cuda/cuda_gpu_executor.cc:975] successful NUMA node read from SysFS had negative value (-1), but there must be at least one NUMA node, so returning NUMA node zero\n"
     ]
    }
   ],
   "source": [
    "print(\"Available devices: \", tf.config.experimental.list_physical_devices())\n",
    "\n",
    "physical_gpu = tf.config.experimental.list_physical_devices('GPU')\n",
    "print(\"Num GPUs Available: \", len(physical_gpu))\n",
    "print(\"Device details: \", tf.config.experimental.get_device_details(physical_gpu[0]))\n",
    "tf.config.experimental.set_memory_growth(physical_gpu[0], True)"
   ]
  },
  {
   "cell_type": "markdown",
   "id": "536c1b9c-0f37-4ac7-93c4-d9c406f8288e",
   "metadata": {
    "tags": []
   },
   "source": [
    "# 2. Loading and merging data"
   ]
  },
  {
   "cell_type": "markdown",
   "id": "82518631-cb9e-415d-bd9d-8b92290f6556",
   "metadata": {},
   "source": [
    "Load target"
   ]
  },
  {
   "cell_type": "code",
   "execution_count": 4,
   "id": "d4524b8a-6193-421a-9b8a-e63e7dfd078c",
   "metadata": {
    "execution": {
     "iopub.execute_input": "2023-09-05T16:02:55.755004Z",
     "iopub.status.busy": "2023-09-05T16:02:55.754721Z",
     "iopub.status.idle": "2023-09-05T16:02:57.405123Z",
     "shell.execute_reply": "2023-09-05T16:02:57.404242Z",
     "shell.execute_reply.started": "2023-09-05T16:02:55.754983Z"
    },
    "tags": []
   },
   "outputs": [
    {
     "data": {
      "text/html": [
       "<div>\n",
       "<style scoped>\n",
       "    .dataframe tbody tr th:only-of-type {\n",
       "        vertical-align: middle;\n",
       "    }\n",
       "\n",
       "    .dataframe tbody tr th {\n",
       "        vertical-align: top;\n",
       "    }\n",
       "\n",
       "    .dataframe thead th {\n",
       "        text-align: right;\n",
       "    }\n",
       "</style>\n",
       "<table border=\"1\" class=\"dataframe\">\n",
       "  <thead>\n",
       "    <tr style=\"text-align: right;\">\n",
       "      <th></th>\n",
       "      <th>timeStamp</th>\n",
       "      <th>ghi</th>\n",
       "    </tr>\n",
       "  </thead>\n",
       "  <tbody>\n",
       "    <tr>\n",
       "      <th>0</th>\n",
       "      <td>2014-01-02 08:00:00</td>\n",
       "      <td>0.000</td>\n",
       "    </tr>\n",
       "    <tr>\n",
       "      <th>1</th>\n",
       "      <td>2014-01-02 08:01:00</td>\n",
       "      <td>0.000</td>\n",
       "    </tr>\n",
       "    <tr>\n",
       "      <th>2</th>\n",
       "      <td>2014-01-02 08:02:00</td>\n",
       "      <td>0.000</td>\n",
       "    </tr>\n",
       "    <tr>\n",
       "      <th>3</th>\n",
       "      <td>2014-01-02 08:03:00</td>\n",
       "      <td>0.000</td>\n",
       "    </tr>\n",
       "    <tr>\n",
       "      <th>4</th>\n",
       "      <td>2014-01-02 08:04:00</td>\n",
       "      <td>0.000</td>\n",
       "    </tr>\n",
       "    <tr>\n",
       "      <th>...</th>\n",
       "      <td>...</td>\n",
       "      <td>...</td>\n",
       "    </tr>\n",
       "    <tr>\n",
       "      <th>1552315</th>\n",
       "      <td>2016-12-31 07:55:00</td>\n",
       "      <td>0.000</td>\n",
       "    </tr>\n",
       "    <tr>\n",
       "      <th>1552316</th>\n",
       "      <td>2016-12-31 07:56:00</td>\n",
       "      <td>0.000</td>\n",
       "    </tr>\n",
       "    <tr>\n",
       "      <th>1552317</th>\n",
       "      <td>2016-12-31 07:57:00</td>\n",
       "      <td>0.000</td>\n",
       "    </tr>\n",
       "    <tr>\n",
       "      <th>1552318</th>\n",
       "      <td>2016-12-31 07:58:00</td>\n",
       "      <td>0.000</td>\n",
       "    </tr>\n",
       "    <tr>\n",
       "      <th>1552319</th>\n",
       "      <td>2016-12-31 07:59:00</td>\n",
       "      <td>0.000</td>\n",
       "    </tr>\n",
       "  </tbody>\n",
       "</table>\n",
       "<p>1552320 rows × 2 columns</p>\n",
       "</div>"
      ],
      "text/plain": [
       "                  timeStamp   ghi\n",
       "0       2014-01-02 08:00:00 0.000\n",
       "1       2014-01-02 08:01:00 0.000\n",
       "2       2014-01-02 08:02:00 0.000\n",
       "3       2014-01-02 08:03:00 0.000\n",
       "4       2014-01-02 08:04:00 0.000\n",
       "...                     ...   ...\n",
       "1552315 2016-12-31 07:55:00 0.000\n",
       "1552316 2016-12-31 07:56:00 0.000\n",
       "1552317 2016-12-31 07:57:00 0.000\n",
       "1552318 2016-12-31 07:58:00 0.000\n",
       "1552319 2016-12-31 07:59:00 0.000\n",
       "\n",
       "[1552320 rows x 2 columns]"
      ]
     },
     "execution_count": 4,
     "metadata": {},
     "output_type": "execute_result"
    }
   ],
   "source": [
    "df_irradiance = pd.read_csv(\"../../data/Folsom_irradiance.csv\", infer_datetime_format=True)\n",
    "df_irradiance[\"timeStamp\"] = pd.to_datetime(df_irradiance[\"timeStamp\"])\n",
    "df_irradiance = df_irradiance[[\"timeStamp\", \"ghi\"]]\n",
    "df_irradiance"
   ]
  },
  {
   "cell_type": "markdown",
   "id": "9c97c6fc-9e57-446b-8b4f-59e7e5ba5584",
   "metadata": {},
   "source": [
    "Load weather data"
   ]
  },
  {
   "cell_type": "code",
   "execution_count": 5,
   "id": "396ddb20-0fc0-44b4-bbc8-9d6ad3689181",
   "metadata": {
    "execution": {
     "iopub.execute_input": "2023-09-05T16:02:57.408614Z",
     "iopub.status.busy": "2023-09-05T16:02:57.408327Z",
     "iopub.status.idle": "2023-09-05T16:02:59.540044Z",
     "shell.execute_reply": "2023-09-05T16:02:59.539207Z",
     "shell.execute_reply.started": "2023-09-05T16:02:57.408591Z"
    },
    "tags": []
   },
   "outputs": [
    {
     "data": {
      "text/html": [
       "<div>\n",
       "<style scoped>\n",
       "    .dataframe tbody tr th:only-of-type {\n",
       "        vertical-align: middle;\n",
       "    }\n",
       "\n",
       "    .dataframe tbody tr th {\n",
       "        vertical-align: top;\n",
       "    }\n",
       "\n",
       "    .dataframe thead th {\n",
       "        text-align: right;\n",
       "    }\n",
       "</style>\n",
       "<table border=\"1\" class=\"dataframe\">\n",
       "  <thead>\n",
       "    <tr style=\"text-align: right;\">\n",
       "      <th></th>\n",
       "      <th>timeStamp</th>\n",
       "      <th>ghi</th>\n",
       "    </tr>\n",
       "  </thead>\n",
       "  <tbody>\n",
       "    <tr>\n",
       "      <th>0</th>\n",
       "      <td>2014-01-02 08:00:00</td>\n",
       "      <td>0.000</td>\n",
       "    </tr>\n",
       "    <tr>\n",
       "      <th>1</th>\n",
       "      <td>2014-01-02 08:01:00</td>\n",
       "      <td>0.000</td>\n",
       "    </tr>\n",
       "    <tr>\n",
       "      <th>2</th>\n",
       "      <td>2014-01-02 08:02:00</td>\n",
       "      <td>0.000</td>\n",
       "    </tr>\n",
       "    <tr>\n",
       "      <th>3</th>\n",
       "      <td>2014-01-02 08:03:00</td>\n",
       "      <td>0.000</td>\n",
       "    </tr>\n",
       "    <tr>\n",
       "      <th>4</th>\n",
       "      <td>2014-01-02 08:04:00</td>\n",
       "      <td>0.000</td>\n",
       "    </tr>\n",
       "    <tr>\n",
       "      <th>...</th>\n",
       "      <td>...</td>\n",
       "      <td>...</td>\n",
       "    </tr>\n",
       "    <tr>\n",
       "      <th>1552315</th>\n",
       "      <td>2016-12-31 07:55:00</td>\n",
       "      <td>0.000</td>\n",
       "    </tr>\n",
       "    <tr>\n",
       "      <th>1552316</th>\n",
       "      <td>2016-12-31 07:56:00</td>\n",
       "      <td>0.000</td>\n",
       "    </tr>\n",
       "    <tr>\n",
       "      <th>1552317</th>\n",
       "      <td>2016-12-31 07:57:00</td>\n",
       "      <td>0.000</td>\n",
       "    </tr>\n",
       "    <tr>\n",
       "      <th>1552318</th>\n",
       "      <td>2016-12-31 07:58:00</td>\n",
       "      <td>0.000</td>\n",
       "    </tr>\n",
       "    <tr>\n",
       "      <th>1552319</th>\n",
       "      <td>2016-12-31 07:59:00</td>\n",
       "      <td>0.000</td>\n",
       "    </tr>\n",
       "  </tbody>\n",
       "</table>\n",
       "<p>1552320 rows × 2 columns</p>\n",
       "</div>"
      ],
      "text/plain": [
       "                  timeStamp   ghi\n",
       "0       2014-01-02 08:00:00 0.000\n",
       "1       2014-01-02 08:01:00 0.000\n",
       "2       2014-01-02 08:02:00 0.000\n",
       "3       2014-01-02 08:03:00 0.000\n",
       "4       2014-01-02 08:04:00 0.000\n",
       "...                     ...   ...\n",
       "1552315 2016-12-31 07:55:00 0.000\n",
       "1552316 2016-12-31 07:56:00 0.000\n",
       "1552317 2016-12-31 07:57:00 0.000\n",
       "1552318 2016-12-31 07:58:00 0.000\n",
       "1552319 2016-12-31 07:59:00 0.000\n",
       "\n",
       "[1552320 rows x 2 columns]"
      ]
     },
     "execution_count": 5,
     "metadata": {},
     "output_type": "execute_result"
    }
   ],
   "source": [
    "df_weather = pd.read_csv(\"../../data/Folsom_weather.csv\", infer_datetime_format=True)\n",
    "df_weather[\"timeStamp\"] = pd.to_datetime(df_weather[\"timeStamp\"])\n",
    "df_irradiance"
   ]
  },
  {
   "cell_type": "markdown",
   "id": "a6b80b27-62d4-41a2-a5b8-1fdf7b715a7c",
   "metadata": {},
   "source": [
    "Merge both datasets"
   ]
  },
  {
   "cell_type": "code",
   "execution_count": 6,
   "id": "e4519068-80df-4a1e-946c-c89f11638f54",
   "metadata": {
    "execution": {
     "iopub.execute_input": "2023-09-05T16:02:59.542048Z",
     "iopub.status.busy": "2023-09-05T16:02:59.541747Z",
     "iopub.status.idle": "2023-09-05T16:03:00.383121Z",
     "shell.execute_reply": "2023-09-05T16:03:00.382477Z",
     "shell.execute_reply.started": "2023-09-05T16:02:59.542023Z"
    },
    "tags": []
   },
   "outputs": [
    {
     "data": {
      "text/html": [
       "<div>\n",
       "<style scoped>\n",
       "    .dataframe tbody tr th:only-of-type {\n",
       "        vertical-align: middle;\n",
       "    }\n",
       "\n",
       "    .dataframe tbody tr th {\n",
       "        vertical-align: top;\n",
       "    }\n",
       "\n",
       "    .dataframe thead th {\n",
       "        text-align: right;\n",
       "    }\n",
       "</style>\n",
       "<table border=\"1\" class=\"dataframe\">\n",
       "  <thead>\n",
       "    <tr style=\"text-align: right;\">\n",
       "      <th></th>\n",
       "      <th>timeStamp</th>\n",
       "      <th>ghi</th>\n",
       "      <th>air_temp</th>\n",
       "      <th>relhum</th>\n",
       "      <th>press</th>\n",
       "      <th>windsp</th>\n",
       "      <th>winddir</th>\n",
       "      <th>max_windsp</th>\n",
       "      <th>precipitation</th>\n",
       "      <th>_merge</th>\n",
       "    </tr>\n",
       "  </thead>\n",
       "  <tbody>\n",
       "    <tr>\n",
       "      <th>0</th>\n",
       "      <td>2014-01-02 08:00:00</td>\n",
       "      <td>0.000</td>\n",
       "      <td>7.320</td>\n",
       "      <td>56.560</td>\n",
       "      <td>1010.000</td>\n",
       "      <td>1.800</td>\n",
       "      <td>43.610</td>\n",
       "      <td>3.700</td>\n",
       "      <td>0.000</td>\n",
       "      <td>both</td>\n",
       "    </tr>\n",
       "    <tr>\n",
       "      <th>1</th>\n",
       "      <td>2014-01-02 08:01:00</td>\n",
       "      <td>0.000</td>\n",
       "      <td>7.260</td>\n",
       "      <td>56.820</td>\n",
       "      <td>1010.000</td>\n",
       "      <td>2.000</td>\n",
       "      <td>48.400</td>\n",
       "      <td>3.100</td>\n",
       "      <td>0.000</td>\n",
       "      <td>both</td>\n",
       "    </tr>\n",
       "    <tr>\n",
       "      <th>2</th>\n",
       "      <td>2014-01-02 08:02:00</td>\n",
       "      <td>0.000</td>\n",
       "      <td>7.200</td>\n",
       "      <td>56.960</td>\n",
       "      <td>1010.000</td>\n",
       "      <td>1.900</td>\n",
       "      <td>31.800</td>\n",
       "      <td>3.700</td>\n",
       "      <td>0.000</td>\n",
       "      <td>both</td>\n",
       "    </tr>\n",
       "    <tr>\n",
       "      <th>3</th>\n",
       "      <td>2014-01-02 08:03:00</td>\n",
       "      <td>0.000</td>\n",
       "      <td>7.140</td>\n",
       "      <td>57.120</td>\n",
       "      <td>1010.000</td>\n",
       "      <td>1.440</td>\n",
       "      <td>38.980</td>\n",
       "      <td>2.500</td>\n",
       "      <td>0.000</td>\n",
       "      <td>both</td>\n",
       "    </tr>\n",
       "    <tr>\n",
       "      <th>4</th>\n",
       "      <td>2014-01-02 08:04:00</td>\n",
       "      <td>0.000</td>\n",
       "      <td>7.080</td>\n",
       "      <td>57.360</td>\n",
       "      <td>1010.000</td>\n",
       "      <td>1.840</td>\n",
       "      <td>34.210</td>\n",
       "      <td>2.800</td>\n",
       "      <td>0.000</td>\n",
       "      <td>both</td>\n",
       "    </tr>\n",
       "    <tr>\n",
       "      <th>...</th>\n",
       "      <td>...</td>\n",
       "      <td>...</td>\n",
       "      <td>...</td>\n",
       "      <td>...</td>\n",
       "      <td>...</td>\n",
       "      <td>...</td>\n",
       "      <td>...</td>\n",
       "      <td>...</td>\n",
       "      <td>...</td>\n",
       "      <td>...</td>\n",
       "    </tr>\n",
       "    <tr>\n",
       "      <th>1552315</th>\n",
       "      <td>2016-12-31 07:55:00</td>\n",
       "      <td>0.000</td>\n",
       "      <td>7.600</td>\n",
       "      <td>85.600</td>\n",
       "      <td>1001.000</td>\n",
       "      <td>1.280</td>\n",
       "      <td>237.100</td>\n",
       "      <td>2.200</td>\n",
       "      <td>0.000</td>\n",
       "      <td>both</td>\n",
       "    </tr>\n",
       "    <tr>\n",
       "      <th>1552316</th>\n",
       "      <td>2016-12-31 07:56:00</td>\n",
       "      <td>0.000</td>\n",
       "      <td>7.600</td>\n",
       "      <td>85.800</td>\n",
       "      <td>1000.000</td>\n",
       "      <td>3.460</td>\n",
       "      <td>171.200</td>\n",
       "      <td>6.800</td>\n",
       "      <td>0.000</td>\n",
       "      <td>both</td>\n",
       "    </tr>\n",
       "    <tr>\n",
       "      <th>1552317</th>\n",
       "      <td>2016-12-31 07:57:00</td>\n",
       "      <td>0.000</td>\n",
       "      <td>7.700</td>\n",
       "      <td>86.100</td>\n",
       "      <td>1001.000</td>\n",
       "      <td>1.380</td>\n",
       "      <td>213.200</td>\n",
       "      <td>2.800</td>\n",
       "      <td>0.000</td>\n",
       "      <td>both</td>\n",
       "    </tr>\n",
       "    <tr>\n",
       "      <th>1552318</th>\n",
       "      <td>2016-12-31 07:58:00</td>\n",
       "      <td>0.000</td>\n",
       "      <td>7.700</td>\n",
       "      <td>86.100</td>\n",
       "      <td>1001.000</td>\n",
       "      <td>1.440</td>\n",
       "      <td>168.500</td>\n",
       "      <td>2.400</td>\n",
       "      <td>0.000</td>\n",
       "      <td>both</td>\n",
       "    </tr>\n",
       "    <tr>\n",
       "      <th>1552319</th>\n",
       "      <td>2016-12-31 07:59:00</td>\n",
       "      <td>0.000</td>\n",
       "      <td>7.760</td>\n",
       "      <td>86.100</td>\n",
       "      <td>1001.000</td>\n",
       "      <td>2.380</td>\n",
       "      <td>221.000</td>\n",
       "      <td>5.700</td>\n",
       "      <td>0.000</td>\n",
       "      <td>both</td>\n",
       "    </tr>\n",
       "  </tbody>\n",
       "</table>\n",
       "<p>1552320 rows × 10 columns</p>\n",
       "</div>"
      ],
      "text/plain": [
       "                  timeStamp   ghi  air_temp  relhum    press  windsp  winddir  \\\n",
       "0       2014-01-02 08:00:00 0.000     7.320  56.560 1010.000   1.800   43.610   \n",
       "1       2014-01-02 08:01:00 0.000     7.260  56.820 1010.000   2.000   48.400   \n",
       "2       2014-01-02 08:02:00 0.000     7.200  56.960 1010.000   1.900   31.800   \n",
       "3       2014-01-02 08:03:00 0.000     7.140  57.120 1010.000   1.440   38.980   \n",
       "4       2014-01-02 08:04:00 0.000     7.080  57.360 1010.000   1.840   34.210   \n",
       "...                     ...   ...       ...     ...      ...     ...      ...   \n",
       "1552315 2016-12-31 07:55:00 0.000     7.600  85.600 1001.000   1.280  237.100   \n",
       "1552316 2016-12-31 07:56:00 0.000     7.600  85.800 1000.000   3.460  171.200   \n",
       "1552317 2016-12-31 07:57:00 0.000     7.700  86.100 1001.000   1.380  213.200   \n",
       "1552318 2016-12-31 07:58:00 0.000     7.700  86.100 1001.000   1.440  168.500   \n",
       "1552319 2016-12-31 07:59:00 0.000     7.760  86.100 1001.000   2.380  221.000   \n",
       "\n",
       "         max_windsp  precipitation _merge  \n",
       "0             3.700          0.000   both  \n",
       "1             3.100          0.000   both  \n",
       "2             3.700          0.000   both  \n",
       "3             2.500          0.000   both  \n",
       "4             2.800          0.000   both  \n",
       "...             ...            ...    ...  \n",
       "1552315       2.200          0.000   both  \n",
       "1552316       6.800          0.000   both  \n",
       "1552317       2.800          0.000   both  \n",
       "1552318       2.400          0.000   both  \n",
       "1552319       5.700          0.000   both  \n",
       "\n",
       "[1552320 rows x 10 columns]"
      ]
     },
     "metadata": {},
     "output_type": "display_data"
    },
    {
     "data": {
      "text/plain": [
       "both          1552320\n",
       "left_only           0\n",
       "right_only          0\n",
       "Name: _merge, dtype: int64"
      ]
     },
     "metadata": {},
     "output_type": "display_data"
    }
   ],
   "source": [
    "df = df_irradiance.merge(df_weather, \n",
    "                         on=\"timeStamp\", \n",
    "                         how=\"left\", \n",
    "                         indicator=True)\n",
    "display(df)\n",
    "display(df[\"_merge\"].value_counts())\n",
    "df = df.drop(columns=[\"_merge\"])"
   ]
  },
  {
   "cell_type": "code",
   "execution_count": 7,
   "id": "7b143b8a-5acf-46cf-b0c7-0aa0ad363c68",
   "metadata": {
    "execution": {
     "iopub.execute_input": "2023-09-05T16:03:00.384469Z",
     "iopub.status.busy": "2023-09-05T16:03:00.384236Z",
     "iopub.status.idle": "2023-09-05T16:03:00.541001Z",
     "shell.execute_reply": "2023-09-05T16:03:00.540220Z",
     "shell.execute_reply.started": "2023-09-05T16:03:00.384445Z"
    },
    "tags": []
   },
   "outputs": [
    {
     "data": {
      "text/plain": [
       "4"
      ]
     },
     "execution_count": 7,
     "metadata": {},
     "output_type": "execute_result"
    }
   ],
   "source": [
    "del df_irradiance\n",
    "del df_weather\n",
    "gc.collect()"
   ]
  },
  {
   "cell_type": "markdown",
   "id": "1a6548f3-794d-4cb1-bfea-ede85a3c4d45",
   "metadata": {},
   "source": [
    "# 3. Data Preprocessing"
   ]
  },
  {
   "cell_type": "code",
   "execution_count": 8,
   "id": "0c9b4cad-b5ab-4a35-b78b-0dcc60671e48",
   "metadata": {
    "execution": {
     "iopub.execute_input": "2023-09-05T16:03:00.542569Z",
     "iopub.status.busy": "2023-09-05T16:03:00.542156Z",
     "iopub.status.idle": "2023-09-05T16:03:05.195576Z",
     "shell.execute_reply": "2023-09-05T16:03:05.194820Z",
     "shell.execute_reply.started": "2023-09-05T16:03:00.542535Z"
    },
    "tags": []
   },
   "outputs": [
    {
     "name": "stderr",
     "output_type": "stream",
     "text": [
      "/tmp/ipykernel_20403/1537709175.py:9: PerformanceWarning: DataFrame is highly fragmented.  This is usually the result of calling `frame.insert` many times, which has poor performance.  Consider joining all columns at once using pd.concat(axis=1) instead. To get a de-fragmented frame, use `newframe = frame.copy()`\n",
      "  df[f'{col}_lag_{i}m'] = df[col].shift(i)\n",
      "/tmp/ipykernel_20403/1537709175.py:9: PerformanceWarning: DataFrame is highly fragmented.  This is usually the result of calling `frame.insert` many times, which has poor performance.  Consider joining all columns at once using pd.concat(axis=1) instead. To get a de-fragmented frame, use `newframe = frame.copy()`\n",
      "  df[f'{col}_lag_{i}m'] = df[col].shift(i)\n",
      "/tmp/ipykernel_20403/1537709175.py:9: PerformanceWarning: DataFrame is highly fragmented.  This is usually the result of calling `frame.insert` many times, which has poor performance.  Consider joining all columns at once using pd.concat(axis=1) instead. To get a de-fragmented frame, use `newframe = frame.copy()`\n",
      "  df[f'{col}_lag_{i}m'] = df[col].shift(i)\n",
      "/tmp/ipykernel_20403/1537709175.py:9: PerformanceWarning: DataFrame is highly fragmented.  This is usually the result of calling `frame.insert` many times, which has poor performance.  Consider joining all columns at once using pd.concat(axis=1) instead. To get a de-fragmented frame, use `newframe = frame.copy()`\n",
      "  df[f'{col}_lag_{i}m'] = df[col].shift(i)\n",
      "/tmp/ipykernel_20403/1537709175.py:9: PerformanceWarning: DataFrame is highly fragmented.  This is usually the result of calling `frame.insert` many times, which has poor performance.  Consider joining all columns at once using pd.concat(axis=1) instead. To get a de-fragmented frame, use `newframe = frame.copy()`\n",
      "  df[f'{col}_lag_{i}m'] = df[col].shift(i)\n",
      "/tmp/ipykernel_20403/1537709175.py:9: PerformanceWarning: DataFrame is highly fragmented.  This is usually the result of calling `frame.insert` many times, which has poor performance.  Consider joining all columns at once using pd.concat(axis=1) instead. To get a de-fragmented frame, use `newframe = frame.copy()`\n",
      "  df[f'{col}_lag_{i}m'] = df[col].shift(i)\n",
      "/tmp/ipykernel_20403/1537709175.py:9: PerformanceWarning: DataFrame is highly fragmented.  This is usually the result of calling `frame.insert` many times, which has poor performance.  Consider joining all columns at once using pd.concat(axis=1) instead. To get a de-fragmented frame, use `newframe = frame.copy()`\n",
      "  df[f'{col}_lag_{i}m'] = df[col].shift(i)\n",
      "/tmp/ipykernel_20403/1537709175.py:9: PerformanceWarning: DataFrame is highly fragmented.  This is usually the result of calling `frame.insert` many times, which has poor performance.  Consider joining all columns at once using pd.concat(axis=1) instead. To get a de-fragmented frame, use `newframe = frame.copy()`\n",
      "  df[f'{col}_lag_{i}m'] = df[col].shift(i)\n",
      "/tmp/ipykernel_20403/1537709175.py:9: PerformanceWarning: DataFrame is highly fragmented.  This is usually the result of calling `frame.insert` many times, which has poor performance.  Consider joining all columns at once using pd.concat(axis=1) instead. To get a de-fragmented frame, use `newframe = frame.copy()`\n",
      "  df[f'{col}_lag_{i}m'] = df[col].shift(i)\n",
      "/tmp/ipykernel_20403/1537709175.py:9: PerformanceWarning: DataFrame is highly fragmented.  This is usually the result of calling `frame.insert` many times, which has poor performance.  Consider joining all columns at once using pd.concat(axis=1) instead. To get a de-fragmented frame, use `newframe = frame.copy()`\n",
      "  df[f'{col}_lag_{i}m'] = df[col].shift(i)\n",
      "/tmp/ipykernel_20403/1537709175.py:9: PerformanceWarning: DataFrame is highly fragmented.  This is usually the result of calling `frame.insert` many times, which has poor performance.  Consider joining all columns at once using pd.concat(axis=1) instead. To get a de-fragmented frame, use `newframe = frame.copy()`\n",
      "  df[f'{col}_lag_{i}m'] = df[col].shift(i)\n",
      "/tmp/ipykernel_20403/1537709175.py:9: PerformanceWarning: DataFrame is highly fragmented.  This is usually the result of calling `frame.insert` many times, which has poor performance.  Consider joining all columns at once using pd.concat(axis=1) instead. To get a de-fragmented frame, use `newframe = frame.copy()`\n",
      "  df[f'{col}_lag_{i}m'] = df[col].shift(i)\n",
      "/tmp/ipykernel_20403/1537709175.py:9: PerformanceWarning: DataFrame is highly fragmented.  This is usually the result of calling `frame.insert` many times, which has poor performance.  Consider joining all columns at once using pd.concat(axis=1) instead. To get a de-fragmented frame, use `newframe = frame.copy()`\n",
      "  df[f'{col}_lag_{i}m'] = df[col].shift(i)\n",
      "/tmp/ipykernel_20403/1537709175.py:9: PerformanceWarning: DataFrame is highly fragmented.  This is usually the result of calling `frame.insert` many times, which has poor performance.  Consider joining all columns at once using pd.concat(axis=1) instead. To get a de-fragmented frame, use `newframe = frame.copy()`\n",
      "  df[f'{col}_lag_{i}m'] = df[col].shift(i)\n",
      "/tmp/ipykernel_20403/1537709175.py:9: PerformanceWarning: DataFrame is highly fragmented.  This is usually the result of calling `frame.insert` many times, which has poor performance.  Consider joining all columns at once using pd.concat(axis=1) instead. To get a de-fragmented frame, use `newframe = frame.copy()`\n",
      "  df[f'{col}_lag_{i}m'] = df[col].shift(i)\n",
      "/tmp/ipykernel_20403/1537709175.py:9: PerformanceWarning: DataFrame is highly fragmented.  This is usually the result of calling `frame.insert` many times, which has poor performance.  Consider joining all columns at once using pd.concat(axis=1) instead. To get a de-fragmented frame, use `newframe = frame.copy()`\n",
      "  df[f'{col}_lag_{i}m'] = df[col].shift(i)\n",
      "/tmp/ipykernel_20403/1537709175.py:9: PerformanceWarning: DataFrame is highly fragmented.  This is usually the result of calling `frame.insert` many times, which has poor performance.  Consider joining all columns at once using pd.concat(axis=1) instead. To get a de-fragmented frame, use `newframe = frame.copy()`\n",
      "  df[f'{col}_lag_{i}m'] = df[col].shift(i)\n",
      "/tmp/ipykernel_20403/1537709175.py:9: PerformanceWarning: DataFrame is highly fragmented.  This is usually the result of calling `frame.insert` many times, which has poor performance.  Consider joining all columns at once using pd.concat(axis=1) instead. To get a de-fragmented frame, use `newframe = frame.copy()`\n",
      "  df[f'{col}_lag_{i}m'] = df[col].shift(i)\n",
      "/tmp/ipykernel_20403/1537709175.py:9: PerformanceWarning: DataFrame is highly fragmented.  This is usually the result of calling `frame.insert` many times, which has poor performance.  Consider joining all columns at once using pd.concat(axis=1) instead. To get a de-fragmented frame, use `newframe = frame.copy()`\n",
      "  df[f'{col}_lag_{i}m'] = df[col].shift(i)\n",
      "/tmp/ipykernel_20403/1537709175.py:9: PerformanceWarning: DataFrame is highly fragmented.  This is usually the result of calling `frame.insert` many times, which has poor performance.  Consider joining all columns at once using pd.concat(axis=1) instead. To get a de-fragmented frame, use `newframe = frame.copy()`\n",
      "  df[f'{col}_lag_{i}m'] = df[col].shift(i)\n",
      "/tmp/ipykernel_20403/1537709175.py:9: PerformanceWarning: DataFrame is highly fragmented.  This is usually the result of calling `frame.insert` many times, which has poor performance.  Consider joining all columns at once using pd.concat(axis=1) instead. To get a de-fragmented frame, use `newframe = frame.copy()`\n",
      "  df[f'{col}_lag_{i}m'] = df[col].shift(i)\n",
      "/tmp/ipykernel_20403/1537709175.py:9: PerformanceWarning: DataFrame is highly fragmented.  This is usually the result of calling `frame.insert` many times, which has poor performance.  Consider joining all columns at once using pd.concat(axis=1) instead. To get a de-fragmented frame, use `newframe = frame.copy()`\n",
      "  df[f'{col}_lag_{i}m'] = df[col].shift(i)\n",
      "/tmp/ipykernel_20403/1537709175.py:9: PerformanceWarning: DataFrame is highly fragmented.  This is usually the result of calling `frame.insert` many times, which has poor performance.  Consider joining all columns at once using pd.concat(axis=1) instead. To get a de-fragmented frame, use `newframe = frame.copy()`\n",
      "  df[f'{col}_lag_{i}m'] = df[col].shift(i)\n",
      "/tmp/ipykernel_20403/1537709175.py:9: PerformanceWarning: DataFrame is highly fragmented.  This is usually the result of calling `frame.insert` many times, which has poor performance.  Consider joining all columns at once using pd.concat(axis=1) instead. To get a de-fragmented frame, use `newframe = frame.copy()`\n",
      "  df[f'{col}_lag_{i}m'] = df[col].shift(i)\n",
      "/tmp/ipykernel_20403/1537709175.py:9: PerformanceWarning: DataFrame is highly fragmented.  This is usually the result of calling `frame.insert` many times, which has poor performance.  Consider joining all columns at once using pd.concat(axis=1) instead. To get a de-fragmented frame, use `newframe = frame.copy()`\n",
      "  df[f'{col}_lag_{i}m'] = df[col].shift(i)\n",
      "/tmp/ipykernel_20403/1537709175.py:9: PerformanceWarning: DataFrame is highly fragmented.  This is usually the result of calling `frame.insert` many times, which has poor performance.  Consider joining all columns at once using pd.concat(axis=1) instead. To get a de-fragmented frame, use `newframe = frame.copy()`\n",
      "  df[f'{col}_lag_{i}m'] = df[col].shift(i)\n",
      "/tmp/ipykernel_20403/1537709175.py:9: PerformanceWarning: DataFrame is highly fragmented.  This is usually the result of calling `frame.insert` many times, which has poor performance.  Consider joining all columns at once using pd.concat(axis=1) instead. To get a de-fragmented frame, use `newframe = frame.copy()`\n",
      "  df[f'{col}_lag_{i}m'] = df[col].shift(i)\n",
      "/tmp/ipykernel_20403/1537709175.py:9: PerformanceWarning: DataFrame is highly fragmented.  This is usually the result of calling `frame.insert` many times, which has poor performance.  Consider joining all columns at once using pd.concat(axis=1) instead. To get a de-fragmented frame, use `newframe = frame.copy()`\n",
      "  df[f'{col}_lag_{i}m'] = df[col].shift(i)\n",
      "/tmp/ipykernel_20403/1537709175.py:9: PerformanceWarning: DataFrame is highly fragmented.  This is usually the result of calling `frame.insert` many times, which has poor performance.  Consider joining all columns at once using pd.concat(axis=1) instead. To get a de-fragmented frame, use `newframe = frame.copy()`\n",
      "  df[f'{col}_lag_{i}m'] = df[col].shift(i)\n",
      "/tmp/ipykernel_20403/1537709175.py:9: PerformanceWarning: DataFrame is highly fragmented.  This is usually the result of calling `frame.insert` many times, which has poor performance.  Consider joining all columns at once using pd.concat(axis=1) instead. To get a de-fragmented frame, use `newframe = frame.copy()`\n",
      "  df[f'{col}_lag_{i}m'] = df[col].shift(i)\n",
      "/tmp/ipykernel_20403/1537709175.py:9: PerformanceWarning: DataFrame is highly fragmented.  This is usually the result of calling `frame.insert` many times, which has poor performance.  Consider joining all columns at once using pd.concat(axis=1) instead. To get a de-fragmented frame, use `newframe = frame.copy()`\n",
      "  df[f'{col}_lag_{i}m'] = df[col].shift(i)\n",
      "/tmp/ipykernel_20403/1537709175.py:9: PerformanceWarning: DataFrame is highly fragmented.  This is usually the result of calling `frame.insert` many times, which has poor performance.  Consider joining all columns at once using pd.concat(axis=1) instead. To get a de-fragmented frame, use `newframe = frame.copy()`\n",
      "  df[f'{col}_lag_{i}m'] = df[col].shift(i)\n",
      "/tmp/ipykernel_20403/1537709175.py:9: PerformanceWarning: DataFrame is highly fragmented.  This is usually the result of calling `frame.insert` many times, which has poor performance.  Consider joining all columns at once using pd.concat(axis=1) instead. To get a de-fragmented frame, use `newframe = frame.copy()`\n",
      "  df[f'{col}_lag_{i}m'] = df[col].shift(i)\n",
      "/tmp/ipykernel_20403/1537709175.py:9: PerformanceWarning: DataFrame is highly fragmented.  This is usually the result of calling `frame.insert` many times, which has poor performance.  Consider joining all columns at once using pd.concat(axis=1) instead. To get a de-fragmented frame, use `newframe = frame.copy()`\n",
      "  df[f'{col}_lag_{i}m'] = df[col].shift(i)\n",
      "/tmp/ipykernel_20403/1537709175.py:9: PerformanceWarning: DataFrame is highly fragmented.  This is usually the result of calling `frame.insert` many times, which has poor performance.  Consider joining all columns at once using pd.concat(axis=1) instead. To get a de-fragmented frame, use `newframe = frame.copy()`\n",
      "  df[f'{col}_lag_{i}m'] = df[col].shift(i)\n",
      "/tmp/ipykernel_20403/1537709175.py:9: PerformanceWarning: DataFrame is highly fragmented.  This is usually the result of calling `frame.insert` many times, which has poor performance.  Consider joining all columns at once using pd.concat(axis=1) instead. To get a de-fragmented frame, use `newframe = frame.copy()`\n",
      "  df[f'{col}_lag_{i}m'] = df[col].shift(i)\n",
      "/tmp/ipykernel_20403/1537709175.py:9: PerformanceWarning: DataFrame is highly fragmented.  This is usually the result of calling `frame.insert` many times, which has poor performance.  Consider joining all columns at once using pd.concat(axis=1) instead. To get a de-fragmented frame, use `newframe = frame.copy()`\n",
      "  df[f'{col}_lag_{i}m'] = df[col].shift(i)\n",
      "/tmp/ipykernel_20403/1537709175.py:9: PerformanceWarning: DataFrame is highly fragmented.  This is usually the result of calling `frame.insert` many times, which has poor performance.  Consider joining all columns at once using pd.concat(axis=1) instead. To get a de-fragmented frame, use `newframe = frame.copy()`\n",
      "  df[f'{col}_lag_{i}m'] = df[col].shift(i)\n",
      "/tmp/ipykernel_20403/1537709175.py:9: PerformanceWarning: DataFrame is highly fragmented.  This is usually the result of calling `frame.insert` many times, which has poor performance.  Consider joining all columns at once using pd.concat(axis=1) instead. To get a de-fragmented frame, use `newframe = frame.copy()`\n",
      "  df[f'{col}_lag_{i}m'] = df[col].shift(i)\n",
      "/tmp/ipykernel_20403/1537709175.py:9: PerformanceWarning: DataFrame is highly fragmented.  This is usually the result of calling `frame.insert` many times, which has poor performance.  Consider joining all columns at once using pd.concat(axis=1) instead. To get a de-fragmented frame, use `newframe = frame.copy()`\n",
      "  df[f'{col}_lag_{i}m'] = df[col].shift(i)\n",
      "/tmp/ipykernel_20403/1537709175.py:9: PerformanceWarning: DataFrame is highly fragmented.  This is usually the result of calling `frame.insert` many times, which has poor performance.  Consider joining all columns at once using pd.concat(axis=1) instead. To get a de-fragmented frame, use `newframe = frame.copy()`\n",
      "  df[f'{col}_lag_{i}m'] = df[col].shift(i)\n",
      "/tmp/ipykernel_20403/1537709175.py:9: PerformanceWarning: DataFrame is highly fragmented.  This is usually the result of calling `frame.insert` many times, which has poor performance.  Consider joining all columns at once using pd.concat(axis=1) instead. To get a de-fragmented frame, use `newframe = frame.copy()`\n",
      "  df[f'{col}_lag_{i}m'] = df[col].shift(i)\n"
     ]
    }
   ],
   "source": [
    "# Define the number of time steps to use for input sequences\n",
    "n_steps = 20 \n",
    "features = ['air_temp', 'relhum', 'press', 'windsp', 'winddir', 'max_windsp', 'precipitation']\n",
    "\n",
    "def prepare_data(df, n_steps_20min):\n",
    "    # Create lagged features for the past 20 minutes using pandas shift\n",
    "    for i in range(1, n_steps_20min + 1):\n",
    "        for col in features:\n",
    "            df[f'{col}_lag_{i}m'] = df[col].shift(i)\n",
    "    \n",
    "    # Drop rows with missing values (NaN)\n",
    "    df = df.dropna()\n",
    "\n",
    "    return df\n",
    "\n",
    "df_fe = prepare_data(df, n_steps)"
   ]
  },
  {
   "cell_type": "code",
   "execution_count": 9,
   "id": "249a21fe-a28a-48a0-98d5-b5026fe611cd",
   "metadata": {
    "execution": {
     "iopub.execute_input": "2023-09-05T16:03:05.197450Z",
     "iopub.status.busy": "2023-09-05T16:03:05.196681Z",
     "iopub.status.idle": "2023-09-05T16:03:05.363395Z",
     "shell.execute_reply": "2023-09-05T16:03:05.362497Z",
     "shell.execute_reply.started": "2023-09-05T16:03:05.197415Z"
    },
    "tags": []
   },
   "outputs": [
    {
     "data": {
      "text/plain": [
       "1516"
      ]
     },
     "execution_count": 9,
     "metadata": {},
     "output_type": "execute_result"
    }
   ],
   "source": [
    "del df\n",
    "gc.collect()"
   ]
  },
  {
   "cell_type": "markdown",
   "id": "ce13bc16-f742-4a39-8691-73b1bba101f6",
   "metadata": {},
   "source": [
    "Train/Validation/Test split"
   ]
  },
  {
   "cell_type": "code",
   "execution_count": 10,
   "id": "6f875177-0ad9-479e-b63c-c1737e9815c7",
   "metadata": {
    "execution": {
     "iopub.execute_input": "2023-09-05T16:03:05.364537Z",
     "iopub.status.busy": "2023-09-05T16:03:05.364274Z",
     "iopub.status.idle": "2023-09-05T16:03:05.902665Z",
     "shell.execute_reply": "2023-09-05T16:03:05.898565Z",
     "shell.execute_reply.started": "2023-09-05T16:03:05.364515Z"
    },
    "tags": []
   },
   "outputs": [],
   "source": [
    "train_start = \"2014-01-01\"\n",
    "validation_start = \"2015-01-01\"\n",
    "test_start = \"2016-01-01\"\n",
    "\n",
    "df_train = df_fe.loc[df_fe[\"timeStamp\"] < validation_start]\n",
    "df_validation = df_fe.loc[(df_fe[\"timeStamp\"] >= validation_start) & (df_fe[\"timeStamp\"] < test_start)]\n",
    "df_test = df_fe.loc[df_fe[\"timeStamp\"] >= test_start]\n",
    "\n",
    "X_train, X_val, X_test = df_train[features], df_validation[features], df_test[features]\n",
    "y_train, y_val, y_test = df_train[\"ghi\"], df_validation[\"ghi\"], df_test[\"ghi\"]"
   ]
  },
  {
   "cell_type": "markdown",
   "id": "ce26a11c-7046-4f29-a15d-a8213e724d4d",
   "metadata": {},
   "source": [
    "Normalize input data (scaling between 0 and 1)"
   ]
  },
  {
   "cell_type": "code",
   "execution_count": 11,
   "id": "64dfffa5-899e-4ecb-9120-97785592b6c4",
   "metadata": {
    "execution": {
     "iopub.execute_input": "2023-09-05T16:03:05.904682Z",
     "iopub.status.busy": "2023-09-05T16:03:05.904329Z",
     "iopub.status.idle": "2023-09-05T16:03:06.038078Z",
     "shell.execute_reply": "2023-09-05T16:03:06.037441Z",
     "shell.execute_reply.started": "2023-09-05T16:03:05.904651Z"
    },
    "tags": []
   },
   "outputs": [],
   "source": [
    "scaler = MinMaxScaler()\n",
    "X_train = scaler.fit_transform(X_train)\n",
    "X_val = scaler.fit_transform(X_val)\n",
    "X_test = scaler.transform(X_test)"
   ]
  },
  {
   "cell_type": "markdown",
   "id": "01c20f0f-b591-4e42-951a-fc09394a8056",
   "metadata": {},
   "source": [
    "Reshape the input data for LSTM (3D shape required)"
   ]
  },
  {
   "cell_type": "code",
   "execution_count": 12,
   "id": "5bd0953c-1597-4ba0-b4a8-caecdd0c56a2",
   "metadata": {
    "execution": {
     "iopub.execute_input": "2023-09-05T16:03:06.039275Z",
     "iopub.status.busy": "2023-09-05T16:03:06.038965Z",
     "iopub.status.idle": "2023-09-05T16:03:06.075858Z",
     "shell.execute_reply": "2023-09-05T16:03:06.075277Z",
     "shell.execute_reply.started": "2023-09-05T16:03:06.039253Z"
    },
    "tags": []
   },
   "outputs": [],
   "source": [
    "X_train = X_train.reshape((X_train.shape[0], X_train.shape[1], 1))\n",
    "X_val = X_val.reshape((X_val.shape[0], X_val.shape[1], 1))\n",
    "X_test = X_test.reshape((X_test.shape[0], X_test.shape[1], 1))"
   ]
  },
  {
   "cell_type": "markdown",
   "id": "c54762fc-c12d-4b27-809f-dd63777381f6",
   "metadata": {
    "tags": []
   },
   "source": [
    "# 4. Model"
   ]
  },
  {
   "cell_type": "markdown",
   "id": "1c11d6e8-46d9-4d23-bbee-304c8a6155c1",
   "metadata": {
    "tags": []
   },
   "source": [
    "## a. Basic Model"
   ]
  },
  {
   "cell_type": "code",
   "execution_count": 14,
   "id": "8bc230ad-bbd3-4394-a101-4c6806630f28",
   "metadata": {
    "execution": {
     "iopub.execute_input": "2023-09-05T16:04:15.202628Z",
     "iopub.status.busy": "2023-09-05T16:04:15.202230Z",
     "iopub.status.idle": "2023-09-05T16:04:15.238657Z",
     "shell.execute_reply": "2023-09-05T16:04:15.238051Z",
     "shell.execute_reply.started": "2023-09-05T16:04:15.202599Z"
    },
    "tags": []
   },
   "outputs": [],
   "source": [
    "MODEL_VERSION = \"4\"\n",
    "# is_train_new_model = True"
   ]
  },
  {
   "cell_type": "markdown",
   "id": "0655673d-7172-4011-aefa-fb69fc74372c",
   "metadata": {},
   "source": [
    "Define the LSTM model.\n"
   ]
  },
  {
   "cell_type": "code",
   "execution_count": 15,
   "id": "35b5f856-6d4a-4588-9368-c715db7cb990",
   "metadata": {
    "execution": {
     "iopub.execute_input": "2023-09-05T16:05:21.788237Z",
     "iopub.status.busy": "2023-09-05T16:05:21.787821Z",
     "iopub.status.idle": "2023-09-05T16:05:22.496202Z",
     "shell.execute_reply": "2023-09-05T16:05:22.495522Z",
     "shell.execute_reply.started": "2023-09-05T16:05:21.788212Z"
    },
    "tags": []
   },
   "outputs": [
    {
     "name": "stderr",
     "output_type": "stream",
     "text": [
      "2023-09-05 16:05:21.827121: I tensorflow/core/platform/cpu_feature_guard.cc:193] This TensorFlow binary is optimized with oneAPI Deep Neural Network Library (oneDNN) to use the following CPU instructions in performance-critical operations:  AVX2 AVX512F AVX512_VNNI FMA\n",
      "To enable them in other operations, rebuild TensorFlow with the appropriate compiler flags.\n",
      "2023-09-05 16:05:21.827601: I tensorflow/stream_executor/cuda/cuda_gpu_executor.cc:975] successful NUMA node read from SysFS had negative value (-1), but there must be at least one NUMA node, so returning NUMA node zero\n",
      "2023-09-05 16:05:21.828284: I tensorflow/stream_executor/cuda/cuda_gpu_executor.cc:975] successful NUMA node read from SysFS had negative value (-1), but there must be at least one NUMA node, so returning NUMA node zero\n",
      "2023-09-05 16:05:21.828832: I tensorflow/stream_executor/cuda/cuda_gpu_executor.cc:975] successful NUMA node read from SysFS had negative value (-1), but there must be at least one NUMA node, so returning NUMA node zero\n",
      "2023-09-05 16:05:22.249523: I tensorflow/stream_executor/cuda/cuda_gpu_executor.cc:975] successful NUMA node read from SysFS had negative value (-1), but there must be at least one NUMA node, so returning NUMA node zero\n",
      "2023-09-05 16:05:22.250236: I tensorflow/stream_executor/cuda/cuda_gpu_executor.cc:975] successful NUMA node read from SysFS had negative value (-1), but there must be at least one NUMA node, so returning NUMA node zero\n",
      "2023-09-05 16:05:22.250823: I tensorflow/stream_executor/cuda/cuda_gpu_executor.cc:975] successful NUMA node read from SysFS had negative value (-1), but there must be at least one NUMA node, so returning NUMA node zero\n",
      "2023-09-05 16:05:22.251327: I tensorflow/core/common_runtime/gpu/gpu_device.cc:1532] Created device /job:localhost/replica:0/task:0/device:GPU:0 with 13795 MB memory:  -> device: 0, name: Tesla T4, pci bus id: 0000:00:1e.0, compute capability: 7.5\n"
     ]
    },
    {
     "name": "stdout",
     "output_type": "stream",
     "text": [
      "Model: \"sequential\"\n",
      "_________________________________________________________________\n",
      " Layer (type)                Output Shape              Param #   \n",
      "=================================================================\n",
      " lstm (LSTM)                 (None, 30)                3840      \n",
      "                                                                 \n",
      " dropout (Dropout)           (None, 30)                0         \n",
      "                                                                 \n",
      " dense (Dense)               (None, 1)                 31        \n",
      "                                                                 \n",
      "=================================================================\n",
      "Total params: 3,871\n",
      "Trainable params: 3,871\n",
      "Non-trainable params: 0\n",
      "_________________________________________________________________\n"
     ]
    }
   ],
   "source": [
    "def root_mean_squared_error(y_true, y_pred):\n",
    "    return tf.sqrt(tf.reduce_mean(tf.square(y_pred - y_true)))\n",
    "\n",
    "\n",
    "def lstm_model():\n",
    "    # Define layers\n",
    "    model = Sequential()\n",
    "    model.add(LSTM(units=30, \n",
    "                   kernel_regularizer=l2(0.01), # add some L2 to discourage learning complex patterns by penalising loss function\n",
    "                   return_sequences=False, # return single GHI value, not the sequence of values\n",
    "                   activation='tanh',\n",
    "                   recurrent_activation='sigmoid',\n",
    "                   use_bias=True,\n",
    "                   input_shape=(X_train.shape[1], X_train.shape[2])))\n",
    "    model.add(Dropout(rate=0.10))\n",
    "    model.add(Dense(1))\n",
    "    \n",
    "    # Define optimiser\n",
    "    optimiser = Adam(learning_rate=0.001)\n",
    "    model.compile(optimizer=optimiser, \n",
    "                  loss='mean_squared_error', \n",
    "                  metrics=['mean_absolute_error', root_mean_squared_error])\n",
    "    \n",
    "    return model\n",
    "\n",
    "# Create LSTM model\n",
    "model = lstm_model()\n",
    "model.summary()"
   ]
  },
  {
   "cell_type": "markdown",
   "id": "2ea93e06-f43c-4e4a-adb4-8039685182fb",
   "metadata": {},
   "source": [
    "Optional: restore the weights or train a new model"
   ]
  },
  {
   "cell_type": "code",
   "execution_count": 16,
   "id": "ced2cd52-1f0c-460d-bbce-c95884eb62c6",
   "metadata": {
    "execution": {
     "iopub.execute_input": "2023-09-05T15:58:59.164079Z",
     "iopub.status.busy": "2023-09-05T15:58:59.163689Z",
     "iopub.status.idle": "2023-09-05T15:58:59.207633Z",
     "shell.execute_reply": "2023-09-05T15:58:59.207045Z",
     "shell.execute_reply.started": "2023-09-05T15:58:59.164055Z"
    },
    "tags": []
   },
   "outputs": [],
   "source": [
    "# model.load_weights(f'../../output/lstm_models/lstm_v{MODEL_VERSION}.h5')\n",
    "# is_train_new_model = False"
   ]
  },
  {
   "cell_type": "markdown",
   "id": "241ccf83-9161-4c54-a579-ad42428ed585",
   "metadata": {},
   "source": [
    "Train model"
   ]
  },
  {
   "cell_type": "code",
   "execution_count": 20,
   "id": "ca765dec-f73a-4973-ad78-5edf30668591",
   "metadata": {
    "execution": {
     "iopub.execute_input": "2023-09-05T16:15:16.897060Z",
     "iopub.status.busy": "2023-09-05T16:15:16.896668Z",
     "iopub.status.idle": "2023-09-05T16:15:16.934382Z",
     "shell.execute_reply": "2023-09-05T16:15:16.933706Z",
     "shell.execute_reply.started": "2023-09-05T16:15:16.897033Z"
    },
    "tags": []
   },
   "outputs": [],
   "source": [
    "with open(f\"../../output/lstm_history/training_history_v{MODEL_VERSION}.pkl\", \"wb\") as f:\n",
    "        pickle.dump(history.history, f)"
   ]
  },
  {
   "cell_type": "code",
   "execution_count": 16,
   "id": "3f2ee245-6af0-4c18-8342-d29956c8b69b",
   "metadata": {
    "execution": {
     "iopub.execute_input": "2023-09-05T16:05:40.105086Z",
     "iopub.status.busy": "2023-09-05T16:05:40.104692Z",
     "iopub.status.idle": "2023-09-05T16:14:01.647403Z",
     "shell.execute_reply": "2023-09-05T16:14:01.646816Z",
     "shell.execute_reply.started": "2023-09-05T16:05:40.105061Z"
    },
    "tags": []
   },
   "outputs": [
    {
     "name": "stdout",
     "output_type": "stream",
     "text": [
      "Training a new LSTM model (version 4).\n",
      "Epoch 1/50\n"
     ]
    },
    {
     "name": "stderr",
     "output_type": "stream",
     "text": [
      "2023-09-05 16:05:42.274414: I tensorflow/stream_executor/cuda/cuda_dnn.cc:384] Loaded cuDNN version 8100\n"
     ]
    },
    {
     "name": "stdout",
     "output_type": "stream",
     "text": [
      "15800/15800 [==============================] - 74s 4ms/step - loss: 87051.7891 - mean_absolute_error: 209.4956 - root_mean_squared_error: 289.2848 - val_loss: 52949.8867 - val_mean_absolute_error: 165.5011 - val_root_mean_squared_error: 170.6965\n",
      "Epoch 2/50\n",
      "15800/15800 [==============================] - 71s 4ms/step - loss: 43837.7070 - mean_absolute_error: 143.8520 - root_mean_squared_error: 206.5485 - val_loss: 42024.9883 - val_mean_absolute_error: 147.6545 - val_root_mean_squared_error: 154.4321\n",
      "Epoch 3/50\n",
      "15800/15800 [==============================] - 71s 5ms/step - loss: 38920.3281 - mean_absolute_error: 135.2179 - root_mean_squared_error: 194.5991 - val_loss: 41422.4180 - val_mean_absolute_error: 145.1048 - val_root_mean_squared_error: 152.6778\n",
      "Epoch 4/50\n",
      "15800/15800 [==============================] - 71s 5ms/step - loss: 37656.4922 - mean_absolute_error: 132.3361 - root_mean_squared_error: 191.2361 - val_loss: 39346.1133 - val_mean_absolute_error: 139.1738 - val_root_mean_squared_error: 146.2178\n",
      "Epoch 5/50\n",
      "15800/15800 [==============================] - 71s 5ms/step - loss: 36917.8516 - mean_absolute_error: 130.6145 - root_mean_squared_error: 189.3717 - val_loss: 44208.3672 - val_mean_absolute_error: 151.4948 - val_root_mean_squared_error: 158.8374\n",
      "Epoch 6/50\n",
      "15800/15800 [==============================] - 71s 5ms/step - loss: 36003.1523 - mean_absolute_error: 128.6530 - root_mean_squared_error: 186.9286 - val_loss: 42630.4492 - val_mean_absolute_error: 146.5446 - val_root_mean_squared_error: 154.4034\n",
      "Epoch 7/50\n",
      "15800/15800 [==============================] - 71s 5ms/step - loss: 35455.2422 - mean_absolute_error: 127.3400 - root_mean_squared_error: 185.4670 - val_loss: 43655.0078 - val_mean_absolute_error: 149.5459 - val_root_mean_squared_error: 157.6981\n"
     ]
    }
   ],
   "source": [
    "# Add early stopping to avoid overfitting\n",
    "early_stopping = EarlyStopping(monitor=\"val_root_mean_squared_error\", \n",
    "                               patience=3, \n",
    "                               restore_best_weights=True,\n",
    "                               mode=\"min\")\n",
    "csv_logger = CSVLogger(f'../../output/lstm_history/training_log_v{MODEL_VERSION}.log', separator=',', append=False)\n",
    "\n",
    "if is_train_new_model:\n",
    "    print(f\"Training a new LSTM model (version {MODEL_VERSION}).\")\n",
    "    history = model.fit(X_train, \n",
    "                        y_train, \n",
    "                        epochs=50,  # max number of epochs\n",
    "                        batch_size=32, \n",
    "                        verbose=1, \n",
    "                        validation_data=(X_val, y_val), \n",
    "                        callbacks=[early_stopping, csv_logger])\n",
    "    # Save fitted model and history\n",
    "    model.save(f\"../../output/lstm_models/lstm_v{MODEL_VERSION}.h5\")\n",
    "    with open(f\"../../output/lstm_history/training_history_v{MODEL_VERSION}.pkl\", \"wb\") as f:\n",
    "        pickle.dump(history.history, f)\n",
    "    \n",
    "else:\n",
    "    print(f\"Re-loading previously trained LSTM model history (version {MODEL_VERSION}).\")\n",
    "    with open(f'../../output/lstm_history/training_history_v{MODEL_VERSION}.pkl', 'rb') as history_file:\n",
    "        history = pickle.load(history_file)"
   ]
  },
  {
   "cell_type": "markdown",
   "id": "681deb11-c211-4ee1-b1de-fdf5177aa748",
   "metadata": {},
   "source": [
    "Plot training loss and validation loss"
   ]
  },
  {
   "cell_type": "code",
   "execution_count": 27,
   "id": "243cef25-a58a-45a4-90a4-a63743de9a06",
   "metadata": {
    "execution": {
     "iopub.execute_input": "2023-09-05T16:16:05.197550Z",
     "iopub.status.busy": "2023-09-05T16:16:05.197161Z",
     "iopub.status.idle": "2023-09-05T16:16:05.673139Z",
     "shell.execute_reply": "2023-09-05T16:16:05.672388Z",
     "shell.execute_reply.started": "2023-09-05T16:16:05.197526Z"
    },
    "tags": []
   },
   "outputs": [
    {
     "data": {
      "image/png": "[encoded data removed]",
      "text/plain": [
       "<Figure size 1200x600 with 1 Axes>"
      ]
     },
     "metadata": {
      "image/png": {
       "height": 546,
       "width": 1023
      }
     },
     "output_type": "display_data"
    }
   ],
   "source": [
    "if type(history) == tf.keras.callbacks.History:\n",
    "    history = history.history\n",
    "    \n",
    "plt.figure(figsize=(12, 6))\n",
    "plt.plot(history['loss'], label='Training Loss')\n",
    "plt.plot(history['val_loss'], label='Validation Loss')\n",
    "plt.xlabel('Epochs')\n",
    "plt.ylabel('Loss (MSE)')\n",
    "plt.title(f'Training and Validation Losses (Mean Squared Error) for LSTM v{MODEL_VERSION}')\n",
    "plt.legend()\n",
    "plt.savefig(f'../../output/model_validation/loss_curves_train_val_v{MODEL_VERSION}.png', bbox_inches='tight')\n",
    "plt.show()"
   ]
  },
  {
   "cell_type": "code",
   "execution_count": 28,
   "id": "ee6b987b-3706-4724-9eb9-ff0fdf040dc8",
   "metadata": {
    "execution": {
     "iopub.execute_input": "2023-09-05T16:16:12.087092Z",
     "iopub.status.busy": "2023-09-05T16:16:12.086710Z",
     "iopub.status.idle": "2023-09-05T16:16:12.125239Z",
     "shell.execute_reply": "2023-09-05T16:16:12.124489Z",
     "shell.execute_reply.started": "2023-09-05T16:16:12.087065Z"
    },
    "tags": []
   },
   "outputs": [
    {
     "name": "stdout",
     "output_type": "stream",
     "text": [
      "Best validation loss came at epoch 3 (0-indexed) with a validation loss of val_loss=39346.11328125\n"
     ]
    }
   ],
   "source": [
    "best_epoch = history['val_loss'].index(min(history['val_loss']))  # Add 1 because epochs are 1-indexed\n",
    "print(f\"Best validation loss came at epoch {best_epoch} (0-indexed) with a validation loss of val_loss={min(history['val_loss'])}\")"
   ]
  },
  {
   "cell_type": "markdown",
   "id": "8e84b7c3-f798-4f30-8c98-2453773d05d2",
   "metadata": {
    "tags": []
   },
   "source": [
    "## b. Fine-Tuning (Hyperparameter optimisation)"
   ]
  },
  {
   "cell_type": "markdown",
   "id": "99312e7b-60ef-47af-837c-5e0700816872",
   "metadata": {},
   "source": [
    "\n",
    "To fine-tune:\n",
    "- number of nodes (25, 50, 75, 100, 125, 150)\n",
    "- optimizer learning rate (0.001, 0. 01. 0.1)\n",
    "- additional hidden layers? (1, 2, 3)\n",
    "- batch size (1, 2, 16, 32, 64)\n",
    "- dropout?\n",
    "- epochs?"
   ]
  },
  {
   "cell_type": "code",
   "execution_count": 99,
   "id": "74c322cb-2d5a-41d2-ae79-2b7b7a6d2755",
   "metadata": {
    "execution": {
     "iopub.execute_input": "2023-09-05T08:45:23.845028Z",
     "iopub.status.busy": "2023-09-05T08:45:23.844634Z",
     "iopub.status.idle": "2023-09-05T08:45:23.945781Z",
     "shell.execute_reply": "2023-09-05T08:45:23.945109Z",
     "shell.execute_reply.started": "2023-09-05T08:45:23.845001Z"
    },
    "tags": []
   },
   "outputs": [],
   "source": [
    "def build_model(hp):\n",
    "    model = Sequential()\n",
    "    for i in range(hp.Int('num_layers', min_value=1, max_value=3)):\n",
    "        model.add(LSTM(units=hp.Int(f'lstm_{i}_units', min_value=25, max_value=150, step=25),\n",
    "                       activation='tanh',\n",
    "                       recurrent_activation='sigmoid',\n",
    "                       use_bias=True,\n",
    "                       return_sequences=True))\n",
    "    model.add(Dense(1))\n",
    "\n",
    "    # Set the learning rate as a hyperparameter\n",
    "    optimiser = Adam(learning_rate=hp.Choice('learning_rate', values=[0.001, 0.01, 0.1]))\n",
    "    model.compile(optimizer=optimiser, \n",
    "                  loss='mean_squared_error', \n",
    "                  metrics=['mean_absolute_error', root_mean_squared_error])\n",
    "\n",
    "    return model"
   ]
  },
  {
   "cell_type": "code",
   "execution_count": 115,
   "id": "70d38153-ea89-470f-93d5-08c7ec4f1727",
   "metadata": {
    "execution": {
     "iopub.execute_input": "2023-09-05T09:50:03.436694Z",
     "iopub.status.busy": "2023-09-05T09:50:03.436290Z",
     "iopub.status.idle": "2023-09-05T09:50:03.534168Z",
     "shell.execute_reply": "2023-09-05T09:50:03.533507Z",
     "shell.execute_reply.started": "2023-09-05T09:50:03.436664Z"
    },
    "tags": []
   },
   "outputs": [],
   "source": [
    "# Add early stopping to avoid overfitting\n",
    "early_stopping = EarlyStopping(monitor=\"val_loss\", \n",
    "                               patience=3, \n",
    "                               restore_best_weights=True,\n",
    "                               verbose=1)\n",
    "\n",
    "# Perform the hyperparameter search with early stopping\n",
    "results_df = pd.DataFrame(columns=['lstm_0_units', \"lstm_1_units\", \"lstm_2_units\", 'num_layers', 'learning_rate', 'val_loss'])\n",
    "for i in range(25):\n",
    "    tuner = RandomSearch(\n",
    "        build_model,\n",
    "        objective='val_loss',\n",
    "        max_trials=1,  # Number of combinations to try\n",
    "        directory='../../output/lstm_keras_tuning/',\n",
    "        project_name=f'lstm_v3_iter{i}',\n",
    "        overwrite=True,\n",
    "    )\n",
    "    \n",
    "    tuner.search(X_train, \n",
    "             y_train, \n",
    "             epochs=50, \n",
    "             batch_size=32, \n",
    "             verbose=1, \n",
    "             validation_data=(X_val, y_val),\n",
    "             callbacks=[early_stopping])\n",
    "\n",
    "    # Get the best hyperparameters for this iteration\n",
    "    completed_trials = tuner.oracle.get_best_trials(num_trials=1)\n",
    "    if completed_trials:\n",
    "        best_hps = completed_trials[0].hyperparameters\n",
    "        best_val_loss = completed_trials[0].score\n",
    "\n",
    "    # Append the results to the DataFrame\n",
    "    dict_results = dict()\n",
    "    dict_results[\"num_layers\"] = best_hps.get(\"num_layers\")\n",
    "    dict_results[\"learning_rate\"] = best_hps.get(\"learning_rate\")\n",
    "    dict_results[\"val_loss\"] = best_val_loss\n",
    "    for nl in range(0, dict_results[\"num_layers\"]):\n",
    "        dict_results[f\"lstm_{nl}_units\"] = best_hps.get(\"num_layers\")\n",
    "    results_df = pd.concat([results_df, pd.DataFrame.from_records([dict_results])])\n",
    "\n",
    "# Save the results DataFrame as a CSV file\n",
    "results_df.to_csv('../../output/lstm_random_gs_results.csv', index=False)\n",
    "results_df"
   ]
  },
  {
   "cell_type": "code",
   "execution_count": 30,
   "id": "66be49ee-d18f-416a-911a-bbc8d2128be0",
   "metadata": {
    "execution": {
     "iopub.execute_input": "2023-09-05T16:20:21.022954Z",
     "iopub.status.busy": "2023-09-05T16:20:21.022564Z",
     "iopub.status.idle": "2023-09-05T16:20:21.068560Z",
     "shell.execute_reply": "2023-09-05T16:20:21.067624Z",
     "shell.execute_reply.started": "2023-09-05T16:20:21.022928Z"
    },
    "tags": []
   },
   "outputs": [
    {
     "data": {
      "text/html": [
       "<div>\n",
       "<style scoped>\n",
       "    .dataframe tbody tr th:only-of-type {\n",
       "        vertical-align: middle;\n",
       "    }\n",
       "\n",
       "    .dataframe tbody tr th {\n",
       "        vertical-align: top;\n",
       "    }\n",
       "\n",
       "    .dataframe thead th {\n",
       "        text-align: right;\n",
       "    }\n",
       "</style>\n",
       "<table border=\"1\" class=\"dataframe\">\n",
       "  <thead>\n",
       "    <tr style=\"text-align: right;\">\n",
       "      <th></th>\n",
       "      <th>num_layers</th>\n",
       "      <th>lstm_0_units</th>\n",
       "      <th>lstm_1_units</th>\n",
       "      <th>lstm_2_units</th>\n",
       "      <th>Dropout</th>\n",
       "      <th>learning_rate</th>\n",
       "      <th>val_loss</th>\n",
       "      <th>best_epoch (0-index)</th>\n",
       "    </tr>\n",
       "    <tr>\n",
       "      <th>Iteration</th>\n",
       "      <th></th>\n",
       "      <th></th>\n",
       "      <th></th>\n",
       "      <th></th>\n",
       "      <th></th>\n",
       "      <th></th>\n",
       "      <th></th>\n",
       "      <th></th>\n",
       "    </tr>\n",
       "  </thead>\n",
       "  <tbody>\n",
       "    <tr>\n",
       "      <th>7</th>\n",
       "      <td>1</td>\n",
       "      <td>30</td>\n",
       "      <td>NaN</td>\n",
       "      <td>NaN</td>\n",
       "      <td>0.100</td>\n",
       "      <td>0.001</td>\n",
       "      <td>39346.113</td>\n",
       "      <td>3.000</td>\n",
       "    </tr>\n",
       "    <tr>\n",
       "      <th>1</th>\n",
       "      <td>1</td>\n",
       "      <td>30</td>\n",
       "      <td>NaN</td>\n",
       "      <td>NaN</td>\n",
       "      <td>NaN</td>\n",
       "      <td>0.001</td>\n",
       "      <td>40490.805</td>\n",
       "      <td>3.000</td>\n",
       "    </tr>\n",
       "    <tr>\n",
       "      <th>6</th>\n",
       "      <td>1</td>\n",
       "      <td>32</td>\n",
       "      <td>NaN</td>\n",
       "      <td>NaN</td>\n",
       "      <td>0.200</td>\n",
       "      <td>0.001</td>\n",
       "      <td>45841.367</td>\n",
       "      <td>9.000</td>\n",
       "    </tr>\n",
       "    <tr>\n",
       "      <th>5</th>\n",
       "      <td>3</td>\n",
       "      <td>125</td>\n",
       "      <td>25.000</td>\n",
       "      <td>25.000</td>\n",
       "      <td>NaN</td>\n",
       "      <td>0.010</td>\n",
       "      <td>45981.934</td>\n",
       "      <td>1.000</td>\n",
       "    </tr>\n",
       "    <tr>\n",
       "      <th>2</th>\n",
       "      <td>1</td>\n",
       "      <td>50</td>\n",
       "      <td>NaN</td>\n",
       "      <td>NaN</td>\n",
       "      <td>NaN</td>\n",
       "      <td>0.010</td>\n",
       "      <td>46449.129</td>\n",
       "      <td>NaN</td>\n",
       "    </tr>\n",
       "    <tr>\n",
       "      <th>3</th>\n",
       "      <td>2</td>\n",
       "      <td>50</td>\n",
       "      <td>25.000</td>\n",
       "      <td>NaN</td>\n",
       "      <td>NaN</td>\n",
       "      <td>0.001</td>\n",
       "      <td>46606.363</td>\n",
       "      <td>NaN</td>\n",
       "    </tr>\n",
       "    <tr>\n",
       "      <th>4</th>\n",
       "      <td>2</td>\n",
       "      <td>75</td>\n",
       "      <td>25.000</td>\n",
       "      <td>NaN</td>\n",
       "      <td>NaN</td>\n",
       "      <td>0.100</td>\n",
       "      <td>55704.758</td>\n",
       "      <td>4.000</td>\n",
       "    </tr>\n",
       "  </tbody>\n",
       "</table>\n",
       "</div>"
      ],
      "text/plain": [
       "           num_layers  lstm_0_units  lstm_1_units  lstm_2_units  Dropout  \\\n",
       "Iteration                                                                  \n",
       "7                   1            30           NaN           NaN    0.100   \n",
       "1                   1            30           NaN           NaN      NaN   \n",
       "6                   1            32           NaN           NaN    0.200   \n",
       "5                   3           125        25.000        25.000      NaN   \n",
       "2                   1            50           NaN           NaN      NaN   \n",
       "3                   2            50        25.000           NaN      NaN   \n",
       "4                   2            75        25.000           NaN      NaN   \n",
       "\n",
       "           learning_rate  val_loss  best_epoch (0-index)  \n",
       "Iteration                                                 \n",
       "7                  0.001 39346.113                 3.000  \n",
       "1                  0.001 40490.805                 3.000  \n",
       "6                  0.001 45841.367                 9.000  \n",
       "5                  0.010 45981.934                 1.000  \n",
       "2                  0.010 46449.129                   NaN  \n",
       "3                  0.001 46606.363                   NaN  \n",
       "4                  0.100 55704.758                 4.000  "
      ]
     },
     "execution_count": 30,
     "metadata": {},
     "output_type": "execute_result"
    }
   ],
   "source": [
    "df_gs_results = pd.read_csv(\"../../output/lstm_random_gs_results.csv\").set_index(\"Iteration\").sort_values(by=\"val_loss\", ascending=True)\n",
    "df_gs_results"
   ]
  },
  {
   "cell_type": "markdown",
   "id": "e67566a7-1d80-41b6-a1dc-63b1daadbb6f",
   "metadata": {},
   "source": [
    "Best model:"
   ]
  },
  {
   "cell_type": "code",
   "execution_count": 31,
   "id": "f5520b78-ac89-4b10-bfd7-623dff116485",
   "metadata": {
    "execution": {
     "iopub.execute_input": "2023-09-05T16:20:50.050614Z",
     "iopub.status.busy": "2023-09-05T16:20:50.050213Z",
     "iopub.status.idle": "2023-09-05T16:20:50.090619Z",
     "shell.execute_reply": "2023-09-05T16:20:50.089891Z",
     "shell.execute_reply.started": "2023-09-05T16:20:50.050586Z"
    }
   },
   "outputs": [
    {
     "data": {
      "text/plain": [
       "{'num_layers': 1.0,\n",
       " 'lstm_0_units': 30.0,\n",
       " 'lstm_1_units': nan,\n",
       " 'lstm_2_units': nan,\n",
       " 'Dropout': 0.1,\n",
       " 'learning_rate': 0.001,\n",
       " 'val_loss': 39346.11328125,\n",
       " 'best_epoch (0-index)': 3.0}"
      ]
     },
     "execution_count": 31,
     "metadata": {},
     "output_type": "execute_result"
    }
   ],
   "source": [
    "df_gs_results.iloc[0].to_dict()"
   ]
  },
  {
   "cell_type": "markdown",
   "id": "8c966f75-5616-416e-be8c-01564ba22c8a",
   "metadata": {},
   "source": [
    "# 5. Forecasting"
   ]
  },
  {
   "cell_type": "markdown",
   "id": "6a45da0a-9b0d-4d4a-9806-626165e9a4f6",
   "metadata": {},
   "source": [
    "Make predictions on the test set"
   ]
  },
  {
   "cell_type": "code",
   "execution_count": null,
   "id": "4b3cc6bb-2a61-41ed-9f62-6458d4faa916",
   "metadata": {},
   "outputs": [],
   "source": [
    "y_pred = model.predict(X_test)"
   ]
  },
  {
   "cell_type": "markdown",
   "id": "5f94b0a8-9594-4f3d-886c-a1ba2805533c",
   "metadata": {},
   "source": [
    "Calculate Root Mean Squared Error (RMSE) and Mean Absolute Error (MAE)"
   ]
  },
  {
   "cell_type": "code",
   "execution_count": 34,
   "id": "f03e6cce-9e58-4e1e-8795-f7e1d1ea281c",
   "metadata": {
    "execution": {
     "iopub.execute_input": "2023-09-05T16:25:10.474483Z",
     "iopub.status.busy": "2023-09-05T16:25:10.474077Z",
     "iopub.status.idle": "2023-09-05T16:25:10.519544Z",
     "shell.execute_reply": "2023-09-05T16:25:10.518880Z",
     "shell.execute_reply.started": "2023-09-05T16:25:10.474448Z"
    }
   },
   "outputs": [
    {
     "name": "stdout",
     "output_type": "stream",
     "text": [
      "Root Mean Squared Error (RMSE): 189.0048454344384\n",
      "Mean Absolute Error (MAE): 132.9455609193841\n"
     ]
    }
   ],
   "source": [
    "rmse = sqrt(mean_squared_error(y_test, y_pred))\n",
    "mae = mean_absolute_error(y_test, y_pred)\n",
    "print(f'Root Mean Squared Error (RMSE): {rmse}')\n",
    "print(f'Mean Absolute Error (MAE): {mae}')"
   ]
  },
  {
   "cell_type": "markdown",
   "id": "769aadc7-6b59-41fa-aed0-b8f08d33281b",
   "metadata": {},
   "source": [
    "Plot actual VS forecasted values"
   ]
  },
  {
   "cell_type": "code",
   "execution_count": null,
   "id": "061f404f-08b8-4727-a283-93f3c364d0bc",
   "metadata": {
    "execution": {
     "iopub.execute_input": "2023-09-05T16:25:49.613769Z",
     "iopub.status.busy": "2023-09-05T16:25:49.613354Z"
    },
    "tags": []
   },
   "outputs": [],
   "source": [
    "plt.figure(figsize=(12, 6))\n",
    "plt.plot(y_test.values, label='Actual', color='b')\n",
    "plt.plot(y_pred, label='LSTM v4', color='r')\n",
    "plt.xlabel('Time')\n",
    "plt.ylabel('GHI')\n",
    "plt.title(f'Minutely LSTM v{MODEL_VERSION} Forecast vs. Actual in 2016.')\n",
    "plt.savefig(f\"../../output/model_validation/lstm_v{MODEL_VERSION}_forecast_vs_actual.png\", bbox_inches='tight')\n",
    "plt.legend()\n",
    "plt.show()"
   ]
  },
  {
   "cell_type": "markdown",
   "id": "4d27e932-a58e-4a6a-bf61-796a67561829",
   "metadata": {
    "jp-MarkdownHeadingCollapsed": true,
    "tags": []
   },
   "source": [
    "# Appendix"
   ]
  },
  {
   "cell_type": "code",
   "execution_count": 12,
   "id": "6a4ed1d3-8a06-447f-b94f-d7ce69c38d26",
   "metadata": {
    "execution": {
     "iopub.execute_input": "2023-09-04T15:54:40.701899Z",
     "iopub.status.busy": "2023-09-04T15:54:40.701462Z",
     "iopub.status.idle": "2023-09-04T15:54:42.027242Z",
     "shell.execute_reply": "2023-09-04T15:54:42.026586Z",
     "shell.execute_reply.started": "2023-09-04T15:54:40.701873Z"
    },
    "tags": []
   },
   "outputs": [
    {
     "data": {
      "text/html": [
       "<div>\n",
       "<style scoped>\n",
       "    .dataframe tbody tr th:only-of-type {\n",
       "        vertical-align: middle;\n",
       "    }\n",
       "\n",
       "    .dataframe tbody tr th {\n",
       "        vertical-align: top;\n",
       "    }\n",
       "\n",
       "    .dataframe thead th {\n",
       "        text-align: right;\n",
       "    }\n",
       "</style>\n",
       "<table border=\"1\" class=\"dataframe\">\n",
       "  <thead>\n",
       "    <tr style=\"text-align: right;\">\n",
       "      <th></th>\n",
       "      <th>timeStamp</th>\n",
       "      <th>AVG(R)</th>\n",
       "      <th>STD(R)</th>\n",
       "      <th>ENT(R)</th>\n",
       "      <th>AVG(G)</th>\n",
       "      <th>STD(G)</th>\n",
       "      <th>ENT(G)</th>\n",
       "      <th>AVG(B)</th>\n",
       "      <th>STD(B)</th>\n",
       "      <th>ENT(B)</th>\n",
       "      <th>AVG(RB)</th>\n",
       "      <th>STD(RB)</th>\n",
       "      <th>ENT(RB)</th>\n",
       "      <th>AVG(NRB)</th>\n",
       "      <th>STD(NRB)</th>\n",
       "      <th>ENT(NRB)</th>\n",
       "    </tr>\n",
       "  </thead>\n",
       "  <tbody>\n",
       "    <tr>\n",
       "      <th>0</th>\n",
       "      <td>2014-01-01 00:00:11</td>\n",
       "      <td>102.8933</td>\n",
       "      <td>45.8083</td>\n",
       "      <td>5.6373</td>\n",
       "      <td>121.5468</td>\n",
       "      <td>39.5426</td>\n",
       "      <td>5.6390</td>\n",
       "      <td>133.4322</td>\n",
       "      <td>30.8409</td>\n",
       "      <td>5.4275</td>\n",
       "      <td>0.7457</td>\n",
       "      <td>0.1647</td>\n",
       "      <td>4.8206</td>\n",
       "      <td>-0.1554</td>\n",
       "      <td>0.1033</td>\n",
       "      <td>4.2279</td>\n",
       "    </tr>\n",
       "    <tr>\n",
       "      <th>1</th>\n",
       "      <td>2014-01-01 00:01:10</td>\n",
       "      <td>109.1193</td>\n",
       "      <td>44.9516</td>\n",
       "      <td>5.6762</td>\n",
       "      <td>128.0568</td>\n",
       "      <td>38.7453</td>\n",
       "      <td>5.6535</td>\n",
       "      <td>139.4049</td>\n",
       "      <td>30.2546</td>\n",
       "      <td>5.4146</td>\n",
       "      <td>0.7601</td>\n",
       "      <td>0.1547</td>\n",
       "      <td>4.7120</td>\n",
       "      <td>-0.1447</td>\n",
       "      <td>0.0953</td>\n",
       "      <td>4.0961</td>\n",
       "    </tr>\n",
       "    <tr>\n",
       "      <th>2</th>\n",
       "      <td>2014-01-01 00:02:10</td>\n",
       "      <td>118.4310</td>\n",
       "      <td>44.4158</td>\n",
       "      <td>5.6386</td>\n",
       "      <td>129.2313</td>\n",
       "      <td>39.1756</td>\n",
       "      <td>5.6381</td>\n",
       "      <td>134.9957</td>\n",
       "      <td>30.8004</td>\n",
       "      <td>5.4368</td>\n",
       "      <td>0.8591</td>\n",
       "      <td>0.1453</td>\n",
       "      <td>4.7299</td>\n",
       "      <td>-0.0822</td>\n",
       "      <td>0.0821</td>\n",
       "      <td>3.9662</td>\n",
       "    </tr>\n",
       "    <tr>\n",
       "      <th>3</th>\n",
       "      <td>2014-01-01 00:03:11</td>\n",
       "      <td>108.0799</td>\n",
       "      <td>46.3934</td>\n",
       "      <td>5.6447</td>\n",
       "      <td>129.5778</td>\n",
       "      <td>39.5050</td>\n",
       "      <td>5.6392</td>\n",
       "      <td>142.6288</td>\n",
       "      <td>30.9485</td>\n",
       "      <td>5.4369</td>\n",
       "      <td>0.7347</td>\n",
       "      <td>0.1625</td>\n",
       "      <td>4.8007</td>\n",
       "      <td>-0.1626</td>\n",
       "      <td>0.1034</td>\n",
       "      <td>4.2324</td>\n",
       "    </tr>\n",
       "    <tr>\n",
       "      <th>4</th>\n",
       "      <td>2014-01-01 00:04:11</td>\n",
       "      <td>106.7813</td>\n",
       "      <td>45.5549</td>\n",
       "      <td>5.6539</td>\n",
       "      <td>126.3533</td>\n",
       "      <td>39.0664</td>\n",
       "      <td>5.6438</td>\n",
       "      <td>137.2983</td>\n",
       "      <td>30.4596</td>\n",
       "      <td>5.4168</td>\n",
       "      <td>0.7541</td>\n",
       "      <td>0.1613</td>\n",
       "      <td>4.7906</td>\n",
       "      <td>-0.1494</td>\n",
       "      <td>0.1003</td>\n",
       "      <td>4.1823</td>\n",
       "    </tr>\n",
       "    <tr>\n",
       "      <th>...</th>\n",
       "      <td>...</td>\n",
       "      <td>...</td>\n",
       "      <td>...</td>\n",
       "      <td>...</td>\n",
       "      <td>...</td>\n",
       "      <td>...</td>\n",
       "      <td>...</td>\n",
       "      <td>...</td>\n",
       "      <td>...</td>\n",
       "      <td>...</td>\n",
       "      <td>...</td>\n",
       "      <td>...</td>\n",
       "      <td>...</td>\n",
       "      <td>...</td>\n",
       "      <td>...</td>\n",
       "      <td>...</td>\n",
       "    </tr>\n",
       "    <tr>\n",
       "      <th>775911</th>\n",
       "      <td>2016-12-31 23:55:59</td>\n",
       "      <td>119.0850</td>\n",
       "      <td>58.5266</td>\n",
       "      <td>6.1185</td>\n",
       "      <td>120.1349</td>\n",
       "      <td>55.4199</td>\n",
       "      <td>6.0586</td>\n",
       "      <td>121.2516</td>\n",
       "      <td>46.8522</td>\n",
       "      <td>5.8533</td>\n",
       "      <td>0.9560</td>\n",
       "      <td>0.1625</td>\n",
       "      <td>4.8787</td>\n",
       "      <td>-0.0299</td>\n",
       "      <td>0.0901</td>\n",
       "      <td>4.0444</td>\n",
       "    </tr>\n",
       "    <tr>\n",
       "      <th>775912</th>\n",
       "      <td>2016-12-31 23:57:00</td>\n",
       "      <td>118.1933</td>\n",
       "      <td>59.0074</td>\n",
       "      <td>6.0942</td>\n",
       "      <td>119.7764</td>\n",
       "      <td>55.4268</td>\n",
       "      <td>6.0228</td>\n",
       "      <td>119.8126</td>\n",
       "      <td>46.1397</td>\n",
       "      <td>5.8002</td>\n",
       "      <td>0.9598</td>\n",
       "      <td>0.1788</td>\n",
       "      <td>5.0047</td>\n",
       "      <td>-0.0295</td>\n",
       "      <td>0.0987</td>\n",
       "      <td>4.1621</td>\n",
       "    </tr>\n",
       "    <tr>\n",
       "      <th>775913</th>\n",
       "      <td>2016-12-31 23:57:59</td>\n",
       "      <td>117.1289</td>\n",
       "      <td>59.2942</td>\n",
       "      <td>6.0814</td>\n",
       "      <td>119.1408</td>\n",
       "      <td>55.3043</td>\n",
       "      <td>6.0002</td>\n",
       "      <td>120.5959</td>\n",
       "      <td>45.5852</td>\n",
       "      <td>5.7543</td>\n",
       "      <td>0.9429</td>\n",
       "      <td>0.1899</td>\n",
       "      <td>5.0979</td>\n",
       "      <td>-0.0398</td>\n",
       "      <td>0.1066</td>\n",
       "      <td>4.2562</td>\n",
       "    </tr>\n",
       "    <tr>\n",
       "      <th>775914</th>\n",
       "      <td>2016-12-31 23:58:59</td>\n",
       "      <td>110.1486</td>\n",
       "      <td>61.0436</td>\n",
       "      <td>6.0823</td>\n",
       "      <td>116.9210</td>\n",
       "      <td>55.7548</td>\n",
       "      <td>6.0016</td>\n",
       "      <td>124.4827</td>\n",
       "      <td>45.2933</td>\n",
       "      <td>5.7811</td>\n",
       "      <td>0.8445</td>\n",
       "      <td>0.2123</td>\n",
       "      <td>5.1260</td>\n",
       "      <td>-0.0995</td>\n",
       "      <td>0.1323</td>\n",
       "      <td>4.4107</td>\n",
       "    </tr>\n",
       "    <tr>\n",
       "      <th>775915</th>\n",
       "      <td>2016-12-31 23:59:59</td>\n",
       "      <td>103.2748</td>\n",
       "      <td>62.9158</td>\n",
       "      <td>6.0814</td>\n",
       "      <td>115.6847</td>\n",
       "      <td>56.4043</td>\n",
       "      <td>6.0180</td>\n",
       "      <td>122.6635</td>\n",
       "      <td>45.1164</td>\n",
       "      <td>5.7957</td>\n",
       "      <td>0.7925</td>\n",
       "      <td>0.2410</td>\n",
       "      <td>5.2667</td>\n",
       "      <td>-0.1371</td>\n",
       "      <td>0.1596</td>\n",
       "      <td>4.6317</td>\n",
       "    </tr>\n",
       "  </tbody>\n",
       "</table>\n",
       "<p>775916 rows × 16 columns</p>\n",
       "</div>"
      ],
      "text/plain": [
       "                  timeStamp    AVG(R)   STD(R)  ENT(R)    AVG(G)   STD(G)  \\\n",
       "0       2014-01-01 00:00:11  102.8933  45.8083  5.6373  121.5468  39.5426   \n",
       "1       2014-01-01 00:01:10  109.1193  44.9516  5.6762  128.0568  38.7453   \n",
       "2       2014-01-01 00:02:10  118.4310  44.4158  5.6386  129.2313  39.1756   \n",
       "3       2014-01-01 00:03:11  108.0799  46.3934  5.6447  129.5778  39.5050   \n",
       "4       2014-01-01 00:04:11  106.7813  45.5549  5.6539  126.3533  39.0664   \n",
       "...                     ...       ...      ...     ...       ...      ...   \n",
       "775911  2016-12-31 23:55:59  119.0850  58.5266  6.1185  120.1349  55.4199   \n",
       "775912  2016-12-31 23:57:00  118.1933  59.0074  6.0942  119.7764  55.4268   \n",
       "775913  2016-12-31 23:57:59  117.1289  59.2942  6.0814  119.1408  55.3043   \n",
       "775914  2016-12-31 23:58:59  110.1486  61.0436  6.0823  116.9210  55.7548   \n",
       "775915  2016-12-31 23:59:59  103.2748  62.9158  6.0814  115.6847  56.4043   \n",
       "\n",
       "        ENT(G)    AVG(B)   STD(B)  ENT(B)  AVG(RB)  STD(RB)  ENT(RB)  \\\n",
       "0       5.6390  133.4322  30.8409  5.4275   0.7457   0.1647   4.8206   \n",
       "1       5.6535  139.4049  30.2546  5.4146   0.7601   0.1547   4.7120   \n",
       "2       5.6381  134.9957  30.8004  5.4368   0.8591   0.1453   4.7299   \n",
       "3       5.6392  142.6288  30.9485  5.4369   0.7347   0.1625   4.8007   \n",
       "4       5.6438  137.2983  30.4596  5.4168   0.7541   0.1613   4.7906   \n",
       "...        ...       ...      ...     ...      ...      ...      ...   \n",
       "775911  6.0586  121.2516  46.8522  5.8533   0.9560   0.1625   4.8787   \n",
       "775912  6.0228  119.8126  46.1397  5.8002   0.9598   0.1788   5.0047   \n",
       "775913  6.0002  120.5959  45.5852  5.7543   0.9429   0.1899   5.0979   \n",
       "775914  6.0016  124.4827  45.2933  5.7811   0.8445   0.2123   5.1260   \n",
       "775915  6.0180  122.6635  45.1164  5.7957   0.7925   0.2410   5.2667   \n",
       "\n",
       "        AVG(NRB)  STD(NRB)  ENT(NRB)  \n",
       "0        -0.1554    0.1033    4.2279  \n",
       "1        -0.1447    0.0953    4.0961  \n",
       "2        -0.0822    0.0821    3.9662  \n",
       "3        -0.1626    0.1034    4.2324  \n",
       "4        -0.1494    0.1003    4.1823  \n",
       "...          ...       ...       ...  \n",
       "775911   -0.0299    0.0901    4.0444  \n",
       "775912   -0.0295    0.0987    4.1621  \n",
       "775913   -0.0398    0.1066    4.2562  \n",
       "775914   -0.0995    0.1323    4.4107  \n",
       "775915   -0.1371    0.1596    4.6317  \n",
       "\n",
       "[775916 rows x 16 columns]"
      ]
     },
     "execution_count": 12,
     "metadata": {},
     "output_type": "execute_result"
    }
   ],
   "source": [
    "df_sky_img_features = pd.read_csv(\"../data/Folsom_sky_image_features.csv\", infer_datetime_format=True)\n",
    "df_sky_img_features = df_sky_img_features.rename(columns={\"timestamp\": \"timeStamp\"})\n",
    "df_sky_img_features"
   ]
  },
  {
   "cell_type": "code",
   "execution_count": 15,
   "id": "afd1ecbc-8e67-4c04-b331-150d987516a3",
   "metadata": {
    "execution": {
     "iopub.execute_input": "2023-09-04T15:55:07.722994Z",
     "iopub.status.busy": "2023-09-04T15:55:07.722614Z",
     "iopub.status.idle": "2023-09-04T15:55:10.025892Z",
     "shell.execute_reply": "2023-09-04T15:55:10.025017Z",
     "shell.execute_reply.started": "2023-09-04T15:55:07.722965Z"
    },
    "tags": []
   },
   "outputs": [],
   "source": [
    "df_1 = df.merge(df_sky_img_features, on=\"timeStamp\", how=\"left\", indicator=True)"
   ]
  },
  {
   "cell_type": "code",
   "execution_count": 32,
   "id": "0cebc155-2671-497e-811c-c547b0e09e38",
   "metadata": {
    "execution": {
     "iopub.execute_input": "2023-09-04T15:59:52.471697Z",
     "iopub.status.busy": "2023-09-04T15:59:52.471262Z",
     "iopub.status.idle": "2023-09-04T15:59:52.565384Z",
     "shell.execute_reply": "2023-09-04T15:59:52.564482Z",
     "shell.execute_reply.started": "2023-09-04T15:59:52.471659Z"
    },
    "tags": []
   },
   "outputs": [
    {
     "data": {
      "text/plain": [
       "left_only     1272457\n",
       "both           279863\n",
       "right_only          0\n",
       "Name: _merge, dtype: int64"
      ]
     },
     "execution_count": 32,
     "metadata": {},
     "output_type": "execute_result"
    }
   ],
   "source": [
    "df_1[\"_merge\"].value_counts()\n"
   ]
  }
 ],
 "metadata": {
  "kernelspec": {
   "display_name": "saturn (Python 3)",
   "language": "python",
   "name": "python3"
  },
  "language_info": {
   "codemirror_mode": {
    "name": "ipython",
    "version": 3
   },
   "file_extension": ".py",
   "mimetype": "text/x-python",
   "name": "python",
   "nbconvert_exporter": "python",
   "pygments_lexer": "ipython3",
   "version": "3.9.13"
  }
 },
 "nbformat": 4,
 "nbformat_minor": 5
}
