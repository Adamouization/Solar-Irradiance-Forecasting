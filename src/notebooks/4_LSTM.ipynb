{
 "cells": [
  {
   "cell_type": "markdown",
   "id": "87dcaf4c-0863-495d-a6c9-91ce0a71d5da",
   "metadata": {},
   "source": [
    "# 1. Notebook Setup"
   ]
  },
  {
   "cell_type": "markdown",
   "id": "0435d177-7ce6-40d6-b07a-6d1fda54d60e",
   "metadata": {},
   "source": [
    "Import libraries"
   ]
  },
  {
   "cell_type": "code",
   "execution_count": 19,
   "id": "b03652d3-47b1-46b4-ae67-efcee07abfd3",
   "metadata": {
    "execution": {
     "iopub.execute_input": "2023-09-04T21:52:51.412311Z",
     "iopub.status.busy": "2023-09-04T21:52:51.411933Z",
     "iopub.status.idle": "2023-09-04T21:52:51.630530Z",
     "shell.execute_reply": "2023-09-04T21:52:51.629788Z",
     "shell.execute_reply.started": "2023-09-04T21:52:51.412285Z"
    },
    "tags": []
   },
   "outputs": [
    {
     "name": "stdout",
     "output_type": "stream",
     "text": [
      "The autoreload extension is already loaded. To reload it, use:\n",
      "  %reload_ext autoreload\n"
     ]
    }
   ],
   "source": [
    "%load_ext autoreload\n",
    "%autoreload 2\n",
    "%reload_ext autoreload\n",
    "\n",
    "import gc\n",
    "from math import sqrt\n",
    "import pickle\n",
    "import sys\n",
    "\n",
    "import matplotlib.pyplot as plt\n",
    "import numpy as np\n",
    "import pandas as pd\n",
    "from sklearn.metrics import mean_absolute_error, mean_squared_error, r2_score\n",
    "from sklearn.preprocessing import MinMaxScaler\n",
    "import tensorflow as tf\n",
    "from tensorflow.keras.callbacks import EarlyStopping\n",
    "from tensorflow.keras.layers import LSTM, Dense, Dropout\n",
    "from tensorflow.keras.models import Sequential\n",
    "from tensorflow.keras.optimizers import Adam\n",
    "\n",
    "sys.path.append(\"/home/jovyan/Solar-Irradiance-Forecasting/src/\")\n",
    "import eda as eda\n",
    "import helpers as hlp"
   ]
  },
  {
   "cell_type": "markdown",
   "id": "54de9f96-ff45-4837-bdd3-247f41be16d1",
   "metadata": {},
   "source": [
    "Setup notebook"
   ]
  },
  {
   "cell_type": "code",
   "execution_count": null,
   "id": "57cfd807-90a4-4040-bfd8-0113dbfbe55e",
   "metadata": {
    "execution": {
     "iopub.status.busy": "2023-09-04T20:38:28.188829Z",
     "iopub.status.idle": "2023-09-04T20:38:28.189580Z",
     "shell.execute_reply": "2023-09-04T20:38:28.189446Z",
     "shell.execute_reply.started": "2023-09-04T20:38:28.189430Z"
    },
    "tags": []
   },
   "outputs": [],
   "source": [
    "# Random seed generators\n",
    "RANDOM_SEED = 42\n",
    "np.random.seed(RANDOM_SEED)\n",
    "\n",
    "# Matplotlib\n",
    "%matplotlib inline\n",
    "%config InlineBackend.figure_format =\"retina\"  # High quality plots\n",
    "\n",
    "# Pandas df display\n",
    "pd.options.display.float_format = '{:,.2f}'.format  # Choose how many decimals to show for floats in df tables\n",
    "pd.options.mode.chained_assignment = None  # default=\"warn\"\n",
    "pd.set_option(\"display.max_rows\", 1000, \"display.max_columns\", 1000)  # Print more rows & columns\n",
    "pd.set_option(\"display.float_format\", lambda x: \"%.3f\" % x)  # Avoid scientific notation"
   ]
  },
  {
   "cell_type": "markdown",
   "id": "03ccd3ab-b2eb-4307-a2ee-f0c68e73750f",
   "metadata": {},
   "source": [
    "Use GPU"
   ]
  },
  {
   "cell_type": "code",
   "execution_count": 2,
   "id": "843e0fb7-c0d5-4c8f-b752-795791ea8d89",
   "metadata": {
    "execution": {
     "iopub.execute_input": "2023-09-04T20:38:28.710330Z",
     "iopub.status.busy": "2023-09-04T20:38:28.709957Z",
     "iopub.status.idle": "2023-09-04T20:38:28.816626Z",
     "shell.execute_reply": "2023-09-04T20:38:28.815975Z",
     "shell.execute_reply.started": "2023-09-04T20:38:28.710304Z"
    },
    "tags": []
   },
   "outputs": [
    {
     "name": "stdout",
     "output_type": "stream",
     "text": [
      "Available devices:  [PhysicalDevice(name='/physical_device:CPU:0', device_type='CPU'), PhysicalDevice(name='/physical_device:GPU:0', device_type='GPU')]\n",
      "Num GPUs Available:  1\n",
      "Device details:  {'compute_capability': (7, 5), 'device_name': 'Tesla T4'}\n"
     ]
    },
    {
     "name": "stderr",
     "output_type": "stream",
     "text": [
      "2023-09-04 20:38:28.797338: I tensorflow/stream_executor/cuda/cuda_gpu_executor.cc:975] successful NUMA node read from SysFS had negative value (-1), but there must be at least one NUMA node, so returning NUMA node zero\n",
      "2023-09-04 20:38:28.809970: I tensorflow/stream_executor/cuda/cuda_gpu_executor.cc:975] successful NUMA node read from SysFS had negative value (-1), but there must be at least one NUMA node, so returning NUMA node zero\n",
      "2023-09-04 20:38:28.810592: I tensorflow/stream_executor/cuda/cuda_gpu_executor.cc:975] successful NUMA node read from SysFS had negative value (-1), but there must be at least one NUMA node, so returning NUMA node zero\n",
      "2023-09-04 20:38:28.812261: I tensorflow/stream_executor/cuda/cuda_gpu_executor.cc:975] successful NUMA node read from SysFS had negative value (-1), but there must be at least one NUMA node, so returning NUMA node zero\n"
     ]
    }
   ],
   "source": [
    "print(\"Available devices: \", tf.config.experimental.list_physical_devices())\n",
    "\n",
    "physical_gpu = tf.config.experimental.list_physical_devices('GPU')\n",
    "print(\"Num GPUs Available: \", len(physical_gpu))\n",
    "print(\"Device details: \", tf.config.experimental.get_device_details(physical_gpu[0]))\n",
    "tf.config.experimental.set_memory_growth(physical_gpu[0], True)"
   ]
  },
  {
   "cell_type": "markdown",
   "id": "536c1b9c-0f37-4ac7-93c4-d9c406f8288e",
   "metadata": {
    "tags": []
   },
   "source": [
    "# 2. Loading and merging data"
   ]
  },
  {
   "cell_type": "markdown",
   "id": "82518631-cb9e-415d-bd9d-8b92290f6556",
   "metadata": {},
   "source": [
    "Load target"
   ]
  },
  {
   "cell_type": "code",
   "execution_count": 3,
   "id": "d4524b8a-6193-421a-9b8a-e63e7dfd078c",
   "metadata": {
    "execution": {
     "iopub.execute_input": "2023-09-04T20:38:34.749724Z",
     "iopub.status.busy": "2023-09-04T20:38:34.749315Z",
     "iopub.status.idle": "2023-09-04T20:38:36.320957Z",
     "shell.execute_reply": "2023-09-04T20:38:36.320210Z",
     "shell.execute_reply.started": "2023-09-04T20:38:34.749694Z"
    },
    "tags": []
   },
   "outputs": [
    {
     "data": {
      "text/html": [
       "<div>\n",
       "<style scoped>\n",
       "    .dataframe tbody tr th:only-of-type {\n",
       "        vertical-align: middle;\n",
       "    }\n",
       "\n",
       "    .dataframe tbody tr th {\n",
       "        vertical-align: top;\n",
       "    }\n",
       "\n",
       "    .dataframe thead th {\n",
       "        text-align: right;\n",
       "    }\n",
       "</style>\n",
       "<table border=\"1\" class=\"dataframe\">\n",
       "  <thead>\n",
       "    <tr style=\"text-align: right;\">\n",
       "      <th></th>\n",
       "      <th>timeStamp</th>\n",
       "      <th>ghi</th>\n",
       "    </tr>\n",
       "  </thead>\n",
       "  <tbody>\n",
       "    <tr>\n",
       "      <th>0</th>\n",
       "      <td>2014-01-02 08:00:00</td>\n",
       "      <td>0.0</td>\n",
       "    </tr>\n",
       "    <tr>\n",
       "      <th>1</th>\n",
       "      <td>2014-01-02 08:01:00</td>\n",
       "      <td>0.0</td>\n",
       "    </tr>\n",
       "    <tr>\n",
       "      <th>2</th>\n",
       "      <td>2014-01-02 08:02:00</td>\n",
       "      <td>0.0</td>\n",
       "    </tr>\n",
       "    <tr>\n",
       "      <th>3</th>\n",
       "      <td>2014-01-02 08:03:00</td>\n",
       "      <td>0.0</td>\n",
       "    </tr>\n",
       "    <tr>\n",
       "      <th>4</th>\n",
       "      <td>2014-01-02 08:04:00</td>\n",
       "      <td>0.0</td>\n",
       "    </tr>\n",
       "    <tr>\n",
       "      <th>...</th>\n",
       "      <td>...</td>\n",
       "      <td>...</td>\n",
       "    </tr>\n",
       "    <tr>\n",
       "      <th>1552315</th>\n",
       "      <td>2016-12-31 07:55:00</td>\n",
       "      <td>0.0</td>\n",
       "    </tr>\n",
       "    <tr>\n",
       "      <th>1552316</th>\n",
       "      <td>2016-12-31 07:56:00</td>\n",
       "      <td>0.0</td>\n",
       "    </tr>\n",
       "    <tr>\n",
       "      <th>1552317</th>\n",
       "      <td>2016-12-31 07:57:00</td>\n",
       "      <td>0.0</td>\n",
       "    </tr>\n",
       "    <tr>\n",
       "      <th>1552318</th>\n",
       "      <td>2016-12-31 07:58:00</td>\n",
       "      <td>0.0</td>\n",
       "    </tr>\n",
       "    <tr>\n",
       "      <th>1552319</th>\n",
       "      <td>2016-12-31 07:59:00</td>\n",
       "      <td>0.0</td>\n",
       "    </tr>\n",
       "  </tbody>\n",
       "</table>\n",
       "<p>1552320 rows × 2 columns</p>\n",
       "</div>"
      ],
      "text/plain": [
       "                  timeStamp  ghi\n",
       "0       2014-01-02 08:00:00  0.0\n",
       "1       2014-01-02 08:01:00  0.0\n",
       "2       2014-01-02 08:02:00  0.0\n",
       "3       2014-01-02 08:03:00  0.0\n",
       "4       2014-01-02 08:04:00  0.0\n",
       "...                     ...  ...\n",
       "1552315 2016-12-31 07:55:00  0.0\n",
       "1552316 2016-12-31 07:56:00  0.0\n",
       "1552317 2016-12-31 07:57:00  0.0\n",
       "1552318 2016-12-31 07:58:00  0.0\n",
       "1552319 2016-12-31 07:59:00  0.0\n",
       "\n",
       "[1552320 rows x 2 columns]"
      ]
     },
     "execution_count": 3,
     "metadata": {},
     "output_type": "execute_result"
    }
   ],
   "source": [
    "df_irradiance = pd.read_csv(\"../../data/Folsom_irradiance.csv\", infer_datetime_format=True)\n",
    "df_irradiance[\"timeStamp\"] = pd.to_datetime(df_irradiance[\"timeStamp\"])\n",
    "df_irradiance = df_irradiance[[\"timeStamp\", \"ghi\"]]\n",
    "df_irradiance"
   ]
  },
  {
   "cell_type": "markdown",
   "id": "9c97c6fc-9e57-446b-8b4f-59e7e5ba5584",
   "metadata": {},
   "source": [
    "Load weather data"
   ]
  },
  {
   "cell_type": "code",
   "execution_count": 4,
   "id": "396ddb20-0fc0-44b4-bbc8-9d6ad3689181",
   "metadata": {
    "execution": {
     "iopub.execute_input": "2023-09-04T20:38:36.354519Z",
     "iopub.status.busy": "2023-09-04T20:38:36.354191Z",
     "iopub.status.idle": "2023-09-04T20:38:38.465522Z",
     "shell.execute_reply": "2023-09-04T20:38:38.464847Z",
     "shell.execute_reply.started": "2023-09-04T20:38:36.354495Z"
    },
    "tags": []
   },
   "outputs": [
    {
     "data": {
      "text/html": [
       "<div>\n",
       "<style scoped>\n",
       "    .dataframe tbody tr th:only-of-type {\n",
       "        vertical-align: middle;\n",
       "    }\n",
       "\n",
       "    .dataframe tbody tr th {\n",
       "        vertical-align: top;\n",
       "    }\n",
       "\n",
       "    .dataframe thead th {\n",
       "        text-align: right;\n",
       "    }\n",
       "</style>\n",
       "<table border=\"1\" class=\"dataframe\">\n",
       "  <thead>\n",
       "    <tr style=\"text-align: right;\">\n",
       "      <th></th>\n",
       "      <th>timeStamp</th>\n",
       "      <th>ghi</th>\n",
       "    </tr>\n",
       "  </thead>\n",
       "  <tbody>\n",
       "    <tr>\n",
       "      <th>0</th>\n",
       "      <td>2014-01-02 08:00:00</td>\n",
       "      <td>0.0</td>\n",
       "    </tr>\n",
       "    <tr>\n",
       "      <th>1</th>\n",
       "      <td>2014-01-02 08:01:00</td>\n",
       "      <td>0.0</td>\n",
       "    </tr>\n",
       "    <tr>\n",
       "      <th>2</th>\n",
       "      <td>2014-01-02 08:02:00</td>\n",
       "      <td>0.0</td>\n",
       "    </tr>\n",
       "    <tr>\n",
       "      <th>3</th>\n",
       "      <td>2014-01-02 08:03:00</td>\n",
       "      <td>0.0</td>\n",
       "    </tr>\n",
       "    <tr>\n",
       "      <th>4</th>\n",
       "      <td>2014-01-02 08:04:00</td>\n",
       "      <td>0.0</td>\n",
       "    </tr>\n",
       "    <tr>\n",
       "      <th>...</th>\n",
       "      <td>...</td>\n",
       "      <td>...</td>\n",
       "    </tr>\n",
       "    <tr>\n",
       "      <th>1552315</th>\n",
       "      <td>2016-12-31 07:55:00</td>\n",
       "      <td>0.0</td>\n",
       "    </tr>\n",
       "    <tr>\n",
       "      <th>1552316</th>\n",
       "      <td>2016-12-31 07:56:00</td>\n",
       "      <td>0.0</td>\n",
       "    </tr>\n",
       "    <tr>\n",
       "      <th>1552317</th>\n",
       "      <td>2016-12-31 07:57:00</td>\n",
       "      <td>0.0</td>\n",
       "    </tr>\n",
       "    <tr>\n",
       "      <th>1552318</th>\n",
       "      <td>2016-12-31 07:58:00</td>\n",
       "      <td>0.0</td>\n",
       "    </tr>\n",
       "    <tr>\n",
       "      <th>1552319</th>\n",
       "      <td>2016-12-31 07:59:00</td>\n",
       "      <td>0.0</td>\n",
       "    </tr>\n",
       "  </tbody>\n",
       "</table>\n",
       "<p>1552320 rows × 2 columns</p>\n",
       "</div>"
      ],
      "text/plain": [
       "                  timeStamp  ghi\n",
       "0       2014-01-02 08:00:00  0.0\n",
       "1       2014-01-02 08:01:00  0.0\n",
       "2       2014-01-02 08:02:00  0.0\n",
       "3       2014-01-02 08:03:00  0.0\n",
       "4       2014-01-02 08:04:00  0.0\n",
       "...                     ...  ...\n",
       "1552315 2016-12-31 07:55:00  0.0\n",
       "1552316 2016-12-31 07:56:00  0.0\n",
       "1552317 2016-12-31 07:57:00  0.0\n",
       "1552318 2016-12-31 07:58:00  0.0\n",
       "1552319 2016-12-31 07:59:00  0.0\n",
       "\n",
       "[1552320 rows x 2 columns]"
      ]
     },
     "execution_count": 4,
     "metadata": {},
     "output_type": "execute_result"
    }
   ],
   "source": [
    "df_weather = pd.read_csv(\"../../data/Folsom_weather.csv\", infer_datetime_format=True)\n",
    "df_weather[\"timeStamp\"] = pd.to_datetime(df_weather[\"timeStamp\"])\n",
    "df_irradiance"
   ]
  },
  {
   "cell_type": "markdown",
   "id": "a6b80b27-62d4-41a2-a5b8-1fdf7b715a7c",
   "metadata": {},
   "source": [
    "Merge both datasets"
   ]
  },
  {
   "cell_type": "code",
   "execution_count": 5,
   "id": "e4519068-80df-4a1e-946c-c89f11638f54",
   "metadata": {
    "execution": {
     "iopub.execute_input": "2023-09-04T20:38:38.483517Z",
     "iopub.status.busy": "2023-09-04T20:38:38.483204Z",
     "iopub.status.idle": "2023-09-04T20:38:39.327311Z",
     "shell.execute_reply": "2023-09-04T20:38:39.326654Z",
     "shell.execute_reply.started": "2023-09-04T20:38:38.483496Z"
    },
    "tags": []
   },
   "outputs": [
    {
     "data": {
      "text/html": [
       "<div>\n",
       "<style scoped>\n",
       "    .dataframe tbody tr th:only-of-type {\n",
       "        vertical-align: middle;\n",
       "    }\n",
       "\n",
       "    .dataframe tbody tr th {\n",
       "        vertical-align: top;\n",
       "    }\n",
       "\n",
       "    .dataframe thead th {\n",
       "        text-align: right;\n",
       "    }\n",
       "</style>\n",
       "<table border=\"1\" class=\"dataframe\">\n",
       "  <thead>\n",
       "    <tr style=\"text-align: right;\">\n",
       "      <th></th>\n",
       "      <th>timeStamp</th>\n",
       "      <th>ghi</th>\n",
       "      <th>air_temp</th>\n",
       "      <th>relhum</th>\n",
       "      <th>press</th>\n",
       "      <th>windsp</th>\n",
       "      <th>winddir</th>\n",
       "      <th>max_windsp</th>\n",
       "      <th>precipitation</th>\n",
       "      <th>_merge</th>\n",
       "    </tr>\n",
       "  </thead>\n",
       "  <tbody>\n",
       "    <tr>\n",
       "      <th>0</th>\n",
       "      <td>2014-01-02 08:00:00</td>\n",
       "      <td>0.0</td>\n",
       "      <td>7.32</td>\n",
       "      <td>56.56</td>\n",
       "      <td>1010.0</td>\n",
       "      <td>1.80</td>\n",
       "      <td>43.61</td>\n",
       "      <td>3.7</td>\n",
       "      <td>0.0</td>\n",
       "      <td>both</td>\n",
       "    </tr>\n",
       "    <tr>\n",
       "      <th>1</th>\n",
       "      <td>2014-01-02 08:01:00</td>\n",
       "      <td>0.0</td>\n",
       "      <td>7.26</td>\n",
       "      <td>56.82</td>\n",
       "      <td>1010.0</td>\n",
       "      <td>2.00</td>\n",
       "      <td>48.40</td>\n",
       "      <td>3.1</td>\n",
       "      <td>0.0</td>\n",
       "      <td>both</td>\n",
       "    </tr>\n",
       "    <tr>\n",
       "      <th>2</th>\n",
       "      <td>2014-01-02 08:02:00</td>\n",
       "      <td>0.0</td>\n",
       "      <td>7.20</td>\n",
       "      <td>56.96</td>\n",
       "      <td>1010.0</td>\n",
       "      <td>1.90</td>\n",
       "      <td>31.80</td>\n",
       "      <td>3.7</td>\n",
       "      <td>0.0</td>\n",
       "      <td>both</td>\n",
       "    </tr>\n",
       "    <tr>\n",
       "      <th>3</th>\n",
       "      <td>2014-01-02 08:03:00</td>\n",
       "      <td>0.0</td>\n",
       "      <td>7.14</td>\n",
       "      <td>57.12</td>\n",
       "      <td>1010.0</td>\n",
       "      <td>1.44</td>\n",
       "      <td>38.98</td>\n",
       "      <td>2.5</td>\n",
       "      <td>0.0</td>\n",
       "      <td>both</td>\n",
       "    </tr>\n",
       "    <tr>\n",
       "      <th>4</th>\n",
       "      <td>2014-01-02 08:04:00</td>\n",
       "      <td>0.0</td>\n",
       "      <td>7.08</td>\n",
       "      <td>57.36</td>\n",
       "      <td>1010.0</td>\n",
       "      <td>1.84</td>\n",
       "      <td>34.21</td>\n",
       "      <td>2.8</td>\n",
       "      <td>0.0</td>\n",
       "      <td>both</td>\n",
       "    </tr>\n",
       "    <tr>\n",
       "      <th>...</th>\n",
       "      <td>...</td>\n",
       "      <td>...</td>\n",
       "      <td>...</td>\n",
       "      <td>...</td>\n",
       "      <td>...</td>\n",
       "      <td>...</td>\n",
       "      <td>...</td>\n",
       "      <td>...</td>\n",
       "      <td>...</td>\n",
       "      <td>...</td>\n",
       "    </tr>\n",
       "    <tr>\n",
       "      <th>1552315</th>\n",
       "      <td>2016-12-31 07:55:00</td>\n",
       "      <td>0.0</td>\n",
       "      <td>7.60</td>\n",
       "      <td>85.60</td>\n",
       "      <td>1001.0</td>\n",
       "      <td>1.28</td>\n",
       "      <td>237.10</td>\n",
       "      <td>2.2</td>\n",
       "      <td>0.0</td>\n",
       "      <td>both</td>\n",
       "    </tr>\n",
       "    <tr>\n",
       "      <th>1552316</th>\n",
       "      <td>2016-12-31 07:56:00</td>\n",
       "      <td>0.0</td>\n",
       "      <td>7.60</td>\n",
       "      <td>85.80</td>\n",
       "      <td>1000.0</td>\n",
       "      <td>3.46</td>\n",
       "      <td>171.20</td>\n",
       "      <td>6.8</td>\n",
       "      <td>0.0</td>\n",
       "      <td>both</td>\n",
       "    </tr>\n",
       "    <tr>\n",
       "      <th>1552317</th>\n",
       "      <td>2016-12-31 07:57:00</td>\n",
       "      <td>0.0</td>\n",
       "      <td>7.70</td>\n",
       "      <td>86.10</td>\n",
       "      <td>1001.0</td>\n",
       "      <td>1.38</td>\n",
       "      <td>213.20</td>\n",
       "      <td>2.8</td>\n",
       "      <td>0.0</td>\n",
       "      <td>both</td>\n",
       "    </tr>\n",
       "    <tr>\n",
       "      <th>1552318</th>\n",
       "      <td>2016-12-31 07:58:00</td>\n",
       "      <td>0.0</td>\n",
       "      <td>7.70</td>\n",
       "      <td>86.10</td>\n",
       "      <td>1001.0</td>\n",
       "      <td>1.44</td>\n",
       "      <td>168.50</td>\n",
       "      <td>2.4</td>\n",
       "      <td>0.0</td>\n",
       "      <td>both</td>\n",
       "    </tr>\n",
       "    <tr>\n",
       "      <th>1552319</th>\n",
       "      <td>2016-12-31 07:59:00</td>\n",
       "      <td>0.0</td>\n",
       "      <td>7.76</td>\n",
       "      <td>86.10</td>\n",
       "      <td>1001.0</td>\n",
       "      <td>2.38</td>\n",
       "      <td>221.00</td>\n",
       "      <td>5.7</td>\n",
       "      <td>0.0</td>\n",
       "      <td>both</td>\n",
       "    </tr>\n",
       "  </tbody>\n",
       "</table>\n",
       "<p>1552320 rows × 10 columns</p>\n",
       "</div>"
      ],
      "text/plain": [
       "                  timeStamp  ghi  air_temp  relhum   press  windsp  winddir  \\\n",
       "0       2014-01-02 08:00:00  0.0      7.32   56.56  1010.0    1.80    43.61   \n",
       "1       2014-01-02 08:01:00  0.0      7.26   56.82  1010.0    2.00    48.40   \n",
       "2       2014-01-02 08:02:00  0.0      7.20   56.96  1010.0    1.90    31.80   \n",
       "3       2014-01-02 08:03:00  0.0      7.14   57.12  1010.0    1.44    38.98   \n",
       "4       2014-01-02 08:04:00  0.0      7.08   57.36  1010.0    1.84    34.21   \n",
       "...                     ...  ...       ...     ...     ...     ...      ...   \n",
       "1552315 2016-12-31 07:55:00  0.0      7.60   85.60  1001.0    1.28   237.10   \n",
       "1552316 2016-12-31 07:56:00  0.0      7.60   85.80  1000.0    3.46   171.20   \n",
       "1552317 2016-12-31 07:57:00  0.0      7.70   86.10  1001.0    1.38   213.20   \n",
       "1552318 2016-12-31 07:58:00  0.0      7.70   86.10  1001.0    1.44   168.50   \n",
       "1552319 2016-12-31 07:59:00  0.0      7.76   86.10  1001.0    2.38   221.00   \n",
       "\n",
       "         max_windsp  precipitation _merge  \n",
       "0               3.7            0.0   both  \n",
       "1               3.1            0.0   both  \n",
       "2               3.7            0.0   both  \n",
       "3               2.5            0.0   both  \n",
       "4               2.8            0.0   both  \n",
       "...             ...            ...    ...  \n",
       "1552315         2.2            0.0   both  \n",
       "1552316         6.8            0.0   both  \n",
       "1552317         2.8            0.0   both  \n",
       "1552318         2.4            0.0   both  \n",
       "1552319         5.7            0.0   both  \n",
       "\n",
       "[1552320 rows x 10 columns]"
      ]
     },
     "metadata": {},
     "output_type": "display_data"
    },
    {
     "data": {
      "text/plain": [
       "both          1552320\n",
       "left_only           0\n",
       "right_only          0\n",
       "Name: _merge, dtype: int64"
      ]
     },
     "metadata": {},
     "output_type": "display_data"
    }
   ],
   "source": [
    "df = df_irradiance.merge(df_weather, \n",
    "                         on=\"timeStamp\", \n",
    "                         how=\"left\", \n",
    "                         indicator=True)\n",
    "display(df)\n",
    "display(df[\"_merge\"].value_counts())\n",
    "df = df.drop(columns=[\"_merge\"])"
   ]
  },
  {
   "cell_type": "code",
   "execution_count": 6,
   "id": "7b143b8a-5acf-46cf-b0c7-0aa0ad363c68",
   "metadata": {
    "execution": {
     "iopub.execute_input": "2023-09-04T20:38:39.469276Z",
     "iopub.status.busy": "2023-09-04T20:38:39.468891Z",
     "iopub.status.idle": "2023-09-04T20:38:39.642234Z",
     "shell.execute_reply": "2023-09-04T20:38:39.641406Z",
     "shell.execute_reply.started": "2023-09-04T20:38:39.469252Z"
    },
    "tags": []
   },
   "outputs": [
    {
     "data": {
      "text/plain": [
       "517"
      ]
     },
     "execution_count": 6,
     "metadata": {},
     "output_type": "execute_result"
    }
   ],
   "source": [
    "del df_irradiance\n",
    "del df_weather\n",
    "gc.collect()"
   ]
  },
  {
   "cell_type": "markdown",
   "id": "1a6548f3-794d-4cb1-bfea-ede85a3c4d45",
   "metadata": {},
   "source": [
    "# 3. Data Preprocessing"
   ]
  },
  {
   "cell_type": "code",
   "execution_count": null,
   "id": "0c9b4cad-b5ab-4a35-b78b-0dcc60671e48",
   "metadata": {
    "collapsed": true,
    "execution": {
     "iopub.execute_input": "2023-09-04T20:38:50.758942Z",
     "iopub.status.busy": "2023-09-04T20:38:50.758560Z"
    },
    "jupyter": {
     "outputs_hidden": true
    },
    "tags": []
   },
   "outputs": [
    {
     "name": "stderr",
     "output_type": "stream",
     "text": [
      "/tmp/ipykernel_7995/1537709175.py:9: PerformanceWarning: DataFrame is highly fragmented.  This is usually the result of calling `frame.insert` many times, which has poor performance.  Consider joining all columns at once using pd.concat(axis=1) instead. To get a de-fragmented frame, use `newframe = frame.copy()`\n",
      "  df[f'{col}_lag_{i}m'] = df[col].shift(i)\n",
      "/tmp/ipykernel_7995/1537709175.py:9: PerformanceWarning: DataFrame is highly fragmented.  This is usually the result of calling `frame.insert` many times, which has poor performance.  Consider joining all columns at once using pd.concat(axis=1) instead. To get a de-fragmented frame, use `newframe = frame.copy()`\n",
      "  df[f'{col}_lag_{i}m'] = df[col].shift(i)\n",
      "/tmp/ipykernel_7995/1537709175.py:9: PerformanceWarning: DataFrame is highly fragmented.  This is usually the result of calling `frame.insert` many times, which has poor performance.  Consider joining all columns at once using pd.concat(axis=1) instead. To get a de-fragmented frame, use `newframe = frame.copy()`\n",
      "  df[f'{col}_lag_{i}m'] = df[col].shift(i)\n",
      "/tmp/ipykernel_7995/1537709175.py:9: PerformanceWarning: DataFrame is highly fragmented.  This is usually the result of calling `frame.insert` many times, which has poor performance.  Consider joining all columns at once using pd.concat(axis=1) instead. To get a de-fragmented frame, use `newframe = frame.copy()`\n",
      "  df[f'{col}_lag_{i}m'] = df[col].shift(i)\n",
      "/tmp/ipykernel_7995/1537709175.py:9: PerformanceWarning: DataFrame is highly fragmented.  This is usually the result of calling `frame.insert` many times, which has poor performance.  Consider joining all columns at once using pd.concat(axis=1) instead. To get a de-fragmented frame, use `newframe = frame.copy()`\n",
      "  df[f'{col}_lag_{i}m'] = df[col].shift(i)\n",
      "/tmp/ipykernel_7995/1537709175.py:9: PerformanceWarning: DataFrame is highly fragmented.  This is usually the result of calling `frame.insert` many times, which has poor performance.  Consider joining all columns at once using pd.concat(axis=1) instead. To get a de-fragmented frame, use `newframe = frame.copy()`\n",
      "  df[f'{col}_lag_{i}m'] = df[col].shift(i)\n",
      "/tmp/ipykernel_7995/1537709175.py:9: PerformanceWarning: DataFrame is highly fragmented.  This is usually the result of calling `frame.insert` many times, which has poor performance.  Consider joining all columns at once using pd.concat(axis=1) instead. To get a de-fragmented frame, use `newframe = frame.copy()`\n",
      "  df[f'{col}_lag_{i}m'] = df[col].shift(i)\n",
      "/tmp/ipykernel_7995/1537709175.py:9: PerformanceWarning: DataFrame is highly fragmented.  This is usually the result of calling `frame.insert` many times, which has poor performance.  Consider joining all columns at once using pd.concat(axis=1) instead. To get a de-fragmented frame, use `newframe = frame.copy()`\n",
      "  df[f'{col}_lag_{i}m'] = df[col].shift(i)\n",
      "/tmp/ipykernel_7995/1537709175.py:9: PerformanceWarning: DataFrame is highly fragmented.  This is usually the result of calling `frame.insert` many times, which has poor performance.  Consider joining all columns at once using pd.concat(axis=1) instead. To get a de-fragmented frame, use `newframe = frame.copy()`\n",
      "  df[f'{col}_lag_{i}m'] = df[col].shift(i)\n",
      "/tmp/ipykernel_7995/1537709175.py:9: PerformanceWarning: DataFrame is highly fragmented.  This is usually the result of calling `frame.insert` many times, which has poor performance.  Consider joining all columns at once using pd.concat(axis=1) instead. To get a de-fragmented frame, use `newframe = frame.copy()`\n",
      "  df[f'{col}_lag_{i}m'] = df[col].shift(i)\n",
      "/tmp/ipykernel_7995/1537709175.py:9: PerformanceWarning: DataFrame is highly fragmented.  This is usually the result of calling `frame.insert` many times, which has poor performance.  Consider joining all columns at once using pd.concat(axis=1) instead. To get a de-fragmented frame, use `newframe = frame.copy()`\n",
      "  df[f'{col}_lag_{i}m'] = df[col].shift(i)\n",
      "/tmp/ipykernel_7995/1537709175.py:9: PerformanceWarning: DataFrame is highly fragmented.  This is usually the result of calling `frame.insert` many times, which has poor performance.  Consider joining all columns at once using pd.concat(axis=1) instead. To get a de-fragmented frame, use `newframe = frame.copy()`\n",
      "  df[f'{col}_lag_{i}m'] = df[col].shift(i)\n",
      "/tmp/ipykernel_7995/1537709175.py:9: PerformanceWarning: DataFrame is highly fragmented.  This is usually the result of calling `frame.insert` many times, which has poor performance.  Consider joining all columns at once using pd.concat(axis=1) instead. To get a de-fragmented frame, use `newframe = frame.copy()`\n",
      "  df[f'{col}_lag_{i}m'] = df[col].shift(i)\n",
      "/tmp/ipykernel_7995/1537709175.py:9: PerformanceWarning: DataFrame is highly fragmented.  This is usually the result of calling `frame.insert` many times, which has poor performance.  Consider joining all columns at once using pd.concat(axis=1) instead. To get a de-fragmented frame, use `newframe = frame.copy()`\n",
      "  df[f'{col}_lag_{i}m'] = df[col].shift(i)\n",
      "/tmp/ipykernel_7995/1537709175.py:9: PerformanceWarning: DataFrame is highly fragmented.  This is usually the result of calling `frame.insert` many times, which has poor performance.  Consider joining all columns at once using pd.concat(axis=1) instead. To get a de-fragmented frame, use `newframe = frame.copy()`\n",
      "  df[f'{col}_lag_{i}m'] = df[col].shift(i)\n",
      "/tmp/ipykernel_7995/1537709175.py:9: PerformanceWarning: DataFrame is highly fragmented.  This is usually the result of calling `frame.insert` many times, which has poor performance.  Consider joining all columns at once using pd.concat(axis=1) instead. To get a de-fragmented frame, use `newframe = frame.copy()`\n",
      "  df[f'{col}_lag_{i}m'] = df[col].shift(i)\n",
      "/tmp/ipykernel_7995/1537709175.py:9: PerformanceWarning: DataFrame is highly fragmented.  This is usually the result of calling `frame.insert` many times, which has poor performance.  Consider joining all columns at once using pd.concat(axis=1) instead. To get a de-fragmented frame, use `newframe = frame.copy()`\n",
      "  df[f'{col}_lag_{i}m'] = df[col].shift(i)\n",
      "/tmp/ipykernel_7995/1537709175.py:9: PerformanceWarning: DataFrame is highly fragmented.  This is usually the result of calling `frame.insert` many times, which has poor performance.  Consider joining all columns at once using pd.concat(axis=1) instead. To get a de-fragmented frame, use `newframe = frame.copy()`\n",
      "  df[f'{col}_lag_{i}m'] = df[col].shift(i)\n",
      "/tmp/ipykernel_7995/1537709175.py:9: PerformanceWarning: DataFrame is highly fragmented.  This is usually the result of calling `frame.insert` many times, which has poor performance.  Consider joining all columns at once using pd.concat(axis=1) instead. To get a de-fragmented frame, use `newframe = frame.copy()`\n",
      "  df[f'{col}_lag_{i}m'] = df[col].shift(i)\n",
      "/tmp/ipykernel_7995/1537709175.py:9: PerformanceWarning: DataFrame is highly fragmented.  This is usually the result of calling `frame.insert` many times, which has poor performance.  Consider joining all columns at once using pd.concat(axis=1) instead. To get a de-fragmented frame, use `newframe = frame.copy()`\n",
      "  df[f'{col}_lag_{i}m'] = df[col].shift(i)\n",
      "/tmp/ipykernel_7995/1537709175.py:9: PerformanceWarning: DataFrame is highly fragmented.  This is usually the result of calling `frame.insert` many times, which has poor performance.  Consider joining all columns at once using pd.concat(axis=1) instead. To get a de-fragmented frame, use `newframe = frame.copy()`\n",
      "  df[f'{col}_lag_{i}m'] = df[col].shift(i)\n",
      "/tmp/ipykernel_7995/1537709175.py:9: PerformanceWarning: DataFrame is highly fragmented.  This is usually the result of calling `frame.insert` many times, which has poor performance.  Consider joining all columns at once using pd.concat(axis=1) instead. To get a de-fragmented frame, use `newframe = frame.copy()`\n",
      "  df[f'{col}_lag_{i}m'] = df[col].shift(i)\n",
      "/tmp/ipykernel_7995/1537709175.py:9: PerformanceWarning: DataFrame is highly fragmented.  This is usually the result of calling `frame.insert` many times, which has poor performance.  Consider joining all columns at once using pd.concat(axis=1) instead. To get a de-fragmented frame, use `newframe = frame.copy()`\n",
      "  df[f'{col}_lag_{i}m'] = df[col].shift(i)\n",
      "/tmp/ipykernel_7995/1537709175.py:9: PerformanceWarning: DataFrame is highly fragmented.  This is usually the result of calling `frame.insert` many times, which has poor performance.  Consider joining all columns at once using pd.concat(axis=1) instead. To get a de-fragmented frame, use `newframe = frame.copy()`\n",
      "  df[f'{col}_lag_{i}m'] = df[col].shift(i)\n",
      "/tmp/ipykernel_7995/1537709175.py:9: PerformanceWarning: DataFrame is highly fragmented.  This is usually the result of calling `frame.insert` many times, which has poor performance.  Consider joining all columns at once using pd.concat(axis=1) instead. To get a de-fragmented frame, use `newframe = frame.copy()`\n",
      "  df[f'{col}_lag_{i}m'] = df[col].shift(i)\n",
      "/tmp/ipykernel_7995/1537709175.py:9: PerformanceWarning: DataFrame is highly fragmented.  This is usually the result of calling `frame.insert` many times, which has poor performance.  Consider joining all columns at once using pd.concat(axis=1) instead. To get a de-fragmented frame, use `newframe = frame.copy()`\n",
      "  df[f'{col}_lag_{i}m'] = df[col].shift(i)\n",
      "/tmp/ipykernel_7995/1537709175.py:9: PerformanceWarning: DataFrame is highly fragmented.  This is usually the result of calling `frame.insert` many times, which has poor performance.  Consider joining all columns at once using pd.concat(axis=1) instead. To get a de-fragmented frame, use `newframe = frame.copy()`\n",
      "  df[f'{col}_lag_{i}m'] = df[col].shift(i)\n",
      "/tmp/ipykernel_7995/1537709175.py:9: PerformanceWarning: DataFrame is highly fragmented.  This is usually the result of calling `frame.insert` many times, which has poor performance.  Consider joining all columns at once using pd.concat(axis=1) instead. To get a de-fragmented frame, use `newframe = frame.copy()`\n",
      "  df[f'{col}_lag_{i}m'] = df[col].shift(i)\n",
      "/tmp/ipykernel_7995/1537709175.py:9: PerformanceWarning: DataFrame is highly fragmented.  This is usually the result of calling `frame.insert` many times, which has poor performance.  Consider joining all columns at once using pd.concat(axis=1) instead. To get a de-fragmented frame, use `newframe = frame.copy()`\n",
      "  df[f'{col}_lag_{i}m'] = df[col].shift(i)\n",
      "/tmp/ipykernel_7995/1537709175.py:9: PerformanceWarning: DataFrame is highly fragmented.  This is usually the result of calling `frame.insert` many times, which has poor performance.  Consider joining all columns at once using pd.concat(axis=1) instead. To get a de-fragmented frame, use `newframe = frame.copy()`\n",
      "  df[f'{col}_lag_{i}m'] = df[col].shift(i)\n",
      "/tmp/ipykernel_7995/1537709175.py:9: PerformanceWarning: DataFrame is highly fragmented.  This is usually the result of calling `frame.insert` many times, which has poor performance.  Consider joining all columns at once using pd.concat(axis=1) instead. To get a de-fragmented frame, use `newframe = frame.copy()`\n",
      "  df[f'{col}_lag_{i}m'] = df[col].shift(i)\n",
      "/tmp/ipykernel_7995/1537709175.py:9: PerformanceWarning: DataFrame is highly fragmented.  This is usually the result of calling `frame.insert` many times, which has poor performance.  Consider joining all columns at once using pd.concat(axis=1) instead. To get a de-fragmented frame, use `newframe = frame.copy()`\n",
      "  df[f'{col}_lag_{i}m'] = df[col].shift(i)\n",
      "/tmp/ipykernel_7995/1537709175.py:9: PerformanceWarning: DataFrame is highly fragmented.  This is usually the result of calling `frame.insert` many times, which has poor performance.  Consider joining all columns at once using pd.concat(axis=1) instead. To get a de-fragmented frame, use `newframe = frame.copy()`\n",
      "  df[f'{col}_lag_{i}m'] = df[col].shift(i)\n",
      "/tmp/ipykernel_7995/1537709175.py:9: PerformanceWarning: DataFrame is highly fragmented.  This is usually the result of calling `frame.insert` many times, which has poor performance.  Consider joining all columns at once using pd.concat(axis=1) instead. To get a de-fragmented frame, use `newframe = frame.copy()`\n",
      "  df[f'{col}_lag_{i}m'] = df[col].shift(i)\n",
      "/tmp/ipykernel_7995/1537709175.py:9: PerformanceWarning: DataFrame is highly fragmented.  This is usually the result of calling `frame.insert` many times, which has poor performance.  Consider joining all columns at once using pd.concat(axis=1) instead. To get a de-fragmented frame, use `newframe = frame.copy()`\n",
      "  df[f'{col}_lag_{i}m'] = df[col].shift(i)\n",
      "/tmp/ipykernel_7995/1537709175.py:9: PerformanceWarning: DataFrame is highly fragmented.  This is usually the result of calling `frame.insert` many times, which has poor performance.  Consider joining all columns at once using pd.concat(axis=1) instead. To get a de-fragmented frame, use `newframe = frame.copy()`\n",
      "  df[f'{col}_lag_{i}m'] = df[col].shift(i)\n",
      "/tmp/ipykernel_7995/1537709175.py:9: PerformanceWarning: DataFrame is highly fragmented.  This is usually the result of calling `frame.insert` many times, which has poor performance.  Consider joining all columns at once using pd.concat(axis=1) instead. To get a de-fragmented frame, use `newframe = frame.copy()`\n",
      "  df[f'{col}_lag_{i}m'] = df[col].shift(i)\n",
      "/tmp/ipykernel_7995/1537709175.py:9: PerformanceWarning: DataFrame is highly fragmented.  This is usually the result of calling `frame.insert` many times, which has poor performance.  Consider joining all columns at once using pd.concat(axis=1) instead. To get a de-fragmented frame, use `newframe = frame.copy()`\n",
      "  df[f'{col}_lag_{i}m'] = df[col].shift(i)\n",
      "/tmp/ipykernel_7995/1537709175.py:9: PerformanceWarning: DataFrame is highly fragmented.  This is usually the result of calling `frame.insert` many times, which has poor performance.  Consider joining all columns at once using pd.concat(axis=1) instead. To get a de-fragmented frame, use `newframe = frame.copy()`\n",
      "  df[f'{col}_lag_{i}m'] = df[col].shift(i)\n",
      "/tmp/ipykernel_7995/1537709175.py:9: PerformanceWarning: DataFrame is highly fragmented.  This is usually the result of calling `frame.insert` many times, which has poor performance.  Consider joining all columns at once using pd.concat(axis=1) instead. To get a de-fragmented frame, use `newframe = frame.copy()`\n",
      "  df[f'{col}_lag_{i}m'] = df[col].shift(i)\n",
      "/tmp/ipykernel_7995/1537709175.py:9: PerformanceWarning: DataFrame is highly fragmented.  This is usually the result of calling `frame.insert` many times, which has poor performance.  Consider joining all columns at once using pd.concat(axis=1) instead. To get a de-fragmented frame, use `newframe = frame.copy()`\n",
      "  df[f'{col}_lag_{i}m'] = df[col].shift(i)\n",
      "/tmp/ipykernel_7995/1537709175.py:9: PerformanceWarning: DataFrame is highly fragmented.  This is usually the result of calling `frame.insert` many times, which has poor performance.  Consider joining all columns at once using pd.concat(axis=1) instead. To get a de-fragmented frame, use `newframe = frame.copy()`\n",
      "  df[f'{col}_lag_{i}m'] = df[col].shift(i)\n"
     ]
    }
   ],
   "source": [
    "# Define the number of time steps to use for input sequences\n",
    "n_steps = 20 \n",
    "features = ['air_temp', 'relhum', 'press', 'windsp', 'winddir', 'max_windsp', 'precipitation']\n",
    "\n",
    "def prepare_data(df, n_steps_20min):\n",
    "    # Create lagged features for the past 20 minutes using pandas shift\n",
    "    for i in range(1, n_steps_20min + 1):\n",
    "        for col in features:\n",
    "            df[f'{col}_lag_{i}m'] = df[col].shift(i)\n",
    "    \n",
    "    # Drop rows with missing values (NaN)\n",
    "    df = df.dropna()\n",
    "\n",
    "    return df\n",
    "\n",
    "df_fe = prepare_data(df, n_steps)"
   ]
  },
  {
   "cell_type": "code",
   "execution_count": 8,
   "id": "249a21fe-a28a-48a0-98d5-b5026fe611cd",
   "metadata": {
    "execution": {
     "iopub.execute_input": "2023-09-04T20:39:50.506201Z",
     "iopub.status.busy": "2023-09-04T20:39:50.505813Z",
     "iopub.status.idle": "2023-09-04T20:39:50.658536Z",
     "shell.execute_reply": "2023-09-04T20:39:50.657758Z",
     "shell.execute_reply.started": "2023-09-04T20:39:50.506176Z"
    },
    "tags": []
   },
   "outputs": [
    {
     "data": {
      "text/plain": [
       "1442"
      ]
     },
     "execution_count": 8,
     "metadata": {},
     "output_type": "execute_result"
    }
   ],
   "source": [
    "del df\n",
    "gc.collect()"
   ]
  },
  {
   "cell_type": "markdown",
   "id": "ce13bc16-f742-4a39-8691-73b1bba101f6",
   "metadata": {},
   "source": [
    "Train/Validation/Test split"
   ]
  },
  {
   "cell_type": "code",
   "execution_count": 9,
   "id": "6f875177-0ad9-479e-b63c-c1737e9815c7",
   "metadata": {
    "execution": {
     "iopub.execute_input": "2023-09-04T20:39:53.413303Z",
     "iopub.status.busy": "2023-09-04T20:39:53.412908Z",
     "iopub.status.idle": "2023-09-04T20:39:53.936569Z",
     "shell.execute_reply": "2023-09-04T20:39:53.935857Z",
     "shell.execute_reply.started": "2023-09-04T20:39:53.413276Z"
    },
    "tags": []
   },
   "outputs": [],
   "source": [
    "train_start = \"2014-01-01\"\n",
    "validation_start = \"2015-01-01\"\n",
    "test_start = \"2016-01-01\"\n",
    "\n",
    "df_train = df_fe.loc[df_fe[\"timeStamp\"] < validation_start]\n",
    "df_validation = df_fe.loc[(df_fe[\"timeStamp\"] >= validation_start) & (df_fe[\"timeStamp\"] < test_start)]\n",
    "df_test = df_fe.loc[df_fe[\"timeStamp\"] >= test_start]\n",
    "\n",
    "X_train, X_val, X_test = df_train[features], df_validation[features], df_test[features]\n",
    "y_train, y_val, y_test = df_train[\"ghi\"], df_validation[\"ghi\"], df_test[\"ghi\"]"
   ]
  },
  {
   "cell_type": "markdown",
   "id": "ce26a11c-7046-4f29-a15d-a8213e724d4d",
   "metadata": {},
   "source": [
    "Normalize input data (scaling between 0 and 1)"
   ]
  },
  {
   "cell_type": "code",
   "execution_count": 10,
   "id": "64dfffa5-899e-4ecb-9120-97785592b6c4",
   "metadata": {
    "execution": {
     "iopub.execute_input": "2023-09-04T20:39:56.255077Z",
     "iopub.status.busy": "2023-09-04T20:39:56.254689Z",
     "iopub.status.idle": "2023-09-04T20:39:56.354774Z",
     "shell.execute_reply": "2023-09-04T20:39:56.354048Z",
     "shell.execute_reply.started": "2023-09-04T20:39:56.255052Z"
    },
    "tags": []
   },
   "outputs": [],
   "source": [
    "scaler = MinMaxScaler()\n",
    "X_train = scaler.fit_transform(X_train)\n",
    "X_val = scaler.fit_transform(X_val)\n",
    "X_test = scaler.transform(X_test)"
   ]
  },
  {
   "cell_type": "markdown",
   "id": "01c20f0f-b591-4e42-951a-fc09394a8056",
   "metadata": {},
   "source": [
    "Reshape the input data for LSTM (3D shape)"
   ]
  },
  {
   "cell_type": "code",
   "execution_count": 28,
   "id": "5bd0953c-1597-4ba0-b4a8-caecdd0c56a2",
   "metadata": {
    "execution": {
     "iopub.execute_input": "2023-09-04T17:37:45.144190Z",
     "iopub.status.busy": "2023-09-04T17:37:45.143804Z",
     "iopub.status.idle": "2023-09-04T17:37:45.244893Z",
     "shell.execute_reply": "2023-09-04T17:37:45.244183Z",
     "shell.execute_reply.started": "2023-09-04T17:37:45.144165Z"
    }
   },
   "outputs": [],
   "source": [
    "X_train = X_train.reshape((X_train.shape[0], X_train.shape[1], 1))\n",
    "X_val = X_val.reshape((X_val.shape[0], X_val.shape[1], 1))\n",
    "X_test = X_test.reshape((X_test.shape[0], X_test.shape[1], 1))"
   ]
  },
  {
   "cell_type": "markdown",
   "id": "c54762fc-c12d-4b27-809f-dd63777381f6",
   "metadata": {
    "tags": []
   },
   "source": [
    "# 4. Model"
   ]
  },
  {
   "cell_type": "code",
   "execution_count": null,
   "id": "8bc230ad-bbd3-4394-a101-4c6806630f28",
   "metadata": {},
   "outputs": [],
   "source": [
    "MODEL_VERSION = \"2\""
   ]
  },
  {
   "cell_type": "markdown",
   "id": "840eac9b-60d1-4d8a-b7bb-1effac8ef992",
   "metadata": {},
   "source": [
    "Define the LSTM model.\n",
    "\n",
    "To fine-tune:\n",
    "- number of nodes (25, 50, 75, 100, 125, 150)\n",
    "- optimizer learning rate (0.001, 0. 01. 0.1)\n",
    "- additional hidden layers? (1, 2, 3)\n",
    "- batch size (1, 2, 16, 32, 64)\n",
    "- dropout?\n",
    "- epochs?"
   ]
  },
  {
   "cell_type": "code",
   "execution_count": 20,
   "id": "35b5f856-6d4a-4588-9368-c715db7cb990",
   "metadata": {
    "execution": {
     "iopub.execute_input": "2023-09-04T21:54:48.460475Z",
     "iopub.status.busy": "2023-09-04T21:54:48.460095Z",
     "iopub.status.idle": "2023-09-04T21:54:49.214273Z",
     "shell.execute_reply": "2023-09-04T21:54:49.213365Z",
     "shell.execute_reply.started": "2023-09-04T21:54:48.460452Z"
    }
   },
   "outputs": [
    {
     "name": "stderr",
     "output_type": "stream",
     "text": [
      "2023-09-04 21:54:48.691606: I tensorflow/core/platform/cpu_feature_guard.cc:193] This TensorFlow binary is optimized with oneAPI Deep Neural Network Library (oneDNN) to use the following CPU instructions in performance-critical operations:  AVX2 AVX512F AVX512_VNNI FMA\n",
      "To enable them in other operations, rebuild TensorFlow with the appropriate compiler flags.\n",
      "2023-09-04 21:54:48.692032: I tensorflow/stream_executor/cuda/cuda_gpu_executor.cc:975] successful NUMA node read from SysFS had negative value (-1), but there must be at least one NUMA node, so returning NUMA node zero\n",
      "2023-09-04 21:54:48.692698: I tensorflow/stream_executor/cuda/cuda_gpu_executor.cc:975] successful NUMA node read from SysFS had negative value (-1), but there must be at least one NUMA node, so returning NUMA node zero\n",
      "2023-09-04 21:54:48.693243: I tensorflow/stream_executor/cuda/cuda_gpu_executor.cc:975] successful NUMA node read from SysFS had negative value (-1), but there must be at least one NUMA node, so returning NUMA node zero\n",
      "2023-09-04 21:54:49.180916: I tensorflow/stream_executor/cuda/cuda_gpu_executor.cc:975] successful NUMA node read from SysFS had negative value (-1), but there must be at least one NUMA node, so returning NUMA node zero\n",
      "2023-09-04 21:54:49.181542: I tensorflow/stream_executor/cuda/cuda_gpu_executor.cc:975] successful NUMA node read from SysFS had negative value (-1), but there must be at least one NUMA node, so returning NUMA node zero\n",
      "2023-09-04 21:54:49.182165: I tensorflow/stream_executor/cuda/cuda_gpu_executor.cc:975] successful NUMA node read from SysFS had negative value (-1), but there must be at least one NUMA node, so returning NUMA node zero\n",
      "2023-09-04 21:54:49.182696: I tensorflow/core/common_runtime/gpu/gpu_device.cc:1532] Created device /job:localhost/replica:0/task:0/device:GPU:0 with 13795 MB memory:  -> device: 0, name: Tesla T4, pci bus id: 0000:00:1e.0, compute capability: 7.5\n"
     ]
    },
    {
     "ename": "IndexError",
     "evalue": "tuple index out of range",
     "output_type": "error",
     "traceback": [
      "\u001b[0;31m---------------------------------------------------------------------------\u001b[0m",
      "\u001b[0;31mIndexError\u001b[0m                                Traceback (most recent call last)",
      "Cell \u001b[0;32mIn [20], line 19\u001b[0m\n\u001b[1;32m     15\u001b[0m     \u001b[38;5;28;01mreturn\u001b[39;00m model\n\u001b[1;32m     18\u001b[0m \u001b[38;5;66;03m# Create LSTM model\u001b[39;00m\n\u001b[0;32m---> 19\u001b[0m model \u001b[38;5;241m=\u001b[39m lstm_model()\n",
      "Cell \u001b[0;32mIn [20], line 8\u001b[0m, in \u001b[0;36mlstm_model\u001b[0;34m()\u001b[0m\n\u001b[1;32m      1\u001b[0m \u001b[38;5;28;01mdef\u001b[39;00m \u001b[38;5;21mlstm_model\u001b[39m():\n\u001b[1;32m      2\u001b[0m     \u001b[38;5;66;03m# Define layers\u001b[39;00m\n\u001b[1;32m      3\u001b[0m     model \u001b[38;5;241m=\u001b[39m Sequential()\n\u001b[1;32m      4\u001b[0m     model\u001b[38;5;241m.\u001b[39madd(LSTM(units\u001b[38;5;241m=\u001b[39m\u001b[38;5;241m30\u001b[39m, \n\u001b[1;32m      5\u001b[0m                    activation\u001b[38;5;241m=\u001b[39m\u001b[38;5;124m'\u001b[39m\u001b[38;5;124mtanh\u001b[39m\u001b[38;5;124m'\u001b[39m,\n\u001b[1;32m      6\u001b[0m                    recurrent_activation\u001b[38;5;241m=\u001b[39m\u001b[38;5;124m'\u001b[39m\u001b[38;5;124msigmoid\u001b[39m\u001b[38;5;124m'\u001b[39m,\n\u001b[1;32m      7\u001b[0m                    use_bias\u001b[38;5;241m=\u001b[39m\u001b[38;5;28;01mTrue\u001b[39;00m,\n\u001b[0;32m----> 8\u001b[0m                    input_shape\u001b[38;5;241m=\u001b[39m(X_train\u001b[38;5;241m.\u001b[39mshape[\u001b[38;5;241m1\u001b[39m], \u001b[43mX_train\u001b[49m\u001b[38;5;241;43m.\u001b[39;49m\u001b[43mshape\u001b[49m\u001b[43m[\u001b[49m\u001b[38;5;241;43m2\u001b[39;49m\u001b[43m]\u001b[49m)))\n\u001b[1;32m      9\u001b[0m     model\u001b[38;5;241m.\u001b[39madd(Dense(\u001b[38;5;241m1\u001b[39m))\n\u001b[1;32m     11\u001b[0m     \u001b[38;5;66;03m# Define optimiser\u001b[39;00m\n",
      "\u001b[0;31mIndexError\u001b[0m: tuple index out of range"
     ]
    }
   ],
   "source": [
    "def lstm_model():\n",
    "    # Define layers\n",
    "    model = Sequential()\n",
    "    model.add(LSTM(units=30, \n",
    "                   activation='tanh',\n",
    "                   recurrent_activation='sigmoid',\n",
    "                   use_bias=True,\n",
    "                   input_shape=(X_train.shape[1], X_train.shape[2])))\n",
    "    model.add(Dense(1))\n",
    "    \n",
    "    # Define optimiser\n",
    "    optimiser = Adam(learning_rate=0.001)\n",
    "    model.compile(optimizer=optimiser, loss='mean_squared_error')\n",
    "    \n",
    "    return model\n",
    "\n",
    "\n",
    "# Create LSTM model\n",
    "model = lstm_model()"
   ]
  },
  {
   "cell_type": "markdown",
   "id": "241ccf83-9161-4c54-a579-ad42428ed585",
   "metadata": {},
   "source": [
    "Train model"
   ]
  },
  {
   "cell_type": "code",
   "execution_count": 35,
   "id": "3f2ee245-6af0-4c18-8342-d29956c8b69b",
   "metadata": {
    "execution": {
     "iopub.execute_input": "2023-09-04T17:41:25.911524Z",
     "iopub.status.busy": "2023-09-04T17:41:25.911079Z",
     "iopub.status.idle": "2023-09-04T17:47:22.282889Z",
     "shell.execute_reply": "2023-09-04T17:47:22.282234Z",
     "shell.execute_reply.started": "2023-09-04T17:41:25.911496Z"
    },
    "tags": []
   },
   "outputs": [
    {
     "name": "stdout",
     "output_type": "stream",
     "text": [
      "WARNING:tensorflow:Layer lstm_8 will not use cuDNN kernels since it doesn't meet the criteria. It will use a generic GPU kernel as fallback when running on GPU.\n",
      "Epoch 1/2\n",
      "15800/15800 [==============================] - 180s 11ms/step - loss: 43374.3672 - val_loss: 40767.1914\n",
      "Epoch 2/2\n",
      "15800/15800 [==============================] - 176s 11ms/step - loss: 38815.2891 - val_loss: 40818.4023\n"
     ]
    }
   ],
   "source": [
    "# Add early stopping to avoid overfitting\n",
    "early_stopping = EarlyStopping(monitor=\"val_root_mean_squared_error\", \n",
    "                               patience=5, \n",
    "                               restore_best_weights=True,\n",
    "                               mode=\"min\")\n",
    "history = model.fit(X_train, \n",
    "                    y_train, \n",
    "                    epochs=50, \n",
    "                    batch_size=32, \n",
    "                    verbose=1, \n",
    "                    validation_data=(X_val, y_val), \n",
    "                    callbacks=[early_stopping],\n",
    "                    metrics=[\"mean_absolute_error\", \"root_mean_squared_error\"])"
   ]
  },
  {
   "cell_type": "markdown",
   "id": "95653ffb-7f63-463d-a39d-21804b4bafea",
   "metadata": {},
   "source": [
    "Save fitted model and history"
   ]
  },
  {
   "cell_type": "code",
   "execution_count": 37,
   "id": "21076bf6-8438-449a-a11e-0c88771ebd3c",
   "metadata": {
    "execution": {
     "iopub.execute_input": "2023-09-04T17:53:17.040075Z",
     "iopub.status.busy": "2023-09-04T17:53:17.039678Z",
     "iopub.status.idle": "2023-09-04T17:53:17.157109Z",
     "shell.execute_reply": "2023-09-04T17:53:17.156522Z",
     "shell.execute_reply.started": "2023-09-04T17:53:17.040050Z"
    }
   },
   "outputs": [],
   "source": [
    "model.save(f\"../../output/lstm_v{MODEL_VERSION}.h5\")\n",
    "\n",
    "with open(f\"../../output/lstm_history/training_history_v{MODEL_VERSION}.pkl\", \"wb\") as f:\n",
    "    pickle.dump(history.history, f)"
   ]
  },
  {
   "cell_type": "markdown",
   "id": "8c966f75-5616-416e-be8c-01564ba22c8a",
   "metadata": {},
   "source": [
    "# 5. Forecasting"
   ]
  },
  {
   "cell_type": "code",
   "execution_count": 36,
   "id": "061f404f-08b8-4727-a283-93f3c364d0bc",
   "metadata": {
    "execution": {
     "iopub.execute_input": "2023-09-04T17:48:46.498062Z",
     "iopub.status.busy": "2023-09-04T17:48:46.497627Z",
     "iopub.status.idle": "2023-09-04T17:49:21.472100Z",
     "shell.execute_reply": "2023-09-04T17:49:21.470452Z",
     "shell.execute_reply.started": "2023-09-04T17:48:46.498035Z"
    },
    "tags": []
   },
   "outputs": [
    {
     "name": "stdout",
     "output_type": "stream",
     "text": [
      "16335/16335 [==============================] - 30s 2ms/step\n",
      "Root Mean Squared Error (RMSE): 191.99405698126196\n",
      "Mean Absolute Error (MAE): 136.882896939047\n"
     ]
    },
    {
     "data": {
      "image/png": "[encoded data removed]",
      "text/plain": [
       "<Figure size 1200x600 with 1 Axes>"
      ]
     },
     "metadata": {
      "image/png": {
       "height": 546,
       "width": 1014
      }
     },
     "output_type": "display_data"
    },
    {
     "data": {
      "image/png": "[encoded data removed]",
      "text/plain": [
       "<Figure size 1200x600 with 1 Axes>"
      ]
     },
     "metadata": {
      "image/png": {
       "height": 546,
       "width": 1023
      }
     },
     "output_type": "display_data"
    }
   ],
   "source": [
    "# Make predictions on the test set\n",
    "y_pred = model.predict(X_test)\n",
    "\n",
    "# Calculate Root Mean Squared Error (RMSE) and Mean Absolute Error (MAE)\n",
    "rmse = sqrt(mean_squared_error(y_test, y_pred))\n",
    "mae = mean_absolute_error(y_test, y_pred)\n",
    "print(f'Root Mean Squared Error (RMSE): {rmse}')\n",
    "print(f'Mean Absolute Error (MAE): {mae}')\n",
    "\n",
    "# Optionally, you can plot the actual vs. predicted values and training/validation loss\n",
    "plt.figure(figsize=(12, 6))\n",
    "plt.plot(y_test.values, label='Actual', color='b')\n",
    "plt.plot(y_pred, label='Predicted', color='r')\n",
    "plt.xlabel('Time')\n",
    "plt.ylabel('Target Variable')\n",
    "plt.title('LSTM Forecast vs. Actual')\n",
    "plt.legend()\n",
    "plt.show()\n",
    "\n",
    "# Plot training loss and validation loss\n",
    "plt.figure(figsize=(12, 6))\n",
    "plt.plot(history.history['loss'], label='Training Loss')\n",
    "plt.plot(history.history['val_loss'], label='Validation Loss')\n",
    "plt.xlabel('Epochs')\n",
    "plt.ylabel('Loss')\n",
    "plt.title('Training and Validation Loss')\n",
    "plt.legend()\n",
    "plt.show()\n"
   ]
  },
  {
   "cell_type": "markdown",
   "id": "4d27e932-a58e-4a6a-bf61-796a67561829",
   "metadata": {
    "jp-MarkdownHeadingCollapsed": true,
    "tags": []
   },
   "source": [
    "# Appendix"
   ]
  },
  {
   "cell_type": "code",
   "execution_count": 12,
   "id": "6a4ed1d3-8a06-447f-b94f-d7ce69c38d26",
   "metadata": {
    "execution": {
     "iopub.execute_input": "2023-09-04T15:54:40.701899Z",
     "iopub.status.busy": "2023-09-04T15:54:40.701462Z",
     "iopub.status.idle": "2023-09-04T15:54:42.027242Z",
     "shell.execute_reply": "2023-09-04T15:54:42.026586Z",
     "shell.execute_reply.started": "2023-09-04T15:54:40.701873Z"
    },
    "tags": []
   },
   "outputs": [
    {
     "data": {
      "text/html": [
       "<div>\n",
       "<style scoped>\n",
       "    .dataframe tbody tr th:only-of-type {\n",
       "        vertical-align: middle;\n",
       "    }\n",
       "\n",
       "    .dataframe tbody tr th {\n",
       "        vertical-align: top;\n",
       "    }\n",
       "\n",
       "    .dataframe thead th {\n",
       "        text-align: right;\n",
       "    }\n",
       "</style>\n",
       "<table border=\"1\" class=\"dataframe\">\n",
       "  <thead>\n",
       "    <tr style=\"text-align: right;\">\n",
       "      <th></th>\n",
       "      <th>timeStamp</th>\n",
       "      <th>AVG(R)</th>\n",
       "      <th>STD(R)</th>\n",
       "      <th>ENT(R)</th>\n",
       "      <th>AVG(G)</th>\n",
       "      <th>STD(G)</th>\n",
       "      <th>ENT(G)</th>\n",
       "      <th>AVG(B)</th>\n",
       "      <th>STD(B)</th>\n",
       "      <th>ENT(B)</th>\n",
       "      <th>AVG(RB)</th>\n",
       "      <th>STD(RB)</th>\n",
       "      <th>ENT(RB)</th>\n",
       "      <th>AVG(NRB)</th>\n",
       "      <th>STD(NRB)</th>\n",
       "      <th>ENT(NRB)</th>\n",
       "    </tr>\n",
       "  </thead>\n",
       "  <tbody>\n",
       "    <tr>\n",
       "      <th>0</th>\n",
       "      <td>2014-01-01 00:00:11</td>\n",
       "      <td>102.8933</td>\n",
       "      <td>45.8083</td>\n",
       "      <td>5.6373</td>\n",
       "      <td>121.5468</td>\n",
       "      <td>39.5426</td>\n",
       "      <td>5.6390</td>\n",
       "      <td>133.4322</td>\n",
       "      <td>30.8409</td>\n",
       "      <td>5.4275</td>\n",
       "      <td>0.7457</td>\n",
       "      <td>0.1647</td>\n",
       "      <td>4.8206</td>\n",
       "      <td>-0.1554</td>\n",
       "      <td>0.1033</td>\n",
       "      <td>4.2279</td>\n",
       "    </tr>\n",
       "    <tr>\n",
       "      <th>1</th>\n",
       "      <td>2014-01-01 00:01:10</td>\n",
       "      <td>109.1193</td>\n",
       "      <td>44.9516</td>\n",
       "      <td>5.6762</td>\n",
       "      <td>128.0568</td>\n",
       "      <td>38.7453</td>\n",
       "      <td>5.6535</td>\n",
       "      <td>139.4049</td>\n",
       "      <td>30.2546</td>\n",
       "      <td>5.4146</td>\n",
       "      <td>0.7601</td>\n",
       "      <td>0.1547</td>\n",
       "      <td>4.7120</td>\n",
       "      <td>-0.1447</td>\n",
       "      <td>0.0953</td>\n",
       "      <td>4.0961</td>\n",
       "    </tr>\n",
       "    <tr>\n",
       "      <th>2</th>\n",
       "      <td>2014-01-01 00:02:10</td>\n",
       "      <td>118.4310</td>\n",
       "      <td>44.4158</td>\n",
       "      <td>5.6386</td>\n",
       "      <td>129.2313</td>\n",
       "      <td>39.1756</td>\n",
       "      <td>5.6381</td>\n",
       "      <td>134.9957</td>\n",
       "      <td>30.8004</td>\n",
       "      <td>5.4368</td>\n",
       "      <td>0.8591</td>\n",
       "      <td>0.1453</td>\n",
       "      <td>4.7299</td>\n",
       "      <td>-0.0822</td>\n",
       "      <td>0.0821</td>\n",
       "      <td>3.9662</td>\n",
       "    </tr>\n",
       "    <tr>\n",
       "      <th>3</th>\n",
       "      <td>2014-01-01 00:03:11</td>\n",
       "      <td>108.0799</td>\n",
       "      <td>46.3934</td>\n",
       "      <td>5.6447</td>\n",
       "      <td>129.5778</td>\n",
       "      <td>39.5050</td>\n",
       "      <td>5.6392</td>\n",
       "      <td>142.6288</td>\n",
       "      <td>30.9485</td>\n",
       "      <td>5.4369</td>\n",
       "      <td>0.7347</td>\n",
       "      <td>0.1625</td>\n",
       "      <td>4.8007</td>\n",
       "      <td>-0.1626</td>\n",
       "      <td>0.1034</td>\n",
       "      <td>4.2324</td>\n",
       "    </tr>\n",
       "    <tr>\n",
       "      <th>4</th>\n",
       "      <td>2014-01-01 00:04:11</td>\n",
       "      <td>106.7813</td>\n",
       "      <td>45.5549</td>\n",
       "      <td>5.6539</td>\n",
       "      <td>126.3533</td>\n",
       "      <td>39.0664</td>\n",
       "      <td>5.6438</td>\n",
       "      <td>137.2983</td>\n",
       "      <td>30.4596</td>\n",
       "      <td>5.4168</td>\n",
       "      <td>0.7541</td>\n",
       "      <td>0.1613</td>\n",
       "      <td>4.7906</td>\n",
       "      <td>-0.1494</td>\n",
       "      <td>0.1003</td>\n",
       "      <td>4.1823</td>\n",
       "    </tr>\n",
       "    <tr>\n",
       "      <th>...</th>\n",
       "      <td>...</td>\n",
       "      <td>...</td>\n",
       "      <td>...</td>\n",
       "      <td>...</td>\n",
       "      <td>...</td>\n",
       "      <td>...</td>\n",
       "      <td>...</td>\n",
       "      <td>...</td>\n",
       "      <td>...</td>\n",
       "      <td>...</td>\n",
       "      <td>...</td>\n",
       "      <td>...</td>\n",
       "      <td>...</td>\n",
       "      <td>...</td>\n",
       "      <td>...</td>\n",
       "      <td>...</td>\n",
       "    </tr>\n",
       "    <tr>\n",
       "      <th>775911</th>\n",
       "      <td>2016-12-31 23:55:59</td>\n",
       "      <td>119.0850</td>\n",
       "      <td>58.5266</td>\n",
       "      <td>6.1185</td>\n",
       "      <td>120.1349</td>\n",
       "      <td>55.4199</td>\n",
       "      <td>6.0586</td>\n",
       "      <td>121.2516</td>\n",
       "      <td>46.8522</td>\n",
       "      <td>5.8533</td>\n",
       "      <td>0.9560</td>\n",
       "      <td>0.1625</td>\n",
       "      <td>4.8787</td>\n",
       "      <td>-0.0299</td>\n",
       "      <td>0.0901</td>\n",
       "      <td>4.0444</td>\n",
       "    </tr>\n",
       "    <tr>\n",
       "      <th>775912</th>\n",
       "      <td>2016-12-31 23:57:00</td>\n",
       "      <td>118.1933</td>\n",
       "      <td>59.0074</td>\n",
       "      <td>6.0942</td>\n",
       "      <td>119.7764</td>\n",
       "      <td>55.4268</td>\n",
       "      <td>6.0228</td>\n",
       "      <td>119.8126</td>\n",
       "      <td>46.1397</td>\n",
       "      <td>5.8002</td>\n",
       "      <td>0.9598</td>\n",
       "      <td>0.1788</td>\n",
       "      <td>5.0047</td>\n",
       "      <td>-0.0295</td>\n",
       "      <td>0.0987</td>\n",
       "      <td>4.1621</td>\n",
       "    </tr>\n",
       "    <tr>\n",
       "      <th>775913</th>\n",
       "      <td>2016-12-31 23:57:59</td>\n",
       "      <td>117.1289</td>\n",
       "      <td>59.2942</td>\n",
       "      <td>6.0814</td>\n",
       "      <td>119.1408</td>\n",
       "      <td>55.3043</td>\n",
       "      <td>6.0002</td>\n",
       "      <td>120.5959</td>\n",
       "      <td>45.5852</td>\n",
       "      <td>5.7543</td>\n",
       "      <td>0.9429</td>\n",
       "      <td>0.1899</td>\n",
       "      <td>5.0979</td>\n",
       "      <td>-0.0398</td>\n",
       "      <td>0.1066</td>\n",
       "      <td>4.2562</td>\n",
       "    </tr>\n",
       "    <tr>\n",
       "      <th>775914</th>\n",
       "      <td>2016-12-31 23:58:59</td>\n",
       "      <td>110.1486</td>\n",
       "      <td>61.0436</td>\n",
       "      <td>6.0823</td>\n",
       "      <td>116.9210</td>\n",
       "      <td>55.7548</td>\n",
       "      <td>6.0016</td>\n",
       "      <td>124.4827</td>\n",
       "      <td>45.2933</td>\n",
       "      <td>5.7811</td>\n",
       "      <td>0.8445</td>\n",
       "      <td>0.2123</td>\n",
       "      <td>5.1260</td>\n",
       "      <td>-0.0995</td>\n",
       "      <td>0.1323</td>\n",
       "      <td>4.4107</td>\n",
       "    </tr>\n",
       "    <tr>\n",
       "      <th>775915</th>\n",
       "      <td>2016-12-31 23:59:59</td>\n",
       "      <td>103.2748</td>\n",
       "      <td>62.9158</td>\n",
       "      <td>6.0814</td>\n",
       "      <td>115.6847</td>\n",
       "      <td>56.4043</td>\n",
       "      <td>6.0180</td>\n",
       "      <td>122.6635</td>\n",
       "      <td>45.1164</td>\n",
       "      <td>5.7957</td>\n",
       "      <td>0.7925</td>\n",
       "      <td>0.2410</td>\n",
       "      <td>5.2667</td>\n",
       "      <td>-0.1371</td>\n",
       "      <td>0.1596</td>\n",
       "      <td>4.6317</td>\n",
       "    </tr>\n",
       "  </tbody>\n",
       "</table>\n",
       "<p>775916 rows × 16 columns</p>\n",
       "</div>"
      ],
      "text/plain": [
       "                  timeStamp    AVG(R)   STD(R)  ENT(R)    AVG(G)   STD(G)  \\\n",
       "0       2014-01-01 00:00:11  102.8933  45.8083  5.6373  121.5468  39.5426   \n",
       "1       2014-01-01 00:01:10  109.1193  44.9516  5.6762  128.0568  38.7453   \n",
       "2       2014-01-01 00:02:10  118.4310  44.4158  5.6386  129.2313  39.1756   \n",
       "3       2014-01-01 00:03:11  108.0799  46.3934  5.6447  129.5778  39.5050   \n",
       "4       2014-01-01 00:04:11  106.7813  45.5549  5.6539  126.3533  39.0664   \n",
       "...                     ...       ...      ...     ...       ...      ...   \n",
       "775911  2016-12-31 23:55:59  119.0850  58.5266  6.1185  120.1349  55.4199   \n",
       "775912  2016-12-31 23:57:00  118.1933  59.0074  6.0942  119.7764  55.4268   \n",
       "775913  2016-12-31 23:57:59  117.1289  59.2942  6.0814  119.1408  55.3043   \n",
       "775914  2016-12-31 23:58:59  110.1486  61.0436  6.0823  116.9210  55.7548   \n",
       "775915  2016-12-31 23:59:59  103.2748  62.9158  6.0814  115.6847  56.4043   \n",
       "\n",
       "        ENT(G)    AVG(B)   STD(B)  ENT(B)  AVG(RB)  STD(RB)  ENT(RB)  \\\n",
       "0       5.6390  133.4322  30.8409  5.4275   0.7457   0.1647   4.8206   \n",
       "1       5.6535  139.4049  30.2546  5.4146   0.7601   0.1547   4.7120   \n",
       "2       5.6381  134.9957  30.8004  5.4368   0.8591   0.1453   4.7299   \n",
       "3       5.6392  142.6288  30.9485  5.4369   0.7347   0.1625   4.8007   \n",
       "4       5.6438  137.2983  30.4596  5.4168   0.7541   0.1613   4.7906   \n",
       "...        ...       ...      ...     ...      ...      ...      ...   \n",
       "775911  6.0586  121.2516  46.8522  5.8533   0.9560   0.1625   4.8787   \n",
       "775912  6.0228  119.8126  46.1397  5.8002   0.9598   0.1788   5.0047   \n",
       "775913  6.0002  120.5959  45.5852  5.7543   0.9429   0.1899   5.0979   \n",
       "775914  6.0016  124.4827  45.2933  5.7811   0.8445   0.2123   5.1260   \n",
       "775915  6.0180  122.6635  45.1164  5.7957   0.7925   0.2410   5.2667   \n",
       "\n",
       "        AVG(NRB)  STD(NRB)  ENT(NRB)  \n",
       "0        -0.1554    0.1033    4.2279  \n",
       "1        -0.1447    0.0953    4.0961  \n",
       "2        -0.0822    0.0821    3.9662  \n",
       "3        -0.1626    0.1034    4.2324  \n",
       "4        -0.1494    0.1003    4.1823  \n",
       "...          ...       ...       ...  \n",
       "775911   -0.0299    0.0901    4.0444  \n",
       "775912   -0.0295    0.0987    4.1621  \n",
       "775913   -0.0398    0.1066    4.2562  \n",
       "775914   -0.0995    0.1323    4.4107  \n",
       "775915   -0.1371    0.1596    4.6317  \n",
       "\n",
       "[775916 rows x 16 columns]"
      ]
     },
     "execution_count": 12,
     "metadata": {},
     "output_type": "execute_result"
    }
   ],
   "source": [
    "df_sky_img_features = pd.read_csv(\"../data/Folsom_sky_image_features.csv\", infer_datetime_format=True)\n",
    "df_sky_img_features = df_sky_img_features.rename(columns={\"timestamp\": \"timeStamp\"})\n",
    "df_sky_img_features"
   ]
  },
  {
   "cell_type": "code",
   "execution_count": 15,
   "id": "afd1ecbc-8e67-4c04-b331-150d987516a3",
   "metadata": {
    "execution": {
     "iopub.execute_input": "2023-09-04T15:55:07.722994Z",
     "iopub.status.busy": "2023-09-04T15:55:07.722614Z",
     "iopub.status.idle": "2023-09-04T15:55:10.025892Z",
     "shell.execute_reply": "2023-09-04T15:55:10.025017Z",
     "shell.execute_reply.started": "2023-09-04T15:55:07.722965Z"
    },
    "tags": []
   },
   "outputs": [],
   "source": [
    "df_1 = df.merge(df_sky_img_features, on=\"timeStamp\", how=\"left\", indicator=True)"
   ]
  },
  {
   "cell_type": "code",
   "execution_count": 32,
   "id": "0cebc155-2671-497e-811c-c547b0e09e38",
   "metadata": {
    "execution": {
     "iopub.execute_input": "2023-09-04T15:59:52.471697Z",
     "iopub.status.busy": "2023-09-04T15:59:52.471262Z",
     "iopub.status.idle": "2023-09-04T15:59:52.565384Z",
     "shell.execute_reply": "2023-09-04T15:59:52.564482Z",
     "shell.execute_reply.started": "2023-09-04T15:59:52.471659Z"
    },
    "tags": []
   },
   "outputs": [
    {
     "data": {
      "text/plain": [
       "left_only     1272457\n",
       "both           279863\n",
       "right_only          0\n",
       "Name: _merge, dtype: int64"
      ]
     },
     "execution_count": 32,
     "metadata": {},
     "output_type": "execute_result"
    }
   ],
   "source": [
    "df_1[\"_merge\"].value_counts()\n"
   ]
  }
 ],
 "metadata": {
  "kernelspec": {
   "display_name": "saturn (Python 3)",
   "language": "python",
   "name": "python3"
  },
  "language_info": {
   "codemirror_mode": {
    "name": "ipython",
    "version": 3
   },
   "file_extension": ".py",
   "mimetype": "text/x-python",
   "name": "python",
   "nbconvert_exporter": "python",
   "pygments_lexer": "ipython3",
   "version": "3.9.13"
  }
 },
 "nbformat": 4,
 "nbformat_minor": 5
}
